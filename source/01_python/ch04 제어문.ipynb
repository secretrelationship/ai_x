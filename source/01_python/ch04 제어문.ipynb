{
 "cells": [
  {
   "cell_type": "code",
   "execution_count": 31,
   "id": "0d449bf3",
   "metadata": {},
   "outputs": [
    {
     "data": {
      "text/html": [
       "\n",
       "<style>\n",
       "div.container{width:86% !important;}\n",
       "div.cell.code_cell.rendered{width:100%;}\n",
       "div.CodeMirror {font-family:Consolas; font-size:15pt;}\n",
       "div.output {font-size:15pt; font-weight:bold;}\n",
       "div.input {font-family:Consolas; font-size:15pt;}\n",
       "div.prompt {min-width:70px;}\n",
       "div#toc-wrapper{padding-top:120px;}\n",
       "div.text_cell_render ul li{font-size:12pt;padding:5px;}\n",
       "table.dataframe{font-size:15px;}\n",
       "</style>\n"
      ],
      "text/plain": [
       "<IPython.core.display.HTML object>"
      ]
     },
     "metadata": {},
     "output_type": "display_data"
    }
   ],
   "source": [
    "from IPython.display import display, HTML\n",
    "display(HTML(\"\"\"\n",
    "<style>\n",
    "div.container{width:86% !important;}\n",
    "div.cell.code_cell.rendered{width:100%;}\n",
    "div.CodeMirror {font-family:Consolas; font-size:15pt;}\n",
    "div.output {font-size:15pt; font-weight:bold;}\n",
    "div.input {font-family:Consolas; font-size:15pt;}\n",
    "div.prompt {min-width:70px;}\n",
    "div#toc-wrapper{padding-top:120px;}\n",
    "div.text_cell_render ul li{font-size:12pt;padding:5px;}\n",
    "table.dataframe{font-size:15px;}\n",
    "</style>\n",
    "\"\"\"))"
   ]
  },
  {
   "cell_type": "markdown",
   "id": "85a55b33",
   "metadata": {},
   "source": [
    "<b><font sixe=\"5\" color=\"red\">ch04_제어문</font></b>\n",
    "- 조건문 : if문\n",
    "- for 문, while 문, 중첩가능 "
   ]
  },
  {
   "cell_type": "markdown",
   "id": "42581ef6",
   "metadata": {},
   "source": [
    "# 1절 조건문(if)\n",
    "```\n",
    "if 조건 1:\n",
    "   조건 1이 참일 경우 수행할 명령어들 \n",
    "   elif 조건2 조건 1이 거짓이고 조건 2가 참일경우 \n",
    "   ```"
   ]
  },
  {
   "cell_type": "code",
   "execution_count": 7,
   "id": "bbae8a45",
   "metadata": {},
   "outputs": [
    {
     "name": "stdout",
     "output_type": "stream",
     "text": [
      "점수는?90\n",
      "참 잘했어요\n",
      "다음에도 기대할게요\n"
     ]
    }
   ],
   "source": [
    "score = int(input('점수는?'))\n",
    "if score>= 90:\n",
    "    print(\"참 잘했어요\")\n",
    "    print (\"다음에도 기대할게요\")\n",
    "elif score>= 60:\n",
    "      print(\"분발하세요\")\n",
    "else:\n",
    "    print(\"재시험 봐야 해요.\")\n"
   ]
  },
  {
   "cell_type": "code",
   "execution_count": null,
   "id": "f42928c3",
   "metadata": {},
   "outputs": [],
   "source": [
    "#점수 100점을 입력받아 (A - D)까지 나열하시오. "
   ]
  },
  {
   "cell_type": "code",
   "execution_count": 3,
   "id": "2ff14a9e",
   "metadata": {},
   "outputs": [
    {
     "name": "stdout",
     "output_type": "stream",
     "text": [
      "점수는 >85\n",
      "입력하신 점수는 85점이고, B등급입니다\n"
     ]
    }
   ],
   "source": [
    "score = int(input('점수는 >'))\n",
    "if 90 <= score <= 100 : # (score>=90) & (score<=100):\n",
    "    grade = 'A'\n",
    "elif 80 <= score < 90:\n",
    "    grade = 'B'\n",
    "elif 70 <= score < 80:\n",
    "    grade = 'C'\n",
    "elif 60 <= score < 70:\n",
    "    grade ='D'\n",
    "elif 0 <= score < 60:\n",
    "    grade = 'F'\n",
    "else:\n",
    "    grade = '유효하지 않은 점수'\n",
    "print(\"입력하신 점수는 {}점이고, {}등급입니다\".format(score, grade))"
   ]
  },
  {
   "cell_type": "markdown",
   "id": "c5bc04cb",
   "metadata": {},
   "source": [
    "# 2절 반복문\n",
    "## 2.1 for-in문\n",
    "```\n",
    "for 임시변수 in 나열 가능한자료: \n",
    "    반복할명령어1\n",
    "    반복할명령어2\n",
    "else:\n",
    "    나열 가능한 자료가 다 소요하여 for블록을 다 수행한 후 최종 한번 수행할 명령어 \n",
    "    for문안에 break를 수행할 경우 else 블록은 수행하지 않음. \n",
    "```"
   ]
  },
  {
   "cell_type": "code",
   "execution_count": null,
   "id": "89f64532",
   "metadata": {},
   "outputs": [],
   "source": [
    "for i in range"
   ]
  },
  {
   "cell_type": "code",
   "execution_count": 5,
   "id": "ff85d149",
   "metadata": {},
   "outputs": [
    {
     "name": "stdout",
     "output_type": "stream",
     "text": [
      "1~100까지의 합은? 5050\n"
     ]
    }
   ],
   "source": [
    "# 1~100까지 모든 수의 의누적합을 출력하시오(for문)\n",
    "tot = 0 #누적변수 \n",
    "for i in range(1,101):\n",
    "    tot += i #tot = tot + i\n",
    "print(\"1~100까지의 합은?\", tot)"
   ]
  },
  {
   "cell_type": "code",
   "execution_count": 8,
   "id": "14139946",
   "metadata": {},
   "outputs": [
    {
     "name": "stdout",
     "output_type": "stream",
     "text": [
      "1~100까지의 짝수들의 합은? 2550\n"
     ]
    }
   ],
   "source": [
    "# 1~100까지 짝수들의누적합을 출력하시오(for문)\n",
    "tot = 0 #누적변수 \n",
    "for i in range(1,101):\n",
    "    if i%2==0 :\n",
    "        tot += i #tot = tot + i\n",
    "print(\"1~100까지의 짝수들의 합은?\", tot)"
   ]
  },
  {
   "cell_type": "markdown",
   "id": "01c10ae4",
   "metadata": {},
   "source": [
    "## 2.2 while 문 \n",
    "```\n",
    "while 조건:\n",
    "    조건이 참일 경우 반복할 문장들\n",
    "else:\n",
    "    조건이 거짓일 경우 한번 실행할 문장(else구문 선택사항)\n",
    "```"
   ]
  },
  {
   "cell_type": "code",
   "execution_count": 22,
   "id": "3349788a",
   "metadata": {},
   "outputs": [
    {
     "name": "stdout",
     "output_type": "stream",
     "text": [
      "1~100까지의 짝수합은 2550 101\n"
     ]
    }
   ],
   "source": [
    "# 1-100까지 누적합 출력 \n",
    "tot = 0\n",
    "i = 1\n",
    "while i<=100:\n",
    "    if i%2==0:\n",
    "        tot += i\n",
    "    i += 1\n",
    "print(\"1~100까지의 짝수합은\", tot, i)"
   ]
  },
  {
   "cell_type": "code",
   "execution_count": 13,
   "id": "9282b49d",
   "metadata": {},
   "outputs": [
    {
     "name": "stdout",
     "output_type": "stream",
     "text": [
      "[5, 5, 8, 13, 15, 39]\n"
     ]
    }
   ],
   "source": [
    "#2 1~ 45 까지의 로또번호 6개를 추출하여 출력(오름차순 정렬결과를 출력)\n",
    "import random \n",
    "#random.random() : 0<=실수난수<1\n",
    "#random.randint(a,b) : a~b의 정수난수 \n",
    "#int(random.random()*b)+a : a~b의 정수난수\n",
    "#실행할 때마다 난수의 순서를 일치시키려면 random.seed(특정수)\n",
    "lotto = [] \n",
    "for i in range(6):\n",
    "      lotto.append(random.randint(1,45))\n",
    "print(sorted(lotto))"
   ]
  },
  {
   "cell_type": "code",
   "execution_count": 23,
   "id": "125a580d",
   "metadata": {},
   "outputs": [
    {
     "name": "stdout",
     "output_type": "stream",
     "text": [
      "첫번째 정수는 >4\n",
      "두번째 정수는 >10\n",
      "first=4, second=10\n",
      "4부터 10까지 홀수 누적합은 21입니다\n"
     ]
    }
   ],
   "source": [
    "# 사용자에게 두 중서를 입력받아 작은수부터 큰수까지 홀수의 합을 누적해서 출력 \n",
    "# ex1. 사용자에게 두 정수를 입력받아, 작은수부터 큰수까지 홀수의 합을 누적해서 출력\n",
    "first = int(input(\"첫번째 정수는 >\"))\n",
    "second = int(input(\"두번째 정수는 >\"))\n",
    "# # (1-1) 두 수 중 작은 수는 min_에 큰수는 max_에 할당\n",
    "# if first<second:\n",
    "#     min_ = first\n",
    "#     max_ = second\n",
    "# else:\n",
    "#     min_ = second\n",
    "#     max_ = first\n",
    "# # (2-1) min_부터 max_까지 홀수합 누적\n",
    "# tot = 0\n",
    "# for i in range(min_, max_+1):\n",
    "#     if i%2: # i%2!=0: #(i%2==1) | (i%2==-1):\n",
    "#         tot += i\n",
    "# # (3-1) 출력\n",
    "# print(f\"{min_}부터 {max_}까지 홀수들의 합은 {tot}입니다\")\n",
    "# (1-2) first에 작은수로 second에 큰수가 되도록 함\n",
    "if first > second:\n",
    "    # 바꿔\n",
    "#     temp = first\n",
    "#     first = second\n",
    "#     second = temp\n",
    "    first, second = second, first\n",
    "print(\"first={}, second={}\".format(first, second))\n",
    "# (2-2) first부터 second까지 홀수들 누적\n",
    "tot = 0\n",
    "for i in range(first, second+1):\n",
    "    if i%2:\n",
    "        tot += i\n",
    "# (3-3) 출력\n",
    "print(\"{}부터 {}까지 홀수 누적합은 {}입니다\".format(first, second, tot))"
   ]
  },
  {
   "cell_type": "code",
   "execution_count": 24,
   "id": "24fb5d8c",
   "metadata": {},
   "outputs": [],
   "source": [
    "#2 1~ 45 까지의 로또번호 6개를 추출하여 출력(오름차순 정렬결과를 출력)\n",
    "lotto = []\n",
    "while len(lotto)<6:\n",
    "    cnt =+ 1\n",
    "    temp = random.randint(1,45)\n",
    "    if temp not in lotto:\n",
    "        lotto.append(temp)\n",
    "#정렬하기 : lotto.sort() "
   ]
  },
  {
   "cell_type": "code",
   "execution_count": 35,
   "id": "5f0e9e33",
   "metadata": {},
   "outputs": [
    {
     "data": {
      "text/plain": [
       "[7, 27, 32, 34, 39, 40]"
      ]
     },
     "execution_count": 35,
     "metadata": {},
     "output_type": "execute_result"
    }
   ],
   "source": [
    "lotto = set()\n",
    "while len(lotto)<6:\n",
    "    lotto.add(random.randint(1,45))\n",
    "sorted(lotto)"
   ]
  },
  {
   "cell_type": "code",
   "execution_count": 30,
   "id": "9f30a10c",
   "metadata": {},
   "outputs": [
    {
     "data": {
      "text/plain": [
       "[2, 19, 22, 25, 31, 41]"
      ]
     },
     "execution_count": 30,
     "metadata": {},
     "output_type": "execute_result"
    }
   ],
   "source": [
    "sorted(random.sample(range(1,45),6))"
   ]
  },
  {
   "cell_type": "markdown",
   "id": "9e501f28",
   "metadata": {},
   "source": [
    "## 2.3 break, continue "
   ]
  },
  {
   "cell_type": "code",
   "execution_count": null,
   "id": "76b79e46",
   "metadata": {},
   "outputs": [],
   "source": [
    "num = 0\n",
    "while num<10:\n",
    "    num += 1\n",
    "    if num == 5:\n",
    "        break # 반복문을 탈출\n",
    "        # continue # while블록 수행을 중단하고 조건으로 감\n",
    "    print(num, end='\\t')\n",
    "print('DONE')\n"
   ]
  },
  {
   "cell_type": "code",
   "execution_count": null,
   "id": "14d764ea",
   "metadata": {},
   "outputs": [
    {
     "name": "stdout",
     "output_type": "stream",
     "text": [
      "컴퓨터가 발생한 임의의 수 : 27\n"
     ]
    }
   ],
   "source": [
    "'''\n",
    "1~100사이의 정수를 맞추는 프로그램을 구현하시오\n",
    "(프로그램안에 임의의 숫자가 만들어지고 그 숫자를 맞추도록 합니다)\n",
    "1단계. 입력된 숫자가 틀리면 UP/DOWN 메시지를 출력하고 \n",
    "      숫자를 맞추면 축하메세지와 함께 종료합니다(맞출 때까지 반복)\n",
    "'''\n",
    "import random\n",
    "# (1) 1~100사이의 난수 발생\n",
    "randomNum = random.randint(1, 100)\n",
    "print('컴퓨터가 발생한 임의의 수 :', randomNum)\n",
    "# (2) 수를 입력받아 틀리면 UP/DOWN메시지를 출력, 맞추면 축하축하 메세지와 break하는 반복문\n",
    "while True:\n",
    "    inputNum = int(input(\"1~100사이의 수를 맞춰 보세요 :\"))\n",
    "    if (inputNum<1) | (inputNum>100):\n",
    "        print('수의 범위를 벗어났습니다')\n",
    "    elif randomNum < inputNum:\n",
    "        print('DOWN ↓')\n",
    "    elif randomNum > inputNum:\n",
    "        print('UP ↑')\n",
    "    else:\n",
    "        print('축하 축하 맞추셨습니다')\n",
    "        break\n",
    "print('끝')"
   ]
  },
  {
   "cell_type": "markdown",
   "id": "5fb9cd02",
   "metadata": {},
   "source": [
    "# 3절 중첩루프 (반복문 안의 반복문)"
   ]
  },
  {
   "cell_type": "code",
   "execution_count": 36,
   "id": "15488869",
   "metadata": {},
   "outputs": [
    {
     "name": "stdout",
     "output_type": "stream",
     "text": [
      "2X1= 2\t3X1= 3\t4X1= 4\t5X1= 5\t6X1= 6\t7X1= 7\t8X1= 8\t9X1= 9\t\n",
      "2X2= 4\t3X2= 6\t4X2= 8\t5X2=10\t6X2=12\t7X2=14\t8X2=16\t9X2=18\t\n",
      "2X3= 6\t3X3= 9\t4X3=12\t5X3=15\t6X3=18\t7X3=21\t8X3=24\t9X3=27\t\n",
      "2X4= 8\t3X4=12\t4X4=16\t5X4=20\t6X4=24\t7X4=28\t8X4=32\t9X4=36\t\n",
      "2X5=10\t3X5=15\t4X5=20\t5X5=25\t6X5=30\t7X5=35\t8X5=40\t9X5=45\t\n",
      "2X6=12\t3X6=18\t4X6=24\t5X6=30\t6X6=36\t7X6=42\t8X6=48\t9X6=54\t\n",
      "2X7=14\t3X7=21\t4X7=28\t5X7=35\t6X7=42\t7X7=49\t8X7=56\t9X7=63\t\n",
      "2X8=16\t3X8=24\t4X8=32\t5X8=40\t6X8=48\t7X8=56\t8X8=64\t9X8=72\t\n",
      "2X9=18\t3X9=27\t4X9=36\t5X9=45\t6X9=54\t7X9=63\t8X9=72\t9X9=81\t\n"
     ]
    }
   ],
   "source": [
    "# 2x1= 2\t3x1= 3\t4x1= 4\t5x1= 5\t6x1= 6\t7x1= 7\t8x1= 8\t9x1= 9\t\n",
    "# 2x2= 4\t3x2= 6\t4x2= 8\t5x2=10\t6x2=12\t7x2=14\t8x2=16\t9x2=18\n",
    "# ...\n",
    "for i in range(1, 10):\n",
    "    for j in range(2, 10):\n",
    "        print(f'{j}X{i}={i*j:2}', end='\\t')\n",
    "    print() # 개행"
   ]
  },
  {
   "cell_type": "markdown",
   "id": "3764667e",
   "metadata": {},
   "source": [
    "# 4절 중첩루프 탈출"
   ]
  },
  {
   "cell_type": "code",
   "execution_count": 20,
   "id": "17c6aad7",
   "metadata": {},
   "outputs": [
    {
     "name": "stdout",
     "output_type": "stream",
     "text": [
      "0 1\n",
      "0 2\n",
      "DONE\n"
     ]
    }
   ],
   "source": [
    "# 중첩 루프 탈출 하는 방법 1 : 플래그 변수 이용\n",
    "flag = False # 플래그\n",
    "for a in range(0, 3):     # a=0, 1, 2\n",
    "    for b in range(1, 3): # b = 1, 2\n",
    "        if a == b:\n",
    "            flag = True\n",
    "            break # 반복문을 아예 빠져 나오기\n",
    "        print(a, b)\n",
    "    # break 시 빠져나오는 부분\n",
    "    if flag:\n",
    "        break\n",
    "print('DONE')"
   ]
  },
  {
   "cell_type": "code",
   "execution_count": 1,
   "id": "cb298bf6",
   "metadata": {},
   "outputs": [
    {
     "name": "stdout",
     "output_type": "stream",
     "text": [
      "0 1\n",
      "0 2\n",
      "DONE\n"
     ]
    }
   ],
   "source": [
    "flag = False \n",
    "for a in range(0,3):\n",
    "    for b in range(1,3):\n",
    "        if a == b:\n",
    "            flag=True\n",
    "            break\n",
    "        print(a,b)\n",
    "    if flag:\n",
    "        break\n",
    "print(\"DONE\")"
   ]
  },
  {
   "cell_type": "code",
   "execution_count": 38,
   "id": "1f53ef2b",
   "metadata": {},
   "outputs": [],
   "source": [
    "#중첩 루프 탈출하는 방법 2: 예외발생 ==> 예외처리 "
   ]
  },
  {
   "cell_type": "code",
   "execution_count": 19,
   "id": "4bf32a8c",
   "metadata": {},
   "outputs": [
    {
     "ename": "SyntaxError",
     "evalue": "invalid syntax (4278984233.py, line 3)",
     "output_type": "error",
     "traceback": [
      "\u001b[1;36m  Cell \u001b[1;32mIn[19], line 3\u001b[1;36m\u001b[0m\n\u001b[1;33m    for i in range(1:31):\u001b[0m\n\u001b[1;37m                    ^\u001b[0m\n\u001b[1;31mSyntaxError\u001b[0m\u001b[1;31m:\u001b[0m invalid syntax\n"
     ]
    }
   ],
   "source": [
    "#다음 코드는 1부터 30까지(30포함) 자연수 중에서 3의 배수의 총 합을 출력하는 프로그램입니다. 빈칸의 코드를 완성하시오.\n",
    "tot= 0\n",
    "for i in range(1:31):\n",
    "    if i%3==0\n",
    "    tot= tot+ i \n",
    "    else: \n",
    "           pass\n",
    "    print(tot)\n",
    "\n"
   ]
  },
  {
   "cell_type": "code",
   "execution_count": null,
   "id": "f8279779",
   "metadata": {},
   "outputs": [],
   "source": [
    "#4.다음 코드의 실행결과가 “1 3 5 7 9”가되도록 빈칸을 완성하시오\n",
    "num = 0\n",
    "if num%2 == 1:\n",
    "    print(num,end=\"\")\n",
    "    num+=1"
   ]
  },
  {
   "cell_type": "code",
   "execution_count": 1,
   "id": "769df8c1",
   "metadata": {},
   "outputs": [],
   "source": [
    "#7 다음 코드의 실행결과는?\n",
    "for i in range(0,2): \n",
    "    for j in range(0,2):\n",
    "        if i==j:\n",
    "             break  \n"
   ]
  },
  {
   "cell_type": "code",
   "execution_count": 8,
   "id": "a72e51a4",
   "metadata": {},
   "outputs": [
    {
     "name": "stdout",
     "output_type": "stream",
     "text": [
      "0 0\n",
      "1 0\n",
      "1 1\n"
     ]
    }
   ],
   "source": [
    "#8 다음 코드의 실행결과로 출렬될 수 없는것은? 0,1\n",
    "for i in range(0,2): #0,1\n",
    "    for j in range(0,2):#0,1\n",
    "        print(i,j)\n",
    "        if i==j:\n",
    "            break"
   ]
  },
  {
   "cell_type": "code",
   "execution_count": 8,
   "id": "f8e1b3b2",
   "metadata": {},
   "outputs": [
    {
     "name": "stdout",
     "output_type": "stream",
     "text": [
      "3579"
     ]
    }
   ],
   "source": [
    "#9 다음 코드의 실행결과는?\n",
    "L = [3,4,5,6,7,8,9,10]\n",
    "for i, data in enumerate(L): \n",
    "    if (i%2==0):\n",
    "        print(data,end=\"\")"
   ]
  },
  {
   "cell_type": "code",
   "execution_count": 15,
   "id": "cf159fa2",
   "metadata": {},
   "outputs": [
    {
     "name": "stdout",
     "output_type": "stream",
     "text": [
      "양의정수를 입력하세요-2\n",
      "양의정수를 입력하세요-5\n",
      "양의정수를 입력하세요100\n",
      "입력하신 양의 정수는 100이구 짝수입니다.\n"
     ]
    }
   ],
   "source": [
    "#1 번\n",
    "num = 0\n",
    "while num <=0:\n",
    "    num= int(input('양의정수를 입력하세요'))\n",
    "\n",
    "even_odd = '홀수' if num%2 else '짝수'\n",
    "print('입력하신 양의 정수는 {}이구 {}입니다.'.format(num,even_odd))"
   ]
  },
  {
   "cell_type": "code",
   "execution_count": 17,
   "id": "82643fba",
   "metadata": {},
   "outputs": [
    {
     "name": "stdout",
     "output_type": "stream",
     "text": [
      "*****\n",
      "*****\n",
      "*****\n",
      "*****\n",
      "*****\n"
     ]
    }
   ],
   "source": [
    "for i in range(5):\n",
    "    for j in range(5): #[0,1,2,3,4]\n",
    "        print('*',end='')\n",
    "    print()"
   ]
  },
  {
   "cell_type": "code",
   "execution_count": 18,
   "id": "0597b733",
   "metadata": {},
   "outputs": [
    {
     "name": "stdout",
     "output_type": "stream",
     "text": [
      "\n",
      "*\n",
      "**\n",
      "***\n",
      "****\n",
      "*****\n"
     ]
    }
   ],
   "source": [
    "for i in range(6):\n",
    "    for j in range(i): #[0,1,2,3,4]\n",
    "        print('*',end='')\n",
    "    print()"
   ]
  },
  {
   "cell_type": "code",
   "execution_count": null,
   "id": "ef368b18",
   "metadata": {},
   "outputs": [],
   "source": [
    "import random \n",
    "from, to = 1, 100\n"
   ]
  }
 ],
 "metadata": {
  "kernelspec": {
   "display_name": "Python 3 (ipykernel)",
   "language": "python",
   "name": "python3"
  },
  "language_info": {
   "codemirror_mode": {
    "name": "ipython",
    "version": 3
   },
   "file_extension": ".py",
   "mimetype": "text/x-python",
   "name": "python",
   "nbconvert_exporter": "python",
   "pygments_lexer": "ipython3",
   "version": "3.10.9"
  },
  "toc": {
   "base_numbering": 1,
   "nav_menu": {},
   "number_sections": false,
   "sideBar": true,
   "skip_h1_title": false,
   "title_cell": "Table of Contents",
   "title_sidebar": "Contents",
   "toc_cell": false,
   "toc_position": {
    "height": "calc(100% - 180px)",
    "left": "10px",
    "top": "150px",
    "width": "216.639px"
   },
   "toc_section_display": true,
   "toc_window_display": true
  }
 },
 "nbformat": 4,
 "nbformat_minor": 5
}
