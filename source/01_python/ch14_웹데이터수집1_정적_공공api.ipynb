{
 "cells": [
  {
   "cell_type": "code",
   "execution_count": 1,
   "id": "052322be",
   "metadata": {},
   "outputs": [
    {
     "data": {
      "text/html": [
       "\n",
       "<style>\n",
       "div.container{width:86% !important;}\n",
       "div.cell.code_cell.rendered{width:100%;}\n",
       "div.CodeMirror {font-family:Consolas; font-size:15pt;}\n",
       "div.output {font-size:15pt; font-weight:bold;}\n",
       "div.input {font-family:Consolas; font-size:15pt;}\n",
       "div.prompt {min-width:70px;}\n",
       "div#toc-wrapper{padding-top:120px;}\n",
       "div.text_cell_render ul li{font-size:12pt;padding:5px;}\n",
       "table.dataframe{font-size:15px;}\n",
       "</style>\n"
      ],
      "text/plain": [
       "<IPython.core.display.HTML object>"
      ]
     },
     "metadata": {},
     "output_type": "display_data"
    }
   ],
   "source": [
    "from IPython.display import display, HTML\n",
    "display(HTML(\"\"\"\n",
    "<style>\n",
    "div.container{width:86% !important;}\n",
    "div.cell.code_cell.rendered{width:100%;}\n",
    "div.CodeMirror {font-family:Consolas; font-size:15pt;}\n",
    "div.output {font-size:15pt; font-weight:bold;}\n",
    "div.input {font-family:Consolas; font-size:15pt;}\n",
    "div.prompt {min-width:70px;}\n",
    "div#toc-wrapper{padding-top:120px;}\n",
    "div.text_cell_render ul li{font-size:12pt;padding:5px;}\n",
    "table.dataframe{font-size:15px;}\n",
    "</style>\n",
    "\"\"\"))"
   ]
  },
  {
   "cell_type": "markdown",
   "id": "8eed5658",
   "metadata": {},
   "source": [
    "<b><font size=\"5\" color=\"red\">ch14_웹데이터수집</font></b>\n",
    "# 1절. BeautifulSoup과 parser\n",
    "```pip install bs4``` 아나콘다를 설치하면 7500여개의 패키지 설치\n",
    "- 공식 사이트: https://www.crummy.com/software/BeautifulSoup/\n",
    "- Docs: https://www.crummy.com/software/BeautifulSoup/bs4/doc/"
   ]
  },
  {
   "cell_type": "code",
   "execution_count": 9,
   "id": "b877a718",
   "metadata": {},
   "outputs": [],
   "source": [
    "import requests # HTTP 요청 처리 lib\n",
    "from requests_file import FileAdapter"
   ]
  },
  {
   "cell_type": "code",
   "execution_count": 7,
   "id": "66900bed",
   "metadata": {},
   "outputs": [
    {
     "data": {
      "text/plain": [
       "<Response [200]>"
      ]
     },
     "execution_count": 7,
     "metadata": {},
     "output_type": "execute_result"
    }
   ],
   "source": [
    "s = requests.Session() # HTTP 요청관리를 위한 세션 객체\n",
    "s.mount(\"file://\", FileAdapter())\n",
    "response = s.get('file:///ai_x/source/01_python/data/ch14_sample.html')\n",
    "response"
   ]
  },
  {
   "cell_type": "code",
   "execution_count": 8,
   "id": "64d105b4",
   "metadata": {},
   "outputs": [],
   "source": [
    "#html 피싱\n",
    "from bs4 import BeautifulSoup\n",
    "soup=BeautifulSoup(response.content, #response.text\n",
    "                  \"html.parser\")\n",
    "#soup"
   ]
  },
  {
   "cell_type": "code",
   "execution_count": 18,
   "id": "05bfb86e",
   "metadata": {},
   "outputs": [
    {
     "name": "stdout",
     "output_type": "stream",
     "text": [
      "el : <h1 class=\"greeting css\" id=\"text\">Hello, CSS</h1>\n",
      "el.text : Hello, CSS\n",
      "el.string : Hello, CSS\n",
      "el의 속성들 : {'class': ['greeting', 'css'], 'id': 'text'}\n",
      "el의 title속성 : text\n",
      "el의 title속성 : text\n",
      "el의 이름 : h1\n"
     ]
    }
   ],
   "source": [
    "# soup.select_one('선택자') : 해당 선택자 처음 하나만\n",
    "el = soup.select_one('h1') # 처음 나오는 h1태그 하나만\n",
    "print('el :', el)\n",
    "print('el.text :', el.text)\n",
    "print('el.string :', el.string)\n",
    "print('el의 속성들 :', el.attrs)\n",
    "print('el의 title속성 :', el.attrs['id'])\n",
    "print('el의 title속성 :', el.attrs.get('id') )\n",
    "print('el의 이름 :', el.name)"
   ]
  },
  {
   "cell_type": "code",
   "execution_count": 14,
   "id": "553d14ff",
   "metadata": {},
   "outputs": [
    {
     "name": "stdout",
     "output_type": "stream",
     "text": [
      "리스트 el : [<h1 class=\"greeting css\" id=\"text\">Hello, CSS</h1>, <h1 class=\"css\">Hi, CSS</h1>]\n",
      "el의 text들 : ['Hello, CSS', 'Hi, CSS']\n",
      "el의 속성들 : [{'class': ['greeting', 'css'], 'id': 'text'}, {'class': ['css']}]\n",
      "el의 class속성들 : [['greeting', 'css'], ['css']]\n"
     ]
    }
   ],
   "source": [
    "# soup.select('선택자') : 해당 선택자 모든 엘리먼트를 리스트로\n",
    "el = soup.select('h1')\n",
    "print('리스트 el :', el)\n",
    "print('el의 text들 :', [e.text for e in el])\n",
    "# for e in el:\n",
    "#     print(e.text, end=',')\n",
    "print('el의 속성들 :', [e.attrs for e in el])\n",
    "print('el의 class속성들 :', [e.attrs.get('class') for e in el])"
   ]
  },
  {
   "cell_type": "code",
   "execution_count": 15,
   "id": "66c41ba3",
   "metadata": {},
   "outputs": [
    {
     "name": "stdout",
     "output_type": "stream",
     "text": [
      "select_one : <h1 class=\"greeting css\" id=\"text\">Hello, CSS</h1>\n",
      "find : <h1 class=\"greeting css\" id=\"text\">Hello, CSS</h1>\n",
      "find : <h1 class=\"greeting css\" id=\"text\">Hello, CSS</h1>\n",
      "\n",
      "select_one : <h1 class=\"greeting css\" id=\"text\">Hello, CSS</h1>\n",
      "find : <html lang=\"en\">\n",
      "<head>\n",
      "<meta charset=\"utf-8\"/>\n",
      "</head>\n",
      "<body>\n",
      "<h1 class=\"greeting css\" id=\"text\">Hello, CSS</h1>\n",
      "<h1 class=\"css\">Hi, CSS</h1>\n",
      "<div id=\"subject\">subject 선택자 안의 내용</div>\n",
      "<p>CSS 선택자는 다양한 곳에서 활용됩니다</p>\n",
      "<div class=\"contents\">\r\n",
      "    준서야 사랑행. 보플로 데뷔하자\r\n",
      "    <span>다른<b>요소가 반환</b></span>됩니다\r\n",
      "  </div>\n",
      "<div>CSS 선택자는 다양한 곳에 <b>활용</b>됩니다</div>\n",
      "</body>\n",
      "</html>\n"
     ]
    }
   ],
   "source": [
    "# select_one(선택자)와 find(태그, 속성)\n",
    "print('select_one :', soup.select_one('h1.css'))\n",
    "print('find :', soup.find('h1', {'class':'css'}))\n",
    "print('find :', soup.find('h1', class_='css'))\n",
    "print()\n",
    "print('select_one :', soup.select_one('h1#text'))\n",
    "print('find :', soup.find());"
   ]
  },
  {
   "cell_type": "code",
   "execution_count": 19,
   "id": "b66ef715",
   "metadata": {},
   "outputs": [
    {
     "name": "stdout",
     "output_type": "stream",
     "text": [
      "select_one : <h1 class=\"greeting css\" id=\"text\">Hello, CSS</h1>\n",
      "find : <h1 class=\"greeting css\" id=\"text\">Hello, CSS</h1>\n",
      "find : <h1 class=\"greeting css\" id=\"text\">Hello, CSS</h1>\n",
      "\n",
      "select_one : <h1 class=\"greeting css\" id=\"text\">Hello, CSS</h1>\n",
      "find : <h1 class=\"greeting css\" id=\"text\">Hello, CSS</h1>\n",
      "\n",
      "select\n"
     ]
    }
   ],
   "source": [
    "# select_one(선택자)와 find(태그, 속성)\n",
    "print('select_one :', soup.select_one('h1.css'))\n",
    "print('find :', soup.find('h1', {'class':'css'}))\n",
    "print('find :', soup.find('h1', class_='css'))\n",
    "print()\n",
    "print('select_one :', soup.select_one('h1#text'))\n",
    "print('find :', soup.find('h1', {'id':'text'}));\n",
    "print()\n",
    "print('select')"
   ]
  },
  {
   "cell_type": "code",
   "execution_count": 20,
   "id": "431d0fbb",
   "metadata": {},
   "outputs": [
    {
     "name": "stdout",
     "output_type": "stream",
     "text": [
      "모든 h1.css, span 태그(select) : [<h1 class=\"greeting css\" id=\"text\">Hello, CSS</h1>, <h1 class=\"css\">Hi, CSS</h1>, <span>다른<b>요소가 반환</b></span>]\n",
      "모든 h1.css, span태그(find_all) : [<h1 class=\"greeting css\" id=\"text\">Hello, CSS</h1>, <h1 class=\"css\">Hi, CSS</h1>]\n"
     ]
    }
   ],
   "source": [
    "# select(선택자)와 find_all(태그, 속성)\n",
    "print('모든 h1.css, span 태그(select) :',\n",
    "     soup.select('h1.css, span'))\n",
    "print('모든 h1.css, span태그(find_all) :',\n",
    "     soup.find_all(['h1','span'], class_='css'))"
   ]
  },
  {
   "cell_type": "code",
   "execution_count": 21,
   "id": "54510f99",
   "metadata": {},
   "outputs": [
    {
     "name": "stdout",
     "output_type": "stream",
     "text": [
      "find_all(빈list) : []\n",
      "find(None) : None\n",
      "select(빈list) : []\n",
      "select_one(None) : None\n"
     ]
    }
   ],
   "source": [
    "# 없는 엘리먼트 찾기\n",
    "print('find_all(빈list) :', soup.find_all('a', class_='css'))\n",
    "print('find(None) :', soup.find('a', class_='css'))\n",
    "print('select(빈list) :', soup.select('a.css'))\n",
    "print('select_one(None) :', soup.select_one('a.css'))"
   ]
  },
  {
   "cell_type": "markdown",
   "id": "36c8decc",
   "metadata": {},
   "source": [
    "# 2절. 정적웹데이터 수집\n",
    "## 2.1 Json 파일\n",
    "- request모듈(get)\n",
    "- urllib.request모듈(urlopen)"
   ]
  },
  {
   "cell_type": "code",
   "execution_count": 23,
   "id": "a593cdf8",
   "metadata": {},
   "outputs": [
    {
     "data": {
      "text/plain": [
       "(<Response [403]>, 403)"
      ]
     },
     "execution_count": 23,
     "metadata": {},
     "output_type": "execute_result"
    }
   ],
   "source": [
    "# 방법1\n",
    "import requests\n",
    "response = requests.get('http://api.github.com')\n",
    "response, response.status_code"
   ]
  },
  {
   "cell_type": "code",
   "execution_count": 24,
   "id": "84566b02",
   "metadata": {},
   "outputs": [],
   "source": [
    "# 방법2\n",
    "from urllib.request import urlopen\n",
    "# response = urlopen('http://api.github.com')\n",
    "# response"
   ]
  },
  {
   "cell_type": "code",
   "execution_count": 55,
   "id": "ac9679f1",
   "metadata": {},
   "outputs": [
    {
     "data": {
      "text/plain": [
       "str"
      ]
     },
     "execution_count": 55,
     "metadata": {},
     "output_type": "execute_result"
    }
   ],
   "source": [
    "text = '{\"속성1\":\"값1\",\"속성2\":\"값2\"}'\n",
    "type(text)"
   ]
  },
  {
   "cell_type": "code",
   "execution_count": 56,
   "id": "47917938",
   "metadata": {},
   "outputs": [
    {
     "data": {
      "text/plain": [
       "{'속성1': '값1', '속성2': '값2'}"
      ]
     },
     "execution_count": 56,
     "metadata": {},
     "output_type": "execute_result"
    }
   ],
   "source": [
    "#문자(딕셔너리 타입)\n",
    "import json\n",
    "json.loads(text)"
   ]
  },
  {
   "cell_type": "markdown",
   "id": "4df3b4c0",
   "metadata": {},
   "source": [
    "## 2.2 html 파일\n",
    "### 1) 환율정보"
   ]
  },
  {
   "cell_type": "code",
   "execution_count": 29,
   "id": "32087658",
   "metadata": {},
   "outputs": [],
   "source": [
    "# 방법1\n",
    "import requests\n",
    "from bs4 import BeautifulSoup\n",
    "url = 'https://finance.naver.com/marketindex'\n",
    "response = requests.get(url)\n",
    "# response, response.status_code\n",
    "# response.content \n",
    "# response.content.decode('cp949') == response.text\n",
    "soup = BeautifulSoup(response.text, # response.content\n",
    "                    'html.parser')\n"
   ]
  },
  {
   "cell_type": "code",
   "execution_count": 58,
   "id": "55f6c2c1",
   "metadata": {},
   "outputs": [],
   "source": [
    "# 방법2\n",
    "from urllib.request import urlopen\n",
    "response = urlopen(url)\n",
    "# response.status 상태코드\n",
    "# response.read()\n",
    "# response.read().decode('cp949')\n",
    "soup = BeautifulSoup(response,  # response.read()\n",
    "                     'html.parser')"
   ]
  },
  {
   "cell_type": "code",
   "execution_count": 33,
   "id": "db5d5506",
   "metadata": {},
   "outputs": [
    {
     "name": "stdout",
     "output_type": "stream",
     "text": [
      "미국 USD\t일본 JPY(100엔)\t유럽연합 EUR\t중국 CNY\t달러/일본 엔\t유로/달러\t영국 파운드/달러\t달러인덱스\tWTI\t휘발유\t국제 금\t국내 금\t"
     ]
    }
   ],
   "source": [
    "title = soup.select('h3.h_lst > span.blind')\n",
    "for t in title:\n",
    "    print(t.text, end='\\t')"
   ]
  },
  {
   "cell_type": "code",
   "execution_count": 39,
   "id": "93c29c69",
   "metadata": {},
   "outputs": [
    {
     "data": {
      "text/plain": [
       "['1374.80',\n",
       " '952.57',\n",
       " '1555.38',\n",
       " '191.05',\n",
       " '144.3800',\n",
       " '1.1342',\n",
       " '1.3520',\n",
       " '99.4200',\n",
       " '60.89',\n",
       " '1633.17',\n",
       " '3300.4',\n",
       " '146120.87']"
      ]
     },
     "execution_count": 39,
     "metadata": {},
     "output_type": "execute_result"
    }
   ],
   "source": [
    "price = soup.select('div.head_info > span.value')\n",
    "[p.text for p in price]\n",
    "[p.text.replace(',','') for p in price]"
   ]
  },
  {
   "cell_type": "code",
   "execution_count": 36,
   "id": "836db4ba",
   "metadata": {},
   "outputs": [
    {
     "data": {
      "text/plain": [
       "1375"
      ]
     },
     "execution_count": 36,
     "metadata": {},
     "output_type": "execute_result"
    }
   ],
   "source": [
    "out = '1,374.70'\n",
    "round(float(''.join(out.split(','))))"
   ]
  },
  {
   "cell_type": "code",
   "execution_count": 37,
   "id": "80fe5cc9",
   "metadata": {},
   "outputs": [
    {
     "data": {
      "text/plain": [
       "1375"
      ]
     },
     "execution_count": 37,
     "metadata": {},
     "output_type": "execute_result"
    }
   ],
   "source": [
    "round(float(out.replace(',','')))"
   ]
  },
  {
   "cell_type": "code",
   "execution_count": 40,
   "id": "c2df0f6b",
   "metadata": {},
   "outputs": [
    {
     "data": {
      "text/plain": [
       "['원', '원', '원', '원', '엔', '달러', '달러', '', '달러', '원', '달러', '원']"
      ]
     },
     "execution_count": 40,
     "metadata": {},
     "output_type": "execute_result"
    }
   ],
   "source": [
    "unit = soup.select('div.head_info > span > span.blind')\n",
    "unit = [u.text for u in unit]\n",
    "unit.insert(7, '') # 7번째 index에 '' 추가\n",
    "unit"
   ]
  },
  {
   "cell_type": "code",
   "execution_count": 41,
   "id": "d9658fc5",
   "metadata": {},
   "outputs": [
    {
     "data": {
      "text/plain": [
       "['하락', '하락', '하락', '하락', '상승', '하락', '하락', '상승', '하락', '하락', '하락', '상승']"
      ]
     },
     "execution_count": 41,
     "metadata": {},
     "output_type": "execute_result"
    }
   ],
   "source": [
    "status = soup.select('div.head_info > span.blind')\n",
    "[t.text for t in title]\n",
    "[p.text for p in price]\n",
    "unit\n",
    "[s.string for s in status]"
   ]
  },
  {
   "cell_type": "code",
   "execution_count": 42,
   "id": "84b8c0ce",
   "metadata": {},
   "outputs": [
    {
     "data": {
      "text/plain": [
       "(12, 12, 12, 12)"
      ]
     },
     "execution_count": 42,
     "metadata": {},
     "output_type": "execute_result"
    }
   ],
   "source": [
    "len(title), len(price), len(unit), len(status)"
   ]
  },
  {
   "cell_type": "code",
   "execution_count": 43,
   "id": "3f204cfd",
   "metadata": {},
   "outputs": [
    {
     "name": "stdout",
     "output_type": "stream",
     "text": [
      "미국 USD : 1,374.80원 - 하락\n",
      "일본 JPY(100엔) : 952.57원 - 하락\n",
      "유럽연합 EUR : 1,555.38원 - 하락\n",
      "중국 CNY : 191.05원 - 하락\n",
      "달러/일본 엔 : 144.3800엔 - 상승\n",
      "유로/달러 : 1.1342달러 - 하락\n",
      "영국 파운드/달러 : 1.3520달러 - 하락\n",
      "달러인덱스 : 99.4200 - 상승\n",
      "WTI : 60.89달러 - 하락\n",
      "휘발유 : 1633.17원 - 하락\n",
      "국제 금 : 3300.4달러 - 하락\n",
      "국내 금 : 146120.87원 - 상승\n"
     ]
    }
   ],
   "source": [
    "for idx in range(len(title)):\n",
    "    print(\"{} : {}{} - {}\".format(title[idx].text,\n",
    "                                 price[idx].text,\n",
    "                                 unit[idx],\n",
    "                                 status[idx].text))"
   ]
  },
  {
   "cell_type": "code",
   "execution_count": 47,
   "id": "95e58620",
   "metadata": {},
   "outputs": [
    {
     "name": "stdout",
     "output_type": "stream",
     "text": [
      "1.미국 USD : 1,374.80원 - 하락\n",
      "2.일본 JPY(100엔) : 952.57원 - 하락\n",
      "3.유럽연합 EUR : 1,555.38원 - 하락\n",
      "4.중국 CNY : 191.05원 - 하락\n",
      "5.달러/일본 엔 : 144.3800엔 - 상승\n",
      "6.유로/달러 : 1.1342달러 - 하락\n",
      "7.영국 파운드/달러 : 1.3520달러 - 하락\n",
      "8.달러인덱스 : 99.4200 - 상승\n",
      "9.WTI : 60.89달러 - 하락\n",
      "10.휘발유 : 1633.17원 - 하락\n",
      "11.국제 금 : 3300.4달러 - 하락\n",
      "12.국내 금 : 146120.87원 - 상승\n"
     ]
    }
   ],
   "source": [
    "for idx, (t, p, u, s)  in enumerate(zip(title, price, unit, status)):\n",
    "    print(\"{}.{} : {}{} - {}\".format(idx+1,\n",
    "                                  t.text,\n",
    "                                 p.text,\n",
    "                                 u,\n",
    "                                 s.text))"
   ]
  },
  {
   "cell_type": "markdown",
   "id": "e1c803eb",
   "metadata": {},
   "source": [
    "### 2)로또\n",
    "-복권: https://dhlottery.co.kr/gameResult.do?method=byWin\n",
    "```\n",
    "1173회\n",
    "당첨번호\n",
    "보너스 3\n",
    "```"
   ]
  },
  {
   "cell_type": "code",
   "execution_count": 62,
   "id": "b1264a12",
   "metadata": {},
   "outputs": [
    {
     "name": "stdout",
     "output_type": "stream",
     "text": [
      "보너스 번호: 3\n",
      "보너스 번호: 3\n",
      "회차: 1173회\n",
      "추첨 날짜: (2025년 05월 24일 추첨)\n",
      "보너스 번호: 3\n"
     ]
    }
   ],
   "source": [
    "import requests\n",
    "from bs4 import BeautifulSoup\n",
    "\n",
    "url = 'https://dhlottery.co.kr/gameResult.do?method=byWin'\n",
    "res = requests.get(url)\n",
    "soup = BeautifulSoup(res.text, 'html.parser')\n",
    "\n",
    "# 로또 회차 추출\n",
    "round_number = soup.select_one('div.win_result h4 strong').get_text(strip=True)\n",
    "\n",
    "# 추첨 날짜 추출\n",
    "draw_date = soup.select_one('div.win_result p.desc').get_text(strip=True)\n",
    "\n",
    "# 보너스 번호 뽑기\n",
    "bonus_tag = soup.select_one('div.num.bonus span')\n",
    "if bonus_tag:\n",
    "    bonus = bonus_tag.get_text(strip=True)\n",
    "else:\n",
    "    bonus = '보너스 번호를 찾지 못함'\n",
    "print('보너스 번호:', bonus)\n",
    "\n",
    "print('보너스 번호:', bonus)\n",
    "\n",
    "\n",
    "print('회차:', round_number)\n",
    "print('추첨 날짜:', draw_date)\n",
    "print('보너스 번호:', bonus)"
   ]
  },
  {
   "cell_type": "code",
   "execution_count": 63,
   "id": "fe276b17",
   "metadata": {},
   "outputs": [
    {
     "name": "stdout",
     "output_type": "stream",
     "text": [
      "당첨번호: ['1', '5', '18', '20', '30', '35']\n"
     ]
    }
   ],
   "source": [
    "# 당첨번호 6개 추출\n",
    "win_nums = [span.get_text(strip=True) for span in soup.select('div.num.win span')]\n",
    "print('당첨번호:', win_nums)"
   ]
  },
  {
   "cell_type": "markdown",
   "id": "19e9abea",
   "metadata": {},
   "source": [
    "### 3) 다음검색"
   ]
  },
  {
   "cell_type": "code",
   "execution_count": 71,
   "id": "eddf932b",
   "metadata": {},
   "outputs": [
    {
     "data": {
      "text/html": [
       "<div>\n",
       "<style scoped>\n",
       "    .dataframe tbody tr th:only-of-type {\n",
       "        vertical-align: middle;\n",
       "    }\n",
       "\n",
       "    .dataframe tbody tr th {\n",
       "        vertical-align: top;\n",
       "    }\n",
       "\n",
       "    .dataframe thead th {\n",
       "        text-align: right;\n",
       "    }\n",
       "</style>\n",
       "<table border=\"1\" class=\"dataframe\">\n",
       "  <thead>\n",
       "    <tr style=\"text-align: right;\">\n",
       "      <th></th>\n",
       "      <th>no</th>\n",
       "      <th>title</th>\n",
       "      <th>link</th>\n",
       "    </tr>\n",
       "  </thead>\n",
       "  <tbody>\n",
       "    <tr>\n",
       "      <th>0</th>\n",
       "      <td>0</td>\n",
       "      <td>[비트코인 2025] 백악관 크립토 차르 “美 정부 비트코인 추가 매입 검토…부채...</td>\n",
       "      <td>http://v.daum.net/v/20250528103907230</td>\n",
       "    </tr>\n",
       "    <tr>\n",
       "      <th>1</th>\n",
       "      <td>1</td>\n",
       "      <td>[비즈 나우] 비트코인 2025 컨퍼런스 개막…'전략자산' 선언 코앞</td>\n",
       "      <td>http://v.daum.net/v/20250528075215864</td>\n",
       "    </tr>\n",
       "    <tr>\n",
       "      <th>2</th>\n",
       "      <td>2</td>\n",
       "      <td>“맥O날드보다 맛없어!” 혹평이 가득한 트럼프 만찬과 비트코인 피자데이[엠블록레터]</td>\n",
       "      <td>http://v.daum.net/v/20250528143002735</td>\n",
       "    </tr>\n",
       "    <tr>\n",
       "      <th>3</th>\n",
       "      <td>3</td>\n",
       "      <td>블랙록, 자사 비트코인 ETF 보유량 25% 확대…기관 투자 본격화 신호탄</td>\n",
       "      <td>http://v.daum.net/v/20250528151802080</td>\n",
       "    </tr>\n",
       "    <tr>\n",
       "      <th>4</th>\n",
       "      <td>4</td>\n",
       "      <td>비트코인, 트럼프 미디어 비축 소식에도 주춤…1억5100만원대</td>\n",
       "      <td>http://v.daum.net/v/20250528095112897</td>\n",
       "    </tr>\n",
       "    <tr>\n",
       "      <th>5</th>\n",
       "      <td>5</td>\n",
       "      <td>'비트코인 빚투' 스트레티지, 또 샀다…보유량 58만개 돌파</td>\n",
       "      <td>http://v.daum.net/v/20250528042404292</td>\n",
       "    </tr>\n",
       "    <tr>\n",
       "      <th>6</th>\n",
       "      <td>6</td>\n",
       "      <td>美 상원의원 \"트럼프 대통령, 비트코인법 지지\"</td>\n",
       "      <td>http://v.daum.net/v/20250528090342853</td>\n",
       "    </tr>\n",
       "    <tr>\n",
       "      <th>7</th>\n",
       "      <td>7</td>\n",
       "      <td>숨 고르는 비트코인, 10만8000달러선 '주춤'</td>\n",
       "      <td>http://v.daum.net/v/20250528095921258</td>\n",
       "    </tr>\n",
       "    <tr>\n",
       "      <th>8</th>\n",
       "      <td>8</td>\n",
       "      <td>[비트코인 2025] 로빈후드 창업자 “토큰화 증권은 美 ‘자본 패권’ 키우는 수단”</td>\n",
       "      <td>http://v.daum.net/v/20250528110600761</td>\n",
       "    </tr>\n",
       "    <tr>\n",
       "      <th>9</th>\n",
       "      <td>9</td>\n",
       "      <td>트럼프미디어그룹, 25억 달러 규모 자금 조달 통해 비트코인 매입 예고</td>\n",
       "      <td>http://v.daum.net/v/20250528084245020</td>\n",
       "    </tr>\n",
       "  </tbody>\n",
       "</table>\n",
       "</div>"
      ],
      "text/plain": [
       "   no                                              title  \\\n",
       "0   0   [비트코인 2025] 백악관 크립토 차르 “美 정부 비트코인 추가 매입 검토…부채...   \n",
       "1   1            [비즈 나우] 비트코인 2025 컨퍼런스 개막…'전략자산' 선언 코앞    \n",
       "2   2    “맥O날드보다 맛없어!” 혹평이 가득한 트럼프 만찬과 비트코인 피자데이[엠블록레터]    \n",
       "3   3         블랙록, 자사 비트코인 ETF 보유량 25% 확대…기관 투자 본격화 신호탄    \n",
       "4   4                비트코인, 트럼프 미디어 비축 소식에도 주춤…1억5100만원대    \n",
       "5   5                 '비트코인 빚투' 스트레티지, 또 샀다…보유량 58만개 돌파    \n",
       "6   6                        美 상원의원 \"트럼프 대통령, 비트코인법 지지\"    \n",
       "7   7                       숨 고르는 비트코인, 10만8000달러선 '주춤'    \n",
       "8   8   [비트코인 2025] 로빈후드 창업자 “토큰화 증권은 美 ‘자본 패권’ 키우는 수단”    \n",
       "9   9           트럼프미디어그룹, 25억 달러 규모 자금 조달 통해 비트코인 매입 예고    \n",
       "\n",
       "                                    link  \n",
       "0  http://v.daum.net/v/20250528103907230  \n",
       "1  http://v.daum.net/v/20250528075215864  \n",
       "2  http://v.daum.net/v/20250528143002735  \n",
       "3  http://v.daum.net/v/20250528151802080  \n",
       "4  http://v.daum.net/v/20250528095112897  \n",
       "5  http://v.daum.net/v/20250528042404292  \n",
       "6  http://v.daum.net/v/20250528090342853  \n",
       "7  http://v.daum.net/v/20250528095921258  \n",
       "8  http://v.daum.net/v/20250528110600761  \n",
       "9  http://v.daum.net/v/20250528084245020  "
      ]
     },
     "execution_count": 71,
     "metadata": {},
     "output_type": "execute_result"
    }
   ],
   "source": [
    "# 방법1\n",
    "import requests\n",
    "from bs4 import BeautifulSoup\n",
    "word = '비트코인'\n",
    "url = 'https://search.daum.net/search?w=news&nil_search=btn&DA=NTB&enc=utf8&cluster=y&cluster_page=1&q='+word\n",
    "response = requests.get(url)\n",
    "soup = BeautifulSoup(response.text, # response.content\n",
    "                    \"html.parser\")\n",
    "items_find_list = [] # 검색한 결과를 담을 dict list\n",
    "items_el = soup.select('div.item-title > strong.tit-g.clamp-g > a')\n",
    "# len(items_el)\n",
    "for idx, item in enumerate(items_el):\n",
    "    items_find_list.append({'no': idx,\n",
    "                           'title': item.text,\n",
    "                           'link': item.attrs['href']})\n",
    "import pandas as pd\n",
    "pd.DataFrame(items_find_list)"
   ]
  },
  {
   "cell_type": "code",
   "execution_count": 77,
   "id": "d44c7997",
   "metadata": {},
   "outputs": [
    {
     "name": "stdout",
     "output_type": "stream",
     "text": [
      "https://search.daum.net/search?w=news&nil_search=btn&DA=PGD&enc=utf8&cluster=y\n",
      "{'no': 20, 'title': ' 전력거래소, `공감·혁신` 토대 조직문화 바꾸기 ', 'link': 'http://v.daum.net/v/20250528152647580'}\n",
      "{'no': 21, 'title': ' 트럼프미디어, 비트코인 3.4조 투자 발표에 주가 10% 폭락 ', 'link': 'http://v.daum.net/v/20250528080206055'}\n",
      "{'no': 22, 'title': ' 트럼프 미디어, 비트코인 사나…가상자산 매입 위해 30억 달러 조달 추진 ', 'link': 'http://v.daum.net/v/20250527043000368'}\n",
      "{'no': 23, 'title': ' 비트레이어, 비트코인 채굴업체와 협력...“BTC 디파이로 나아갈 것” ', 'link': 'http://v.daum.net/v/20250527114126672'}\n",
      "{'no': 24, 'title': ' <단독>\"예배 참석하면 코인 드려요. 5년 안에 비트코인 넘어섭니다\"..신앙심 노린 코인 유사 사기 기승 ', 'link': 'http://v.daum.net/v/20250528083323774'}\n",
      "{'no': 25, 'title': ' 뉴욕증시 휴장에 10.9만弗선 숨고른 비트코인 [매일코인] ', 'link': 'http://v.daum.net/v/20250527103810840'}\n",
      "{'no': 26, 'title': ' 스트래티지, 비트코인 4020개 추가 매입...보유량 58만개 돌파 ', 'link': 'http://v.daum.net/v/20250527081116129'}\n",
      "{'no': 27, 'title': ' [영상] “강세장 진입한 비트코인, 내년 2분기까지 최소 20만~30만 달러 갈 듯” ', 'link': 'http://v.daum.net/v/20250527090137566'}\n",
      "{'no': 28, 'title': ' 美 트럼프 대통령, EU 관세 연기…비트코인, 1.67% 상승 ', 'link': 'http://v.daum.net/v/20250527072542319'}\n",
      "{'no': 29, 'title': ' \"비트코인, 해킹에 안전한 시간 20년 남아…완벽한 양자컴에 뚫려\" ', 'link': 'http://v.daum.net/v/20250527084812094'}\n"
     ]
    }
   ],
   "source": [
    "#다음 뉴스 검색(키워드, 원하는 페이지 수)\n",
    "import requests\n",
    "from bs4 import BeautifulSoup\n",
    "import pandas as pd\n",
    "import time\n",
    "keyword = '비트코인'\n",
    "page=3\n",
    "#url = f'https://search.daum.net/search?w=news&nil_search=btn&DA=PGD&enc=utf8&cluster=y&cluster_page=1&q={keyword}&p={page}'\n",
    "url = 'https://search.daum.net/search?w=news&nil_search=btn&DA=PGD&enc=utf8&cluster=y'\n",
    "params= {'q':keyword, 'p':page}\n",
    "print(url)\n",
    "response = requests.get(url,params=params)\n",
    "soup = BeautifulSoup(response.text, #response.content\n",
    "                    'html.parser')\n",
    "items_find_list = [] # 검색한 결과를 담을 dict list\n",
    "items_el = soup.select('div.item-title > strong.tit-g.clamp-g > a')\n",
    "# len(items_el)\n",
    "for idx, item in enumerate(items_el):\n",
    "    items_find_list.append({'no': (page-1)*10 + idx,\n",
    "                           'title': item.text,\n",
    "                           'link': item.attrs['href']})\n",
    "    print({'no': (page-1)*10 + idx,\n",
    "           'title': item.text,\n",
    "           'link': item.attrs['href']})"
   ]
  },
  {
   "cell_type": "code",
   "execution_count": 78,
   "id": "902cb90e",
   "metadata": {},
   "outputs": [],
   "source": [
    "#다음 뉴스 검색(키워드, 원하는 페이지 수)\n",
    "import requests\n",
    "from bs4 import BeautifulSoup\n",
    "import pandas as pd\n",
    "import time\n",
    "def collect_list(keyword,page):\n",
    "    'keyword로 다음 검색한 결과 (해당 page)를 return'\n",
    "    url = 'https://search.daum.net/search?w=news&nil_search=btn&DA=PGD&enc=utf8&cluster=y'\n",
    "    params= {'q':keyword, 'p':page}\n",
    "    response = requests.get(url,params=params)\n",
    "    soup = BeautifulSoup(response.text, #response.content\n",
    "                        'html.parser')\n",
    "    items_find_list = [] # 검색한 결과를 담을 dict list\n",
    "    items_el = soup.select('div.item-title > strong.tit-g.clamp-g > a')\n",
    "    # len(items_el)\n",
    "    for idx, item in enumerate(items_el):\n",
    "        items_find_list.append({'no': (page-1)*10 + idx,\n",
    "                               'title': item.text,\n",
    "                               'link': item.attrs['href']})\n",
    "    return items_find_list"
   ]
  },
  {
   "cell_type": "code",
   "execution_count": 81,
   "id": "c18e52ed",
   "metadata": {},
   "outputs": [
    {
     "data": {
      "text/plain": [
       "[{'no': 0,\n",
       "  'title': ' \"말 못할 비밀 나눈 사이\"…박병은·엄지원 \\'동거\\'동락? ',\n",
       "  'link': 'http://v.daum.net/v/20250520063255797'},\n",
       " {'no': 1,\n",
       "  'title': ' \\'옥씨부인전\\' 배우 최정우, 향년 68세로 사망…\"사인은 아직 몰라\" ',\n",
       "  'link': 'http://v.daum.net/v/20250527151416249'},\n",
       " {'no': 2,\n",
       "  'title': ' 故 최정우 별세, 연기 인생만 무려 50년..이틀째 추모 물결 [종합] ',\n",
       "  'link': 'http://v.daum.net/v/20250528073514605'},\n",
       " {'no': 3,\n",
       "  'title': ' ‘비밀사이’ 김준서 “BL 호흡, 서로 생각 많이 공유” [일문일답] ',\n",
       "  'link': 'http://v.daum.net/v/20250326082843886'},\n",
       " {'no': 4,\n",
       "  'title': ' \"故최정우 최근까지 열일했는데\"…낯익은 배우의 갑작스러운 별세에 추모 지속 ',\n",
       "  'link': 'http://v.daum.net/v/20250528153558107'},\n",
       " {'no': 5,\n",
       "  'title': ' 위아이 김준서 \"\\'비밀 사이\\'로 배우 데뷔, 값진 경험 선물\" [일문일답] ',\n",
       "  'link': 'http://v.daum.net/v/20250326080204254'},\n",
       " {'no': 6,\n",
       "  'title': ' \\'비밀사이\\' 김호영, BL 첫 도전 소감 \"이해 어려운 부분 있었지만…행복했다\" ',\n",
       "  'link': 'http://v.daum.net/v/20250328131007533'},\n",
       " {'no': 7,\n",
       "  'title': ' 김호영, 첫 BL \\'비밀 사이\\' 종영 \"행복한 시간\" ',\n",
       "  'link': 'http://v.daum.net/v/20250328095404141'},\n",
       " {'no': 8,\n",
       "  'title': ' \\'옥씨부인전\\' \\'마녀\\' 故 최정우, 안타까운 별세 \"익숙한 분인데\" [종합] ',\n",
       "  'link': 'http://v.daum.net/v/20250527195105397'},\n",
       " {'no': 9,\n",
       "  'title': ' 김호영, 이중적인 위험한 매력남…\"\\'비밀 사이\\' 덕에 행복했다\" ',\n",
       "  'link': 'http://v.daum.net/v/20250328141202488'}]"
      ]
     },
     "execution_count": 81,
     "metadata": {},
     "output_type": "execute_result"
    }
   ],
   "source": [
    "collect_list('비밀사이',1)"
   ]
  },
  {
   "cell_type": "code",
   "execution_count": 85,
   "id": "92f2999d",
   "metadata": {},
   "outputs": [
    {
     "data": {
      "text/html": [
       "<div>\n",
       "<style scoped>\n",
       "    .dataframe tbody tr th:only-of-type {\n",
       "        vertical-align: middle;\n",
       "    }\n",
       "\n",
       "    .dataframe tbody tr th {\n",
       "        vertical-align: top;\n",
       "    }\n",
       "\n",
       "    .dataframe thead th {\n",
       "        text-align: right;\n",
       "    }\n",
       "</style>\n",
       "<table border=\"1\" class=\"dataframe\">\n",
       "  <thead>\n",
       "    <tr style=\"text-align: right;\">\n",
       "      <th></th>\n",
       "      <th>no</th>\n",
       "      <th>title</th>\n",
       "      <th>link</th>\n",
       "    </tr>\n",
       "  </thead>\n",
       "  <tbody>\n",
       "    <tr>\n",
       "      <th>0</th>\n",
       "      <td>30</td>\n",
       "      <td>위아이 김준서, 무대를 지배하는 자</td>\n",
       "      <td>http://v.daum.net/v/20250115143029656</td>\n",
       "    </tr>\n",
       "    <tr>\n",
       "      <th>1</th>\n",
       "      <td>31</td>\n",
       "      <td>김준서 “‘비밀 사이’, 모든 과정이 배움의 연속…많은 사랑 받아 영광”</td>\n",
       "      <td>http://v.daum.net/v/20250321174211947</td>\n",
       "    </tr>\n",
       "    <tr>\n",
       "      <th>2</th>\n",
       "      <td>32</td>\n",
       "      <td>'비밀 사이' 김준서, 배우 데뷔 성공적…\"많은 사랑 받아 영광\" 소감</td>\n",
       "      <td>http://v.daum.net/v/20250321145539525</td>\n",
       "    </tr>\n",
       "    <tr>\n",
       "      <th>3</th>\n",
       "      <td>33</td>\n",
       "      <td>‘비밀사이’ 김준서 “BL 호흡, 서로 생각 많이 공유” [일문일답]</td>\n",
       "      <td>http://v.daum.net/v/20250326082843886</td>\n",
       "    </tr>\n",
       "    <tr>\n",
       "      <th>4</th>\n",
       "      <td>34</td>\n",
       "      <td>BL드라마 ‘비밀사이’ 주연 김준서 “촬영과 위아이 신보 준비 병행”</td>\n",
       "      <td>http://v.daum.net/v/20250115150334419</td>\n",
       "    </tr>\n",
       "    <tr>\n",
       "      <th>5</th>\n",
       "      <td>35</td>\n",
       "      <td>'비밀사이' 김준서 \"원작 다온과 비슷해 보이고 싶었다..다이어트도 열심히\" [일...</td>\n",
       "      <td>http://v.daum.net/v/20250326100501932</td>\n",
       "    </tr>\n",
       "    <tr>\n",
       "      <th>6</th>\n",
       "      <td>36</td>\n",
       "      <td>위아이 '낫 이너프', \"올해 가장 많이 들은 곡 1위\" 예약 [ST종합]</td>\n",
       "      <td>http://v.daum.net/v/20250115151403924</td>\n",
       "    </tr>\n",
       "    <tr>\n",
       "      <th>7</th>\n",
       "      <td>37</td>\n",
       "      <td>청춘 노래하는 위아이… \"가장 많이 들은 1위곡 됐으면\" [종합]</td>\n",
       "      <td>http://v.daum.net/v/20250115155604548</td>\n",
       "    </tr>\n",
       "    <tr>\n",
       "      <th>8</th>\n",
       "      <td>38</td>\n",
       "      <td>[오마이포토] '위아이' 김준서, 사랑과 열정</td>\n",
       "      <td>http://v.daum.net/v/20221019184502634</td>\n",
       "    </tr>\n",
       "    <tr>\n",
       "      <th>9</th>\n",
       "      <td>39</td>\n",
       "      <td>카카오엔터 웹툰 ‘비밀 사이’ 드라마, 웹소설, OST 등 성공적 IP 확장···...</td>\n",
       "      <td>http://v.daum.net/v/20250227220930572</td>\n",
       "    </tr>\n",
       "    <tr>\n",
       "      <th>10</th>\n",
       "      <td>30</td>\n",
       "      <td>위아이 김준서, 무대를 지배하는 자</td>\n",
       "      <td>http://v.daum.net/v/20250115143029656</td>\n",
       "    </tr>\n",
       "    <tr>\n",
       "      <th>11</th>\n",
       "      <td>31</td>\n",
       "      <td>김준서 “‘비밀 사이’, 모든 과정이 배움의 연속…많은 사랑 받아 영광”</td>\n",
       "      <td>http://v.daum.net/v/20250321174211947</td>\n",
       "    </tr>\n",
       "    <tr>\n",
       "      <th>12</th>\n",
       "      <td>32</td>\n",
       "      <td>'비밀 사이' 김준서, 배우 데뷔 성공적…\"많은 사랑 받아 영광\" 소감</td>\n",
       "      <td>http://v.daum.net/v/20250321145539525</td>\n",
       "    </tr>\n",
       "    <tr>\n",
       "      <th>13</th>\n",
       "      <td>33</td>\n",
       "      <td>‘비밀사이’ 김준서 “BL 호흡, 서로 생각 많이 공유” [일문일답]</td>\n",
       "      <td>http://v.daum.net/v/20250326082843886</td>\n",
       "    </tr>\n",
       "    <tr>\n",
       "      <th>14</th>\n",
       "      <td>34</td>\n",
       "      <td>BL드라마 ‘비밀사이’ 주연 김준서 “촬영과 위아이 신보 준비 병행”</td>\n",
       "      <td>http://v.daum.net/v/20250115150334419</td>\n",
       "    </tr>\n",
       "    <tr>\n",
       "      <th>15</th>\n",
       "      <td>35</td>\n",
       "      <td>'비밀사이' 김준서 \"원작 다온과 비슷해 보이고 싶었다..다이어트도 열심히\" [일...</td>\n",
       "      <td>http://v.daum.net/v/20250326100501932</td>\n",
       "    </tr>\n",
       "    <tr>\n",
       "      <th>16</th>\n",
       "      <td>36</td>\n",
       "      <td>위아이 '낫 이너프', \"올해 가장 많이 들은 곡 1위\" 예약 [ST종합]</td>\n",
       "      <td>http://v.daum.net/v/20250115151403924</td>\n",
       "    </tr>\n",
       "    <tr>\n",
       "      <th>17</th>\n",
       "      <td>37</td>\n",
       "      <td>청춘 노래하는 위아이… \"가장 많이 들은 1위곡 됐으면\" [종합]</td>\n",
       "      <td>http://v.daum.net/v/20250115155604548</td>\n",
       "    </tr>\n",
       "    <tr>\n",
       "      <th>18</th>\n",
       "      <td>38</td>\n",
       "      <td>[오마이포토] '위아이' 김준서, 사랑과 열정</td>\n",
       "      <td>http://v.daum.net/v/20221019184502634</td>\n",
       "    </tr>\n",
       "    <tr>\n",
       "      <th>19</th>\n",
       "      <td>39</td>\n",
       "      <td>카카오엔터 웹툰 ‘비밀 사이’ 드라마, 웹소설, OST 등 성공적 IP 확장···...</td>\n",
       "      <td>http://v.daum.net/v/20250227220930572</td>\n",
       "    </tr>\n",
       "    <tr>\n",
       "      <th>20</th>\n",
       "      <td>30</td>\n",
       "      <td>위아이 김준서, 무대를 지배하는 자</td>\n",
       "      <td>http://v.daum.net/v/20250115143029656</td>\n",
       "    </tr>\n",
       "    <tr>\n",
       "      <th>21</th>\n",
       "      <td>31</td>\n",
       "      <td>김준서 “‘비밀 사이’, 모든 과정이 배움의 연속…많은 사랑 받아 영광”</td>\n",
       "      <td>http://v.daum.net/v/20250321174211947</td>\n",
       "    </tr>\n",
       "    <tr>\n",
       "      <th>22</th>\n",
       "      <td>32</td>\n",
       "      <td>'비밀 사이' 김준서, 배우 데뷔 성공적…\"많은 사랑 받아 영광\" 소감</td>\n",
       "      <td>http://v.daum.net/v/20250321145539525</td>\n",
       "    </tr>\n",
       "    <tr>\n",
       "      <th>23</th>\n",
       "      <td>33</td>\n",
       "      <td>‘비밀사이’ 김준서 “BL 호흡, 서로 생각 많이 공유” [일문일답]</td>\n",
       "      <td>http://v.daum.net/v/20250326082843886</td>\n",
       "    </tr>\n",
       "    <tr>\n",
       "      <th>24</th>\n",
       "      <td>34</td>\n",
       "      <td>BL드라마 ‘비밀사이’ 주연 김준서 “촬영과 위아이 신보 준비 병행”</td>\n",
       "      <td>http://v.daum.net/v/20250115150334419</td>\n",
       "    </tr>\n",
       "    <tr>\n",
       "      <th>25</th>\n",
       "      <td>35</td>\n",
       "      <td>'비밀사이' 김준서 \"원작 다온과 비슷해 보이고 싶었다..다이어트도 열심히\" [일...</td>\n",
       "      <td>http://v.daum.net/v/20250326100501932</td>\n",
       "    </tr>\n",
       "    <tr>\n",
       "      <th>26</th>\n",
       "      <td>36</td>\n",
       "      <td>위아이 '낫 이너프', \"올해 가장 많이 들은 곡 1위\" 예약 [ST종합]</td>\n",
       "      <td>http://v.daum.net/v/20250115151403924</td>\n",
       "    </tr>\n",
       "    <tr>\n",
       "      <th>27</th>\n",
       "      <td>37</td>\n",
       "      <td>청춘 노래하는 위아이… \"가장 많이 들은 1위곡 됐으면\" [종합]</td>\n",
       "      <td>http://v.daum.net/v/20250115155604548</td>\n",
       "    </tr>\n",
       "    <tr>\n",
       "      <th>28</th>\n",
       "      <td>38</td>\n",
       "      <td>[오마이포토] '위아이' 김준서, 사랑과 열정</td>\n",
       "      <td>http://v.daum.net/v/20221019184502634</td>\n",
       "    </tr>\n",
       "    <tr>\n",
       "      <th>29</th>\n",
       "      <td>39</td>\n",
       "      <td>카카오엔터 웹툰 ‘비밀 사이’ 드라마, 웹소설, OST 등 성공적 IP 확장···...</td>\n",
       "      <td>http://v.daum.net/v/20250227220930572</td>\n",
       "    </tr>\n",
       "  </tbody>\n",
       "</table>\n",
       "</div>"
      ],
      "text/plain": [
       "    no                                              title  \\\n",
       "0   30                               위아이 김준서, 무대를 지배하는 자    \n",
       "1   31          김준서 “‘비밀 사이’, 모든 과정이 배움의 연속…많은 사랑 받아 영광”    \n",
       "2   32           '비밀 사이' 김준서, 배우 데뷔 성공적…\"많은 사랑 받아 영광\" 소감    \n",
       "3   33            ‘비밀사이’ 김준서 “BL 호흡, 서로 생각 많이 공유” [일문일답]    \n",
       "4   34            BL드라마 ‘비밀사이’ 주연 김준서 “촬영과 위아이 신보 준비 병행”    \n",
       "5   35   '비밀사이' 김준서 \"원작 다온과 비슷해 보이고 싶었다..다이어트도 열심히\" [일...   \n",
       "6   36         위아이 '낫 이너프', \"올해 가장 많이 들은 곡 1위\" 예약 [ST종합]    \n",
       "7   37              청춘 노래하는 위아이… \"가장 많이 들은 1위곡 됐으면\" [종합]    \n",
       "8   38                         [오마이포토] '위아이' 김준서, 사랑과 열정    \n",
       "9   39   카카오엔터 웹툰 ‘비밀 사이’ 드라마, 웹소설, OST 등 성공적 IP 확장···...   \n",
       "10  30                               위아이 김준서, 무대를 지배하는 자    \n",
       "11  31          김준서 “‘비밀 사이’, 모든 과정이 배움의 연속…많은 사랑 받아 영광”    \n",
       "12  32           '비밀 사이' 김준서, 배우 데뷔 성공적…\"많은 사랑 받아 영광\" 소감    \n",
       "13  33            ‘비밀사이’ 김준서 “BL 호흡, 서로 생각 많이 공유” [일문일답]    \n",
       "14  34            BL드라마 ‘비밀사이’ 주연 김준서 “촬영과 위아이 신보 준비 병행”    \n",
       "15  35   '비밀사이' 김준서 \"원작 다온과 비슷해 보이고 싶었다..다이어트도 열심히\" [일...   \n",
       "16  36         위아이 '낫 이너프', \"올해 가장 많이 들은 곡 1위\" 예약 [ST종합]    \n",
       "17  37              청춘 노래하는 위아이… \"가장 많이 들은 1위곡 됐으면\" [종합]    \n",
       "18  38                         [오마이포토] '위아이' 김준서, 사랑과 열정    \n",
       "19  39   카카오엔터 웹툰 ‘비밀 사이’ 드라마, 웹소설, OST 등 성공적 IP 확장···...   \n",
       "20  30                               위아이 김준서, 무대를 지배하는 자    \n",
       "21  31          김준서 “‘비밀 사이’, 모든 과정이 배움의 연속…많은 사랑 받아 영광”    \n",
       "22  32           '비밀 사이' 김준서, 배우 데뷔 성공적…\"많은 사랑 받아 영광\" 소감    \n",
       "23  33            ‘비밀사이’ 김준서 “BL 호흡, 서로 생각 많이 공유” [일문일답]    \n",
       "24  34            BL드라마 ‘비밀사이’ 주연 김준서 “촬영과 위아이 신보 준비 병행”    \n",
       "25  35   '비밀사이' 김준서 \"원작 다온과 비슷해 보이고 싶었다..다이어트도 열심히\" [일...   \n",
       "26  36         위아이 '낫 이너프', \"올해 가장 많이 들은 곡 1위\" 예약 [ST종합]    \n",
       "27  37              청춘 노래하는 위아이… \"가장 많이 들은 1위곡 됐으면\" [종합]    \n",
       "28  38                         [오마이포토] '위아이' 김준서, 사랑과 열정    \n",
       "29  39   카카오엔터 웹툰 ‘비밀 사이’ 드라마, 웹소설, OST 등 성공적 IP 확장···...   \n",
       "\n",
       "                                     link  \n",
       "0   http://v.daum.net/v/20250115143029656  \n",
       "1   http://v.daum.net/v/20250321174211947  \n",
       "2   http://v.daum.net/v/20250321145539525  \n",
       "3   http://v.daum.net/v/20250326082843886  \n",
       "4   http://v.daum.net/v/20250115150334419  \n",
       "5   http://v.daum.net/v/20250326100501932  \n",
       "6   http://v.daum.net/v/20250115151403924  \n",
       "7   http://v.daum.net/v/20250115155604548  \n",
       "8   http://v.daum.net/v/20221019184502634  \n",
       "9   http://v.daum.net/v/20250227220930572  \n",
       "10  http://v.daum.net/v/20250115143029656  \n",
       "11  http://v.daum.net/v/20250321174211947  \n",
       "12  http://v.daum.net/v/20250321145539525  \n",
       "13  http://v.daum.net/v/20250326082843886  \n",
       "14  http://v.daum.net/v/20250115150334419  \n",
       "15  http://v.daum.net/v/20250326100501932  \n",
       "16  http://v.daum.net/v/20250115151403924  \n",
       "17  http://v.daum.net/v/20250115155604548  \n",
       "18  http://v.daum.net/v/20221019184502634  \n",
       "19  http://v.daum.net/v/20250227220930572  \n",
       "20  http://v.daum.net/v/20250115143029656  \n",
       "21  http://v.daum.net/v/20250321174211947  \n",
       "22  http://v.daum.net/v/20250321145539525  \n",
       "23  http://v.daum.net/v/20250326082843886  \n",
       "24  http://v.daum.net/v/20250115150334419  \n",
       "25  http://v.daum.net/v/20250326100501932  \n",
       "26  http://v.daum.net/v/20250115151403924  \n",
       "27  http://v.daum.net/v/20250115155604548  \n",
       "28  http://v.daum.net/v/20221019184502634  \n",
       "29  http://v.daum.net/v/20250227220930572  "
      ]
     },
     "execution_count": 85,
     "metadata": {},
     "output_type": "execute_result"
    }
   ],
   "source": [
    "#원하는 keyword로 다음검색\n",
    "result = []\n",
    "keyword = \"위아이 김준서\"\n",
    "pages = 4\n",
    "for page in range(1,page+1):\n",
    "    result.extend(collect_list(keyword,pages))\n",
    "    time.sleep(4)\n",
    "result_df = pd.DataFrame(result)\n",
    "result_df"
   ]
  },
  {
   "cell_type": "code",
   "execution_count": 91,
   "id": "5d148167",
   "metadata": {},
   "outputs": [
    {
     "name": "stdout",
     "output_type": "stream",
     "text": [
      "~ ~ ~ 0번째 김준서 1 검색 중입니다 ~ ~ ~\n",
      "~ ~ ~ 0번째 김준서 2 검색 중입니다 ~ ~ ~\n",
      "~ ~ ~ 1번째 차정우 1 검색 중입니다 ~ ~ ~\n",
      "~ ~ ~ 1번째 차정우 2 검색 중입니다 ~ ~ ~\n"
     ]
    }
   ],
   "source": [
    "keywords = ['김준서','차정우']\n",
    "pages = 2\n",
    "result0 = [] # 청바지 검색결과 50개\n",
    "result1 = [] # 면바지 검색결과 50개\n",
    "for i, keyword in enumerate(keywords):\n",
    "    for page in range(1, pages+1):\n",
    "        print(f'~ ~ ~ {i}번째 {keyword} {page} 검색 중입니다 ~ ~ ~')\n",
    "        if i==0:\n",
    "            result0.extend(collect_list(keyword, page))\n",
    "        else:\n",
    "            result1.extend(collect_list(keyword, page))\n",
    "        time.sleep(4)\n",
    "\n",
    "\n"
   ]
  },
  {
   "cell_type": "code",
   "execution_count": 92,
   "id": "020b2c4a",
   "metadata": {},
   "outputs": [
    {
     "data": {
      "text/html": [
       "<div>\n",
       "<style scoped>\n",
       "    .dataframe tbody tr th:only-of-type {\n",
       "        vertical-align: middle;\n",
       "    }\n",
       "\n",
       "    .dataframe tbody tr th {\n",
       "        vertical-align: top;\n",
       "    }\n",
       "\n",
       "    .dataframe thead th {\n",
       "        text-align: right;\n",
       "    }\n",
       "</style>\n",
       "<table border=\"1\" class=\"dataframe\">\n",
       "  <thead>\n",
       "    <tr style=\"text-align: right;\">\n",
       "      <th></th>\n",
       "      <th>no</th>\n",
       "      <th>title</th>\n",
       "      <th>link</th>\n",
       "    </tr>\n",
       "  </thead>\n",
       "  <tbody>\n",
       "    <tr>\n",
       "      <th>0</th>\n",
       "      <td>0</td>\n",
       "      <td>[단독] BL 찍더니 '보플2' 출격…'김요한 그룹' 김준서, 7년 차에 세 번째...</td>\n",
       "      <td>http://v.daum.net/v/20250510113503643</td>\n",
       "    </tr>\n",
       "    <tr>\n",
       "      <th>1</th>\n",
       "      <td>1</td>\n",
       "      <td>[i리그] 부산농구의 명문 ‘클린샷’의 미래 김준서 “선배들 닦아놓은 영광 이어가...</td>\n",
       "      <td>http://v.daum.net/v/20250525150524019</td>\n",
       "    </tr>\n",
       "    <tr>\n",
       "      <th>2</th>\n",
       "      <td>2</td>\n",
       "      <td>'이 장르' 출연했다 하면 스타 등극…남윤수·김준서·박재찬이 증명한 커리어 루트</td>\n",
       "      <td>http://v.daum.net/v/20250418100030513</td>\n",
       "    </tr>\n",
       "    <tr>\n",
       "      <th>3</th>\n",
       "      <td>3</td>\n",
       "      <td>김준서 “‘비밀 사이’, 모든 과정이 배움의 연속…많은 사랑 받아 영광”</td>\n",
       "      <td>http://v.daum.net/v/20250321174211947</td>\n",
       "    </tr>\n",
       "    <tr>\n",
       "      <th>4</th>\n",
       "      <td>4</td>\n",
       "      <td>위아이 김준서 \"'비밀 사이'로 배우 데뷔, 값진 경험 선물\" [일문일답]</td>\n",
       "      <td>http://v.daum.net/v/20250326080204254</td>\n",
       "    </tr>\n",
       "  </tbody>\n",
       "</table>\n",
       "</div>"
      ],
      "text/plain": [
       "   no                                              title  \\\n",
       "0   0   [단독] BL 찍더니 '보플2' 출격…'김요한 그룹' 김준서, 7년 차에 세 번째...   \n",
       "1   1   [i리그] 부산농구의 명문 ‘클린샷’의 미래 김준서 “선배들 닦아놓은 영광 이어가...   \n",
       "2   2      '이 장르' 출연했다 하면 스타 등극…남윤수·김준서·박재찬이 증명한 커리어 루트    \n",
       "3   3          김준서 “‘비밀 사이’, 모든 과정이 배움의 연속…많은 사랑 받아 영광”    \n",
       "4   4         위아이 김준서 \"'비밀 사이'로 배우 데뷔, 값진 경험 선물\" [일문일답]    \n",
       "\n",
       "                                    link  \n",
       "0  http://v.daum.net/v/20250510113503643  \n",
       "1  http://v.daum.net/v/20250525150524019  \n",
       "2  http://v.daum.net/v/20250418100030513  \n",
       "3  http://v.daum.net/v/20250321174211947  \n",
       "4  http://v.daum.net/v/20250326080204254  "
      ]
     },
     "execution_count": 92,
     "metadata": {},
     "output_type": "execute_result"
    }
   ],
   "source": [
    "result0_df = pd.DataFrame(result0)\n",
    "result0_df.head()"
   ]
  },
  {
   "cell_type": "code",
   "execution_count": 93,
   "id": "29b3d7a1",
   "metadata": {},
   "outputs": [
    {
     "data": {
      "text/html": [
       "<div>\n",
       "<style scoped>\n",
       "    .dataframe tbody tr th:only-of-type {\n",
       "        vertical-align: middle;\n",
       "    }\n",
       "\n",
       "    .dataframe tbody tr th {\n",
       "        vertical-align: top;\n",
       "    }\n",
       "\n",
       "    .dataframe thead th {\n",
       "        text-align: right;\n",
       "    }\n",
       "</style>\n",
       "<table border=\"1\" class=\"dataframe\">\n",
       "  <thead>\n",
       "    <tr style=\"text-align: right;\">\n",
       "      <th></th>\n",
       "      <th>no</th>\n",
       "      <th>title</th>\n",
       "      <th>link</th>\n",
       "    </tr>\n",
       "  </thead>\n",
       "  <tbody>\n",
       "    <tr>\n",
       "      <th>0</th>\n",
       "      <td>0</td>\n",
       "      <td>차정우 '고민' [26th JIFF]</td>\n",
       "      <td>http://v.daum.net/v/20250503171126569</td>\n",
       "    </tr>\n",
       "    <tr>\n",
       "      <th>1</th>\n",
       "      <td>1</td>\n",
       "      <td>'추영우 동생' 차정우, 생애 첫 화보 맞나…훈훈美 터졌다</td>\n",
       "      <td>http://v.daum.net/v/20250310110518381</td>\n",
       "    </tr>\n",
       "    <tr>\n",
       "      <th>2</th>\n",
       "      <td>2</td>\n",
       "      <td>차정우, 소년미부터 카리스마까지…친형 추영우 똑닮은 얼굴 [화보]</td>\n",
       "      <td>http://v.daum.net/v/20250310133025186</td>\n",
       "    </tr>\n",
       "    <tr>\n",
       "      <th>3</th>\n",
       "      <td>3</td>\n",
       "      <td>박보영이 박보영으로 산다?... '1인 2역'이 시청자 홀리는 법</td>\n",
       "      <td>http://v.daum.net/v/20250527090007461</td>\n",
       "    </tr>\n",
       "    <tr>\n",
       "      <th>4</th>\n",
       "      <td>4</td>\n",
       "      <td>‘화보 천재’ 등장!…차정우, 첫 화보로 시선 강탈, 감성+카리스마 폭발</td>\n",
       "      <td>http://v.daum.net/v/20250309094757733</td>\n",
       "    </tr>\n",
       "    <tr>\n",
       "      <th>5</th>\n",
       "      <td>5</td>\n",
       "      <td>차정우, 처음 찍는 거 맞아? 이 정도면 화보 천재네</td>\n",
       "      <td>http://v.daum.net/v/20250310195214408</td>\n",
       "    </tr>\n",
       "  </tbody>\n",
       "</table>\n",
       "</div>"
      ],
      "text/plain": [
       "   no                                       title  \\\n",
       "0   0                       차정우 '고민' [26th JIFF]    \n",
       "1   1           '추영우 동생' 차정우, 생애 첫 화보 맞나…훈훈美 터졌다    \n",
       "2   2       차정우, 소년미부터 카리스마까지…친형 추영우 똑닮은 얼굴 [화보]    \n",
       "3   3       박보영이 박보영으로 산다?... '1인 2역'이 시청자 홀리는 법    \n",
       "4   4   ‘화보 천재’ 등장!…차정우, 첫 화보로 시선 강탈, 감성+카리스마 폭발    \n",
       "5   5              차정우, 처음 찍는 거 맞아? 이 정도면 화보 천재네    \n",
       "\n",
       "                                    link  \n",
       "0  http://v.daum.net/v/20250503171126569  \n",
       "1  http://v.daum.net/v/20250310110518381  \n",
       "2  http://v.daum.net/v/20250310133025186  \n",
       "3  http://v.daum.net/v/20250527090007461  \n",
       "4  http://v.daum.net/v/20250309094757733  \n",
       "5  http://v.daum.net/v/20250310195214408  "
      ]
     },
     "execution_count": 93,
     "metadata": {},
     "output_type": "execute_result"
    }
   ],
   "source": [
    "result1_df = pd.DataFrame(result1)\n",
    "result1_df.head(6)"
   ]
  },
  {
   "cell_type": "code",
   "execution_count": 94,
   "id": "fc3b648a",
   "metadata": {},
   "outputs": [],
   "source": [
    "result0_df.to_csv('data/ch14_'+keywords[0]+'.csv', index=False, encoding='cp949')\n",
    "result1_df.to_csv('data/ch14_'+keywords[1]+'.csv', index=False)"
   ]
  },
  {
   "cell_type": "code",
   "execution_count": null,
   "id": "bdd54190",
   "metadata": {},
   "outputs": [],
   "source": []
  },
  {
   "cell_type": "markdown",
   "id": "8e17b143",
   "metadata": {},
   "source": [
    "### 4) User-agent 를 추가하여 크롤링\n",
    "-urlopen() 함수를 사용하면 크롤링이 안되는 사이트\n",
    "- User agent 값을 추가하여 크롤링"
   ]
  },
  {
   "cell_type": "code",
   "execution_count": 89,
   "id": "87f3a8c4",
   "metadata": {},
   "outputs": [
    {
     "data": {
      "text/plain": [
       "[{'no': 0,\n",
       "  'title': \" '이병헌♥' 이민정, 매장 통째로 빌려 청바지 쇼핑 \",\n",
       "  'link': 'http://v.daum.net/v/20250528050507783'},\n",
       " {'no': 1,\n",
       "  'title': ' “추앙받을 만 하네”… 김지원, 셔츠에 청바지만 입어도 공항 ‘정지’ ',\n",
       "  'link': 'http://v.daum.net/v/20250526182411395'},\n",
       " {'no': 2,\n",
       "  'title': ' 흰 티셔츠에 청바지 정석대로 입는 법 ',\n",
       "  'link': 'http://v.daum.net/v/20250527185425864'},\n",
       " {'no': 3,\n",
       "  'title': ' 이민정, 매장 빌려 폭풍 쇼핑 \"10년 전 샀던 청바지는 응급실\"(MJ) ',\n",
       "  'link': 'http://v.daum.net/v/20250527191015309'},\n",
       " {'no': 4,\n",
       "  'title': ' ‘이병헌♥’ 이민정, 청바지 사는데 매장 통째로 빌렸다..남다른 쇼핑 클래스 “나는 즉흥적”(이민정 MJ) ',\n",
       "  'link': 'http://v.daum.net/v/20250527192310643'},\n",
       " {'no': 5,\n",
       "  'title': ' 이시영처럼 다리 길어보이고 싶어서 청바지 분석함 [입스타그램] ',\n",
       "  'link': 'http://v.daum.net/v/20250519172231644'},\n",
       " {'no': 6,\n",
       "  'title': ' \\'의사 그만둔\\' 고윤정, 흰 티+청바지...\"정석 미녀\" [★해시태그] ',\n",
       "  'link': 'http://v.daum.net/v/20250522182007490'},\n",
       " {'no': 7,\n",
       "  'title': ' \"청렴이 최고\" … 창원특례시 성산구 문화위생과, \\'청바지 데이\\' 추진 ',\n",
       "  'link': 'http://v.daum.net/v/20250511091428626'},\n",
       " {'no': 8,\n",
       "  'title': ' 패셔니스타 김지원, 청바지가 어울리는 여자랍니다! [포토] ',\n",
       "  'link': 'http://v.daum.net/v/20250518220139191'},\n",
       " {'no': 9,\n",
       "  'title': ' 박병은 \"류준하로 3개월 활동\"…청바지 모델 시절 언급 ',\n",
       "  'link': 'http://v.daum.net/v/20250519190323957'}]"
      ]
     },
     "execution_count": 89,
     "metadata": {},
     "output_type": "execute_result"
    }
   ],
   "source": [
    "from urllib.request import urlopen, Request\n",
    "import urllib.parse\n",
    "word = '비트코인'\n",
    "word = urllib.parse.quote(word)\n",
    "# print(word)\n",
    "url = 'https://search.daum.net/search?w=news&nil_search=btn&DA=NTB&enc=utf8&cluster=y&cluster_page=1&q='+word\n",
    "# User-Agent를 추가하여 브라우저처럼 보이게 포장\n",
    "headers = {'user-agent':\n",
    "         'Mozilla/5.0 (Windows NT 10.0; Win64; x64) AppleWebKit/537.36 (KHTML, like Gecko) Chrome/136.0.0.0 Safari/537.36'}\n",
    "request = Request(url, headers=headers)\n",
    "response = urlopen(request)\n",
    "soup = BeautifulSoup(response, # response.content\n",
    "                    \"html.parser\")\n",
    "def collect_list(keyword, page=1):\n",
    "    'keyword로 다음 검색한 결과(해당 page)를 return'\n",
    "    url = f'https://search.daum.net/search?w=news&nil_search=btn&DA=PGD&enc=utf8&cluster=y'\n",
    "    params = {'q':keyword, 'p':page}\n",
    "    response = requests.get(url, params=params)\n",
    "    soup = BeautifulSoup(response.text,  # response.content\n",
    "                    'html.parser')\n",
    "    items_find_list = [] # 검색한 결과를 담을 dict list\n",
    "    items_el = soup.select('div.item-title > strong.tit-g.clamp-g > a')\n",
    "    for idx, item in enumerate(items_el):\n",
    "        items_find_list.append({'no': (page-1)*10 + idx,\n",
    "                           'title': item.text,\n",
    "                           'link': item.attrs['href']})\n",
    "    return items_find_list\n",
    "collect_list(\"청바지\", 1)"
   ]
  },
  {
   "cell_type": "markdown",
   "id": "c2d6f8db",
   "metadata": {},
   "source": [
    "- 반드시 user-agent를 사용해야 하는 경우 : https://www.melon.com/chart"
   ]
  },
  {
   "cell_type": "code",
   "execution_count": 96,
   "id": "a990a736",
   "metadata": {},
   "outputs": [
    {
     "data": {
      "text/plain": [
       "406"
      ]
     },
     "execution_count": 96,
     "metadata": {},
     "output_type": "execute_result"
    }
   ],
   "source": [
    "#방법 1\n",
    "import requests\n",
    "from bs4 import BeautifulSoup\n",
    "url = \"https://www.melon.com/chart/index.htm\"\n",
    "melonpage=requests.get(url)\n",
    "melonpage.status_code"
   ]
  },
  {
   "cell_type": "code",
   "execution_count": 97,
   "id": "8c9bc03d",
   "metadata": {},
   "outputs": [],
   "source": [
    "#방법2\n",
    "from urllib.request import urlopen\n",
    "#melonpage=urlopen(url) #에러남"
   ]
  },
  {
   "cell_type": "code",
   "execution_count": 99,
   "id": "11ad723a",
   "metadata": {},
   "outputs": [],
   "source": [
    "#User-Agent 추가\n",
    "headers = {'user-agent':\n",
    "          'Mozilla/5.0 (Windows NT 10.0; Win64; x64) AppleWebKit/537.36 (KHTML, like Gecko) Chrome/136.0.0.0 Safari/537.36'}\n",
    "#방법2\n",
    "request=Request(url,headers=headers)\n",
    "melonpage=urlopen(request)\n",
    "#방법1\n",
    "melonpage=requests.get(url,headers=headers)\n",
    "soup = BeautifulSoup(melonpage.text, #melonpage.content\n",
    "                    \"html.parser\")\n",
    "\n",
    "\n"
   ]
  },
  {
   "cell_type": "code",
   "execution_count": 100,
   "id": "a3e8a2f1",
   "metadata": {},
   "outputs": [
    {
     "name": "stdout",
     "output_type": "stream",
     "text": [
      "{'순위': 1, '노래제목': '너에게 닿기를', '가수': '10CM', '앨범명': '너에게 닿기를', '좋아요 수': '총건수0'}\n",
      "{'순위': 2, '노래제목': 'Never Ending Story', '가수': '아이유', '앨범명': '꽃갈피 셋', '좋아요 수': '총건수0'}\n",
      "{'순위': 3, '노래제목': 'Drowning', '가수': 'WOODZ', '앨범명': 'OO-LI', '좋아요 수': '총건수0'}\n",
      "{'순위': 4, '노래제목': 'like JENNIE', '가수': '제니 (JENNIE)', '앨범명': 'Ruby', '좋아요 수': '총건수0'}\n",
      "{'순위': 5, '노래제목': '모르시나요(PROD.로코베리)', '가수': '조째즈', '앨범명': '모르시나요', '좋아요 수': '총건수0'}\n",
      "{'순위': 6, '노래제목': 'THUNDER', '가수': '세븐틴 (SEVENTEEN)', '앨범명': 'SEVENTEEN 5th Album ‘HAPPY BURSTDAY’', '좋아요 수': '총건수0'}\n",
      "{'순위': 7, '노래제목': 'TOO BAD (feat. Anderson .Paak)', '가수': 'G-DRAGON', '앨범명': 'Übermensch', '좋아요 수': '총건수0'}\n",
      "{'순위': 8, '노래제목': '네모의 꿈', '가수': '아이유', '앨범명': '꽃갈피 셋', '좋아요 수': '총건수0'}\n",
      "{'순위': 9, '노래제목': 'Whiplash', '가수': 'aespa', '앨범명': 'Whiplash - The 5th Mini Album', '좋아요 수': '총건수0'}\n",
      "{'순위': 10, '노래제목': 'HOME SWEET HOME (feat. 태양, 대성)', '가수': 'G-DRAGON', '앨범명': 'HOME SWEET HOME (feat. 태양, 대성)', '좋아요 수': '총건수0'}\n",
      "{'순위': 11, '노래제목': '나는 반딧불', '가수': '황가람', '앨범명': '나는 반딧불', '좋아요 수': '총건수0'}\n",
      "{'순위': 12, '노래제목': '어제보다 슬픈 오늘', '가수': '우디 (Woody)', '앨범명': '어제보다 슬픈 오늘', '좋아요 수': '총건수0'}\n",
      "{'순위': 13, '노래제목': '오늘만 I LOVE YOU', '가수': 'BOYNEXTDOOR', '앨범명': '오늘만 I LOVE YOU', '좋아요 수': '총건수0'}\n",
      "{'순위': 14, '노래제목': 'REBEL HEART', '가수': 'IVE (아이브)', '앨범명': 'IVE EMPATHY', '좋아요 수': '총건수0'}\n",
      "{'순위': 15, '노래제목': 'HAPPY', '가수': 'DAY6 (데이식스)', '앨범명': 'Fourever', '좋아요 수': '총건수0'}\n",
      "{'순위': 16, '노래제목': '빨간 운동화', '가수': '아이유', '앨범명': '꽃갈피 셋', '좋아요 수': '총건수0'}\n",
      "{'순위': 17, '노래제목': 'Flower', '가수': '오반(OVAN)', '앨범명': '교회오빠', '좋아요 수': '총건수0'}\n",
      "{'순위': 18, '노래제목': 'APT.', '가수': '로제 (ROSÉ)', '앨범명': 'APT.', '좋아요 수': '총건수0'}\n",
      "{'순위': 19, '노래제목': '청춘만화', '가수': '이무진', '앨범명': '만화 (滿花)', '좋아요 수': '총건수0'}\n",
      "{'순위': 20, '노래제목': 'HOT', '가수': 'LE SSERAFIM (르세라핌)', '앨범명': 'HOT', '좋아요 수': '총건수0'}\n",
      "{'순위': 21, '노래제목': '10월 4일', '가수': '아이유', '앨범명': '꽃갈피 셋', '좋아요 수': '총건수0'}\n",
      "{'순위': 22, '노래제목': '한 페이지가 될 수 있게', '가수': 'DAY6 (데이식스)', '앨범명': 'The Book of Us : Gravity', '좋아요 수': '총건수0'}\n",
      "{'순위': 23, '노래제목': 'Last Scene (Feat. 원슈타인)', '가수': '아이유', '앨범명': '꽃갈피 셋', '좋아요 수': '총건수0'}\n",
      "{'순위': 24, '노래제목': 'HBD', '가수': '세븐틴 (SEVENTEEN)', '앨범명': 'SEVENTEEN 5th Album ‘HAPPY BURSTDAY’', '좋아요 수': '총건수0'}\n",
      "{'순위': 25, '노래제목': 'MY LOVE(2025)', '가수': '이예은', '앨범명': 'MY LOVE(2025)', '좋아요 수': '총건수0'}\n",
      "{'순위': 26, '노래제목': '그날이 오면', '가수': '투모로우바이투게더', '앨범명': '언젠가는 슬기로울 전공의생활 OST Part 9', '좋아요 수': '총건수0'}\n",
      "{'순위': 27, '노래제목': '내게 사랑이 뭐냐고 물어본다면', '가수': '로이킴', '앨범명': '내게 사랑이 뭐냐고 물어본다면', '좋아요 수': '총건수0'}\n",
      "{'순위': 28, '노래제목': 'Fly Up', '가수': 'RIIZE', '앨범명': 'ODYSSEY - The 1st Album', '좋아요 수': '총건수0'}\n",
      "{'순위': 29, '노래제목': 'Welcome to the Show', '가수': 'DAY6 (데이식스)', '앨범명': 'Fourever', '좋아요 수': '총건수0'}\n",
      "{'순위': 30, '노래제목': '소나기', '가수': '이클립스 (ECLIPSE)', '앨범명': '선재 업고 튀어 OST Part 1', '좋아요 수': '총건수0'}\n",
      "{'순위': 31, '노래제목': '천상연', '가수': '이창섭', '앨범명': \"천상연 (웹툰 '선녀외전' X 이창섭 (LEE CHANGSUB))\", '좋아요 수': '총건수0'}\n",
      "{'순위': 32, '노래제목': 'Die With A Smile', '가수': 'Lady Gaga', '앨범명': 'Die With A Smile', '좋아요 수': '총건수0'}\n",
      "{'순위': 33, '노래제목': 'toxic till the end', '가수': '로제 (ROSÉ)', '앨범명': 'rosie', '좋아요 수': '총건수0'}\n",
      "{'순위': 34, '노래제목': 'HANDS UP', '가수': 'MEOVV (미야오)', '앨범명': 'MY EYES OPEN VVIDE', '좋아요 수': '총건수0'}\n",
      "{'순위': 35, '노래제목': 'Supernova', '가수': 'aespa', '앨범명': 'Armageddon - The 1st Album', '좋아요 수': '총건수0'}\n",
      "{'순위': 36, '노래제목': '예뻤어', '가수': 'DAY6 (데이식스)', '앨범명': 'Every DAY6 February', '좋아요 수': '총건수0'}\n",
      "{'순위': 37, '노래제목': 'Skyfall (THE 8 Solo)', '가수': '세븐틴 (SEVENTEEN)', '앨범명': 'SEVENTEEN 5th Album ‘HAPPY BURSTDAY’', '좋아요 수': '총건수0'}\n",
      "{'순위': 38, '노래제목': 'ATTITUDE', '가수': 'IVE (아이브)', '앨범명': 'IVE EMPATHY', '좋아요 수': '총건수0'}\n",
      "{'순위': 39, '노래제목': 'I DO ME', '가수': 'KiiiKiii (키키)', '앨범명': 'UNCUT GEM', '좋아요 수': '총건수0'}\n",
      "{'순위': 40, '노래제목': '미치게 그리워서', '가수': '황가람', '앨범명': '미치게 그리워서', '좋아요 수': '총건수0'}\n",
      "{'순위': 41, '노래제목': '미인 (Feat. Balming Tiger)', '가수': '아이유', '앨범명': '꽃갈피 셋', '좋아요 수': '총건수0'}\n",
      "{'순위': 42, '노래제목': '어떻게 이별까지 사랑하겠어, 널 사랑하는 거지', '가수': 'AKMU (악뮤)', '앨범명': '항해', '좋아요 수': '총건수0'}\n",
      "{'순위': 43, '노래제목': 'DRIP', '가수': 'BABYMONSTER', '앨범명': 'DRIP', '좋아요 수': '총건수0'}\n",
      "{'순위': 44, '노래제목': 'Love wins all', '가수': '아이유', '앨범명': 'The Winning', '좋아요 수': '총건수0'}\n",
      "{'순위': 45, '노래제목': 'PO￦ER', '가수': 'G-DRAGON', '앨범명': 'PO￦ER', '좋아요 수': '총건수0'}\n",
      "{'순위': 46, '노래제목': '청혼하지 않을 이유를 못 찾았어', '가수': '이무진', '앨범명': '청혼하지 않을 이유를 못 찾았어', '좋아요 수': '총건수0'}\n",
      "{'순위': 47, '노래제목': '그대만 있다면 (여름날 우리 X 너드커넥션 (Nerd Connection))', '가수': '너드커넥션 (Nerd Connection)', '앨범명': '그대만 있다면 (여름날 우리 X 너드커넥션 (Nerd Connection))', '좋아요 수': '총건수0'}\n",
      "{'순위': 48, '노래제목': '사랑은 늘 도망가', '가수': '임영웅', '앨범명': '신사와 아가씨 OST Part.2', '좋아요 수': '총건수0'}\n",
      "{'순위': 49, '노래제목': 'Bad Influence (Prod. by Pharrell Williams)', '가수': '세븐틴 (SEVENTEEN)', '앨범명': 'SEVENTEEN 5th Album ‘HAPPY BURSTDAY’', '좋아요 수': '총건수0'}\n",
      "{'순위': 50, '노래제목': '내 이름 맑음', '가수': 'QWER', '앨범명': \"2nd Mini Album 'Algorithm's Blossom'\", '좋아요 수': '총건수0'}\n",
      "{'순위': 51, '노래제목': '99.9% (WONWOO Solo)', '가수': '세븐틴 (SEVENTEEN)', '앨범명': 'SEVENTEEN 5th Album ‘HAPPY BURSTDAY’', '좋아요 수': '총건수0'}\n",
      "{'순위': 52, '노래제목': '슬픈 초대장', '가수': '순순희(지환)', '앨범명': '슬픈 초대장', '좋아요 수': '총건수0'}\n",
      "{'순위': 53, '노래제목': '첫 만남은 계획대로 되지 않아', '가수': 'TWS (투어스)', '앨범명': 'TWS 1st Mini Album ‘Sparkling Blue’', '좋아요 수': '총건수0'}\n",
      "{'순위': 54, '노래제목': 'Fortunate Change (JOSHUA Solo)', '가수': '세븐틴 (SEVENTEEN)', '앨범명': 'SEVENTEEN 5th Album ‘HAPPY BURSTDAY’', '좋아요 수': '총건수0'}\n",
      "{'순위': 55, '노래제목': 'Raindrops (SEUNGKWAN Solo)', '가수': '세븐틴 (SEVENTEEN)', '앨범명': 'SEVENTEEN 5th Album ‘HAPPY BURSTDAY’', '좋아요 수': '총건수0'}\n",
      "{'순위': 56, '노래제목': 'UP (KARINA Solo)', '가수': 'aespa', '앨범명': 'SYNK : PARALLEL LINE - Special Digital Single', '좋아요 수': '총건수0'}\n",
      "{'순위': 57, '노래제목': '고민중독', '가수': 'QWER', '앨범명': \"1st Mini Album 'MANITO'\", '좋아요 수': '총건수0'}\n",
      "{'순위': 58, '노래제목': '나는 아픈 건 딱 질색이니까', '가수': 'i-dle (아이들)', '앨범명': '2', '좋아요 수': '총건수0'}\n",
      "{'순위': 59, '노래제목': '주저하는 연인들을 위해', '가수': '잔나비', '앨범명': '전설', '좋아요 수': '총건수0'}\n",
      "{'순위': 60, '노래제목': 'TAKE ME', '가수': 'G-DRAGON', '앨범명': 'Übermensch', '좋아요 수': '총건수0'}\n",
      "{'순위': 61, '노래제목': '너의 모든 순간', '가수': '성시경', '앨범명': '별에서 온 그대 OST Part.7', '좋아요 수': '총건수0'}\n",
      "{'순위': 62, '노래제목': '운명 (WOOZI Solo)', '가수': '세븐틴 (SEVENTEEN)', '앨범명': 'SEVENTEEN 5th Album ‘HAPPY BURSTDAY’', '좋아요 수': '총건수0'}\n",
      "{'순위': 63, '노래제목': 'Damage (HOSHI Solo) (feat. Timbaland)', '가수': '세븐틴 (SEVENTEEN)', '앨범명': 'SEVENTEEN 5th Album ‘HAPPY BURSTDAY’', '좋아요 수': '총건수0'}\n",
      "{'순위': 64, '노래제목': 'Happy Virus (DK Solo)', '가수': '세븐틴 (SEVENTEEN)', '앨범명': 'SEVENTEEN 5th Album ‘HAPPY BURSTDAY’', '좋아요 수': '총건수0'}\n",
      "{'순위': 65, '노래제목': 'Magnetic', '가수': '아일릿(ILLIT)', '앨범명': 'SUPER REAL ME', '좋아요 수': '총건수0'}\n",
      "{'순위': 66, '노래제목': 'How Sweet', '가수': 'NewJeans', '앨범명': 'How Sweet', '좋아요 수': '총건수0'}\n",
      "{'순위': 67, '노래제목': '사랑인가 봐', '가수': '멜로망스', '앨범명': '사랑인가 봐 (사내맞선 OST 스페셜 트랙)', '좋아요 수': '총건수0'}\n",
      "{'순위': 68, '노래제목': 'I Feel Good', '가수': 'BOYNEXTDOOR', '앨범명': 'No Genre', '좋아요 수': '총건수0'}\n",
      "{'순위': 69, '노래제목': '에피소드', '가수': '이무진', '앨범명': '에피소드', '좋아요 수': '총건수0'}\n",
      "{'순위': 70, '노래제목': '비의 랩소디', '가수': '임재현', '앨범명': '비의 랩소디', '좋아요 수': '총건수0'}\n",
      "{'순위': 71, '노래제목': 'Shake It Off (MINGYU Solo)', '가수': '세븐틴 (SEVENTEEN)', '앨범명': 'SEVENTEEN 5th Album ‘HAPPY BURSTDAY’', '좋아요 수': '총건수0'}\n",
      "{'순위': 72, '노래제목': '우연 (JEONGHAN Solo)', '가수': '세븐틴 (SEVENTEEN)', '앨범명': 'SEVENTEEN 5th Album ‘HAPPY BURSTDAY’', '좋아요 수': '총건수0'}\n",
      "{'순위': 73, '노래제목': 'Bag Bad Back', '가수': 'RIIZE', '앨범명': 'ODYSSEY - The 1st Album', '좋아요 수': '총건수0'}\n",
      "{'순위': 74, '노래제목': '123-78', '가수': 'BOYNEXTDOOR', '앨범명': 'No Genre', '좋아요 수': '총건수0'}\n",
      "{'순위': 75, '노래제목': '모든 날, 모든 순간 (Every day, Every Moment)', '가수': '폴킴', '앨범명': \"'키스 먼저 할까요?' OST Part.3\", '좋아요 수': '총건수0'}\n",
      "{'순위': 76, '노래제목': 'The Chase', '가수': 'Hearts2Hearts (하츠투하츠)', '앨범명': 'The Chase', '좋아요 수': '총건수0'}\n",
      "{'순위': 77, '노래제목': '시작의 아이', '가수': '마크툽 (MAKTUB)', '앨범명': '시작의 아이 ハジマリのコ (Starting With You)', '좋아요 수': '총건수0'}\n",
      "{'순위': 78, '노래제목': 'Supersonic', '가수': '프로미스나인', '앨범명': 'Supersonic', '좋아요 수': '총건수0'}\n",
      "{'순위': 79, '노래제목': 'Jungle (S.COUPS Solo)', '가수': '세븐틴 (SEVENTEEN)', '앨범명': 'SEVENTEEN 5th Album ‘HAPPY BURSTDAY’', '좋아요 수': '총건수0'}\n",
      "{'순위': 80, '노래제목': '쌍둥이자리 (Gemini) (JUN Solo)', '가수': '세븐틴 (SEVENTEEN)', '앨범명': 'SEVENTEEN 5th Album ‘HAPPY BURSTDAY’', '좋아요 수': '총건수0'}\n",
      "{'순위': 81, '노래제목': 'I AM', '가수': 'IVE (아이브)', '앨범명': \"I've IVE\", '좋아요 수': '총건수0'}\n",
      "{'순위': 82, '노래제목': 'Shining Star (Vernon Solo)', '가수': '세븐틴 (SEVENTEEN)', '앨범명': 'SEVENTEEN 5th Album ‘HAPPY BURSTDAY’', '좋아요 수': '총건수0'}\n",
      "{'순위': 83, '노래제목': 'Hype Boy', '가수': 'NewJeans', '앨범명': \"NewJeans 1st EP 'New Jeans'\", '좋아요 수': '총건수0'}\n",
      "{'순위': 84, '노래제목': '다정히 내 이름을 부르면', '가수': '경서예지', '앨범명': '다정히 내 이름을 부르면 (경서예지 x 전건호)', '좋아요 수': '총건수0'}\n",
      "{'순위': 85, '노래제목': 'Seven (feat. Latto) - Clean Ver.', '가수': '정국', '앨범명': 'Seven (feat. Latto) - Clean Ver.', '좋아요 수': '총건수0'}\n",
      "{'순위': 86, '노래제목': '헤어지자 말해요', '가수': '박재정', '앨범명': '1집 Alone', '좋아요 수': '총건수0'}\n",
      "{'순위': 87, '노래제목': 'Trigger (DINO Solo)', '가수': '세븐틴 (SEVENTEEN)', '앨범명': 'SEVENTEEN 5th Album ‘HAPPY BURSTDAY’', '좋아요 수': '총건수0'}\n",
      "{'순위': 88, '노래제목': '영원해', '가수': '도경수(D.O.)', '앨범명': '언젠가는 슬기로울 전공의생활 OST Part 6', '좋아요 수': '총건수0'}\n",
      "{'순위': 89, '노래제목': '이렇게 좋아해 본 적이 없어요', '가수': 'BOYNEXTDOOR', '앨범명': '이렇게 좋아해 본 적이 없어요 (소녀의 세계 X BOYNEXTDOOR)', '좋아요 수': '총건수0'}\n",
      "{'순위': 90, '노래제목': '우리들의 블루스', '가수': '임영웅', '앨범명': 'IM HERO', '좋아요 수': '총건수0'}\n",
      "{'순위': 91, '노래제목': '봄날', '가수': '방탄소년단', '앨범명': 'YOU NEVER WALK ALONE', '좋아요 수': '총건수0'}\n",
      "{'순위': 92, '노래제목': '무제(無題) (Untitled, 2014)', '가수': 'G-DRAGON', '앨범명': '권지용', '좋아요 수': '총건수0'}\n",
      "{'순위': 93, '노래제목': '천국보다 아름다운', '가수': '임영웅', '앨범명': '천국보다 아름다운', '좋아요 수': '총건수0'}\n",
      "{'순위': 94, '노래제목': '인사', '가수': '범진', '앨범명': '인사', '좋아요 수': '총건수0'}\n",
      "{'순위': 95, '노래제목': '굿데이 2025 (텔레파시 + 달빛 창가에서)', '가수': 'G-DRAGON', '앨범명': '굿데이 2025 (텔레파시 + 달빛 창가에서)', '좋아요 수': '총건수0'}\n",
      "{'순위': 96, '노래제목': 'Sticky', '가수': 'KISS OF LIFE', '앨범명': 'Sticky', '좋아요 수': '총건수0'}\n",
      "{'순위': 97, '노래제목': 'Small girl (feat. 도경수(D.O.))', '가수': '이영지', '앨범명': '16 Fantasy', '좋아요 수': '총건수0'}\n",
      "{'순위': 98, '노래제목': 'Dash', '가수': 'PLAVE', '앨범명': 'Caligo Pt.1', '좋아요 수': '총건수0'}\n",
      "{'순위': 99, '노래제목': '사막에서 꽃을 피우듯', '가수': '우디 (Woody)', '앨범명': '사막에서 꽃을 피우듯', '좋아요 수': '총건수0'}\n",
      "{'순위': 100, '노래제목': '다시 만날 수 있을까', '가수': '임영웅', '앨범명': 'IM HERO', '좋아요 수': '총건수0'}\n"
     ]
    }
   ],
   "source": [
    "import requests\n",
    "from bs4 import BeautifulSoup\n",
    "\n",
    "headers = {\n",
    "    \"User-Agent\": (\n",
    "        \"Mozilla/5.0 (Windows NT 10.0; Win64; x64) \"\n",
    "        \"AppleWebKit/537.36 (KHTML, like Gecko) \"\n",
    "        \"Chrome/124.0.0.0 Safari/537.36\"\n",
    "    )\n",
    "}\n",
    "\n",
    "url = \"https://www.melon.com/chart/index.htm\"\n",
    "response = requests.get(url, headers=headers)\n",
    "response.raise_for_status()\n",
    "\n",
    "soup = BeautifulSoup(response.text, 'html.parser')\n",
    "songs = soup.select('tr[data-song-no]')\n",
    "\n",
    "for idx, song in enumerate(songs, 1):\n",
    "    title = song.select_one('div.ellipsis.rank01 a')\n",
    "    artist = song.select_one('div.ellipsis.rank02 a')\n",
    "    album = song.select_one('div.ellipsis.rank03 a')\n",
    "    like = song.select_one('button.button_etc.like span.cnt')\n",
    "    print({\n",
    "        '순위': idx,\n",
    "        '노래제목': title.get_text(strip=True) if title else '',\n",
    "        '가수': artist.get_text(strip=True) if artist else '',\n",
    "        '앨범명': album.get_text(strip=True) if album else '',\n",
    "        '좋아요 수': like.get_text(strip=True) if like else '',\n",
    "    })\n"
   ]
  },
  {
   "cell_type": "code",
   "execution_count": 101,
   "id": "de197a8a",
   "metadata": {},
   "outputs": [
    {
     "name": "stdout",
     "output_type": "stream",
     "text": [
      "1위 | 너에게 닿기를 - 10CM\n",
      "2위 | Never Ending Story - 아이유\n",
      "3위 | Drowning - WOODZ\n",
      "4위 | like JENNIE - 제니 (JENNIE)\n",
      "5위 | 모르시나요(PROD.로코베리) - 조째즈\n",
      "6위 | THUNDER - 세븐틴 (SEVENTEEN)\n",
      "7위 | TOO BAD (feat. Anderson .Paak) - G-DRAGON\n",
      "8위 | 네모의 꿈 - 아이유\n",
      "9위 | Whiplash - aespa\n",
      "10위 | HOME SWEET HOME (feat. 태양, 대성) - G-DRAGON\n",
      "11위 | 나는 반딧불 - 황가람\n",
      "12위 | 어제보다 슬픈 오늘 - 우디 (Woody)\n",
      "13위 | 오늘만 I LOVE YOU - BOYNEXTDOOR\n",
      "14위 | REBEL HEART - IVE (아이브)\n",
      "15위 | HAPPY - DAY6 (데이식스)\n",
      "16위 | 빨간 운동화 - 아이유\n",
      "17위 | Flower - 오반(OVAN)\n",
      "18위 | APT. - 로제 (ROSÉ), Bruno Mars\n",
      "19위 | 청춘만화 - 이무진\n",
      "20위 | HOT - LE SSERAFIM (르세라핌)\n",
      "21위 | 10월 4일 - 아이유\n",
      "22위 | 한 페이지가 될 수 있게 - DAY6 (데이식스)\n",
      "23위 | Last Scene (Feat. 원슈타인) - 아이유\n",
      "24위 | HBD - 세븐틴 (SEVENTEEN)\n",
      "25위 | MY LOVE(2025) - 이예은, 아샤트리, 전건호\n",
      "26위 | 그날이 오면 - 투모로우바이투게더\n",
      "27위 | 내게 사랑이 뭐냐고 물어본다면 - 로이킴\n",
      "28위 | Fly Up - RIIZE\n",
      "29위 | Welcome to the Show - DAY6 (데이식스)\n",
      "30위 | 소나기 - 이클립스 (ECLIPSE)\n",
      "31위 | 천상연 - 이창섭\n",
      "32위 | Die With A Smile - Lady Gaga, Bruno Mars\n",
      "33위 | toxic till the end - 로제 (ROSÉ)\n",
      "34위 | HANDS UP - MEOVV (미야오)\n",
      "35위 | Supernova - aespa\n",
      "36위 | 예뻤어 - DAY6 (데이식스)\n",
      "37위 | Skyfall (THE 8 Solo) - 세븐틴 (SEVENTEEN)\n",
      "38위 | ATTITUDE - IVE (아이브)\n",
      "39위 | I DO ME - KiiiKiii (키키)\n",
      "40위 | 미치게 그리워서 - 황가람\n",
      "41위 | 미인 (Feat. Balming Tiger) - 아이유\n",
      "42위 | 어떻게 이별까지 사랑하겠어, 널 사랑하는 거지 - AKMU (악뮤)\n",
      "43위 | DRIP - BABYMONSTER\n",
      "44위 | Love wins all - 아이유\n",
      "45위 | PO￦ER - G-DRAGON\n",
      "46위 | 청혼하지 않을 이유를 못 찾았어 - 이무진\n",
      "47위 | 그대만 있다면 (여름날 우리 X 너드커넥션 (Nerd Connection)) - 너드커넥션 (Nerd Connection)\n",
      "48위 | 사랑은 늘 도망가 - 임영웅\n",
      "49위 | Bad Influence (Prod. by Pharrell Williams) - 세븐틴 (SEVENTEEN)\n",
      "50위 | 내 이름 맑음 - QWER\n",
      "51위 | 99.9% (WONWOO Solo) - 세븐틴 (SEVENTEEN)\n",
      "52위 | 슬픈 초대장 - 순순희(지환)\n",
      "53위 | 첫 만남은 계획대로 되지 않아 - TWS (투어스)\n",
      "54위 | Fortunate Change (JOSHUA Solo) - 세븐틴 (SEVENTEEN)\n",
      "55위 | Raindrops (SEUNGKWAN Solo) - 세븐틴 (SEVENTEEN)\n",
      "56위 | UP (KARINA Solo) - aespa\n",
      "57위 | 고민중독 - QWER\n",
      "58위 | 나는 아픈 건 딱 질색이니까 - i-dle (아이들)\n",
      "59위 | 주저하는 연인들을 위해 - 잔나비\n",
      "60위 | TAKE ME - G-DRAGON\n",
      "61위 | 너의 모든 순간 - 성시경\n",
      "62위 | 운명 (WOOZI Solo) - 세븐틴 (SEVENTEEN)\n",
      "63위 | Damage (HOSHI Solo) (feat. Timbaland) - 세븐틴 (SEVENTEEN)\n",
      "64위 | Happy Virus (DK Solo) - 세븐틴 (SEVENTEEN)\n",
      "65위 | Magnetic - 아일릿(ILLIT)\n",
      "66위 | How Sweet - NewJeans\n",
      "67위 | 사랑인가 봐 - 멜로망스\n",
      "68위 | I Feel Good - BOYNEXTDOOR\n",
      "69위 | 에피소드 - 이무진\n",
      "70위 | 비의 랩소디 - 임재현\n",
      "71위 | Shake It Off (MINGYU Solo) - 세븐틴 (SEVENTEEN)\n",
      "72위 | 우연 (JEONGHAN Solo) - 세븐틴 (SEVENTEEN)\n",
      "73위 | Bag Bad Back - RIIZE\n",
      "74위 | 123-78 - BOYNEXTDOOR\n",
      "75위 | 모든 날, 모든 순간 (Every day, Every Moment) - 폴킴\n",
      "76위 | The Chase - Hearts2Hearts (하츠투하츠)\n",
      "77위 | 시작의 아이 - 마크툽 (MAKTUB)\n",
      "78위 | Supersonic - 프로미스나인\n",
      "79위 | Jungle (S.COUPS Solo) - 세븐틴 (SEVENTEEN)\n",
      "80위 | 쌍둥이자리 (Gemini) (JUN Solo) - 세븐틴 (SEVENTEEN)\n",
      "81위 | I AM - IVE (아이브)\n",
      "82위 | Shining Star (Vernon Solo) - 세븐틴 (SEVENTEEN)\n",
      "83위 | Hype Boy - NewJeans\n",
      "84위 | 다정히 내 이름을 부르면 - 경서예지, 전건호\n",
      "85위 | Seven (feat. Latto) - Clean Ver. - 정국\n",
      "86위 | 헤어지자 말해요 - 박재정\n",
      "87위 | Trigger (DINO Solo) - 세븐틴 (SEVENTEEN)\n",
      "88위 | 영원해 - 도경수(D.O.)\n",
      "89위 | 이렇게 좋아해 본 적이 없어요 - BOYNEXTDOOR\n",
      "90위 | 우리들의 블루스 - 임영웅\n",
      "91위 | 봄날 - 방탄소년단\n",
      "92위 | 무제(無題) (Untitled, 2014) - G-DRAGON\n",
      "93위 | 천국보다 아름다운 - 임영웅\n",
      "94위 | 인사 - 범진\n",
      "95위 | 굿데이 2025 (텔레파시 + 달빛 창가에서) - G-DRAGON, 황정민, 데프콘, 홍진경, 정형돈, 조세호, 기안84, 안성재, 태양, 정해인, 황광희, 임시완, 이수혁, 대성, 코드 쿤스트 (CODE KUNST), CL, 김고은, DAY6 (데이식스), 부석순 (SEVENTEEN), aespa\n",
      "96위 | Sticky - KISS OF LIFE\n",
      "97위 | Small girl (feat. 도경수(D.O.)) - 이영지\n",
      "98위 | Dash - PLAVE\n",
      "99위 | 사막에서 꽃을 피우듯 - 우디 (Woody)\n",
      "100위 | 다시 만날 수 있을까 - 임영웅\n"
     ]
    }
   ],
   "source": [
    "# 멜론 순위, 노래제목, 가수, 좋아요갯수\n",
    "# 1위 | 너에게 닿기를 | 10cm (100위까지 크롤링)\n",
    "title_els = soup.select('div.ellipsis.rank01 > span')\n",
    "singer_els = soup.select('div.ellipsis.rank02 > span.checkEllipsis')\n",
    "len([title.text.strip() for title in title_els]), \\\n",
    "len([singer.text for singer in singer_els])\n",
    "for idx, (title, singer) in enumerate(zip(title_els, singer_els)):\n",
    "    print('{}위 | {} - {}'.format(idx+1,\n",
    "                                 title.text.strip(),\n",
    "                                 singer.text))"
   ]
  },
  {
   "cell_type": "code",
   "execution_count": null,
   "id": "a92025c4",
   "metadata": {},
   "outputs": [],
   "source": []
  }
 ],
 "metadata": {
  "kernelspec": {
   "display_name": "Python 3 (ipykernel)",
   "language": "python",
   "name": "python3"
  },
  "language_info": {
   "codemirror_mode": {
    "name": "ipython",
    "version": 3
   },
   "file_extension": ".py",
   "mimetype": "text/x-python",
   "name": "python",
   "nbconvert_exporter": "python",
   "pygments_lexer": "ipython3",
   "version": "3.10.9"
  },
  "toc": {
   "base_numbering": 1,
   "nav_menu": {},
   "number_sections": false,
   "sideBar": true,
   "skip_h1_title": false,
   "title_cell": "Table of Contents",
   "title_sidebar": "Contents",
   "toc_cell": false,
   "toc_position": {
    "height": "calc(100% - 180px)",
    "left": "10px",
    "top": "150px",
    "width": "165px"
   },
   "toc_section_display": true,
   "toc_window_display": true
  }
 },
 "nbformat": 4,
 "nbformat_minor": 5
}
