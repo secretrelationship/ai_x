{
 "cells": [
  {
   "cell_type": "code",
   "execution_count": 1,
   "id": "b095daf7",
   "metadata": {},
   "outputs": [
    {
     "data": {
      "text/html": [
       "\n",
       "<style>\n",
       "div.container{width:86% !important;}\n",
       "div.cell.code_cell.rendered{width:100%;}\n",
       "div.CodeMirror {font-family:Consolas; font-size:15pt;}\n",
       "div.output {font-size:15pt; font-weight:bold;}\n",
       "div.input {font-family:Consolas; font-size:15pt;}\n",
       "div.prompt {min-width:70px;}\n",
       "div#toc-wrapper{padding-top:120px;}\n",
       "div.text_cell_render ul li{font-size:12pt;padding:5px;}\n",
       "table.dataframe{font-size:15px;}\n",
       "</style>\n"
      ],
      "text/plain": [
       "<IPython.core.display.HTML object>"
      ]
     },
     "metadata": {},
     "output_type": "display_data"
    }
   ],
   "source": [
    "from IPython.display import display, HTML\n",
    "display(HTML(\"\"\"\n",
    "<style>\n",
    "div.container{width:86% !important;}\n",
    "div.cell.code_cell.rendered{width:100%;}\n",
    "div.CodeMirror {font-family:Consolas; font-size:15pt;}\n",
    "div.output {font-size:15pt; font-weight:bold;}\n",
    "div.input {font-family:Consolas; font-size:15pt;}\n",
    "div.prompt {min-width:70px;}\n",
    "div#toc-wrapper{padding-top:120px;}\n",
    "div.text_cell_render ul li{font-size:12pt;padding:5px;}\n",
    "table.dataframe{font-size:15px;}\n",
    "</style>\n",
    "\"\"\"))"
   ]
  },
  {
   "cell_type": "markdown",
   "id": "1795f282",
   "metadata": {},
   "source": [
    "<b><font sixe=\"8\" color=\"red\">ch08_예외처리</font></b>"
   ]
  },
  {
   "cell_type": "markdown",
   "id": "b91f4f01",
   "metadata": {},
   "source": [
    "# 1절 . 예외처리\n",
    "- 예외가 날 가능성이 있는 부분에 대해 미리 예상하고 그에 대한 처리를 프로그래밍 하는것(이유: 좀 더 안정적으로 실행)\n",
    "```\n",
    "ex) 파일을 다를 때: 파일이 없거나 쓰기 금지로 인한 오류\n",
    "    데이터베이스 프로그래밍시 제약조건등으로(create, read, update, delete) 오류\n",
    "    "
   ]
  },
  {
   "cell_type": "code",
   "execution_count": 2,
   "id": "d6a86207",
   "metadata": {},
   "outputs": [
    {
     "name": "stdout",
     "output_type": "stream",
     "text": [
      "파일명은(ch08.txt)?cho8.txt\n"
     ]
    },
    {
     "data": {
      "text/plain": [
       "'Hello'"
      ]
     },
     "execution_count": 2,
     "metadata": {},
     "output_type": "execute_result"
    }
   ],
   "source": [
    "filename = input('파일명은(ch08.txt)?')\n",
    "f= open('data/'+filename, 'r') #읽기전용으로 파일을 열기 \n",
    "f.read()\n"
   ]
  },
  {
   "cell_type": "code",
   "execution_count": 3,
   "id": "b25d1384",
   "metadata": {},
   "outputs": [],
   "source": [
    "f.close()"
   ]
  },
  {
   "cell_type": "markdown",
   "id": "221968ab",
   "metadata": {},
   "source": [
    "# 2절 try~except 로 예외처리\n",
    "## 2.1 try~except\n",
    "```\n",
    "try: 예외가 발생할 가능성이 있는 명령어들\n",
    "except: 예외가 발생했을경우 실행할 명령어들 \n",
    "ex. 네트워크 프로그래밍 시 일시적인 네트워크 장애시 연결 실패 오류\n",
    "ex. 리스트나 튜플의 인덱스를 벗어난 오류\n",
    "```\n"
   ]
  },
  {
   "cell_type": "code",
   "execution_count": 8,
   "id": "6a8daa4e",
   "metadata": {},
   "outputs": [
    {
     "name": "stdout",
     "output_type": "stream",
     "text": [
      "정수를 입력하세요:5\n",
      "100을 입력한 정수로 나누면 20.000\n"
     ]
    }
   ],
   "source": [
    "# 100을 입력받은 정수값으로 나눠 출력\n",
    "# ZeroDivisionerror: division by zere\n",
    "# ValueError: invalid literal for int() with base 10: 'a'\n",
    "x= int(input('정수를 입력하세요:'))\n",
    "print('100을 입력한 정수로 나누면 {:.3f}'.format(100/x))"
   ]
  },
  {
   "cell_type": "code",
   "execution_count": 12,
   "id": "cdb76026",
   "metadata": {},
   "outputs": [
    {
     "name": "stdout",
     "output_type": "stream",
     "text": [
      "정수를 입력하세요:2\n",
      "x값 입력받음 2\n",
      "100을 입력한 정수로 나누면 50.000\n",
      "예외가 발생 안됨.\n"
     ]
    }
   ],
   "source": [
    "try:\n",
    "    x= int(input('정수를 입력하세요:'))\n",
    "    print('x값 입력받음', x)\n",
    "    print('100을 입력한 정수로 나누면 {:.3f}'.format(100/x))\n",
    "    print('예외가 발생 안됨.')\n",
    "except:\n",
    "    print('정수가 아닙니다.')"
   ]
  },
  {
   "cell_type": "code",
   "execution_count": 13,
   "id": "63c4d7dc",
   "metadata": {},
   "outputs": [],
   "source": [
    "#100을 나눌 유효한 정수를 입력할 때까지 입력받아 \n",
    "#유효한 정수를 입력하면 100을 입력한 수로 나눈 결과를 출력 \n",
    "#나눈 결과가 .0으로 끝나면 정수를 결과를 출력/ .0으로 끝나지 않으면 소수점 2자리 까지 출력 "
   ]
  },
  {
   "cell_type": "code",
   "execution_count": 18,
   "id": "4129721b",
   "metadata": {},
   "outputs": [
    {
     "name": "stdout",
     "output_type": "stream",
     "text": [
      "정수를 입력하세요4\n",
      "25\n",
      "유효한 정수를 입력하세요.\n"
     ]
    }
   ],
   "source": [
    "try:\n",
    "    while True:\n",
    "        a=int(input('정수를 입력하세요'))\n",
    "        result = 100/a\n",
    "        result = f\"{100/a:.0f}\" if round(result)==result else f\"{100/a:2f}\"\n",
    "        print(result)\n",
    "except:\n",
    "        print(\"유효한 정수를 입력하세요.\")\n",
    "    "
   ]
  },
  {
   "cell_type": "code",
   "execution_count": 1,
   "id": "df2d204e",
   "metadata": {},
   "outputs": [
    {
     "name": "stdout",
     "output_type": "stream",
     "text": [
      "정수를 입력하세요0\n",
      "유효한 정수를 입력하세요.\n",
      "정수를 입력하세요3\n",
      "33.333333\n"
     ]
    }
   ],
   "source": [
    "while True:\n",
    "    try:\n",
    "        a=int(input('정수를 입력하세요'))\n",
    "        result = 100/a\n",
    "        result = f\"{100/a:.0f}\" if round(result)==result else f\"{100/a:2f}\"\n",
    "        print(result)\n",
    "        break\n",
    "    \n",
    "    except:\n",
    "        print(\"유효한 정수를 입력하세요.\")"
   ]
  },
  {
   "cell_type": "markdown",
   "id": "304720a4",
   "metadata": {},
   "source": [
    "## 2.2 예외를 지정한 처리\n",
    "```\n",
    "try:\n",
    "    예외가 발생할 수도 있는 문장들\n",
    "except 예외타입1:\n",
    "    해당 예외가 발생할 경우 실행할 문장\n",
    "except 예외타입2:\n",
    "    해당 예외가 발생할 경우 실행할 문장\n",
    "```"
   ]
  },
  {
   "cell_type": "code",
   "execution_count": 4,
   "id": "6ae572d0",
   "metadata": {},
   "outputs": [
    {
     "name": "stdout",
     "output_type": "stream",
     "text": [
      "정수를 입력하세요 :0\n",
      "division by zero\n",
      "<class 'ZeroDivisionError'>\n",
      "예외메세지: ('division by zero',)\n",
      "예외메세지: division by zero\n",
      "정수를 입력하세요 :gg\n",
      "invalid literal for int() with base 10: 'gg'\n",
      "<class 'ValueError'>\n",
      "예외메세지: (\"invalid literal for int() with base 10: 'gg'\",)\n",
      "예외메세지: invalid literal for int() with base 10: 'gg'\n",
      "정수를 입력하세요 :2\n",
      "50\n"
     ]
    }
   ],
   "source": [
    "while True:\n",
    "    try:\n",
    "        x = int(input('정수를 입력하세요 :'))\n",
    "        result = 100/x\n",
    "        result = f\"{100/x:.0f}\" if round(result)==result else f\"{100/x:.2f}\"\n",
    "        print(result)\n",
    "        break\n",
    " \n",
    "    except (ZeroDivisionError,ValueError) as e:\n",
    "        print(e) #e.__str__():예외메세지 \n",
    "        print(type(e))\n",
    "        print('예외메세지:',e.args)\n",
    "        print('예외메세지:',e.args[0])\n",
    "    except Exception:\n",
    "        print('다시 시도하세요')\n",
    "        #except절이 많은 경우 하위 클래스(자식클래스)가 위에 나와야함 \n",
    "# ZeroDivisionError: division by zero\n",
    "# ValueError : invalid literal for int() with base 10: 'a'"
   ]
  },
  {
   "cell_type": "markdown",
   "id": "38f6e119",
   "metadata": {},
   "source": [
    "## 2.3 예외메세지(예외인수)"
   ]
  },
  {
   "cell_type": "code",
   "execution_count": null,
   "id": "23fa3bcd",
   "metadata": {},
   "outputs": [],
   "source": [
    "while True:\n",
    "    try:\n",
    "        x = int(input('정수를 입력하세요 :'))\n",
    "        result = 100/x\n",
    "        result = f\"{100/x:.0f}\" if round(result)==result else f\"{100/x:.2f}\"\n",
    "        print(result)\n",
    "        break\n",
    "    except ValueError:\n",
    "        print('정수를 입력하세요')\n",
    "    except ZeroDivisionError:\n",
    "        print('0으로 나눌 수 없어요')\n",
    "    except Exception:\n",
    "        print('다시 시도하세요')\n",
    "# ZeroDivisionError: division by zero\n",
    "# ValueError : invalid literal for int() with base 10: 'a'"
   ]
  },
  {
   "cell_type": "markdown",
   "id": "600e005a",
   "metadata": {},
   "source": [
    "```\n",
    "pdf(p.12)\n",
    "\n",
    "try:\n",
    "    예외가 발생할 수도 있는 구문    \n",
    "except [예외타입 as e]:\n",
    "    예외가 발생되면 수행할 구문\n",
    "else:\n",
    "    try절을 수행하다 예외가 발생 안되면 else절을 한번 수행\n",
    "finally:\n",
    "    예외가 발생 안 하면 try-else-finally절 수행\n",
    "    예외가 발생하면 try수행 중 except - finally절 수행\n",
    "```"
   ]
  },
  {
   "cell_type": "code",
   "execution_count": 6,
   "id": "23d73c4e",
   "metadata": {},
   "outputs": [
    {
     "name": "stdout",
     "output_type": "stream",
     "text": [
      "Hello\n"
     ]
    }
   ],
   "source": [
    "try:\n",
    "    f=open(r'data\\cho8.txt','r')\n",
    "except FileNotFoundError as e:\n",
    "    print(e)\n",
    "    print('해당파일이 없습니다.')\n",
    "else:\n",
    "    data = f.read()\n",
    "    print(data)\n",
    "finally: \n",
    "    f.close()"
   ]
  },
  {
   "cell_type": "code",
   "execution_count": 8,
   "id": "16c574f2",
   "metadata": {},
   "outputs": [
    {
     "name": "stdout",
     "output_type": "stream",
     "text": [
      "Hello\n",
      "반드시 실행\n"
     ]
    }
   ],
   "source": [
    "try:\n",
    "    f=open(r'data\\cho8.txt','r')\n",
    "    data = f.read()\n",
    "    print(data)\n",
    "except FileNotFoundError as e:\n",
    "    print(e)\n",
    "    print('해당파일이 없습니다.')\n",
    "finally: #except가 되도 무조건 실행한다.\n",
    "    print('반드시 실행')\n",
    "    f.close()"
   ]
  },
  {
   "cell_type": "markdown",
   "id": "c88dede3",
   "metadata": {},
   "source": [
    "# 3절. raise\n",
    "- 강제 예외 발생"
   ]
  },
  {
   "cell_type": "code",
   "execution_count": 9,
   "id": "b54eb329",
   "metadata": {},
   "outputs": [
    {
     "ename": "NameError",
     "evalue": "예외발생함",
     "output_type": "error",
     "traceback": [
      "\u001b[1;31m---------------------------------------------------------------------------\u001b[0m",
      "\u001b[1;31mNameError\u001b[0m                                 Traceback (most recent call last)",
      "Cell \u001b[1;32mIn[9], line 1\u001b[0m\n\u001b[1;32m----> 1\u001b[0m \u001b[38;5;28;01mraise\u001b[39;00m \u001b[38;5;167;01mNameError\u001b[39;00m(\u001b[38;5;124m\"\u001b[39m\u001b[38;5;124m예외발생함\u001b[39m\u001b[38;5;124m\"\u001b[39m)\n",
      "\u001b[1;31mNameError\u001b[0m: 예외발생함"
     ]
    }
   ],
   "source": [
    "raise NameError(\"예외발생함\")"
   ]
  },
  {
   "cell_type": "code",
   "execution_count": 12,
   "id": "bf4777ff",
   "metadata": {},
   "outputs": [],
   "source": [
    "# 사용자 정의 예외 : Exception 클래스 또는 그 하위 클래스를 상속받아 구현\n",
    "class LengthZeroError(Exception):\n",
    "    '길이가 0일 때 발생할 예외'\n",
    "    pass\n",
    "#     def __init__(self, message):\n",
    "#         self.message = message\n"
   ]
  },
  {
   "cell_type": "code",
   "execution_count": 15,
   "id": "2cf12ed4",
   "metadata": {},
   "outputs": [],
   "source": [
    "def insert(*data): # 튜플 매개변수\n",
    "    if len(data)==0:\n",
    "        raise LengthZeroError(\"매개변수가 0인 예외입니다\")\n",
    "    for item in data:\n",
    "        print(item, end=' ')\n",
    "    print('등을 입력하셨습니다')"
   ]
  },
  {
   "cell_type": "code",
   "execution_count": 16,
   "id": "43d7d9c8",
   "metadata": {},
   "outputs": [
    {
     "name": "stdout",
     "output_type": "stream",
     "text": [
      "매개변수가 0인 예외입니다\n",
      "무조건 실행하는 부분 DONE\n"
     ]
    }
   ],
   "source": [
    "data = []\n",
    "try:\n",
    "    insert(*data)\n",
    "except LengthZeroError as e:\n",
    "    print(e)\n",
    "finally:\n",
    "    print('무조건 실행하는 부분 DONE')"
   ]
  },
  {
   "cell_type": "markdown",
   "id": "ffd0a034",
   "metadata": {},
   "source": [
    "# 4절 추상클래스\n",
    "- 추상클래스: 객체를 생성할 수 없는 클래스. 상속받을 클래스의 포맷 제공\n",
    "- 추상메소드: 호출 할 수 있는 메소드 "
   ]
  },
  {
   "cell_type": "code",
   "execution_count": 26,
   "id": "37fd9561",
   "metadata": {},
   "outputs": [],
   "source": [
    "# Shape 클래스 : 객체를 만드는게 목적이 아니고, 자식클래스(서브클래스)를 잘 만들게 목적\n",
    "# Shape 클래스를 상속받은 클래스들의 표준 제시\n",
    "class Shape:\n",
    "    def __init__(self):\n",
    "        raise NotImplementedError('추상 클래스 역할')\n",
    "    def calc_area(self):\n",
    "        raise NotImplementedError('추상 메소드 역할')      "
   ]
  },
  {
   "cell_type": "code",
   "execution_count": 18,
   "id": "efb710b9",
   "metadata": {},
   "outputs": [
    {
     "data": {
      "text/plain": [
       "28.259999999999998"
      ]
     },
     "execution_count": 18,
     "metadata": {},
     "output_type": "execute_result"
    }
   ],
   "source": [
    "# s = Shape()\n",
    "class Circle(Shape):\n",
    "    def __init__(self, r=3):\n",
    "        self.r = r\n",
    "    def calc_area(self):\n",
    "        return 3.14*self.r*self.r\n",
    "c = Circle(3)\n",
    "c.calc_area()"
   ]
  },
  {
   "cell_type": "markdown",
   "id": "51fcf8fe",
   "metadata": {},
   "source": [
    "# 5절 파일정리작업(with절이용)"
   ]
  },
  {
   "cell_type": "code",
   "execution_count": 20,
   "id": "0041206e",
   "metadata": {},
   "outputs": [
    {
     "name": "stdout",
     "output_type": "stream",
     "text": [
      "Hello\n"
     ]
    }
   ],
   "source": [
    "try:\n",
    "    f = open('data/cho8.txt', 'r')\n",
    "    print(f.read())\n",
    "except Exception as e:\n",
    "    print(e)\n",
    "finally:\n",
    "    f.close()"
   ]
  },
  {
   "cell_type": "code",
   "execution_count": 22,
   "id": "0567654f",
   "metadata": {},
   "outputs": [
    {
     "name": "stdout",
     "output_type": "stream",
     "text": [
      "Hello\n"
     ]
    }
   ],
   "source": [
    "\n",
    "f = open('data/cho8.txt', 'r')\n",
    "print(f.read())\n",
    "f.close()"
   ]
  },
  {
   "cell_type": "code",
   "execution_count": 24,
   "id": "afb5f178",
   "metadata": {},
   "outputs": [
    {
     "name": "stdout",
     "output_type": "stream",
     "text": [
      "Hello\n"
     ]
    }
   ],
   "source": [
    "with open('data/cho8.txt', 'r') as f:\n",
    "    print(f.read())\n",
    "# with 절 이후에는 자동 close()실행"
   ]
  },
  {
   "cell_type": "code",
   "execution_count": null,
   "id": "d4e385d7",
   "metadata": {},
   "outputs": [],
   "source": []
  }
 ],
 "metadata": {
  "kernelspec": {
   "display_name": "Python 3 (ipykernel)",
   "language": "python",
   "name": "python3"
  },
  "language_info": {
   "codemirror_mode": {
    "name": "ipython",
    "version": 3
   },
   "file_extension": ".py",
   "mimetype": "text/x-python",
   "name": "python",
   "nbconvert_exporter": "python",
   "pygments_lexer": "ipython3",
   "version": "3.10.9"
  },
  "toc": {
   "base_numbering": 1,
   "nav_menu": {},
   "number_sections": false,
   "sideBar": true,
   "skip_h1_title": false,
   "title_cell": "Table of Contents",
   "title_sidebar": "Contents",
   "toc_cell": false,
   "toc_position": {},
   "toc_section_display": true,
   "toc_window_display": false
  }
 },
 "nbformat": 4,
 "nbformat_minor": 5
}
