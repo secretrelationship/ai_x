{
 "cells": [
  {
   "cell_type": "code",
   "execution_count": 1,
   "id": "aef4cb01",
   "metadata": {},
   "outputs": [
    {
     "data": {
      "text/html": [
       "\n",
       "<style>\n",
       "div.container{width:86% !important;}\n",
       "div.cell.code_cell.rendered{width:100%;}\n",
       "div.CodeMirror {font-family:Consolas; font-size:15pt;}\n",
       "div.output {font-size:15pt; font-weight:bold;}\n",
       "div.input {font-family:Consolas; font-size:15pt;}\n",
       "div.prompt {min-width:70px;}\n",
       "div#toc-wrapper{padding-top:120px;}\n",
       "div.text_cell_render ul li{font-size:12pt;padding:5px;}\n",
       "table.dataframe{font-size:15px;}\n",
       "</style>\n"
      ],
      "text/plain": [
       "<IPython.core.display.HTML object>"
      ]
     },
     "metadata": {},
     "output_type": "display_data"
    }
   ],
   "source": [
    "from IPython.display import display, HTML\n",
    "display(HTML(\"\"\"\n",
    "<style>\n",
    "div.container{width:86% !important;}\n",
    "div.cell.code_cell.rendered{width:100%;}\n",
    "div.CodeMirror {font-family:Consolas; font-size:15pt;}\n",
    "div.output {font-size:15pt; font-weight:bold;}\n",
    "div.input {font-family:Consolas; font-size:15pt;}\n",
    "div.prompt {min-width:70px;}\n",
    "div#toc-wrapper{padding-top:120px;}\n",
    "div.text_cell_render ul li{font-size:12pt;padding:5px;}\n",
    "table.dataframe{font-size:15px;}\n",
    "</style>\n",
    "\"\"\"))"
   ]
  },
  {
   "cell_type": "code",
   "execution_count": 9,
   "id": "227bac3c",
   "metadata": {},
   "outputs": [
    {
     "name": "stdout",
     "output_type": "stream",
     "text": [
      "계산된 넓이는 78.5\n"
     ]
    }
   ],
   "source": [
    "r = 5\n",
    "area = 3.14 * r *r\n",
    "print(\"계산된 넓이는\", area)"
   ]
  },
  {
   "cell_type": "markdown",
   "id": "f5e09fca",
   "metadata": {},
   "source": [
    "<font sixe=\"5\" color=\"red\">ch02 자료형과 연산자</font>\n",
    "# 1절 변수\n",
    "- 파이썬은 변수선언을 위한 과정이 없음. 할당과 동시에 타입이 지정되고 값이 할당됨. \n",
    "## 1.1 변수할당\n",
    "- 할당연산자(=)를 이용해서 값을 할당하면 타입이 저장\n",
    "- 파이썬에서의 모든 변수는 객체로 저장 "
   ]
  },
  {
   "cell_type": "code",
   "execution_count": 7,
   "id": "6e8dfe88",
   "metadata": {},
   "outputs": [
    {
     "data": {
      "text/plain": [
       "False"
      ]
     },
     "execution_count": 7,
     "metadata": {},
     "output_type": "execute_result"
    }
   ],
   "source": [
    "area.is_integer() #area가 integer인지 여부를 반환"
   ]
  },
  {
   "cell_type": "code",
   "execution_count": 10,
   "id": "4edbf8ab",
   "metadata": {},
   "outputs": [
    {
     "name": "stdout",
     "output_type": "stream",
     "text": [
      "area의 수소 : 2028187237712\n",
      "area의 타입 : <class 'float'>\n"
     ]
    }
   ],
   "source": [
    "print('area의 수소 :', id(area)) #id(area) : area변수의 주소값\n",
    "print('area의 타입 :', type(area))"
   ]
  },
  {
   "cell_type": "code",
   "execution_count": 11,
   "id": "d06c76b6",
   "metadata": {},
   "outputs": [
    {
     "name": "stdout",
     "output_type": "stream",
     "text": [
      "area의 주소 : 2028112249360\n",
      "area의 타입 : <class 'int'>\n"
     ]
    }
   ],
   "source": [
    "area = 10\n",
    "print('area의 주소 :', id(area)) #id(area) : area변수의 주소값\n",
    "print('area의 타입 :', type(area))"
   ]
  },
  {
   "cell_type": "markdown",
   "id": "6ff9ef20",
   "metadata": {},
   "source": [
    "## 1.2 변수이름 규칙\n",
    "- 문자로 시작(숫자시작불가)\n",
    "- 문자, 숫자, _로 변수명 작성\n",
    "- 함수명은 변수이름으로 가능하나 피한다. 써야한다면 int_식으로 _를 이용\n",
    "- 파이썬 예약어(for)눈 변수이름 사용불가\n",
    "- 한글변수는 꼭 필요시에만 이용"
   ]
  },
  {
   "cell_type": "code",
   "execution_count": 13,
   "id": "6b1db2a3",
   "metadata": {},
   "outputs": [
    {
     "data": {
      "text/plain": [
       "complex"
      ]
     },
     "execution_count": 13,
     "metadata": {},
     "output_type": "execute_result"
    }
   ],
   "source": [
    "#파이썬에서의 숫자: 정수, 실수, 복소수\n",
    "i= 3+ 3j #복소수\n",
    "type(i)\n"
   ]
  },
  {
   "cell_type": "code",
   "execution_count": 14,
   "id": "6f411225",
   "metadata": {},
   "outputs": [
    {
     "name": "stdout",
     "output_type": "stream",
     "text": [
      "Help on built-in function print in module builtins:\n",
      "\n",
      "print(...)\n",
      "    print(value, ..., sep=' ', end='\\n', file=sys.stdout, flush=False)\n",
      "    \n",
      "    Prints the values to a stream, or to sys.stdout by default.\n",
      "    Optional keyword arguments:\n",
      "    file:  a file-like object (stream); defaults to the current sys.stdout.\n",
      "    sep:   string inserted between values, default a space.\n",
      "    end:   string appended after the last value, default a newline.\n",
      "    flush: whether to forcibly flush the stream.\n",
      "\n"
     ]
    }
   ],
   "source": [
    "help(print)"
   ]
  },
  {
   "cell_type": "code",
   "execution_count": 17,
   "id": "e6f015d0",
   "metadata": {
    "collapsed": true
   },
   "outputs": [
    {
     "name": "stdout",
     "output_type": "stream",
     "text": [
      "\n",
      "Welcome to Python 3.10's help utility!\n",
      "\n",
      "If this is your first time using Python, you should definitely check out\n",
      "the tutorial on the internet at https://docs.python.org/3.10/tutorial/.\n",
      "\n",
      "Enter the name of any module, keyword, or topic to get help on writing\n",
      "Python programs and using Python modules.  To quit this help utility and\n",
      "return to the interpreter, just type \"quit\".\n",
      "\n",
      "To get a list of available modules, keywords, symbols, or topics, type\n",
      "\"modules\", \"keywords\", \"symbols\", or \"topics\".  Each module also comes\n",
      "with a one-line summary of what it does; to list the modules whose name\n",
      "or summary contain a given string such as \"spam\", type \"modules spam\".\n",
      "\n",
      "\n",
      "You are now leaving help and returning to the Python interpreter.\n",
      "If you want to ask for help on a particular object directly from the\n",
      "interpreter, you can type \"help(object)\".  Executing \"help('string')\"\n",
      "has the same effect as typing a particular string at the help> prompt.\n",
      "help> q\n"
     ]
    }
   ],
   "source": [
    "help()"
   ]
  },
  {
   "cell_type": "code",
   "execution_count": 79,
   "id": "ae46878b",
   "metadata": {},
   "outputs": [],
   "source": [
    "def add(x,y):  \n",
    "    '''\n",
    "    매개변수 2개를 받아 두자리 숫자로\n",
    "    만들어요\n",
    "    x = 10의 자리수가 됨\n",
    "    y = 1의 자리수가 됌\n",
    "    사용법: add(2,3) => 23\n",
    "    ''' \n",
    "    return x*10 + y"
   ]
  },
  {
   "cell_type": "code",
   "execution_count": 57,
   "id": "8d66334e",
   "metadata": {},
   "outputs": [
    {
     "data": {
      "text/plain": [
       "23"
      ]
     },
     "execution_count": 57,
     "metadata": {},
     "output_type": "execute_result"
    }
   ],
   "source": [
    "add(2,3)"
   ]
  },
  {
   "cell_type": "markdown",
   "id": "1249dd46",
   "metadata": {},
   "source": [
    "## 1.4 다중변수할당"
   ]
  },
  {
   "cell_type": "code",
   "execution_count": 34,
   "id": "406a2863",
   "metadata": {},
   "outputs": [],
   "source": [
    "a=10\n",
    "b=20"
   ]
  },
  {
   "cell_type": "code",
   "execution_count": 39,
   "id": "a6535a71",
   "metadata": {},
   "outputs": [
    {
     "name": "stdout",
     "output_type": "stream",
     "text": [
      "10 20\n"
     ]
    }
   ],
   "source": [
    "a, b = 10, 20\n",
    "print(a,b)"
   ]
  },
  {
   "cell_type": "code",
   "execution_count": 41,
   "id": "4b2703b0",
   "metadata": {},
   "outputs": [
    {
     "name": "stdout",
     "output_type": "stream",
     "text": [
      "30 50\n"
     ]
    }
   ],
   "source": [
    "#다중 변수 할당시 순차적 할당이 아니고 일괄 동시 할당\n",
    "a, b = b, a+b\n",
    "print(a, b)"
   ]
  },
  {
   "cell_type": "markdown",
   "id": "1e589b1b",
   "metadata": {},
   "source": [
    "# 2절 화면입출력(i/0)"
   ]
  },
  {
   "cell_type": "code",
   "execution_count": 45,
   "id": "8bca17eb",
   "metadata": {},
   "outputs": [
    {
     "name": "stdout",
     "output_type": "stream",
     "text": [
      "첫번째 숫자는?3\n"
     ]
    },
    {
     "data": {
      "text/plain": [
       "'3'"
      ]
     },
     "execution_count": 45,
     "metadata": {},
     "output_type": "execute_result"
    }
   ],
   "source": [
    "# input(): 사용자로부터 값을 입력받기 위한 함수, 문자열로 입력 \n",
    "first = input(\"첫번째 숫자는?\")\n",
    "first"
   ]
  },
  {
   "cell_type": "code",
   "execution_count": 46,
   "id": "8c9d6082",
   "metadata": {},
   "outputs": [
    {
     "name": "stdout",
     "output_type": "stream",
     "text": [
      "두번째숫자는2\n"
     ]
    }
   ],
   "source": [
    "second = input(\"두번째숫자는\")"
   ]
  },
  {
   "cell_type": "code",
   "execution_count": 47,
   "id": "2fc6ac75",
   "metadata": {},
   "outputs": [
    {
     "name": "stdout",
     "output_type": "stream",
     "text": [
      "합 5\n"
     ]
    }
   ],
   "source": [
    "sum = int(first)+int(second)\n",
    "print(\"합\",sum)"
   ]
  },
  {
   "cell_type": "code",
   "execution_count": 61,
   "id": "90ce3117",
   "metadata": {},
   "outputs": [
    {
     "name": "stdout",
     "output_type": "stream",
     "text": [
      "합=5 / 합 ~ 5 / 합은 5\n"
     ]
    }
   ],
   "source": [
    "print('합', sum, sep='=', end=' / ')\n",
    "print('합', sum, sep=' ~ ', end=' / ')\n",
    "print('합', sum, sep='은 ')"
   ]
  },
  {
   "cell_type": "code",
   "execution_count": 60,
   "id": "79be862f",
   "metadata": {},
   "outputs": [
    {
     "name": "stdout",
     "output_type": "stream",
     "text": [
      "hello,world\n"
     ]
    }
   ],
   "source": [
    "import sys\n",
    "print('hello','world',sep=',')"
   ]
  },
  {
   "cell_type": "markdown",
   "id": "2eb54869",
   "metadata": {},
   "source": [
    "# 3절. 기본자료형\n",
    "- 자료형에 따라 값의 크기와 저장방식이 달라짐\n",
    "  - 숫자: int, float, complex\n",
    "  - 문자: str\n",
    "  - 논리: bool(True/False)"
   ]
  },
  {
   "cell_type": "markdown",
   "id": "d13569fd",
   "metadata": {},
   "source": [
    "## 3.1 숫자형"
   ]
  },
  {
   "cell_type": "code",
   "execution_count": 62,
   "id": "1e5d3188",
   "metadata": {},
   "outputs": [
    {
     "data": {
      "text/plain": [
       "9223372036854775807"
      ]
     },
     "execution_count": 62,
     "metadata": {},
     "output_type": "execute_result"
    }
   ],
   "source": [
    "import sys \n",
    "sys. maxsize #정수의 최대값 2의 63승-1(2**63-1)"
   ]
  },
  {
   "cell_type": "code",
   "execution_count": 64,
   "id": "ff09df34",
   "metadata": {},
   "outputs": [
    {
     "name": "stdout",
     "output_type": "stream",
     "text": [
      "9223372036854776807\n",
      "<class 'int'>\n"
     ]
    }
   ],
   "source": [
    "i= sys.maxsize + 1000\n",
    "print(i)\n",
    "print(type(1))"
   ]
  },
  {
   "cell_type": "code",
   "execution_count": 66,
   "id": "18024b1c",
   "metadata": {},
   "outputs": [
    {
     "data": {
      "text/plain": [
       "2.0"
      ]
     },
     "execution_count": 66,
     "metadata": {},
     "output_type": "execute_result"
    }
   ],
   "source": [
    "f = 4/2 #정수/정수는 무조건 실수\n",
    "f"
   ]
  },
  {
   "cell_type": "code",
   "execution_count": 69,
   "id": "08a40c9e",
   "metadata": {},
   "outputs": [
    {
     "name": "stdout",
     "output_type": "stream",
     "text": [
      "2\n"
     ]
    },
    {
     "data": {
      "text/plain": [
       "2"
      ]
     },
     "execution_count": 69,
     "metadata": {},
     "output_type": "execute_result"
    }
   ],
   "source": [
    "#자바처럼 정수/정수의 결과를 정수로\n",
    "f= 4//2 #몫연산자\n",
    "print(f)\n",
    "int(f)\n"
   ]
  },
  {
   "cell_type": "code",
   "execution_count": 70,
   "id": "74ce3e96",
   "metadata": {},
   "outputs": [
    {
     "name": "stdout",
     "output_type": "stream",
     "text": [
      "(-1+0j)\n"
     ]
    }
   ],
   "source": [
    "c= 1j #수학의 0+1i\n",
    "print(c**2)"
   ]
  },
  {
   "cell_type": "markdown",
   "id": "e484de8d",
   "metadata": {},
   "source": [
    "## 3.2 문자형\n",
    "쌍따옴표나 홀따옴표 이용"
   ]
  },
  {
   "cell_type": "code",
   "execution_count": 78,
   "id": "09f109c5",
   "metadata": {},
   "outputs": [
    {
     "name": "stdout",
     "output_type": "stream",
     "text": [
      "홍길동\"짱\" 서울시 관악구 '신림동'\n"
     ]
    }
   ],
   "source": [
    "name = \"홍길동\\\"짱\\\"\" # 홍길동\"짱\"\n",
    "name = '홍길동\"짱\"'\n",
    "address = '서울시 관악구 \\'신림동\\'' # 서울시 관악구 '신림동'\n",
    "address = \"서울시 관악구 '신림동'\"\n",
    "print(name, address)"
   ]
  },
  {
   "cell_type": "code",
   "execution_count": 73,
   "id": "16a3f0ed",
   "metadata": {},
   "outputs": [
    {
     "name": "stdout",
     "output_type": "stream",
     "text": [
      "여러줄 짜리 내용\n",
      "줄바꿈문자를 쓰지 않고 따옴표 3개로 처리\n",
      "이처럼 쓰는 경우가 많아요.\n"
     ]
    }
   ],
   "source": [
    "#문자형 변수 여러줄#\n",
    "text = '''여러줄 짜리 내용\n",
    "줄바꿈문자를 쓰지 않고 따옴표 3개로 처리\n",
    "이처럼 쓰는 경우가 많아요.'''\n",
    "print(text)"
   ]
  },
  {
   "cell_type": "markdown",
   "id": "45c1bda8",
   "metadata": {},
   "source": [
    "### ※ 문자열연산 "
   ]
  },
  {
   "cell_type": "code",
   "execution_count": 76,
   "id": "e417dc2e",
   "metadata": {},
   "outputs": [
    {
     "name": "stdout",
     "output_type": "stream",
     "text": [
      "홍길동동해번쩍서해번쩍\n"
     ]
    }
   ],
   "source": [
    "'''\n",
    "   여러 줄 주석 용도\n",
    "   2025.04.08 문자열 연산 소스 by 아무개\n",
    "'''\n",
    "name1 = \"홍길동\"\n",
    "name2 = \"동해번쩍서해번쩍\"\n",
    "print(name1 + name2)"
   ]
  },
  {
   "cell_type": "code",
   "execution_count": 77,
   "id": "e6f31a0a",
   "metadata": {},
   "outputs": [
    {
     "name": "stdout",
     "output_type": "stream",
     "text": [
      "홍길동홍길동홍길동\n"
     ]
    }
   ],
   "source": [
    "print(name1*3) #문자열을 곱하면 반복"
   ]
  },
  {
   "cell_type": "markdown",
   "id": "acfafb4e",
   "metadata": {},
   "source": [
    "### ※ raw 데이터\n",
    "-용도: 정규표현식 이용, 디렉토리 경로 표현시 이용"
   ]
  },
  {
   "cell_type": "code",
   "execution_count": 85,
   "id": "a162fbc8",
   "metadata": {},
   "outputs": [
    {
     "name": "stdout",
     "output_type": "stream",
     "text": [
      "hello\n",
      "world\n"
     ]
    }
   ],
   "source": [
    "print('hello\\nworld')"
   ]
  },
  {
   "cell_type": "code",
   "execution_count": 86,
   "id": "673f7067",
   "metadata": {},
   "outputs": [
    {
     "name": "stdout",
     "output_type": "stream",
     "text": [
      "hello\\nworld\n"
     ]
    }
   ],
   "source": [
    "print('hello\\\\nworld')"
   ]
  },
  {
   "cell_type": "markdown",
   "id": "334ce587",
   "metadata": {},
   "source": [
    "정규표현식\n",
    "1. 참조: 위키백과\n",
    "문자)\n",
    "1. 참조 : 위키백과\n",
    "2. 간략한 문법 :\n",
    "    \\d (숫자와 매치, [0-9]와 동일\n",
    "    \\D (숫자가 아닌것)\n",
    "    \\w (영문자나 숫자, [a-zA-Z0-9]\n",
    "    \\W (영문자나 숫자가 아닌 문자)\n",
    "    . (문자)\n",
    "    \\. (.의미)\n",
    "    \\- (-의미)\n",
    "    {2, 4} (2~4번 반복)\n",
    "    {4}    (4번 반복)\n",
    "    {2,}   (2번이상 반복)\n",
    "    +      (1번이상 반복)\n",
    "    *      (0번이상 반복)\n",
    "    ? (0번이나 1번 반복)\n",
    "3. 정규표현식 연습장(https://regexr.com/)\n",
    "ex1) 전화번호: 010-9999-9999 02-7777-8888 01099997777 0277778888 02)714-5656 010 1234 1234 010.1234.1234\n",
    "ex2) 이메일: abc12@naver.com abc123@0to7.co.kr "
   ]
  },
  {
   "cell_type": "markdown",
   "id": "3b5a1913",
   "metadata": {},
   "source": [
    "이메일: \\w{3,}@[a-zA-Z0-9가-힣]+(\\.[a-zA-Z]+)?, \\w{3,}@[a-zA-Z0-9가-힣]+(\\.[a-zA-Z]+){1,2}"
   ]
  },
  {
   "cell_type": "code",
   "execution_count": 9,
   "id": "c9950330",
   "metadata": {},
   "outputs": [
    {
     "name": "stdout",
     "output_type": "stream",
     "text": [
      "홍길동인데 전번이 041-888-8888, 010 9999 9999 동해번쩍 서해번쩍 ㅋㅋ ㅠㅠ 오늘날씨는 엄청좋아요\n"
     ]
    }
   ],
   "source": [
    "import re \n",
    "data = \"홍길동인데 전번이 041-888-8888, 010 9999 9999 동해번쩍 서해번쩍 ㅋㅋ ㅠㅠ \\\n",
    "오늘날씨는 엄청좋아요\"\n",
    "print(data)"
   ]
  },
  {
   "cell_type": "code",
   "execution_count": 6,
   "id": "2bd00b34",
   "metadata": {},
   "outputs": [],
   "source": [
    "\n",
    "tel_pattern = r\"[0-9]{2,3}[\\-) .]?[0-9]{3,4}[\\- .]?[0-9]{4}\""
   ]
  },
  {
   "cell_type": "code",
   "execution_count": 8,
   "id": "680b5087",
   "metadata": {},
   "outputs": [
    {
     "data": {
      "text/plain": [
       "['041-888-8888', '010 9999 9999']"
      ]
     },
     "execution_count": 8,
     "metadata": {},
     "output_type": "execute_result"
    }
   ],
   "source": [
    "#해당 패턴을 다 찾아줌. 없으면 대괄호 반환\n",
    "tels = re.findall(tel_pattern,data)\n",
    "tels"
   ]
  },
  {
   "cell_type": "code",
   "execution_count": 10,
   "id": "f729b64a",
   "metadata": {},
   "outputs": [
    {
     "data": {
      "text/plain": [
       "<re.Match object; span=(10, 22), match='041-888-8888'>"
      ]
     },
     "execution_count": 10,
     "metadata": {},
     "output_type": "execute_result"
    }
   ],
   "source": [
    "# search() : 정규표현식 패턴과 일치하는 처음단어만 찾음\n",
    "pattern = \"(\\d{2,3})-(\\d{3,4})-(\\d{4})\"\n",
    "firstTel = re.search(pattern, data)\n",
    "firstTel"
   ]
  },
  {
   "cell_type": "code",
   "execution_count": 32,
   "id": "a1df237c",
   "metadata": {},
   "outputs": [
    {
     "data": {
      "text/plain": [
       "'041-888-8888'"
      ]
     },
     "execution_count": 32,
     "metadata": {},
     "output_type": "execute_result"
    }
   ],
   "source": [
    "data[10:22]"
   ]
  },
  {
   "cell_type": "code",
   "execution_count": 33,
   "id": "172eceaf",
   "metadata": {},
   "outputs": [
    {
     "name": "stdout",
     "output_type": "stream",
     "text": [
      "전화번호 전체 : 041-888-8888\n",
      "국번 : 041\n",
      "중간번호 : 888\n",
      "끝번호 : 8888\n"
     ]
    }
   ],
   "source": [
    "print('전화번호 전체 :', firstTel.group(0))\n",
    "print('국번 :', firstTel.group(1))\n",
    "print('중간번호 :', firstTel.group(2))\n",
    "print('끝번호 :', firstTel.group(3))"
   ]
  },
  {
   "cell_type": "code",
   "execution_count": 14,
   "id": "de7ded50",
   "metadata": {},
   "outputs": [],
   "source": [
    "#파일경로에는 반드시 r, \\\\, / 중 하나를 사용\n",
    "file_path = r\"C:\\ai_x\\source\\01_python\\text.txt\"\n",
    "file_path = \"C:\\\\ai_x\\\\source\\\\01_python\\\\text.txt\"\n",
    "file_path = \"C:/ai_x/source/01_python/text.txt\""
   ]
  },
  {
   "cell_type": "code",
   "execution_count": 16,
   "id": "95507ba0",
   "metadata": {},
   "outputs": [
    {
     "name": "stdout",
     "output_type": "stream",
     "text": [
      "Hello~world\n"
     ]
    }
   ],
   "source": [
    "file_stream = open(file_path,'w')\n",
    "print(\"Hello\",\"world\",sep=\"~\") #콘솔출력\n",
    "print(\"Hello\",\"world\",sep=\"~\",file=file_stream) #파일출력\n",
    "file_stream.close() #close를 하지 않으면 파일저장이 안됌."
   ]
  },
  {
   "cell_type": "markdown",
   "id": "c4385f97",
   "metadata": {},
   "source": [
    "### ※문자열 슬라이싱"
   ]
  },
  {
   "cell_type": "code",
   "execution_count": 18,
   "id": "170501b8",
   "metadata": {},
   "outputs": [
    {
     "data": {
      "text/plain": [
       "'0123456789'"
      ]
     },
     "execution_count": 18,
     "metadata": {},
     "output_type": "execute_result"
    }
   ],
   "source": [
    "str_ = '0123456789'\n",
    "str_"
   ]
  },
  {
   "cell_type": "code",
   "execution_count": 20,
   "id": "68ec4633",
   "metadata": {},
   "outputs": [
    {
     "data": {
      "text/plain": [
       "('0', '2', '9', '7')"
      ]
     },
     "execution_count": 20,
     "metadata": {},
     "output_type": "execute_result"
    }
   ],
   "source": [
    "#문자인덱싱\n",
    "str_[0], str_[2], str_[-1], str_[-3]"
   ]
  },
  {
   "cell_type": "markdown",
   "id": "cad08f64",
   "metadata": {},
   "source": [
    "문자변수[from:stop] : from부터 stop 앞까지 추출\n",
    "문자변수 [from:stop:step] : from 부터 stop 앞까지 step씩 전진하면서 추출\n",
    "step 생략시 1\n",
    "from 생략시 처음부터\n",
    "stop 생략시: 끝까지 "
   ]
  },
  {
   "cell_type": "code",
   "execution_count": 23,
   "id": "a8d649db",
   "metadata": {},
   "outputs": [
    {
     "data": {
      "text/plain": [
       "'01234'"
      ]
     },
     "execution_count": 23,
     "metadata": {},
     "output_type": "execute_result"
    }
   ],
   "source": [
    "str_[0:5] #0번째부터 5번째 앞까지"
   ]
  },
  {
   "cell_type": "code",
   "execution_count": 25,
   "id": "e1e35ce8",
   "metadata": {},
   "outputs": [
    {
     "data": {
      "text/plain": [
       "'5678'"
      ]
     },
     "execution_count": 25,
     "metadata": {},
     "output_type": "execute_result"
    }
   ],
   "source": [
    "str_[-5:-1] #-5번째부터 -1번째 앞까지"
   ]
  },
  {
   "cell_type": "code",
   "execution_count": 27,
   "id": "f5c5105c",
   "metadata": {},
   "outputs": [
    {
     "data": {
      "text/plain": [
       "'6789'"
      ]
     },
     "execution_count": 27,
     "metadata": {},
     "output_type": "execute_result"
    }
   ],
   "source": [
    "str_[-4:20] #슬라이싱시 인덱스 범위를 벗어나면 끝까지를 의미"
   ]
  },
  {
   "cell_type": "code",
   "execution_count": 28,
   "id": "1a856041",
   "metadata": {},
   "outputs": [
    {
     "data": {
      "text/plain": [
       "'987654321'"
      ]
     },
     "execution_count": 28,
     "metadata": {},
     "output_type": "execute_result"
    }
   ],
   "source": [
    "str_[9:0:-1]"
   ]
  },
  {
   "cell_type": "code",
   "execution_count": 22,
   "id": "0f2a4c5b",
   "metadata": {},
   "outputs": [
    {
     "data": {
      "text/plain": [
       "'0246'"
      ]
     },
     "execution_count": 22,
     "metadata": {},
     "output_type": "execute_result"
    }
   ],
   "source": [
    "str_[0:8:2]"
   ]
  },
  {
   "cell_type": "code",
   "execution_count": 30,
   "id": "f4bc10f6",
   "metadata": {},
   "outputs": [
    {
     "data": {
      "text/plain": [
       "'0123456'"
      ]
     },
     "execution_count": 30,
     "metadata": {},
     "output_type": "execute_result"
    }
   ],
   "source": [
    "str_[0:7]#첫문자 ~6번째까지 추출"
   ]
  },
  {
   "cell_type": "code",
   "execution_count": 31,
   "id": "590fdcd6",
   "metadata": {},
   "outputs": [
    {
     "data": {
      "text/plain": [
       "'9876543210'"
      ]
     },
     "execution_count": 31,
     "metadata": {},
     "output_type": "execute_result"
    }
   ],
   "source": [
    "#str_을 거꾸로 출력 \n",
    "str_[::-1]"
   ]
  },
  {
   "cell_type": "markdown",
   "id": "2c288e9d",
   "metadata": {},
   "source": [
    "## 3.3 논리형(True/False)"
   ]
  },
  {
   "cell_type": "code",
   "execution_count": 45,
   "id": "c705b628",
   "metadata": {},
   "outputs": [
    {
     "name": "stdout",
     "output_type": "stream",
     "text": [
      "True\n",
      "<class 'bool'>\n",
      "True\n"
     ]
    },
    {
     "data": {
      "text/plain": [
       "True"
      ]
     },
     "execution_count": 45,
     "metadata": {},
     "output_type": "execute_result"
    }
   ],
   "source": [
    "a=True\n",
    "print(a) #a 매개변수, 인자\n",
    "print(type(a)) #a변수의 타입 #isinstante(변수,타입):변수가 해당 타입인지 여부\n",
    "print(isinstance(a,bool))\n",
    "isinstance(a,bool)"
   ]
  },
  {
   "cell_type": "code",
   "execution_count": 37,
   "id": "55698d81",
   "metadata": {},
   "outputs": [],
   "source": [
    "#False로 간주되는것: 0, \"\"(빈스트림) None [] {} ()\n",
    "#False 외의 값은 다 True \"  \""
   ]
  },
  {
   "cell_type": "code",
   "execution_count": 39,
   "id": "26c5bb67",
   "metadata": {},
   "outputs": [
    {
     "data": {
      "text/plain": [
       "(1, 0)"
      ]
     },
     "execution_count": 39,
     "metadata": {},
     "output_type": "execute_result"
    }
   ],
   "source": [
    "int(True), int(False)"
   ]
  },
  {
   "cell_type": "markdown",
   "id": "893df61f",
   "metadata": {},
   "source": [
    "## 3.4 자료형 확인 및 형변환 함수 \n",
    "- type(변수)\n",
    "- isinstance(변수, 타입)\n",
    "- int() : 정수형으로 변환 \n",
    "- float() : 실수형으로 변환\n",
    "- str() : 문자형으로 변환 \n",
    "- bool(): 논리형으로 변환 "
   ]
  },
  {
   "cell_type": "code",
   "execution_count": 41,
   "id": "e97da9aa",
   "metadata": {},
   "outputs": [
    {
     "data": {
      "text/plain": [
       "(123, 123, 1)"
      ]
     },
     "execution_count": 41,
     "metadata": {},
     "output_type": "execute_result"
    }
   ],
   "source": [
    "int('123'), int(123.9) ,int(True)"
   ]
  },
  {
   "cell_type": "code",
   "execution_count": 42,
   "id": "d03ba7c6",
   "metadata": {},
   "outputs": [
    {
     "data": {
      "text/plain": [
       "(123.0, 123.9, 1.0)"
      ]
     },
     "execution_count": 42,
     "metadata": {},
     "output_type": "execute_result"
    }
   ],
   "source": [
    "float('123'), float(123.9) ,float(True)"
   ]
  },
  {
   "cell_type": "code",
   "execution_count": 43,
   "id": "f1940d8b",
   "metadata": {},
   "outputs": [],
   "source": [
    "#에러나는것들 int(\"123.5\"), int( \"   \"  ), int(\"\"), int(\"1,000\")"
   ]
  },
  {
   "cell_type": "code",
   "execution_count": 44,
   "id": "3d8f2a58",
   "metadata": {},
   "outputs": [
    {
     "data": {
      "text/plain": [
       "'1120000000000.0'"
      ]
     },
     "execution_count": 44,
     "metadata": {},
     "output_type": "execute_result"
    }
   ],
   "source": [
    "str(1.12e12)"
   ]
  },
  {
   "cell_type": "code",
   "execution_count": 47,
   "id": "4111ef33",
   "metadata": {},
   "outputs": [
    {
     "data": {
      "text/plain": [
       "(False, True)"
      ]
     },
     "execution_count": 47,
     "metadata": {},
     "output_type": "execute_result"
    }
   ],
   "source": [
    "bool(\"\"), bool(\"  \")"
   ]
  },
  {
   "cell_type": "markdown",
   "id": "4d13581c",
   "metadata": {},
   "source": [
    "파이썬 기본 자료형(정리)\n",
    "1. 숫자 - int float complex \n",
    "2. 문자 - str 문자슬라싱 raw 데이터(정규표현식, 파일경로)\n",
    "3. 논리 - false로 판별되는 경우 그 외엔 다 true "
   ]
  },
  {
   "cell_type": "markdown",
   "id": "0b083178",
   "metadata": {},
   "source": [
    "# 4절. 포맷팅\n",
    "- 포맷팅이란, 출력할문자, 숫자, 날짜 데이터의 형식을 지정하는 것\n",
    "- 변수와 텍스트를 결합해서 보기 좋은 형식의 새로운 텍스트를 만들 수 있음 \n",
    "## 4.1 문자열에 출력형식 지정"
   ]
  },
  {
   "cell_type": "code",
   "execution_count": 50,
   "id": "259252d1",
   "metadata": {},
   "outputs": [
    {
     "name": "stdout",
     "output_type": "stream",
     "text": [
      "홍길동님의 나이는30살입니다\n"
     ]
    }
   ],
   "source": [
    "name = \"홍길동\"\n",
    "age = 30 \n",
    "print(name, '님의 나이는', age, '살입니다', sep='')"
   ]
  },
  {
   "cell_type": "code",
   "execution_count": 52,
   "id": "a663d7ff",
   "metadata": {},
   "outputs": [
    {
     "name": "stdout",
     "output_type": "stream",
     "text": [
      "홍길동님의 나이는 30살입니다\n"
     ]
    }
   ],
   "source": [
    "print(f\"{name}님의 나이는 {age}살입니다\")"
   ]
  },
  {
   "cell_type": "code",
   "execution_count": 53,
   "id": "763a9d2f",
   "metadata": {},
   "outputs": [
    {
     "name": "stdout",
     "output_type": "stream",
     "text": [
      "홍길동님의 나이는  30살입니다\n"
     ]
    }
   ],
   "source": [
    "print(\"{}님의 나이는 {:3d}살입니다\".format(name,age))"
   ]
  },
  {
   "cell_type": "markdown",
   "id": "4db8dad7",
   "metadata": {},
   "source": [
    "## 4.2 format()문법"
   ]
  },
  {
   "cell_type": "code",
   "execution_count": 59,
   "id": "61a759d7",
   "metadata": {},
   "outputs": [],
   "source": [
    "#\"{[인덱스]:[공백대체문자][정렬방식][자릿수][타입]}\".format(변수)\n",
    "    # 인덱스 : format함수 안의 매개변수의 순서\n",
    "    # 정렬방식 : <(왼쪽정렬), >(오른쪽정렬), ^(중앙정렬)\n",
    "    # 정수자릿수 : 출력될 자릿수d. 변수 내용보다 작은 자릿수가 지정되면 자릿수 무시\n",
    "    # 실수자릿수 : 출력될자릿수.소수점이하출력자릿수f\n",
    "    # 문자자릿수 : 전체확보될자릿수[.변수중출력할자릿수]s\n",
    "    # 타입 : d(10진수 정수), b(2진수), x(16진수), f(실수), s(문자)\n",
    "    # 공백대체문자를 쓸 경우 정렬방식을 반드시 기입해야 함"
   ]
  },
  {
   "cell_type": "code",
   "execution_count": 65,
   "id": "0c0aa291",
   "metadata": {},
   "outputs": [
    {
     "name": "stdout",
     "output_type": "stream",
     "text": [
      "이름은?kim\n",
      "나이는?33\n",
      "33살kim님반갑습니다\n",
      "*33*살 kim_______님 반갑습니다\n"
     ]
    }
   ],
   "source": [
    "name= input(\"이름은?\")\n",
    "age= int(input('나이는?'))\n",
    "print(\"{}살{}님반갑습니다\".format(age, name))\n",
    "print(\"{1:*^4d}살 {0:_<10}님 반갑습니다\".format(name, age))"
   ]
  },
  {
   "cell_type": "code",
   "execution_count": 71,
   "id": "ee80dfeb",
   "metadata": {},
   "outputs": [
    {
     "name": "stdout",
     "output_type": "stream",
     "text": [
      "f = [ 2.76]\n",
      "s = [he___]\n"
     ]
    }
   ],
   "source": [
    "f= 2.758\n",
    "s = \"hello\"\n",
    "print(\"f = [{:5.2f}]\".format(f))\n",
    "print(\"s = [{:_<5.2}]\".format(s))"
   ]
  },
  {
   "cell_type": "code",
   "execution_count": 70,
   "id": "34e181f9",
   "metadata": {},
   "outputs": [
    {
     "name": "stdout",
     "output_type": "stream",
     "text": [
      "[12345], [     12345], [12345]\n",
      "[Hello], [Hello     ], [Hello]\n"
     ]
    }
   ],
   "source": [
    "# 숫자의 경우 : 오른쪽정렬(기본값)\n",
    "# 문자의 경우 : 왼쪽정렬(기본값)\n",
    "# 변수보다 작은 자리수를 지정하면 자릿수가 무시되고 다 출력(정수, 문자 자리수)\n",
    "i = 12345\n",
    "s = \"Hello\"\n",
    "print(\"[{0}], [{0:10}], [{0:3}]\".format(i))\n",
    "print(\"[{0}], [{0:10}], [{0:3}]\".format(s))"
   ]
  },
  {
   "cell_type": "code",
   "execution_count": 2,
   "id": "dc41777b",
   "metadata": {},
   "outputs": [
    {
     "name": "stdout",
     "output_type": "stream",
     "text": [
      "[  123], [ -123]\n",
      "[ +123], [ -123]\n",
      "[+ 123], [- 123]\n"
     ]
    }
   ],
   "source": [
    "# +: 부호를 출력, =: 부호를 맨 앞에 출력\n",
    "a, b = 123, -123\n",
    "print(\"[{:5}], [{:5}]\".format(a, b))\n",
    "print(\"[{:+5}], [{:+5}]\".format(a, b))\n",
    "print(\"[{:=+5}], [{:=+5}]\".format(a, b))"
   ]
  },
  {
   "cell_type": "code",
   "execution_count": 5,
   "id": "58212bbe",
   "metadata": {},
   "outputs": [
    {
     "name": "stdout",
     "output_type": "stream",
     "text": [
      "10진수 a = [   15]\n",
      "16진수 a = [    f]\n",
      " 2진수 a = [ 1111]\n"
     ]
    }
   ],
   "source": [
    "a = 15\n",
    "print(\"10진수 a = [{:5d}]\".format(a))\n",
    "print(\"16진수 a = [{:5x}]\".format(a))\n",
    "print(\" 2진수 a = [{:5b}]\".format(a))"
   ]
  },
  {
   "cell_type": "code",
   "execution_count": 6,
   "id": "c1dd1957",
   "metadata": {},
   "outputs": [
    {
     "name": "stdout",
     "output_type": "stream",
     "text": [
      "[     +2.79]\n"
     ]
    }
   ],
   "source": [
    "f = 2.785\n",
    "print(\"[{:+10.2f}]\".format(f))"
   ]
  },
  {
   "cell_type": "markdown",
   "id": "a2465856",
   "metadata": {},
   "source": [
    "## 4.3 날짜출력"
   ]
  },
  {
   "cell_type": "code",
   "execution_count": 7,
   "id": "2fdbda3a",
   "metadata": {},
   "outputs": [
    {
     "data": {
      "text/plain": [
       "datetime.datetime(2025, 4, 9, 18, 13, 43, 754392)"
      ]
     },
     "execution_count": 7,
     "metadata": {},
     "output_type": "execute_result"
    }
   ],
   "source": [
    "import re\n",
    "from datetime import datetime\n",
    "now = datetime.now()\n",
    "now"
   ]
  },
  {
   "cell_type": "code",
   "execution_count": 9,
   "id": "02468906",
   "metadata": {},
   "outputs": [
    {
     "name": "stdout",
     "output_type": "stream",
     "text": [
      "2025-04-09 18:13:43.754392\n",
      "2025년04월09일 PM 06시 13분 43초\n",
      "2025년04월09일 18시 13분 43초\n"
     ]
    }
   ],
   "source": [
    "print(\"{}\".format(now))\n",
    "print(\"{:%Y년%m월%d일 %p %I시 %M분 %S초}\".format(now))\n",
    "print(\"{:%Y년%m월%d일 %H시 %M분 %S초}\".format(now))"
   ]
  },
  {
   "cell_type": "code",
   "execution_count": 10,
   "id": "1de80cb6",
   "metadata": {},
   "outputs": [
    {
     "name": "stdout",
     "output_type": "stream",
     "text": [
      "2025년04월09일 18시 13분 43초\n"
     ]
    }
   ],
   "source": [
    "print(now.strftime(\"%Y년%m월%d일 %H시 %M분 %S초\"))"
   ]
  },
  {
   "cell_type": "code",
   "execution_count": null,
   "id": "3f5f50cb",
   "metadata": {},
   "outputs": [],
   "source": []
  }
 ],
 "metadata": {
  "kernelspec": {
   "display_name": "Python 3 (ipykernel)",
   "language": "python",
   "name": "python3"
  },
  "language_info": {
   "codemirror_mode": {
    "name": "ipython",
    "version": 3
   },
   "file_extension": ".py",
   "mimetype": "text/x-python",
   "name": "python",
   "nbconvert_exporter": "python",
   "pygments_lexer": "ipython3",
   "version": "3.10.9"
  },
  "toc": {
   "base_numbering": 1,
   "nav_menu": {},
   "number_sections": false,
   "sideBar": true,
   "skip_h1_title": false,
   "title_cell": "Table of Contents",
   "title_sidebar": "Contents",
   "toc_cell": false,
   "toc_position": {
    "height": "calc(100% - 180px)",
    "left": "10px",
    "top": "150px",
    "width": "165px"
   },
   "toc_section_display": true,
   "toc_window_display": true
  }
 },
 "nbformat": 4,
 "nbformat_minor": 5
}
