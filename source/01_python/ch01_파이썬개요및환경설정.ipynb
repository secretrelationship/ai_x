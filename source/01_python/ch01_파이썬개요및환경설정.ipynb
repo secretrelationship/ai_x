{
 "cells": [
  {
   "cell_type": "code",
   "execution_count": null,
   "id": "f6b8ed9a",
   "metadata": {},
   "outputs": [],
   "source": [
    "from IPython.display import display, HTML\n",
    "display(HTML(\"\"\"\n",
    "<style>\n",
    "div.container{width:86% !important;}\n",
    "div.cell.code_cell.rendered{width:100%;}\n",
    "div.CodeMirror {font-family:Consolas; font-size:15pt;}\n",
    "div.output {font-size:15pt; font-weight:bold;}\n",
    "div.input {font-family:Consolas; font-size:15pt;}\n",
    "div.prompt {min-width:70px;}\n",
    "div#toc-wrapper{padding-top:120px;}\n",
    "div.text_cell_render ul li{font-size:12pt;padding:5px;}\n",
    "table.dataframe{font-size:15px;}\n",
    "</style>\n",
    "\"\"\"))"
   ]
  },
  {
   "cell_type": "markdown",
   "id": "b182cf55",
   "metadata": {},
   "source": [
    "<font size=\"S\" color=\"red\">ch01 파이썬개요및환경설정</font>\n",
    "# 1. 주피터 노트북 사용법\n",
    "- shift+enter: 선택된 셀이 실행되고, 다음셀로 이동\n",
    "- alt+enter: 선택된 셀이 실행되고 다음셀이 생성된 후 다음셀로 이동\n",
    "- ctrl+enter:선택된 셀이 실행되고 해당셀에 있음\n",
    "- enter(셀클릭): 다시 편집상태로 돌아감"
   ]
  },
  {
   "cell_type": "code",
   "execution_count": 4,
   "id": "66389c5c",
   "metadata": {},
   "outputs": [
    {
     "name": "stdout",
     "output_type": "stream",
     "text": [
      "Hello, World\n",
      "홍길동\n"
     ]
    }
   ],
   "source": [
    "print(\"Hello, World\\n홍길동\")"
   ]
  },
  {
   "cell_type": "code",
   "execution_count": 7,
   "id": "23409cb3",
   "metadata": {
    "scrolled": true
   },
   "outputs": [
    {
     "name": "stdout",
     "output_type": "stream",
     "text": [
      "252\n",
      "27\n"
     ]
    }
   ],
   "source": [
    "age = 25\n",
    "duration = \"2\"\n",
    "print(str(age) + duration)\n",
    "print(age + int(duration))"
   ]
  },
  {
   "cell_type": "code",
   "execution_count": 8,
   "id": "3b18fcd0",
   "metadata": {},
   "outputs": [
    {
     "name": "stdout",
     "output_type": "stream",
     "text": [
      "0\n",
      "1\n",
      "2\n",
      "3\n",
      "4\n",
      "5\n",
      "6\n",
      "7\n",
      "8\n",
      "9\n"
     ]
    }
   ],
   "source": [
    "# 반복하는 명령(주석:실행하지 않고 개발자가 보는용도)\n",
    "# for i in range(10):\n",
    "#     print(i)"
   ]
  },
  {
   "cell_type": "code",
   "execution_count": 9,
   "id": "9619b3c4",
   "metadata": {},
   "outputs": [],
   "source": [
    "print = 10"
   ]
  },
  {
   "cell_type": "code",
   "execution_count": 11,
   "id": "222f4d29",
   "metadata": {},
   "outputs": [
    {
     "ename": "TypeError",
     "evalue": "'int' object is not callable",
     "output_type": "error",
     "traceback": [
      "\u001b[1;31m---------------------------------------------------------------------------\u001b[0m",
      "\u001b[1;31mTypeError\u001b[0m                                 Traceback (most recent call last)",
      "Cell \u001b[1;32mIn[11], line 1\u001b[0m\n\u001b[1;32m----> 1\u001b[0m \u001b[38;5;28;43mprint\u001b[39;49m\u001b[43m(\u001b[49m\u001b[38;5;124;43m\"\u001b[39;49m\u001b[38;5;124;43mHello\u001b[39;49m\u001b[38;5;124;43m\"\u001b[39;49m\u001b[43m)\u001b[49m\n",
      "\u001b[1;31mTypeError\u001b[0m: 'int' object is not callable"
     ]
    }
   ],
   "source": [
    "print(\"Hello\")"
   ]
  },
  {
   "cell_type": "code",
   "execution_count": 12,
   "id": "87672849",
   "metadata": {},
   "outputs": [],
   "source": [
    "# 실수로 print에 10 할당을 취소하는 방법\n",
    "# 1. 커널 재시작\n",
    "# print 변수만 제거\n",
    "del print"
   ]
  },
  {
   "cell_type": "markdown",
   "id": "3eda71f3",
   "metadata": {},
   "source": [
    "# 2. ESC 키 누르고(핫키)\n",
    "- dd : 삭제\n",
    "- a : 윗셀 추가\n",
    "- b : 아랫셀 추가\n",
    "- m : 마크다운셀(문서셀)로 변경\n",
    "- y : 코드셀로 변경\n",
    "- o : 실행결과 접기/펴기(토글기능)"
   ]
  },
  {
   "cell_type": "markdown",
   "id": "b04d492a",
   "metadata": {},
   "source": [
    "# 3. 마크다운이란?\n",
    "- 코드와 함께 문서화 할 수 있음\n",
    "- 다양한 문서화 문법 ex) README.md"
   ]
  },
  {
   "cell_type": "code",
   "execution_count": null,
   "id": "50834e6a",
   "metadata": {},
   "outputs": [],
   "source": [
    "# 주피터 노트북에서 cmd 활용하는 방법"
   ]
  }
 ],
 "metadata": {
  "kernelspec": {
   "display_name": "Python 3 (ipykernel)",
   "language": "python",
   "name": "python3"
  },
  "language_info": {
   "codemirror_mode": {
    "name": "ipython",
    "version": 3
   },
   "file_extension": ".py",
   "mimetype": "text/x-python",
   "name": "python",
   "nbconvert_exporter": "python",
   "pygments_lexer": "ipython3",
   "version": "3.10.9"
  },
  "toc": {
   "base_numbering": 1,
   "nav_menu": {},
   "number_sections": false,
   "sideBar": true,
   "skip_h1_title": false,
   "title_cell": "Table of Contents",
   "title_sidebar": "Contents",
   "toc_cell": false,
   "toc_position": {},
   "toc_section_display": true,
   "toc_window_display": false
  }
 },
 "nbformat": 4,
 "nbformat_minor": 5
}
