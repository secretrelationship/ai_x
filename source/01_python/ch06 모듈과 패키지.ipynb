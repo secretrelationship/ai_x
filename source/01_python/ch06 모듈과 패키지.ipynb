{
 "cells": [
  {
   "cell_type": "code",
   "execution_count": 1,
   "id": "5ef12c3e",
   "metadata": {},
   "outputs": [
    {
     "data": {
      "text/html": [
       "\n",
       "<style>\n",
       "div.container{width:86% !important;}\n",
       "div.cell.code_cell.rendered{width:100%;}\n",
       "div.CodeMirror {font-family:Consolas; font-size:15pt;}\n",
       "div.output {font-size:15pt; font-weight:bold;}\n",
       "div.input {font-family:Consolas; font-size:15pt;}\n",
       "div.prompt {min-width:70px;}\n",
       "div#toc-wrapper{padding-top:120px;}\n",
       "div.text_cell_render ul li{font-size:12pt;padding:5px;}\n",
       "table.dataframe{font-size:15px;}\n",
       "</style>\n"
      ],
      "text/plain": [
       "<IPython.core.display.HTML object>"
      ]
     },
     "metadata": {},
     "output_type": "display_data"
    }
   ],
   "source": [
    "from IPython.display import display, HTML\n",
    "display(HTML(\"\"\"\n",
    "<style>\n",
    "div.container{width:86% !important;}\n",
    "div.cell.code_cell.rendered{width:100%;}\n",
    "div.CodeMirror {font-family:Consolas; font-size:15pt;}\n",
    "div.output {font-size:15pt; font-weight:bold;}\n",
    "div.input {font-family:Consolas; font-size:15pt;}\n",
    "div.prompt {min-width:70px;}\n",
    "div#toc-wrapper{padding-top:120px;}\n",
    "div.text_cell_render ul li{font-size:12pt;padding:5px;}\n",
    "table.dataframe{font-size:15px;}\n",
    "</style>\n",
    "\"\"\"))"
   ]
  },
  {
   "cell_type": "markdown",
   "id": "a988c0e5",
   "metadata": {},
   "source": [
    "<b><font sixe=\"8\" color=\"red\">ch06_모듈과 패키지</font></b>\n",
    "\n",
    "# 1절 파이썬 모듈 활용\n",
    "- 모듈: 함수, 변수, 클래스 등을 담고 있는 파이썬 코드 파일(*.py)\n",
    "- anaconda는 1500개 이상의 패키지 install(정확한 갯수는 버전에 따라 상이)\n",
    "- miniconda : python,org 버전보다 조금 많이 install(최소한의 것만)\n",
    "- python.org: 파이썬 인터프리터와 함께 파이썬 표준 모듈200여개 install(re,datetime..)\n"
   ]
  },
  {
   "cell_type": "code",
   "execution_count": 2,
   "id": "a539efcf",
   "metadata": {},
   "outputs": [
    {
     "data": {
      "text/plain": [
       "'Fri Apr 18 10:45:18 2025'"
      ]
     },
     "execution_count": 2,
     "metadata": {},
     "output_type": "execute_result"
    }
   ],
   "source": [
    "#1. import 모듈명 : 모듈안의 함수, 클래스, 변수를 모듈명.함수명().. 사용가능\n",
    "import time #time 모듈안의 모든 함수, 클래스, 변수를 메모리 로드\n",
    "time.ctime()"
   ]
  },
  {
   "cell_type": "code",
   "execution_count": 3,
   "id": "13a7cbaf",
   "metadata": {},
   "outputs": [
    {
     "data": {
      "text/plain": [
       "1744940754.3100114"
      ]
     },
     "execution_count": 3,
     "metadata": {},
     "output_type": "execute_result"
    }
   ],
   "source": [
    "time.time() #1970.1.1부터 일리세컨수"
   ]
  },
  {
   "cell_type": "code",
   "execution_count": 4,
   "id": "dae83106",
   "metadata": {},
   "outputs": [],
   "source": [
    "del time"
   ]
  },
  {
   "cell_type": "code",
   "execution_count": 10,
   "id": "31ee2eeb",
   "metadata": {},
   "outputs": [],
   "source": [
    "#2. from (모듈 A ) import 함수/클래스변수(B) : A 모듈 안의 B만 모듈 \n",
    "# from 패키지(A) import 모듈(B): A 패키지 안의 B 모듈을 Load \n",
    "# from 패키지(A).모듈명(B) import 함수|클래스|변수(C) : A패키지밑의 B모듈의 C만 load"
   ]
  },
  {
   "cell_type": "code",
   "execution_count": 14,
   "id": "3cdb2703",
   "metadata": {},
   "outputs": [],
   "source": [
    "from time import ctime, time"
   ]
  },
  {
   "cell_type": "code",
   "execution_count": 15,
   "id": "900cbf3b",
   "metadata": {},
   "outputs": [
    {
     "data": {
      "text/plain": [
       "'Fri Apr 18 11:25:41 2025'"
      ]
     },
     "execution_count": 15,
     "metadata": {},
     "output_type": "execute_result"
    }
   ],
   "source": [
    "ctime()"
   ]
  },
  {
   "cell_type": "code",
   "execution_count": 16,
   "id": "5638673c",
   "metadata": {},
   "outputs": [
    {
     "data": {
      "text/plain": [
       "1744943153.866529"
      ]
     },
     "execution_count": 16,
     "metadata": {},
     "output_type": "execute_result"
    }
   ],
   "source": [
    "\n",
    "time()"
   ]
  },
  {
   "cell_type": "code",
   "execution_count": 17,
   "id": "6d466de2",
   "metadata": {},
   "outputs": [],
   "source": [
    "del ctime, time"
   ]
  },
  {
   "cell_type": "code",
   "execution_count": 18,
   "id": "6818d959",
   "metadata": {},
   "outputs": [],
   "source": [
    "# 3. import 모듈명 as 별칭 : 모듈을 메모리에서 load하고 별칭으로 사용\n",
    "import time as t"
   ]
  },
  {
   "cell_type": "code",
   "execution_count": 19,
   "id": "e8633f6d",
   "metadata": {},
   "outputs": [
    {
     "data": {
      "text/plain": [
       "'Fri Apr 18 11:26:30 2025'"
      ]
     },
     "execution_count": 19,
     "metadata": {},
     "output_type": "execute_result"
    }
   ],
   "source": [
    "t.ctime()"
   ]
  },
  {
   "cell_type": "code",
   "execution_count": 20,
   "id": "2d4677cb",
   "metadata": {},
   "outputs": [
    {
     "data": {
      "text/plain": [
       "1744943196.2796092"
      ]
     },
     "execution_count": 20,
     "metadata": {},
     "output_type": "execute_result"
    }
   ],
   "source": [
    "t.time()"
   ]
  },
  {
   "cell_type": "code",
   "execution_count": 6,
   "id": "e48fbfbc",
   "metadata": {},
   "outputs": [],
   "source": [
    "#4 from 모듈명 import 함수\n",
    "# from 패키지명 import 모듈명 as 별칭\n",
    "# from 패키지명.모듈명 import 함수 as 별칭\n",
    "from time import ctime as ct, time as ti"
   ]
  },
  {
   "cell_type": "code",
   "execution_count": 7,
   "id": "8a9250b0",
   "metadata": {},
   "outputs": [
    {
     "data": {
      "text/plain": [
       "'Fri Apr 18 11:00:01 2025'"
      ]
     },
     "execution_count": 7,
     "metadata": {},
     "output_type": "execute_result"
    }
   ],
   "source": [
    "ct()"
   ]
  },
  {
   "cell_type": "code",
   "execution_count": 8,
   "id": "b6a6906f",
   "metadata": {},
   "outputs": [
    {
     "data": {
      "text/plain": [
       "1744941607.8357413"
      ]
     },
     "execution_count": 8,
     "metadata": {},
     "output_type": "execute_result"
    }
   ],
   "source": [
    "ti()"
   ]
  },
  {
   "cell_type": "markdown",
   "id": "a19d13be",
   "metadata": {},
   "source": [
    "# 2절 사용자 정의 모듈\n",
    "- 모듈 가져오는 순서 (1) 파이썬 표준 모듈 (2) sys,path 변수에 저장된 경로"
   ]
  },
  {
   "cell_type": "code",
   "execution_count": 1,
   "id": "583d4304",
   "metadata": {},
   "outputs": [
    {
     "data": {
      "text/plain": [
       "['C:\\\\ai_x\\\\source\\\\01_python',\n",
       " 'C:\\\\Users\\\\Admin\\\\anaconda3\\\\python310.zip',\n",
       " 'C:\\\\Users\\\\Admin\\\\anaconda3\\\\DLLs',\n",
       " 'C:\\\\Users\\\\Admin\\\\anaconda3\\\\lib',\n",
       " 'C:\\\\Users\\\\Admin\\\\anaconda3',\n",
       " '',\n",
       " 'C:\\\\Users\\\\Admin\\\\anaconda3\\\\lib\\\\site-packages',\n",
       " 'C:\\\\Users\\\\Admin\\\\anaconda3\\\\lib\\\\site-packages\\\\win32',\n",
       " 'C:\\\\Users\\\\Admin\\\\anaconda3\\\\lib\\\\site-packages\\\\win32\\\\lib',\n",
       " 'C:\\\\Users\\\\Admin\\\\anaconda3\\\\lib\\\\site-packages\\\\Pythonwin']"
      ]
     },
     "execution_count": 1,
     "metadata": {},
     "output_type": "execute_result"
    }
   ],
   "source": [
    "import sys\n",
    "sys.path"
   ]
  },
  {
   "cell_type": "code",
   "execution_count": 2,
   "id": "c2f17542",
   "metadata": {},
   "outputs": [
    {
     "data": {
      "text/plain": [
       "['C:\\\\ai_x\\\\source\\\\01_python',\n",
       " 'C:\\\\Users\\\\Admin\\\\anaconda3\\\\python310.zip',\n",
       " 'C:\\\\Users\\\\Admin\\\\anaconda3\\\\DLLs',\n",
       " 'C:\\\\Users\\\\Admin\\\\anaconda3\\\\lib',\n",
       " 'C:\\\\Users\\\\Admin\\\\anaconda3',\n",
       " '',\n",
       " 'C:\\\\Users\\\\Admin\\\\anaconda3\\\\lib\\\\site-packages',\n",
       " 'C:\\\\Users\\\\Admin\\\\anaconda3\\\\lib\\\\site-packages\\\\win32',\n",
       " 'C:\\\\Users\\\\Admin\\\\anaconda3\\\\lib\\\\site-packages\\\\win32\\\\lib',\n",
       " 'C:\\\\Users\\\\Admin\\\\anaconda3\\\\lib\\\\site-packages\\\\Pythonwin',\n",
       " 'C:\\\\ai_x\\\\source\\\\pylib']"
      ]
     },
     "execution_count": 2,
     "metadata": {},
     "output_type": "execute_result"
    }
   ],
   "source": [
    "sys.path.append(r'C:\\ai_x\\source\\pylib')\n",
    "sys.path                "
   ]
  },
  {
   "cell_type": "code",
   "execution_count": 22,
   "id": "8a4443ea",
   "metadata": {},
   "outputs": [
    {
     "name": "stdout",
     "output_type": "stream",
     "text": [
      "0 1 1 2 3 5 8 13 21 34 55 89 144 \n",
      "[0, 1, 1, 2, 3, 5, 8, 13, 21, 34, 55, 89]\n"
     ]
    }
   ],
   "source": [
    "#1 \n",
    "import fibo\n",
    "fibo.fibonacci_print(200)\n",
    "print(fibo.fibonacci_return(100))"
   ]
  },
  {
   "cell_type": "code",
   "execution_count": 23,
   "id": "a91a708c",
   "metadata": {},
   "outputs": [],
   "source": [
    "del fibo"
   ]
  },
  {
   "cell_type": "code",
   "execution_count": 24,
   "id": "470aaae1",
   "metadata": {},
   "outputs": [
    {
     "name": "stdout",
     "output_type": "stream",
     "text": [
      "0 1 1 2 3 5 8 13 21 34 55 89 \n"
     ]
    }
   ],
   "source": [
    "#2\n",
    "from fibo import fibonacci_print\n",
    "fibonacci_print(100)"
   ]
  },
  {
   "cell_type": "code",
   "execution_count": 25,
   "id": "823d5ae1",
   "metadata": {},
   "outputs": [],
   "source": [
    "del fibonacci_print"
   ]
  },
  {
   "cell_type": "code",
   "execution_count": 26,
   "id": "19fc3cde",
   "metadata": {},
   "outputs": [
    {
     "name": "stdout",
     "output_type": "stream",
     "text": [
      "0 1 1 2 3 5 8 13 21 34 55 89 144 \n",
      "[0, 1, 1, 2, 3, 5, 8, 13, 21, 34, 55, 89]\n"
     ]
    }
   ],
   "source": [
    "# 3 \n",
    "import fibo as f\n",
    "f.fibonacci_print(200)\n",
    "print(f.fibonacci_return(100))"
   ]
  },
  {
   "cell_type": "code",
   "execution_count": 27,
   "id": "b859ff29",
   "metadata": {},
   "outputs": [
    {
     "data": {
      "text/plain": [
       "[0, 1, 1, 2, 3, 5, 8, 13, 21, 34, 55, 89, 144]"
      ]
     },
     "execution_count": 27,
     "metadata": {},
     "output_type": "execute_result"
    }
   ],
   "source": [
    "#4\n",
    "from fibo import fibonacci_return as fibo_r\n",
    "fibo_r(200)"
   ]
  },
  {
   "cell_type": "markdown",
   "id": "3acbac17",
   "metadata": {},
   "source": [
    "## 사용자 정의 패키지와 모듈 "
   ]
  },
  {
   "cell_type": "code",
   "execution_count": 3,
   "id": "7ebe34f3",
   "metadata": {},
   "outputs": [],
   "source": [
    "import sample_pac"
   ]
  },
  {
   "cell_type": "code",
   "execution_count": 1,
   "id": "0fdd3712",
   "metadata": {},
   "outputs": [],
   "source": [
    "import sys\n",
    "sys.path.append(r'C:\\ai_x\\source\\pylib')"
   ]
  },
  {
   "cell_type": "code",
   "execution_count": 2,
   "id": "6f33c608",
   "metadata": {},
   "outputs": [
    {
     "name": "stdout",
     "output_type": "stream",
     "text": [
      "sample_pac 패키지안의 ab패키지 로드됩니다.\n"
     ]
    }
   ],
   "source": [
    "from sample_pac.ab import *"
   ]
  },
  {
   "cell_type": "code",
   "execution_count": 3,
   "id": "625a1507",
   "metadata": {},
   "outputs": [
    {
     "name": "stdout",
     "output_type": "stream",
     "text": [
      "sample_pac/ab파일의 a모듈안의 hello\n"
     ]
    }
   ],
   "source": [
    "a.hello()"
   ]
  },
  {
   "cell_type": "code",
   "execution_count": 7,
   "id": "f0bc6614",
   "metadata": {},
   "outputs": [
    {
     "ename": "NameError",
     "evalue": "name 'b' is not defined",
     "output_type": "error",
     "traceback": [
      "\u001b[1;31m---------------------------------------------------------------------------\u001b[0m",
      "\u001b[1;31mNameError\u001b[0m                                 Traceback (most recent call last)",
      "Cell \u001b[1;32mIn[7], line 1\u001b[0m\n\u001b[1;32m----> 1\u001b[0m \u001b[43mb\u001b[49m\u001b[38;5;241m.\u001b[39mworld()\n",
      "\u001b[1;31mNameError\u001b[0m: name 'b' is not defined"
     ]
    }
   ],
   "source": [
    "b.world()"
   ]
  },
  {
   "cell_type": "code",
   "execution_count": 8,
   "id": "dd7beb74",
   "metadata": {},
   "outputs": [],
   "source": [
    "from sample_pac.ab.b import world"
   ]
  },
  {
   "cell_type": "code",
   "execution_count": 9,
   "id": "5e2261f2",
   "metadata": {},
   "outputs": [
    {
     "name": "stdout",
     "output_type": "stream",
     "text": [
      "sample_pac/ab파일의 b모듈안의 world\n"
     ]
    }
   ],
   "source": [
    "world()"
   ]
  },
  {
   "cell_type": "code",
   "execution_count": 5,
   "id": "150e56e7",
   "metadata": {},
   "outputs": [
    {
     "name": "stdout",
     "output_type": "stream",
     "text": [
      "sample_pac/cd/c모듈안의 nice\n",
      "sample_pac/ab파일의 a모듈안의 hello\n"
     ]
    }
   ],
   "source": [
    "import sample_pac.cd.c as c\n",
    "c.nice()"
   ]
  },
  {
   "cell_type": "code",
   "execution_count": 6,
   "id": "42e8111e",
   "metadata": {},
   "outputs": [
    {
     "name": "stdout",
     "output_type": "stream",
     "text": [
      "sample_pac/ab파일의 a모듈안의 hello\n"
     ]
    }
   ],
   "source": [
    "c.a.hello()"
   ]
  },
  {
   "cell_type": "markdown",
   "id": "5ae60219",
   "metadata": {},
   "source": [
    "# 4절 패키지 설치\n",
    "- 패키지 설치: pip install 패키지명[==버전] conda install 패키지명[==버전]\n",
    "               pip install 패키지확인명 \n",
    "- 패키지 확인: pip show 패키지명            / conda list 패키지명 \n",
    "- 패키지 삭제: pip uninstall 패키지명       / conda remove 패키지명"
   ]
  },
  {
   "cell_type": "code",
   "execution_count": 10,
   "id": "c906516b",
   "metadata": {},
   "outputs": [],
   "source": [
    "import objgraph #메모리 사용량 출력하는 함수 "
   ]
  },
  {
   "cell_type": "code",
   "execution_count": 12,
   "id": "c6181247",
   "metadata": {},
   "outputs": [
    {
     "name": "stdout",
     "output_type": "stream",
     "text": [
      "dict          34275\n",
      "list          25800\n",
      "function      18540\n",
      "Token         16784\n",
      "tuple         13303\n",
      "Operator      8519\n",
      "Name          7990\n",
      "ReferenceType 5475\n",
      "DFAPlan       5418\n",
      "PythonNode    4827\n"
     ]
    }
   ],
   "source": [
    "objgraph.show_most_common_types()"
   ]
  },
  {
   "cell_type": "markdown",
   "id": "2858bdc8",
   "metadata": {},
   "source": [
    "# 5절 연습문제 "
   ]
  },
  {
   "cell_type": "code",
   "execution_count": 14,
   "id": "f013779a",
   "metadata": {},
   "outputs": [],
   "source": [
    "# 1(3)\n",
    "# 2(4)\n",
    "# 3 __init__.py\n",
    "#4. __all__\n",
    "#5. (1) python - m pip install -- upgrade pip(pip최신버전업그레이드)"
   ]
  },
  {
   "cell_type": "code",
   "execution_count": null,
   "id": "55eb54c7",
   "metadata": {},
   "outputs": [],
   "source": []
  }
 ],
 "metadata": {
  "kernelspec": {
   "display_name": "Python 3 (ipykernel)",
   "language": "python",
   "name": "python3"
  },
  "language_info": {
   "codemirror_mode": {
    "name": "ipython",
    "version": 3
   },
   "file_extension": ".py",
   "mimetype": "text/x-python",
   "name": "python",
   "nbconvert_exporter": "python",
   "pygments_lexer": "ipython3",
   "version": "3.10.9"
  },
  "toc": {
   "base_numbering": 1,
   "nav_menu": {},
   "number_sections": false,
   "sideBar": true,
   "skip_h1_title": false,
   "title_cell": "Table of Contents",
   "title_sidebar": "Contents",
   "toc_cell": false,
   "toc_position": {},
   "toc_section_display": true,
   "toc_window_display": false
  }
 },
 "nbformat": 4,
 "nbformat_minor": 5
}
