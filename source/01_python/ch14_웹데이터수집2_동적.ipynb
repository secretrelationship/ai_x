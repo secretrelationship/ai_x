{
 "cells": [
  {
   "cell_type": "code",
   "execution_count": 5,
   "id": "897dc3bb",
   "metadata": {},
   "outputs": [
    {
     "data": {
      "text/html": [
       "\n",
       "<style>\n",
       "div.container{width:86% !important;}\n",
       "div.cell.code_cell.rendered{width:100%;}\n",
       "div.CodeMirror {font-family:Consolas; font-size:15pt;}\n",
       "div.output {font-size:15pt; font-weight:bold;}\n",
       "div.input {font-family:Consolas; font-size:15pt;}\n",
       "div.prompt {min-width:70px;}\n",
       "div#toc-wrapper{padding-top:120px;}\n",
       "div.text_cell_render ul li{font-size:12pt;padding:5px;}\n",
       "table.dataframe{font-size:15px;}\n",
       "</style>\n"
      ],
      "text/plain": [
       "<IPython.core.display.HTML object>"
      ]
     },
     "metadata": {},
     "output_type": "display_data"
    }
   ],
   "source": [
    "from IPython.display import display, HTML\n",
    "display(HTML(\"\"\"\n",
    "<style>\n",
    "div.container{width:86% !important;}\n",
    "div.cell.code_cell.rendered{width:100%;}\n",
    "div.CodeMirror {font-family:Consolas; font-size:15pt;}\n",
    "div.output {font-size:15pt; font-weight:bold;}\n",
    "div.input {font-family:Consolas; font-size:15pt;}\n",
    "div.prompt {min-width:70px;}\n",
    "div#toc-wrapper{padding-top:120px;}\n",
    "div.text_cell_render ul li{font-size:12pt;padding:5px;}\n",
    "table.dataframe{font-size:15px;}\n",
    "</style>\n",
    "\"\"\"))"
   ]
  },
  {
   "cell_type": "markdown",
   "id": "140b0ae6",
   "metadata": {},
   "source": [
    "<b><font size=\"5\" color=\"red\">ch14_웹데이터수집2_동적</font></b>\n",
    "# 3절\n",
    "## 3.1 문법"
   ]
  },
  {
   "cell_type": "code",
   "execution_count": 1,
   "id": "941d6b1e",
   "metadata": {},
   "outputs": [],
   "source": [
    "from selenium import webdriver\n",
    "from selenium.webdriver.common.by import By\n",
    "import time\n",
    "driver = webdriver.Chrome()\n",
    "driver.get(\"http://www.python.org\")"
   ]
  },
  {
   "cell_type": "code",
   "execution_count": 2,
   "id": "ba4e2286",
   "metadata": {},
   "outputs": [],
   "source": [
    "elem = driver.find_element(By.NAME, 'q')\n",
    "elem.clear()\n",
    "elem.send_keys('pycon')"
   ]
  },
  {
   "cell_type": "code",
   "execution_count": 3,
   "id": "7861618f",
   "metadata": {},
   "outputs": [],
   "source": [
    "from selenium.webdriver.common.keys import Keys\n",
    "elem.send_keys(Keys.RETURN) # enter 효과"
   ]
  },
  {
   "cell_type": "code",
   "execution_count": 10,
   "id": "83653015",
   "metadata": {},
   "outputs": [
    {
     "name": "stdout",
     "output_type": "stream",
     "text": [
      "PSF PyCon Trademark Usage Policy - https://www.python.org/psf/trademarks/pycon\n",
      "PyCon Italia 2016 (PyCon Sette) - https://www.python.org/events/python-events/378/\n",
      "PyCon Australia 2013 - https://www.python.org/events/python-events/57/\n",
      "PyCon AU 2019 - https://www.python.org/events/python-events/776/\n",
      "PyCon Australia 2014 - https://www.python.org/events/python-events/10/\n",
      "PyCon Ireland 2012 - https://www.python.org/events/python-events/76/\n",
      "PyCon Ireland 2016 - https://www.python.org/events/python-events/429/\n",
      "PyCon Ireland 2022 - https://www.python.org/events/python-events/1320/\n",
      "PyCon Australia 2014 - https://www.python.org/events/python-events/1447/\n",
      "PyCon Ireland 2024 - https://www.python.org/events/python-events/1862/\n",
      "PyCon APAC 2025 - https://www.python.org/events/python-events/1879/\n",
      "PyCon AU 2018 - https://www.python.org/events/python-events/696/\n",
      "PyCon APAC 2022 - https://www.python.org/events/python-events/1216/\n",
      "PyCon PH 2024 - https://www.python.org/events/python-events/1661/\n",
      "PyCon Ireland 2023 - https://www.python.org/events/python-events/1568/\n",
      "PyCon PL 2014 - https://www.python.org/events/python-events/191/\n",
      "PyCon MY 2015 - https://www.python.org/events/python-events/313/\n",
      "PyCon Ireland 2015 - https://www.python.org/events/python-events/333/\n",
      "PyCon AU 2015 - https://www.python.org/events/python-events/273/\n",
      "PyCon Australia 2016 - https://www.python.org/events/python-events/357/\n"
     ]
    }
   ],
   "source": [
    "result_list = driver.find_elements(By.CSS_SELECTOR,'li>h3>a')\n",
    "for result in result_list:\n",
    "    print(\"{} - {}\".format(result.text,result.get_attribute('href')))"
   ]
  },
  {
   "cell_type": "code",
   "execution_count": 7,
   "id": "1f00dcf1",
   "metadata": {},
   "outputs": [
    {
     "name": "stdout",
     "output_type": "stream",
     "text": [
      "PSF PyCon Trademark Usage Policy -/psf/trademarks/pycon\n",
      "PyCon Italia 2016 (PyCon Sette) -/events/python-events/378/\n",
      "PyCon Australia 2013 -/events/python-events/57/\n",
      "PyCon AU 2019 -/events/python-events/776/\n",
      "PyCon Australia 2014 -/events/python-events/10/\n",
      "PyCon Ireland 2012 -/events/python-events/76/\n",
      "PyCon Ireland 2016 -/events/python-events/429/\n",
      "PyCon Ireland 2022 -/events/python-events/1320/\n",
      "PyCon Australia 2014 -/events/python-events/1447/\n",
      "PyCon Ireland 2024 -/events/python-events/1862/\n",
      "PyCon APAC 2025 -/events/python-events/1879/\n",
      "PyCon AU 2018 -/events/python-events/696/\n",
      "PyCon APAC 2022 -/events/python-events/1216/\n",
      "PyCon PH 2024 -/events/python-events/1661/\n",
      "PyCon Ireland 2023 -/events/python-events/1568/\n",
      "PyCon PL 2014 -/events/python-events/191/\n",
      "PyCon MY 2015 -/events/python-events/313/\n",
      "PyCon Ireland 2015 -/events/python-events/333/\n",
      "PyCon AU 2015 -/events/python-events/273/\n",
      "PyCon Australia 2016 -/events/python-events/357/\n"
     ]
    }
   ],
   "source": [
    "from bs4 import BeautifulSoup\n",
    "soup = BeautifulSoup(driver.page_source, \"html.parser\")\n",
    "result_list = soup.select('li > h3 > a')\n",
    "for result in result_list:\n",
    "    print(\"{} -{}\".format(result.text, result.attrs['href']))"
   ]
  },
  {
   "cell_type": "code",
   "execution_count": 9,
   "id": "96cc5dce",
   "metadata": {},
   "outputs": [
    {
     "name": "stdout",
     "output_type": "stream",
     "text": [
      "현재 주소 : https://www.python.org/search/?q=pycon&submit=\n",
      "parse_url: ParseResult(scheme='https', netloc='www.python.org', path='/search/', params='', query='q=pycon&submit=', fragment='')\n",
      "https://www.python.org\n"
     ]
    }
   ],
   "source": [
    "# 셀리니움을 통해 접근한 현재 url\n",
    "from urllib.parse import urlparse\n",
    "current_url = driver.current_url\n",
    "print('현재 주소 :',current_url)\n",
    "parse_url =urlparse(current_url)\n",
    "print('parse_url:',parse_url)\n",
    "domain = f'{parse_url.scheme}://{parse_url.netloc}'\n",
    "print(domain)"
   ]
  },
  {
   "cell_type": "code",
   "execution_count": 18,
   "id": "ea5fdd0b",
   "metadata": {},
   "outputs": [
    {
     "name": "stdout",
     "output_type": "stream",
     "text": [
      "PSF PyCon Trademark Usage Policy - https://www.python.org/psf/trademarks/pycon\n",
      "PyCon Italia 2016 (PyCon Sette) - https://www.python.org/events/python-events/378/\n",
      "PyCon Australia 2013 - https://www.python.org/events/python-events/57/\n",
      "PyCon AU 2019 - https://www.python.org/events/python-events/776/\n",
      "PyCon Australia 2014 - https://www.python.org/events/python-events/10/\n",
      "PyCon Ireland 2012 - https://www.python.org/events/python-events/76/\n",
      "PyCon Ireland 2016 - https://www.python.org/events/python-events/429/\n",
      "PyCon Ireland 2022 - https://www.python.org/events/python-events/1320/\n",
      "PyCon Australia 2014 - https://www.python.org/events/python-events/1447/\n",
      "PyCon Ireland 2024 - https://www.python.org/events/python-events/1862/\n",
      "PyCon APAC 2025 - https://www.python.org/events/python-events/1879/\n",
      "PyCon AU 2018 - https://www.python.org/events/python-events/696/\n",
      "PyCon APAC 2022 - https://www.python.org/events/python-events/1216/\n",
      "PyCon PH 2024 - https://www.python.org/events/python-events/1661/\n",
      "PyCon Ireland 2023 - https://www.python.org/events/python-events/1568/\n",
      "PyCon PL 2014 - https://www.python.org/events/python-events/191/\n",
      "PyCon MY 2015 - https://www.python.org/events/python-events/313/\n",
      "PyCon Ireland 2015 - https://www.python.org/events/python-events/333/\n",
      "PyCon AU 2015 - https://www.python.org/events/python-events/273/\n",
      "PyCon Australia 2016 - https://www.python.org/events/python-events/357/\n"
     ]
    }
   ],
   "source": [
    "\n",
    "from bs4 import BeautifulSoup\n",
    "soup = BeautifulSoup(driver.page_source, \"html.parser\")\n",
    "result_list = soup.select('li > h3 > a')\n",
    "for result in result_list:\n",
    "    print(\"{} - {}\".format(result.text, domain+result.attrs['href']))"
   ]
  },
  {
   "cell_type": "code",
   "execution_count": 19,
   "id": "8b76dff2",
   "metadata": {},
   "outputs": [],
   "source": [
    "driver.close() # 브라우저 종료"
   ]
  },
  {
   "cell_type": "markdown",
   "id": "357492f5",
   "metadata": {},
   "source": [
    "## 3.2 예제"
   ]
  },
  {
   "cell_type": "markdown",
   "id": "7eb6441e",
   "metadata": {},
   "source": [
    "### 1) 다음 뉴스 검색"
   ]
  },
  {
   "cell_type": "code",
   "execution_count": 20,
   "id": "86331ef6",
   "metadata": {},
   "outputs": [
    {
     "name": "stdout",
     "output_type": "stream",
     "text": [
      "검색하고자 하는 단어는?청바지\n"
     ]
    }
   ],
   "source": [
    "from selenium import webdriver\n",
    "from selenium.webdriver.common.by import By\n",
    "from selenium.webdriver.common.keys import Keys\n",
    "import time\n",
    "driver = webdriver.Chrome()\n",
    "driver.get('https://www.daum.net/')\n",
    "# input 태그를 click\n",
    "driver.find_element(By.NAME, 'q').click()\n",
    "query = input('검색하고자 하는 단어는?')\n",
    "driver.find_element(By.CSS_SELECTOR, 'input[type=\"text\"]').send_keys(query)\n",
    "driver.find_element(By.CLASS_NAME, 'btn_ksearch').click()"
   ]
  },
  {
   "cell_type": "code",
   "execution_count": 21,
   "id": "06131d37",
   "metadata": {},
   "outputs": [],
   "source": [
    "# 뉴스탭 클릭 : ul.list_tab > li\n",
    "driver.find_elements(By.CSS_SELECTOR, 'ul.list_tab > li')[3].click()\n",
    "driver.find_element(By.LINK_TEXT, '뉴스').click() # 쉬는 시간 훈련생 제안"
   ]
  },
  {
   "cell_type": "code",
   "execution_count": 22,
   "id": "c8efdf65",
   "metadata": {},
   "outputs": [
    {
     "name": "stdout",
     "output_type": "stream",
     "text": [
      "“추앙받을 만 하네”… 김지원, 셔츠에 청바지만 입어도 공항 ‘정지’ http://v.daum.net/v/20250526182411395\n",
      "이민정, 매장 빌려 폭풍 쇼핑 \"10년 전 샀던 청바지는 응급실\"(MJ) http://v.daum.net/v/20250527191015309\n",
      "흰 티셔츠에 청바지 정석대로 입는 법 http://v.daum.net/v/20250527185425864\n",
      "이민정, 매장 통째로 빌려 청바지 쇼핑…♥이병헌도 놀랄 핏 http://v.daum.net/v/20250527185535885\n",
      "\"청바지가 잘 어울리는 남자\" 재해석…브브걸 감성 리메이크 '희망사항' 발매 http://v.daum.net/v/20250529180842220\n",
      "'의사 그만둔' 고윤정, 흰 티+청바지...\"정석 미녀\" [★해시태그] http://v.daum.net/v/20250522182007490\n",
      "이시영처럼 다리 길어보이고 싶어서 청바지 분석함 [입스타그램] http://v.daum.net/v/20250519172231644\n",
      "\"청렴이 최고\" … 창원특례시 성산구 문화위생과, '청바지 데이' 추진 http://v.daum.net/v/20250511091428626\n",
      "패셔니스타 김지원, 청바지가 어울리는 여자랍니다! [포토] http://v.daum.net/v/20250518220139191\n",
      "박병은 \"류준하로 3개월 활동\"…청바지 모델 시절 언급 http://v.daum.net/v/20250519190323957\n"
     ]
    }
   ],
   "source": [
    "news_list = []\n",
    "elems = driver.find_elements(By.CSS_SELECTOR, 'div.item-title > strong.tit-g > a')\n",
    "for elem in elems:\n",
    "    title = elem.text\n",
    "    link  = elem.get_attribute('href')\n",
    "    news_list.append([title, link])\n",
    "    print(title, link)"
   ]
  },
  {
   "cell_type": "code",
   "execution_count": 25,
   "id": "5e3c7aa8",
   "metadata": {},
   "outputs": [],
   "source": [
    "# 2page로\n",
    "page_div = driver.find_element(By.CSS_SELECTOR, 'div.inner_paging')\n",
    "# print(page_div.text)\n",
    "next_page = page_div.find_element(By.LINK_TEXT, '2')\n",
    "next_page.click()"
   ]
  },
  {
   "cell_type": "code",
   "execution_count": 24,
   "id": "6039be37",
   "metadata": {},
   "outputs": [],
   "source": [
    "#### 페이징처리\n",
    "#다음 뉴스 검색: 원하는 단어를 원하는 page 수만큼 "
   ]
  },
  {
   "cell_type": "code",
   "execution_count": 28,
   "id": "8969b852",
   "metadata": {},
   "outputs": [
    {
     "name": "stdout",
     "output_type": "stream",
     "text": [
      "검색하고자 하는 단어?원어스 서호\n"
     ]
    }
   ],
   "source": [
    "from selenium import webdriver\n",
    "from selenium.webdriver.common.by import By\n",
    "from selenium.webdriver.common.keys import Keys\n",
    "import time\n",
    "driver = webdriver.Chrome()\n",
    "driver.get('https://www.daum.net/')\n",
    "# input 태그를 click\n",
    "time.sleep(1)\n",
    "driver.find_element(By.NAME, 'q').click()\n",
    "query = input('검색하고자 하는 단어?')\n",
    "driver.find_element(By.CSS_SELECTOR, 'input[type=\"text\"]').send_keys(query)\n",
    "driver.find_element(By.CLASS_NAME, 'btn_ksearch').click()\n",
    "time.sleep(2)\n",
    "# 뉴스탭 클릭 : ul.list_tab > li\n",
    "# driver.find_elements(By.CSS_SELECTOR, 'ul.list_tab > li')[3].click()\n",
    "driver.find_element(By.LINK_TEXT, '뉴스').click() # 쉬는 시간 훈련생 제안\n",
    "time.sleep(2)\n",
    "news_list = []\n",
    "pages = 3\n",
    "for page in range(1, pages+1):\n",
    "    elems = driver.find_elements(By.CSS_SELECTOR, 'div.item-title > strong.tit-g > a')\n",
    "    for elem in elems:\n",
    "        title = elem.text\n",
    "        link  = elem.get_attribute('href')\n",
    "        news_list.append([title, link])\n",
    "        # print(title, link)\n",
    "    # 2page로\n",
    "    page_div = driver.find_element(By.CSS_SELECTOR, 'div.inner_paging')\n",
    "    # print(page_div.text)\n",
    "    next_page = page_div.find_element(By.LINK_TEXT, str(page+1) )\n",
    "    next_page.click()\n",
    "    time.sleep(1.5)\n",
    "driver.close()\n",
    "import pandas as pd\n",
    "df = pd.DataFrame(news_list, columns=['title', 'link'])\n",
    "df.to_csv('data/ch14_daum.csv', index=False)\n"
   ]
  },
  {
   "cell_type": "code",
   "execution_count": 29,
   "id": "468def11",
   "metadata": {},
   "outputs": [
    {
     "data": {
      "text/html": [
       "<div>\n",
       "<style scoped>\n",
       "    .dataframe tbody tr th:only-of-type {\n",
       "        vertical-align: middle;\n",
       "    }\n",
       "\n",
       "    .dataframe tbody tr th {\n",
       "        vertical-align: top;\n",
       "    }\n",
       "\n",
       "    .dataframe thead th {\n",
       "        text-align: right;\n",
       "    }\n",
       "</style>\n",
       "<table border=\"1\" class=\"dataframe\">\n",
       "  <thead>\n",
       "    <tr style=\"text-align: right;\">\n",
       "      <th></th>\n",
       "      <th>title</th>\n",
       "      <th>link</th>\n",
       "    </tr>\n",
       "  </thead>\n",
       "  <tbody>\n",
       "    <tr>\n",
       "      <th>0</th>\n",
       "      <td>원어스, 서호 필두로 솔로 프로젝트 돌입!</td>\n",
       "      <td>http://v.daum.net/v/20250331071216488</td>\n",
       "    </tr>\n",
       "    <tr>\n",
       "      <th>1</th>\n",
       "      <td>원어스 서호, 솔로곡 'Hatchling' 콘셉트 포토 오픈</td>\n",
       "      <td>http://v.daum.net/v/20250320143251101</td>\n",
       "    </tr>\n",
       "    <tr>\n",
       "      <th>2</th>\n",
       "      <td>‘청량 보컬’ 원어스 서호, 오늘(23일) ‘Hatchling’ 발매</td>\n",
       "      <td>http://v.daum.net/v/20250323164531846</td>\n",
       "    </tr>\n",
       "    <tr>\n",
       "      <th>3</th>\n",
       "      <td>원어스 서호, 오늘 솔로곡 ‘해츨링’ 발매...입대 전 녹음 완료</td>\n",
       "      <td>http://v.daum.net/v/20250323163905662</td>\n",
       "    </tr>\n",
       "    <tr>\n",
       "      <th>4</th>\n",
       "      <td>원어스 서호, '유쾌+발랄' 장난기 가득 소년미..'Hatchling'</td>\n",
       "      <td>http://v.daum.net/v/20250320083100912</td>\n",
       "    </tr>\n",
       "    <tr>\n",
       "      <th>5</th>\n",
       "      <td>원어스 서호, 입대 전 녹음g나 솔로 싱글 ‘Hatchling’ 깜짝 발매</td>\n",
       "      <td>http://v.daum.net/v/20250317171208120</td>\n",
       "    </tr>\n",
       "    <tr>\n",
       "      <th>6</th>\n",
       "      <td>원어스 서호, 포근한 캐주얼 룩…‘Hatchling’ 콘셉트 포토 추가 공개</td>\n",
       "      <td>http://v.daum.net/v/20250321110601404</td>\n",
       "    </tr>\n",
       "    <tr>\n",
       "      <th>7</th>\n",
       "      <td>원어스 서호, 오늘 데뷔 첫 솔로곡 발매</td>\n",
       "      <td>http://v.daum.net/v/20250323131830418</td>\n",
       "    </tr>\n",
       "    <tr>\n",
       "      <th>8</th>\n",
       "      <td>원어스 서호, 솔로 '해츨링' 첫 콘셉트 포토 소년美 물씬</td>\n",
       "      <td>http://v.daum.net/v/20250320081831651</td>\n",
       "    </tr>\n",
       "    <tr>\n",
       "      <th>9</th>\n",
       "      <td>원어스 서호, 홈웨어 입고 장난기 가득…콘셉트 포토 오픈</td>\n",
       "      <td>http://v.daum.net/v/20250320090111779</td>\n",
       "    </tr>\n",
       "    <tr>\n",
       "      <th>10</th>\n",
       "      <td>마마무와 한솥밥 먹는다더니…원어스 서호, 데뷔 7년 차에 솔로 역량 뽐냈다</td>\n",
       "      <td>http://v.daum.net/v/20250320235101153</td>\n",
       "    </tr>\n",
       "    <tr>\n",
       "      <th>11</th>\n",
       "      <td>'군 입대' 원어스 서호, '청량 보컬' 솔로곡 예고</td>\n",
       "      <td>http://v.daum.net/v/20250318111638689</td>\n",
       "    </tr>\n",
       "    <tr>\n",
       "      <th>12</th>\n",
       "      <td>'입대' 원어스 서호, 새 시작을 앞둔 모든 이들을 위해 '해츨링' [퇴근길신곡]</td>\n",
       "      <td>http://v.daum.net/v/20250323180019459</td>\n",
       "    </tr>\n",
       "    <tr>\n",
       "      <th>13</th>\n",
       "      <td>'軍복무' 원어스 서호, 무언가 잘못됐음을 감지..'해츨링' MV 티저 오픈</td>\n",
       "      <td>http://v.daum.net/v/20250318072628337</td>\n",
       "    </tr>\n",
       "    <tr>\n",
       "      <th>14</th>\n",
       "      <td>[포토S] 원어스 서호, 깊은 눈매</td>\n",
       "      <td>http://v.daum.net/v/20250206134647856</td>\n",
       "    </tr>\n",
       "    <tr>\n",
       "      <th>15</th>\n",
       "      <td>원어스 서호·환웅, 신곡 ‘IKUK’ 콘셉트 포토 공개 ‘치명+매혹’</td>\n",
       "      <td>http://v.daum.net/v/20250109160020509</td>\n",
       "    </tr>\n",
       "    <tr>\n",
       "      <th>16</th>\n",
       "      <td>원어스 서호·환웅, 마성의 뱀파이어 변신</td>\n",
       "      <td>http://v.daum.net/v/20250109094444561</td>\n",
       "    </tr>\n",
       "    <tr>\n",
       "      <th>17</th>\n",
       "      <td>원어스, 5인5색 솔로 프로젝트 가동…서호가 시작</td>\n",
       "      <td>http://v.daum.net/v/20250331134809475</td>\n",
       "    </tr>\n",
       "    <tr>\n",
       "      <th>18</th>\n",
       "      <td>원어스 서호, 카리스마 하트 [포토엔HD]</td>\n",
       "      <td>http://v.daum.net/v/20250206125602417</td>\n",
       "    </tr>\n",
       "    <tr>\n",
       "      <th>19</th>\n",
       "      <td>\"반짝이는 척 속 비밀\"…원어스 이도, 태양은 저물다가도 다시 뜨니까 [쥬크박스]</td>\n",
       "      <td>http://v.daum.net/v/20250422180004559</td>\n",
       "    </tr>\n",
       "    <tr>\n",
       "      <th>20</th>\n",
       "      <td>원어스 아닌 '래퍼' 이도의 강렬 존재감 'Sun goes down' [퇴근길 신곡]</td>\n",
       "      <td>http://v.daum.net/v/20250422180023589</td>\n",
       "    </tr>\n",
       "    <tr>\n",
       "      <th>21</th>\n",
       "      <td>원어스, 데뷔 후 첫 '솔로 싱글' 릴레이 도전...첫 주자는?</td>\n",
       "      <td>http://v.daum.net/v/20250331180015389</td>\n",
       "    </tr>\n",
       "    <tr>\n",
       "      <th>22</th>\n",
       "      <td>바쁘다 바빠 원어스 사회…韓 솔로 프로젝트 순항→日 디싱 발매</td>\n",
       "      <td>http://v.daum.net/v/20250422145643525</td>\n",
       "    </tr>\n",
       "    <tr>\n",
       "      <th>23</th>\n",
       "      <td>‘솔로’ 원어스 건희의 감성..봄날의 설렘 담은 ‘I Just Want Love’ ...</td>\n",
       "      <td>http://v.daum.net/v/20250408180020923</td>\n",
       "    </tr>\n",
       "    <tr>\n",
       "      <th>24</th>\n",
       "      <td>서호·김지훈·QWER, 4월 1주차 벅스 페이버릿 투표 1위 [Favorite]</td>\n",
       "      <td>http://v.daum.net/v/20250404080101174</td>\n",
       "    </tr>\n",
       "    <tr>\n",
       "      <th>25</th>\n",
       "      <td>원어스 서호,'귀여운 브이' [사진]</td>\n",
       "      <td>http://v.daum.net/v/20241012084942441</td>\n",
       "    </tr>\n",
       "    <tr>\n",
       "      <th>26</th>\n",
       "      <td>[TD포토] 원어스 서호 '귀여운 외모'</td>\n",
       "      <td>http://v.daum.net/v/20240919112727622</td>\n",
       "    </tr>\n",
       "    <tr>\n",
       "      <th>27</th>\n",
       "      <td>원어스 이도, 22일 솔로곡 '선 고즈 다운' 발표…음악적 진화 예고</td>\n",
       "      <td>http://v.daum.net/v/20250415175050804</td>\n",
       "    </tr>\n",
       "    <tr>\n",
       "      <th>28</th>\n",
       "      <td>\"널 듣고 싶어\"…원어스 건희, 솔직하고 달콤한 '직진 고백' [쥬크박스]</td>\n",
       "      <td>http://v.daum.net/v/20250408180004895</td>\n",
       "    </tr>\n",
       "    <tr>\n",
       "      <th>29</th>\n",
       "      <td>원어스 이도의 진면목…22일 솔로 싱글 ‘Sun goes down’ 발매</td>\n",
       "      <td>http://v.daum.net/v/20250415133859260</td>\n",
       "    </tr>\n",
       "  </tbody>\n",
       "</table>\n",
       "</div>"
      ],
      "text/plain": [
       "                                                title  \\\n",
       "0                             원어스, 서호 필두로 솔로 프로젝트 돌입!   \n",
       "1                   원어스 서호, 솔로곡 'Hatchling' 콘셉트 포토 오픈   \n",
       "2              ‘청량 보컬’ 원어스 서호, 오늘(23일) ‘Hatchling’ 발매   \n",
       "3                원어스 서호, 오늘 솔로곡 ‘해츨링’ 발매...입대 전 녹음 완료   \n",
       "4             원어스 서호, '유쾌+발랄' 장난기 가득 소년미..'Hatchling'   \n",
       "5           원어스 서호, 입대 전 녹음g나 솔로 싱글 ‘Hatchling’ 깜짝 발매   \n",
       "6          원어스 서호, 포근한 캐주얼 룩…‘Hatchling’ 콘셉트 포토 추가 공개   \n",
       "7                              원어스 서호, 오늘 데뷔 첫 솔로곡 발매   \n",
       "8                    원어스 서호, 솔로 '해츨링' 첫 콘셉트 포토 소년美 물씬   \n",
       "9                     원어스 서호, 홈웨어 입고 장난기 가득…콘셉트 포토 오픈   \n",
       "10          마마무와 한솥밥 먹는다더니…원어스 서호, 데뷔 7년 차에 솔로 역량 뽐냈다   \n",
       "11                      '군 입대' 원어스 서호, '청량 보컬' 솔로곡 예고   \n",
       "12      '입대' 원어스 서호, 새 시작을 앞둔 모든 이들을 위해 '해츨링' [퇴근길신곡]   \n",
       "13         '軍복무' 원어스 서호, 무언가 잘못됐음을 감지..'해츨링' MV 티저 오픈   \n",
       "14                                [포토S] 원어스 서호, 깊은 눈매   \n",
       "15             원어스 서호·환웅, 신곡 ‘IKUK’ 콘셉트 포토 공개 ‘치명+매혹’   \n",
       "16                             원어스 서호·환웅, 마성의 뱀파이어 변신   \n",
       "17                        원어스, 5인5색 솔로 프로젝트 가동…서호가 시작   \n",
       "18                            원어스 서호, 카리스마 하트 [포토엔HD]   \n",
       "19      \"반짝이는 척 속 비밀\"…원어스 이도, 태양은 저물다가도 다시 뜨니까 [쥬크박스]   \n",
       "20    원어스 아닌 '래퍼' 이도의 강렬 존재감 'Sun goes down' [퇴근길 신곡]   \n",
       "21                원어스, 데뷔 후 첫 '솔로 싱글' 릴레이 도전...첫 주자는?   \n",
       "22                 바쁘다 바빠 원어스 사회…韓 솔로 프로젝트 순항→日 디싱 발매   \n",
       "23  ‘솔로’ 원어스 건희의 감성..봄날의 설렘 담은 ‘I Just Want Love’ ...   \n",
       "24       서호·김지훈·QWER, 4월 1주차 벅스 페이버릿 투표 1위 [Favorite]   \n",
       "25                               원어스 서호,'귀여운 브이' [사진]   \n",
       "26                             [TD포토] 원어스 서호 '귀여운 외모'   \n",
       "27             원어스 이도, 22일 솔로곡 '선 고즈 다운' 발표…음악적 진화 예고   \n",
       "28          \"널 듣고 싶어\"…원어스 건희, 솔직하고 달콤한 '직진 고백' [쥬크박스]   \n",
       "29           원어스 이도의 진면목…22일 솔로 싱글 ‘Sun goes down’ 발매   \n",
       "\n",
       "                                     link  \n",
       "0   http://v.daum.net/v/20250331071216488  \n",
       "1   http://v.daum.net/v/20250320143251101  \n",
       "2   http://v.daum.net/v/20250323164531846  \n",
       "3   http://v.daum.net/v/20250323163905662  \n",
       "4   http://v.daum.net/v/20250320083100912  \n",
       "5   http://v.daum.net/v/20250317171208120  \n",
       "6   http://v.daum.net/v/20250321110601404  \n",
       "7   http://v.daum.net/v/20250323131830418  \n",
       "8   http://v.daum.net/v/20250320081831651  \n",
       "9   http://v.daum.net/v/20250320090111779  \n",
       "10  http://v.daum.net/v/20250320235101153  \n",
       "11  http://v.daum.net/v/20250318111638689  \n",
       "12  http://v.daum.net/v/20250323180019459  \n",
       "13  http://v.daum.net/v/20250318072628337  \n",
       "14  http://v.daum.net/v/20250206134647856  \n",
       "15  http://v.daum.net/v/20250109160020509  \n",
       "16  http://v.daum.net/v/20250109094444561  \n",
       "17  http://v.daum.net/v/20250331134809475  \n",
       "18  http://v.daum.net/v/20250206125602417  \n",
       "19  http://v.daum.net/v/20250422180004559  \n",
       "20  http://v.daum.net/v/20250422180023589  \n",
       "21  http://v.daum.net/v/20250331180015389  \n",
       "22  http://v.daum.net/v/20250422145643525  \n",
       "23  http://v.daum.net/v/20250408180020923  \n",
       "24  http://v.daum.net/v/20250404080101174  \n",
       "25  http://v.daum.net/v/20241012084942441  \n",
       "26  http://v.daum.net/v/20240919112727622  \n",
       "27  http://v.daum.net/v/20250415175050804  \n",
       "28  http://v.daum.net/v/20250408180004895  \n",
       "29  http://v.daum.net/v/20250415133859260  "
      ]
     },
     "execution_count": 29,
     "metadata": {},
     "output_type": "execute_result"
    }
   ],
   "source": [
    "df"
   ]
  },
  {
   "cell_type": "markdown",
   "id": "9142a1cc",
   "metadata": {},
   "source": [
    "## 2) 맞춤법 검사기"
   ]
  },
  {
   "cell_type": "code",
   "execution_count": 34,
   "id": "a57abb9b",
   "metadata": {},
   "outputs": [
    {
     "name": "stdout",
     "output_type": "stream",
     "text": [
      "총글자수: 1114\n"
     ]
    },
    {
     "data": {
      "text/plain": [
       "['1. 김요한\\n요한아',\n",
       " '\\n동한아, 넌 존쟤',\n",
       " '\\n용하야, 넌 내 ',\n",
       " '\\n준서야, 넌 대체',\n",
       " '\\n석화야, 혹시 천',\n",
       " '\\n대현아, 넌 사람']"
      ]
     },
     "execution_count": 34,
     "metadata": {},
     "output_type": "execute_result"
    }
   ],
   "source": [
    "#ch14_맞춤법전.txt를 300자 이내로 자르기\n",
    "with open('data/ch14_맞춤법검사전.txt','r',encoding = 'UTF-8')as f:\n",
    "    text = f.read()\n",
    "print('총글자수:',len(text))\n",
    "ready_list = [] #맞춤법 검사할 text 내용(300자 이내로 list)\n",
    "while (len(text)>300):\n",
    "    temp = text[:300]\n",
    "    new_line_char_index = temp.rfind('\\n')\n",
    "    ready_list.append(text[:new_line_char_index])\n",
    "    text = text[new_line_char_index:]\n",
    "ready_list.append(text)\n",
    "[ready[:10] for ready in ready_list]\n",
    "\n"
   ]
  },
  {
   "cell_type": "code",
   "execution_count": 41,
   "id": "2baa8f34",
   "metadata": {},
   "outputs": [],
   "source": [
    "from selenium import webdriver\n",
    "from selenium.webdriver.common.by import By\n",
    "from selenium.webdriver.common.keys import Keys\n",
    "import time\n",
    "driver = webdriver.Chrome()\n",
    "time.sleep(0.5)\n",
    "driver.get('https://www.naver.com/')\n",
    "input_elem= driver.find_element(By.CSS_SELECTOR, 'input[name=\"query\"]')\n",
    "input_elem.send_keys('맞춤법 검사기')\n",
    "input_elem.send_keys(Keys.RETURN)\n",
    "time.sleep(0.5)\n",
    "results = ' ' #맞춤법 검사후 내용\n",
    "textarea = driver.find_element(By.CLASS_NAME, 'txt_gray')\n",
    "for ready in ready_list:\n",
    "    textarea.send_keys(Keys.CONTROL, 'a')\n",
    "    textarea.send_keys(ready)\n",
    "\n",
    "    button = driver.find_element(By.CLASS_NAME, 'btn_check')\n",
    "    button.click()\n",
    "    time.sleep(2)\n",
    "    soup = BeautifulSoup(driver.page_source, \"html.parser\")\n",
    "    result = soup.select_one('p._result_text.stand_txt').text\n",
    "driver.close()\n",
    "with open('data/ch14_맞춤법검사후.txt','w',encoding='UTF-8') as f:\n",
    "     f.write(results)\n",
    "\n"
   ]
  },
  {
   "cell_type": "code",
   "execution_count": null,
   "id": "e19f2107",
   "metadata": {},
   "outputs": [],
   "source": []
  }
 ],
 "metadata": {
  "kernelspec": {
   "display_name": "Python 3 (ipykernel)",
   "language": "python",
   "name": "python3"
  },
  "language_info": {
   "codemirror_mode": {
    "name": "ipython",
    "version": 3
   },
   "file_extension": ".py",
   "mimetype": "text/x-python",
   "name": "python",
   "nbconvert_exporter": "python",
   "pygments_lexer": "ipython3",
   "version": "3.10.9"
  },
  "toc": {
   "base_numbering": 1,
   "nav_menu": {},
   "number_sections": false,
   "sideBar": true,
   "skip_h1_title": false,
   "title_cell": "Table of Contents",
   "title_sidebar": "Contents",
   "toc_cell": false,
   "toc_position": {
    "height": "calc(100% - 180px)",
    "left": "10px",
    "top": "150px",
    "width": "165px"
   },
   "toc_section_display": true,
   "toc_window_display": true
  }
 },
 "nbformat": 4,
 "nbformat_minor": 5
}
