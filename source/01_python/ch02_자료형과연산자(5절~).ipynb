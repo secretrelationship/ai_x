{
 "cells": [
  {
   "cell_type": "code",
   "execution_count": 2,
   "id": "958f4cb4",
   "metadata": {},
   "outputs": [
    {
     "data": {
      "text/html": [
       "\n",
       "<style>\n",
       "div.container{width:86% !important;}\n",
       "div.cell.code_cell.rendered{width:100%;}\n",
       "div.CodeMirror {font-family:Consolas; font-size:12pt;}\n",
       "div.output {font-size:15pt; font-weight:bold;}\n",
       "div.input {font-family:Consolas; font-size:15pt;}\n",
       "div.prompt {min-width:70px;}\n",
       "div#toc-wrapper{padding-top:120px;}\n",
       "div.text_cell_render ul li{font-size:12pt;padding:5px;}\n",
       "table.dataframe{font-size:15px;}\n",
       "</style>\n"
      ],
      "text/plain": [
       "<IPython.core.display.HTML object>"
      ]
     },
     "metadata": {},
     "output_type": "display_data"
    }
   ],
   "source": [
    "from IPython.display import display, HTML\n",
    "display(HTML(\"\"\"\n",
    "<style>\n",
    "div.container{width:86% !important;}\n",
    "div.cell.code_cell.rendered{width:100%;}\n",
    "div.CodeMirror {font-family:Consolas; font-size:12pt;}\n",
    "div.output {font-size:15pt; font-weight:bold;}\n",
    "div.input {font-family:Consolas; font-size:15pt;}\n",
    "div.prompt {min-width:70px;}\n",
    "div#toc-wrapper{padding-top:120px;}\n",
    "div.text_cell_render ul li{font-size:12pt;padding:5px;}\n",
    "table.dataframe{font-size:15px;}\n",
    "</style>\n",
    "\"\"\"))"
   ]
  },
  {
   "cell_type": "markdown",
   "id": "76429783",
   "metadata": {},
   "source": [
    "<font sixe=\"5\" color=\"red\">ch02 자료형과 연산자</font>"
   ]
  },
  {
   "cell_type": "markdown",
   "id": "9ff05769",
   "metadata": {},
   "source": [
    "# 5절 연산자"
   ]
  },
  {
   "cell_type": "markdown",
   "id": "11c08728",
   "metadata": {},
   "source": [
    "## 5.1 산술연산자: +-*/ //(몫)%(나머지)**(제곱)"
   ]
  },
  {
   "cell_type": "code",
   "execution_count": 3,
   "id": "a47556e2",
   "metadata": {},
   "outputs": [
    {
     "name": "stdout",
     "output_type": "stream",
     "text": [
      "10의5승: 100000\n",
      "4/2(실수): 2.0\n",
      "4//2(몫): 2\n",
      "4%2(나머지): 0\n"
     ]
    }
   ],
   "source": [
    "print('10의5승:',10**5)\n",
    "print('4/2(실수):',4/2)\n",
    "print('4//2(몫):',4//2)\n",
    "print('4%2(나머지):',4%2)"
   ]
  },
  {
   "cell_type": "code",
   "execution_count": 5,
   "id": "a59496b6",
   "metadata": {},
   "outputs": [
    {
     "name": "stdout",
     "output_type": "stream",
     "text": [
      "정수를 입력하시오:9\n",
      "입력하신 수는 9, 2로 나눈 나머지는 1, 그래서 홀수를 입력하셨군요.\n"
     ]
    }
   ],
   "source": [
    "# quiz 1. 정수를 입력받아 짝수인지 홀수인지 여부를 출력 \n",
    "num= int(input('정수를 입력하시오:'))\n",
    "result= num%2\n",
    "if result:\n",
    "    temp=\"홀수\"\n",
    "else:\n",
    "    temp=\"짝수\"\n",
    "print(f\"입력하신 수는 {num}, 2로 나눈 나머지는 {result}, 그래서 {temp}를 입력하셨군요.\")\n",
    "    "
   ]
  },
  {
   "cell_type": "code",
   "execution_count": 12,
   "id": "9753ac63",
   "metadata": {},
   "outputs": [
    {
     "name": "stdout",
     "output_type": "stream",
     "text": [
      "정수를 입력하시오26\n",
      "입력하신수는26,5로 나눈 나머지는 1, 그래서 5의 배수 아님 을/를 입력하셨군요.\n"
     ]
    }
   ],
   "source": [
    "# 2. 정수를 입력받아 5의 배수인지 여부를 출력\n",
    "num=int(input('정수를 입력하시오'))\n",
    "result= num%5\n",
    "if result:\n",
    "    temp=\"5의 배수 아님\"\n",
    "else:\n",
    "    temp=\"5의배수\"\n",
    "print(f\"입력하신수는{num},5로 나눈 나머지는 {result}, 그래서 {temp} 을/를 입력하셨군요.\")"
   ]
  },
  {
   "cell_type": "code",
   "execution_count": 13,
   "id": "04e97646",
   "metadata": {},
   "outputs": [
    {
     "name": "stdout",
     "output_type": "stream",
     "text": [
      "국어?100\n",
      "영어?85\n",
      "수학?70\n"
     ]
    }
   ],
   "source": [
    "kor = int(input(\"국어?\"))\n",
    "eng = int(input(\"영어?\"))\n",
    "mat = int(input(\"수학?\"))\n",
    "sum = kor + eng + mat\n",
    "avg = sum/3"
   ]
  },
  {
   "cell_type": "code",
   "execution_count": 14,
   "id": "902175d1",
   "metadata": {},
   "outputs": [
    {
     "name": "stdout",
     "output_type": "stream",
     "text": [
      "국어:100\t영어: 85\t수학: 70\n",
      "총점:255\t평균: 85.0\n"
     ]
    }
   ],
   "source": [
    "print(\"국어:{:3d}\\t영어:{:3d}\\t수학:{:3d}\".format(kor, eng, mat))\n",
    "print(\"총점:{:3d}\\t평균:{:5.1f}\".format(sum, avg))"
   ]
  },
  {
   "cell_type": "markdown",
   "id": "c6c05227",
   "metadata": {},
   "source": [
    "## 5.2 할당연산자 : =, +=, -=, /=, *="
   ]
  },
  {
   "cell_type": "code",
   "execution_count": 29,
   "id": "802e7688",
   "metadata": {},
   "outputs": [
    {
     "name": "stdout",
     "output_type": "stream",
     "text": [
      "5더하기 : 15\n"
     ]
    }
   ],
   "source": [
    "a = 10\n",
    "a += 5 # a = a+5\n",
    "print('5더하기 :', a)"
   ]
  },
  {
   "cell_type": "code",
   "execution_count": 30,
   "id": "912b6cc8",
   "metadata": {},
   "outputs": [
    {
     "name": "stdout",
     "output_type": "stream",
     "text": [
      "5빼기 : 10\n",
      "5배 : 50\n"
     ]
    }
   ],
   "source": [
    "a -= 5 # a = a-5\n",
    "print('5빼기 :', a)\n",
    "a *= 5 # a = a*5\n",
    "print('5배 :', a)"
   ]
  },
  {
   "cell_type": "markdown",
   "id": "c87b68f5",
   "metadata": {},
   "source": [
    "## 5.3 논리연산자: &, and, I(오아), or, not"
   ]
  },
  {
   "cell_type": "code",
   "execution_count": 15,
   "id": "b9768f57",
   "metadata": {},
   "outputs": [
    {
     "name": "stdout",
     "output_type": "stream",
     "text": [
      "True\n"
     ]
    }
   ],
   "source": [
    "# & 논리연산\n",
    "print((10>3)&(10>5))"
   ]
  },
  {
   "cell_type": "code",
   "execution_count": 17,
   "id": "2ad741a4",
   "metadata": {},
   "outputs": [
    {
     "name": "stdout",
     "output_type": "stream",
     "text": [
      "3\n",
      "0\n",
      "0\n"
     ]
    }
   ],
   "source": [
    "#and: false로 판별되는 첫번째 항의 결과 반환 \n",
    "#     모든 항이 참이면 마지막 항을 반환 \n",
    "print(True and 1 and 3)\n",
    "print(0 and true)\n",
    "print(True and 0 and True and False)"
   ]
  },
  {
   "cell_type": "code",
   "execution_count": 18,
   "id": "d2687363",
   "metadata": {},
   "outputs": [
    {
     "name": "stdout",
     "output_type": "stream",
     "text": [
      "논리연산(연산자 앞뒤에 논리형일 때) : True\n",
      "비트연산(연산자 앞이나 뒤에 숫자일 때) : 3\n"
     ]
    }
   ],
   "source": [
    "# | : 논리연산, 비트연산\n",
    "result = False | True\n",
    "print('논리연산(연산자 앞뒤에 논리형일 때) :', result)\n",
    "result = False | 3 # 0000 0000 (False)\n",
    "                   # 0000 0011 (3)\n",
    "print('비트연산(연산자 앞이나 뒤에 숫자일 때) :', result)"
   ]
  },
  {
   "cell_type": "code",
   "execution_count": 21,
   "id": "fe5e0f18",
   "metadata": {},
   "outputs": [
    {
     "name": "stdout",
     "output_type": "stream",
     "text": [
      "None\n",
      "Hong\n"
     ]
    }
   ],
   "source": [
    "# or : 논리연산, 참으로 판별되는 첫번째 항을 반환\n",
    "#      모든 항이 거짓이면, 마지막항을 반환\n",
    "print(False or False or None)\n",
    "print('Hong' or ' ' or False)"
   ]
  },
  {
   "cell_type": "code",
   "execution_count": 22,
   "id": "d76e36b2",
   "metadata": {},
   "outputs": [
    {
     "name": "stdout",
     "output_type": "stream",
     "text": [
      "False\n"
     ]
    }
   ],
   "source": [
    "print(not True)"
   ]
  },
  {
   "cell_type": "markdown",
   "id": "51421362",
   "metadata": {},
   "source": [
    "## 5.4 비교연산자: >>=<<= ==(같다) !=(다르다)"
   ]
  },
  {
   "cell_type": "code",
   "execution_count": null,
   "id": "1b337f4c",
   "metadata": {},
   "outputs": [],
   "source": []
  },
  {
   "cell_type": "code",
   "execution_count": 23,
   "id": "8fe12177",
   "metadata": {},
   "outputs": [
    {
     "name": "stdout",
     "output_type": "stream",
     "text": [
      "True\n",
      "False\n",
      "False\n",
      "True\n"
     ]
    }
   ],
   "source": [
    "#비교연산자(<)의 우선순위가 논리연산의 (&)의 우선순위보다 낮다 \n",
    "print((10>5)&(10>7))\n",
    "print(10>7 & 10>7) #0101(5)\n",
    "print(10>0>7)       \n",
    "print(10>5 and 10>7)"
   ]
  },
  {
   "cell_type": "code",
   "execution_count": 25,
   "id": "46ec0a68",
   "metadata": {},
   "outputs": [
    {
     "name": "stdout",
     "output_type": "stream",
     "text": [
      "True\n",
      "False\n"
     ]
    }
   ],
   "source": [
    "address=\"서울\"\n",
    "age= 29 \n",
    "#print( address ==\"서울\" & age>=30)\n",
    "print((address ==\"서울\") & (age>=3))\n",
    "print( address ==\"서울\" and age>=30)      "
   ]
  },
  {
   "cell_type": "code",
   "execution_count": 26,
   "id": "b97c7f78",
   "metadata": {},
   "outputs": [],
   "source": [
    "#문자비교 : ASCII 코드 순으로 비교가능: 특수문자< 숫자 <대문자 < 소문자\n"
   ]
  },
  {
   "cell_type": "code",
   "execution_count": null,
   "id": "606dead0",
   "metadata": {},
   "outputs": [],
   "source": []
  },
  {
   "cell_type": "code",
   "execution_count": null,
   "id": "251123d0",
   "metadata": {},
   "outputs": [],
   "source": []
  },
  {
   "cell_type": "markdown",
   "id": "c034f939",
   "metadata": {},
   "source": [
    "## 5.5 비트연산자 : &, | , ^(XOR), ~"
   ]
  },
  {
   "cell_type": "code",
   "execution_count": 27,
   "id": "55bda507",
   "metadata": {},
   "outputs": [],
   "source": [
    "# X Y  x&Y  x^Y (두개가 같으면 0 다르면 1)\n",
    "# 0 0   0    0\n",
    "# 0 1   0    1\n",
    "# 1 0   0    1\n",
    "# 1 1   1    0\n"
   ]
  },
  {
   "cell_type": "markdown",
   "id": "4217dca8",
   "metadata": {},
   "source": [
    "연산자 \n",
    "- 산술연산\n",
    "- 할당연산\n",
    "- 논리연산\n",
    "-비교연산\n",
    "-비트연산\n",
    "- &와 |은 비교연산자보다 우선순위가 높다.  "
   ]
  },
  {
   "cell_type": "code",
   "execution_count": 28,
   "id": "cdef3f9d",
   "metadata": {
    "scrolled": true
   },
   "outputs": [
    {
     "name": "stdout",
     "output_type": "stream",
     "text": [
      " a  = 15 : 1111\n",
      " b  =  2 : 0010\n",
      "a^b = 13 : 1101\n"
     ]
    }
   ],
   "source": [
    "a = 15 # 1111\n",
    "b = 2  # 0010\n",
    "print(\" a  = {0:2} : {0:04b}\".format(a))\n",
    "print(\" b  = {0:2} : {0:04b}\".format(b))\n",
    "print(\"a^b = {0:2} : {0:04b}\".format(a^b))"
   ]
  },
  {
   "cell_type": "markdown",
   "id": "86967f25",
   "metadata": {},
   "source": [
    "# 6절. 문자열 다루기\n",
    "- 문자열 스라이싱 변수[from:stop:step]\n",
    "- len(문자열변수): 문자갯수\n",
    "- upper(): 대문자로\n",
    "- lower(): 소문자로\n",
    "- title(): 각 어절의 첫글자만 대문자로\n",
    "- capitalize(): 첫문자만 대문자로 \n",
    "- count(찾을문자열'): '찾을 문자열'이 몇개 들어있는지 갯수 반환 \n",
    "- find('찾을문자열'): 찾을문자열이 왼쪽부터 시작하여 몇번째에 있는지 인덱스를 반환 \n",
    "- rfind('찾을문자열'): 찾을문자열이 오른쪽부터 시작하여 몇번째에 있는지 인덱스를 반환 \n",
    "**찾을 문자열이 없으면 -1을 반환**\n",
    "cf) index('찾을문자열'): 찾을문자열의 인덱스를 반환, 찬을문자열이 없으면 오류\n",
    "- startswith('특정문장열'): 특정문자열로 시작하는지 여부\n",
    "- endswith('특정문장열'): 특정문자열로 끝나는지 여부\n",
    "- strip(): 좌우 공백 제거\n",
    "- rstrip(): 오른쪽 공백 제거\n",
    "- lstrip(): 왼쪽 공백 제거\n",
    "- isdigit(): 문자열이 숫자문자열인지 여부\n",
    "- islower(): 소문자문자열인지 여부\n",
    "- replace(oldStr, newStr) : oldStr을 newStr로 변경"
   ]
  },
  {
   "cell_type": "code",
   "execution_count": 31,
   "id": "83ff80ff",
   "metadata": {},
   "outputs": [
    {
     "data": {
      "text/plain": [
       "('daon is cool', 12)"
      ]
     },
     "execution_count": 31,
     "metadata": {},
     "output_type": "execute_result"
    }
   ],
   "source": [
    "temp = \"daon is cool\"\n",
    "temp, len(temp)"
   ]
  },
  {
   "cell_type": "code",
   "execution_count": 32,
   "id": "575bd215",
   "metadata": {},
   "outputs": [
    {
     "data": {
      "text/plain": [
       "'DAON IS COOL'"
      ]
     },
     "execution_count": 32,
     "metadata": {},
     "output_type": "execute_result"
    }
   ],
   "source": [
    "temp.upper()"
   ]
  },
  {
   "cell_type": "code",
   "execution_count": 1,
   "id": "d4386114",
   "metadata": {
    "scrolled": false
   },
   "outputs": [
    {
     "name": "stdout",
     "output_type": "stream",
     "text": [
      "1. 글자수 39\n",
      "2. 대문자로 : PYTHON IS EASY. PYTHON IS SMART. PYTHON\n",
      "3. 소문자로 : python is easy. python is smart. python\n",
      "4. title : Python Is Easy. Python Is Smart. Python\n",
      "5. capitalize() : Python is easy. python is smart. python\n",
      "6. python이 몇번 나오는지 : 2\n",
      "7. 대소문자구분없이 python이 몇번 나오는지 : 3\n",
      "7. 대소문자구분없이 python이 몇번 나오는지 : 3\n",
      "7. 대소문자구분없이 python이 몇번 나오는지 : 3\n",
      "8. python이 나오는 첫 index 위치 : 0\n",
      "8. python이 나오는 마지막 index 위치 : 33\n",
      "8. java이 나오는 마지막 index 위치 : -1\n",
      "8. python이 나오는 첫 index 위치 : 0\n",
      "9. python으로 시작하는지 여부 : True\n",
      "10. python으로 끝나는지 여부 : False\n",
      "10. 대소문자 구분없이 python으로 끝나는지 여부 : True\n"
     ]
    }
   ],
   "source": [
    "temp = \"python is easy. pYThon is smart. python\"\n",
    "#       012345678901234567890123456789012345678\n",
    "print('1. 글자수', len(temp))\n",
    "print('2. 대문자로 :', temp.upper())\n",
    "print('3. 소문자로 :', temp.lower())\n",
    "print('4. title :',   temp.title())\n",
    "print('5. capitalize() :', temp.capitalize())\n",
    "print('6. python이 몇번 나오는지 :', temp.count('python'))\n",
    "print('7. 대소문자구분없이 python이 몇번 나오는지 :', temp.lower().count('python'))\n",
    "print('7. 대소문자구분없이 python이 몇번 나오는지 :', temp.upper().count('PYTHON'))\n",
    "print('7. 대소문자구분없이 python이 몇번 나오는지 :', temp.title().count('Python'))\n",
    "print('8. python이 나오는 첫 index 위치 :', temp.find('python'))\n",
    "print('8. python이 나오는 마지막 index 위치 :', temp.rfind('python'))\n",
    "print('8. java이 나오는 마지막 index 위치 :', temp.rfind('java'))\n",
    "print('8. python이 나오는 첫 index 위치 :', temp.index('python'))\n",
    "# print('8. java이 나오는 마지막 index 위치 :', temp.index('java'))\n",
    "print('9. python으로 시작하는지 여부 :', temp.startswith('python'))\n",
    "print('10. python으로 끝나는지 여부 :', temp.endswith('PYTHON'))\n",
    "print('10. 대소문자 구분없이 python으로 끝나는지 여부 :', temp.upper().endswith('PYTHON'))"
   ]
  },
  {
   "cell_type": "code",
   "execution_count": 6,
   "id": "302ebc50",
   "metadata": {},
   "outputs": [
    {
     "name": "stdout",
     "output_type": "stream",
     "text": [
      "11. 좌우공백제거 : [Python is easy.]\n",
      "11. 좌측공백제거 : [Python is easy.     ]\n",
      "11. 우측공백제거 : [    Python is easy.]\n",
      "12. 숫자문자열인지 : False\n",
      "13. 소문자문자열인지 : False\n",
      "13. 대문자문자열인지 : False\n",
      "14. ,제거 : 1000000\n",
      "14. ,제거 : 1000\n"
     ]
    }
   ],
   "source": [
    "temp = '    Python is easy.     '\n",
    "notdisit = '1,000,000'\n",
    "num_str = '1000'\n",
    "print('11. 좌우공백제거 : [{}]'.format(temp.strip()))\n",
    "print('11. 좌측공백제거 : [{}]'.format(temp.lstrip()))\n",
    "print('11. 우측공백제거 : [{}]'.format(temp.rstrip()))\n",
    "print('12. 숫자문자열인지 :', notdisit.isdigit())\n",
    "print('13. 소문자문자열인지 :', temp.islower())\n",
    "print('13. 대문자문자열인지 :', temp.isupper())\n",
    "print('14. ,제거 :', notdisit.replace(',', ''))\n",
    "print('14. ,제거 :', num_str.replace(',', ''))"
   ]
  },
  {
   "cell_type": "code",
   "execution_count": 3,
   "id": "90035fcb",
   "metadata": {},
   "outputs": [
    {
     "name": "stdout",
     "output_type": "stream",
     "text": [
      "space eksdnlfh temp를 분리: ['홍길동', '김길동', '신길똥', '유길동']\n"
     ]
    }
   ],
   "source": [
    "temp= \"홍길동       김길동  신길똥    유길동\"\n",
    "print('space eksdnlfh temp를 분리:', temp.split()) #기본이 space 단위로 분리"
   ]
  },
  {
   "cell_type": "code",
   "execution_count": 5,
   "id": "787c794b",
   "metadata": {},
   "outputs": [
    {
     "name": "stdout",
     "output_type": "stream",
     "text": [
      " - 단위로 data를 분리(결과 : list)\n",
      "['2025', '04', '10']\n",
      "년 : 2025\n",
      "월 : 04\n",
      "일 : 10\n"
     ]
    }
   ],
   "source": [
    "data = \"2025-04-10\"\n",
    "print(' - 단위로 data를 분리(결과 : list)')\n",
    "data_list = data.split('-')\n",
    "print(data_list)\n",
    "print(\"년 :\", data_list[0])\n",
    "print(\"월 :\", data_list[1])\n",
    "print(\"일 :\", data_list[2])"
   ]
  },
  {
   "cell_type": "code",
   "execution_count": 7,
   "id": "e7f5d4ff",
   "metadata": {},
   "outputs": [
    {
     "name": "stdout",
     "output_type": "stream",
     "text": [
      "원 데이터 : Python - HTML/CSS - JavaScript - DBMS\n",
      "분리된 데이터 : ['Python', 'HTML/CSS', 'JavaScript', 'DBMS']\n",
      "join된 데이터 : Python/HTML/CSS/JavaScript/DBMS\n"
     ]
    }
   ],
   "source": [
    "# ' - '을 '/'로 바꾸기\n",
    "temp = \"Python - HTML/CSS - JavaScript - DBMS\"\n",
    "# temp.replace(' - ', '/')\n",
    "print('원 데이터 :', temp)\n",
    "splited_temp = temp.split(' - ')\n",
    "print('분리된 데이터 :', splited_temp)\n",
    "joined_temp = '/'.join(splited_temp)\n",
    "print('join된 데이터 :', joined_temp)"
   ]
  },
  {
   "cell_type": "code",
   "execution_count": 8,
   "id": "62489cb8",
   "metadata": {},
   "outputs": [],
   "source": [
    "str_ = 'ABC' \n",
    "# str_ = ['A','B','C']"
   ]
  },
  {
   "cell_type": "markdown",
   "id": "0a56f0ee",
   "metadata": {},
   "source": [
    "['__add__',\n",
    " '__class__',\n",
    " '__contains__',\n",
    " '__delattr__',\n",
    " '__dir__',\n",
    " '__doc__',\n",
    " '__eq__',\n",
    " '__format__',\n",
    " '__ge__',\n",
    " '__getattribute__',\n",
    " '__getitem__',\n",
    " '__getnewargs__',\n",
    " '__gt__',\n",
    " '__hash__',\n",
    " '__init__',\n",
    " '__init_subclass__',\n",
    " '__iter__',\n",
    " '__le__',\n",
    " '__len__',\n",
    " '__lt__',\n",
    " '__mod__',\n",
    " '__mul__',\n",
    " '__ne__',\n",
    " '__new__',\n",
    " '__reduce__',\n",
    " '__reduce_ex__',\n",
    " '__repr__',\n",
    " '__rmod__',\n",
    " '__rmul__',\n",
    " '__setattr__',\n",
    " '__sizeof__',\n",
    " '__str__',\n",
    " '__subclasshook__',\n",
    " 'capitalize',\n",
    " 'casefold',\n",
    " 'center',\n",
    " 'count',\n",
    " 'encode',\n",
    " 'endswith',\n",
    " 'expandtabs',\n",
    " 'find',\n",
    " 'format',\n",
    " 'format_map',\n",
    " 'index',\n",
    " 'isalnum',\n",
    " 'isalpha',\n",
    " 'isascii',\n",
    " 'isdecimal',\n",
    " 'isdigit',\n",
    " 'isidentifier',\n",
    " 'islower',\n",
    " 'isnumeric',\n",
    " 'isprintable',\n",
    " 'isspace',\n",
    " 'istitle',\n",
    " 'isupper',\n",
    " 'join',\n",
    " 'ljust',\n",
    " 'lower',\n",
    " 'lstrip',\n",
    " 'maketrans',\n",
    " 'partition',\n",
    " 'removeprefix',\n",
    " 'removesuffix',\n",
    " 'replace',\n",
    " 'rfind',\n",
    " 'rindex',\n",
    " 'rjust',\n",
    " 'rpartition',\n",
    " 'rsplit',\n",
    " 'rstrip',\n",
    " 'split',\n",
    " 'splitlines',\n",
    " 'startswith',\n",
    " 'strip',\n",
    " 'swapcase',\n",
    " 'title',\n",
    " 'translate',\n",
    " 'upper',\n",
    " 'zfill']"
   ]
  },
  {
   "cell_type": "markdown",
   "id": "e0758eb0",
   "metadata": {},
   "source": [
    "# 7절: 시간, 날짜, 날짜시간다루기 "
   ]
  },
  {
   "cell_type": "code",
   "execution_count": 5,
   "id": "22aa53a0",
   "metadata": {},
   "outputs": [
    {
     "data": {
      "text/plain": [
       "'C:\\\\Users\\\\Admin\\\\anaconda3\\\\lib\\\\datetime.py'"
      ]
     },
     "execution_count": 5,
     "metadata": {},
     "output_type": "execute_result"
    }
   ],
   "source": [
    "import datetime\n",
    "datetime.__file__"
   ]
  },
  {
   "cell_type": "code",
   "execution_count": 13,
   "id": "93fe2d8f",
   "metadata": {},
   "outputs": [],
   "source": [
    "#datetime 모듈(datetime.py)dksdml datetime, date time을 import\n",
    "from datetime import datetime, date, time"
   ]
  },
  {
   "cell_type": "markdown",
   "id": "57a47710",
   "metadata": {},
   "source": [
    "## 7.1 시간과 날짜"
   ]
  },
  {
   "cell_type": "code",
   "execution_count": 15,
   "id": "9dd46c63",
   "metadata": {},
   "outputs": [
    {
     "data": {
      "text/plain": [
       "datetime.datetime(2025, 4, 7, 9, 30)"
      ]
     },
     "execution_count": 15,
     "metadata": {},
     "output_type": "execute_result"
    }
   ],
   "source": [
    "# 특정한 시점을 갖는 datetime 객체 생성\n",
    "thatday = datetime(2025, 4, 7, 9, 30, 0)\n",
    "thatday"
   ]
  },
  {
   "cell_type": "code",
   "execution_count": 16,
   "id": "e8cb18d6",
   "metadata": {},
   "outputs": [
    {
     "name": "stdout",
     "output_type": "stream",
     "text": [
      "2025-04-07 09:30:00\n",
      "Mon Apr  7 09:30:00 2025\n",
      "2025년04월07일(월요일) 오전 09시30분 00초\n",
      "2025년04월07일(월요일) 오전 09시30분 00초\n"
     ]
    }
   ],
   "source": [
    "print(thatday)\n",
    "print(thatday.ctime()) # ctime() : 사람이 읽기 쉬운 형태로 반환\n",
    "print(\"{:%Y년%m월%d일(%A) %p %I시%M분 %S초}\".format(thatday))\n",
    "print(thatday.strftime(\"%Y년%m월%d일(%A) %p %I시%M분 %S초\"))"
   ]
  },
  {
   "cell_type": "code",
   "execution_count": 17,
   "id": "1afb846c",
   "metadata": {
    "scrolled": true
   },
   "outputs": [
    {
     "data": {
      "text/plain": [
       "'ko_KR'"
      ]
     },
     "execution_count": 17,
     "metadata": {},
     "output_type": "execute_result"
    }
   ],
   "source": [
    "import locale\n",
    "locale.setlocale(locale.LC_TIME, 'ko_KR')"
   ]
  },
  {
   "cell_type": "code",
   "execution_count": 18,
   "id": "3f67aadf",
   "metadata": {},
   "outputs": [
    {
     "name": "stdout",
     "output_type": "stream",
     "text": [
      "25-0411(금요일) 10:54:59\n"
     ]
    }
   ],
   "source": [
    "now = datetime.now()\n",
    "print(now.strftime(\"%y-%m%d(%A) %H:%M:%S\"))"
   ]
  },
  {
   "cell_type": "code",
   "execution_count": 19,
   "id": "683b4c27",
   "metadata": {},
   "outputs": [
    {
     "name": "stdout",
     "output_type": "stream",
     "text": [
      "25-0411(금요일) 10:55:27\n"
     ]
    }
   ],
   "source": [
    "now = datetime.now()\n",
    "print(now.strftime(\"%y-%m%d(%A) %H:%M:%S\"))"
   ]
  },
  {
   "cell_type": "code",
   "execution_count": 22,
   "id": "989d3e6e",
   "metadata": {},
   "outputs": [
    {
     "data": {
      "text/plain": [
       "datetime.timedelta(days=4, seconds=5127, microseconds=329264)"
      ]
     },
     "execution_count": 22,
     "metadata": {},
     "output_type": "execute_result"
    }
   ],
   "source": [
    "diff = now - thatday\n",
    "diff"
   ]
  },
  {
   "cell_type": "code",
   "execution_count": 23,
   "id": "8eb78987",
   "metadata": {},
   "outputs": [
    {
     "data": {
      "text/plain": [
       "4"
      ]
     },
     "execution_count": 23,
     "metadata": {},
     "output_type": "execute_result"
    }
   ],
   "source": [
    "diff.days"
   ]
  },
  {
   "cell_type": "markdown",
   "id": "c20200dc",
   "metadata": {},
   "source": [
    "## 7.2 날짜"
   ]
  },
  {
   "cell_type": "code",
   "execution_count": 28,
   "id": "16091f9e",
   "metadata": {},
   "outputs": [
    {
     "data": {
      "text/plain": [
       "datetime.date(2025, 9, 3)"
      ]
     },
     "execution_count": 28,
     "metadata": {},
     "output_type": "execute_result"
    }
   ],
   "source": [
    "someday = date(2025,9,3)\n",
    "someday"
   ]
  },
  {
   "cell_type": "code",
   "execution_count": 29,
   "id": "aa552ffa",
   "metadata": {},
   "outputs": [
    {
     "name": "stdout",
     "output_type": "stream",
     "text": [
      "2025년09월03일\n"
     ]
    }
   ],
   "source": [
    "print(someday.strftime(\"%Y년%m월%d일\"))"
   ]
  },
  {
   "cell_type": "code",
   "execution_count": 24,
   "id": "cde6e676",
   "metadata": {},
   "outputs": [
    {
     "data": {
      "text/plain": [
       "True"
      ]
     },
     "execution_count": 24,
     "metadata": {},
     "output_type": "execute_result"
    }
   ],
   "source": [
    "# 오늘\n",
    "today1 = datetime.now().date()\n",
    "today2 = date.today()\n",
    "today1 == today2"
   ]
  },
  {
   "cell_type": "code",
   "execution_count": 36,
   "id": "7236d98d",
   "metadata": {},
   "outputs": [
    {
     "name": "stdout",
     "output_type": "stream",
     "text": [
      "25년 04월 11일\n"
     ]
    }
   ],
   "source": [
    "print(today1.strftime(\"%y년 %m월 %d일\"))"
   ]
  },
  {
   "cell_type": "code",
   "execution_count": 39,
   "id": "00512f15",
   "metadata": {},
   "outputs": [
    {
     "data": {
      "text/plain": [
       "145"
      ]
     },
     "execution_count": 39,
     "metadata": {},
     "output_type": "execute_result"
    }
   ],
   "source": [
    "diff = someday - today1\n",
    "diff.days"
   ]
  },
  {
   "cell_type": "markdown",
   "id": "0a1df542",
   "metadata": {},
   "source": [
    "## 7.3 시간"
   ]
  },
  {
   "cell_type": "code",
   "execution_count": 32,
   "id": "07545bc8",
   "metadata": {},
   "outputs": [
    {
     "data": {
      "text/plain": [
       "datetime.time(13, 10)"
      ]
     },
     "execution_count": 32,
     "metadata": {},
     "output_type": "execute_result"
    }
   ],
   "source": [
    "# 특정 시간\n",
    "t = time(13,10)\n",
    "t"
   ]
  },
  {
   "cell_type": "code",
   "execution_count": 33,
   "id": "b4f30104",
   "metadata": {},
   "outputs": [
    {
     "name": "stdout",
     "output_type": "stream",
     "text": [
      "13:10:00\n",
      "오후 01시 10분\n"
     ]
    }
   ],
   "source": [
    "print(t)\n",
    "print(t.strftime(\"%p %I시 %M분\"))"
   ]
  },
  {
   "cell_type": "code",
   "execution_count": 34,
   "id": "31ee3e52",
   "metadata": {},
   "outputs": [
    {
     "data": {
      "text/plain": [
       "datetime.time(11, 7, 14, 821224)"
      ]
     },
     "execution_count": 34,
     "metadata": {},
     "output_type": "execute_result"
    }
   ],
   "source": [
    "# 지금 시간\n",
    "now_time = datetime.now().time()\n",
    "now_time"
   ]
  },
  {
   "cell_type": "code",
   "execution_count": 35,
   "id": "8b089a09",
   "metadata": {},
   "outputs": [
    {
     "data": {
      "text/plain": [
       "'H시 07분 14초'"
      ]
     },
     "execution_count": 35,
     "metadata": {},
     "output_type": "execute_result"
    }
   ],
   "source": [
    "\n",
    "now_time.strftime(\"H시 %M분 %S초\")"
   ]
  },
  {
   "cell_type": "markdown",
   "id": "6f7fac21",
   "metadata": {},
   "source": [
    "**datetime, date, time 형들을 원하는 포맷의 문자형으로 반환: strftme()**"
   ]
  },
  {
   "cell_type": "markdown",
   "id": "e490ccb3",
   "metadata": {},
   "source": [
    "# 8절 연습문제. "
   ]
  },
  {
   "cell_type": "code",
   "execution_count": 9,
   "id": "644e442f",
   "metadata": {},
   "outputs": [
    {
     "name": "stdout",
     "output_type": "stream",
     "text": [
      "홍길동님의 나이는 23살 입니다.\n"
     ]
    }
   ],
   "source": [
    "# 1.이름과 나이 변수를 다음 형식으로 출력하도록 format() 함수를 이용해 형식화하세요 출력형식 : 홍길동님의 나이는 23 살입니다.\n",
    "name = '홍길동'\n",
    "age = 23 \n",
    "print(\"{}님의 나이는 {:2d}살 입니다.\".format(name,age))"
   ]
  },
  {
   "cell_type": "code",
   "execution_count": 15,
   "id": "d601dcab",
   "metadata": {},
   "outputs": [
    {
     "name": "stdout",
     "output_type": "stream",
     "text": [
      "정수를 입력하시오.8\n",
      "정수를 입력하시오.2\n",
      "10\n",
      "6\n",
      "16\n",
      "4.0\n",
      "4\n",
      "0\n"
     ]
    }
   ],
   "source": [
    "# 2.두 정수를 입력받아 두 수의 덧셈 , 뺄셈 , 곱셈 , 나눗셈 , 몫 , 나머지를 출력하세요.\n",
    "num= int(input('정수를 입력하시오.'))\n",
    "num1= int(input('정수를 입력하시오.'))\n",
    "print(num+num1)  \n",
    "print(num-num1)  \n",
    "print(num*num1)  \n",
    "print(num/num1) \n",
    "print(num//num1)  \n",
    "print(num%num1)"
   ]
  },
  {
   "cell_type": "code",
   "execution_count": 19,
   "id": "7eee5262",
   "metadata": {},
   "outputs": [
    {
     "data": {
      "text/plain": [
       "'World Hello'"
      ]
     },
     "execution_count": 19,
     "metadata": {},
     "output_type": "execute_result"
    }
   ],
   "source": [
    "#3.문자열의 분리하기와 합치기 기능을 이용하여 ‘Hello world'가 할당된 변수를 이용하여‘World hello'로 출력하세요.\n",
    "temp = 'Hello-World'\n",
    "splited_temp= temp.split('-')\n",
    "' '.join(splited_temp[::-1])\n"
   ]
  },
  {
   "cell_type": "code",
   "execution_count": 26,
   "id": "e114eee9",
   "metadata": {},
   "outputs": [
    {
     "data": {
      "text/plain": [
       "'World Hello'"
      ]
     },
     "execution_count": 26,
     "metadata": {},
     "output_type": "execute_result"
    }
   ],
   "source": [
    "temp = 'Hello-World'\n",
    "splited_temp = temp.split('-')\n",
    "' '.join(splited_temp[::-1])"
   ]
  },
  {
   "cell_type": "code",
   "execution_count": null,
   "id": "83e77d11",
   "metadata": {},
   "outputs": [],
   "source": [
    "#4. x = ' abcdef ＇를 이용하여 bcdefa 로 출력하세요 문자 슬라이싱이용\n"
   ]
  },
  {
   "cell_type": "markdown",
   "id": "fd70ed75",
   "metadata": {},
   "source": [
    "#7.다음 중 변수 선언으로 잘못된 것을 모두 고르시오  1번, for는 예약어이기 때문에\n",
    "①\n",
    "for\n",
    "②\n",
    "10th\n",
    "③\n",
    "Student.name\n",
    "④\n",
    "_1234"
   ]
  },
  {
   "cell_type": "code",
   "execution_count": 28,
   "id": "b0875188",
   "metadata": {},
   "outputs": [
    {
     "name": "stdout",
     "output_type": "stream",
     "text": [
      "SeounSeoul\n",
      "Seou n Seoul\n"
     ]
    }
   ],
   "source": [
    "text = \"Seoul A001 - Programming with python\"\n",
    "print(text[:4]+text[-1]+text.split()[0])\n",
    "print(text[:4],text[-1],text.split()[0])"
   ]
  },
  {
   "cell_type": "markdown",
   "id": "c0a1c1e6",
   "metadata": {},
   "source": [
    "9번은 2번 "
   ]
  },
  {
   "cell_type": "code",
   "execution_count": 30,
   "id": "8b642b1d",
   "metadata": {},
   "outputs": [
    {
     "ename": "TypeError",
     "evalue": "unsupported operand type(s) for +: 'int' and 'str'",
     "output_type": "error",
     "traceback": [
      "\u001b[1;31m---------------------------------------------------------------------------\u001b[0m",
      "\u001b[1;31mTypeError\u001b[0m                                 Traceback (most recent call last)",
      "Cell \u001b[1;32mIn[30], line 4\u001b[0m\n\u001b[0;32m      2\u001b[0m x \u001b[38;5;241m=\u001b[39m \u001b[38;5;241m5\u001b[39m\n\u001b[0;32m      3\u001b[0m y \u001b[38;5;241m=\u001b[39m \u001b[38;5;124m\"\u001b[39m\u001b[38;5;124mjohn\u001b[39m\u001b[38;5;124m\"\u001b[39m\n\u001b[1;32m----> 4\u001b[0m \u001b[38;5;28mprint\u001b[39m(\u001b[43mx\u001b[49m\u001b[43m \u001b[49m\u001b[38;5;241;43m+\u001b[39;49m\u001b[43m \u001b[49m\u001b[43my\u001b[49m)\n",
      "\u001b[1;31mTypeError\u001b[0m: unsupported operand type(s) for +: 'int' and 'str'"
     ]
    }
   ],
   "source": [
    "#10 오류로 떠요^^;\n",
    "x = 5\n",
    "y = \"john\"\n",
    "print(x + y)"
   ]
  }
 ],
 "metadata": {
  "kernelspec": {
   "display_name": "Python 3 (ipykernel)",
   "language": "python",
   "name": "python3"
  },
  "language_info": {
   "codemirror_mode": {
    "name": "ipython",
    "version": 3
   },
   "file_extension": ".py",
   "mimetype": "text/x-python",
   "name": "python",
   "nbconvert_exporter": "python",
   "pygments_lexer": "ipython3",
   "version": "3.10.9"
  },
  "toc": {
   "base_numbering": 1,
   "nav_menu": {},
   "number_sections": false,
   "sideBar": true,
   "skip_h1_title": false,
   "title_cell": "Table of Contents",
   "title_sidebar": "Contents",
   "toc_cell": false,
   "toc_position": {
    "height": "calc(100% - 180px)",
    "left": "10px",
    "top": "150px",
    "width": "179.208px"
   },
   "toc_section_display": true,
   "toc_window_display": true
  }
 },
 "nbformat": 4,
 "nbformat_minor": 5
}
