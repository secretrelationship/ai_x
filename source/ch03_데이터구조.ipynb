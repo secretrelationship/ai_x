{
 "cells": [
  {
   "cell_type": "code",
   "execution_count": 49,
   "id": "ad942477",
   "metadata": {},
   "outputs": [
    {
     "data": {
      "text/html": [
       "\n",
       "<style>\n",
       "div.container{width:86% !important;}\n",
       "div.cell.code_cell.rendered{width:100%;}\n",
       "div.CodeMirror {font-family:Consolas; font-size:15pt;}\n",
       "div.output {font-size:15pt; font-weight:bold;}\n",
       "div.input {font-family:Consolas; font-size:15pt;}\n",
       "div.prompt {min-width:70px;}\n",
       "div#toc-wrapper{padding-top:120px;}\n",
       "div.text_cell_render ul li{font-size:12pt;padding:5px;}\n",
       "table.dataframe{font-size:15px;}\n",
       "</style>\n"
      ],
      "text/plain": [
       "<IPython.core.display.HTML object>"
      ]
     },
     "metadata": {},
     "output_type": "display_data"
    }
   ],
   "source": [
    "from IPython.display import display, HTML\n",
    "display(HTML(\"\"\"\n",
    "<style>\n",
    "div.container{width:86% !important;}\n",
    "div.cell.code_cell.rendered{width:100%;}\n",
    "div.CodeMirror {font-family:Consolas; font-size:15pt;}\n",
    "div.output {font-size:15pt; font-weight:bold;}\n",
    "div.input {font-family:Consolas; font-size:15pt;}\n",
    "div.prompt {min-width:70px;}\n",
    "div#toc-wrapper{padding-top:120px;}\n",
    "div.text_cell_render ul li{font-size:12pt;padding:5px;}\n",
    "table.dataframe{font-size:15px;}\n",
    "</style>\n",
    "\"\"\"))"
   ]
  },
  {
   "cell_type": "markdown",
   "id": "a6d0a1eb",
   "metadata": {},
   "source": [
    "<font sixe=\"5\" color=\"red\">ch03_데이터구조</font>\n",
    "- 리스트 [ ] , 튜플 ( ), 딕셔너리{  } 셋\n",
    "# 1절. 리스트 \n",
    "## 1.1 리스트만들기 \n",
    "- [    ] 를 이용해서 만들며, 여러개의 값(여러 타입)을 하나의 변수에 저장/관리 할 수 있음 \n",
    "- list(리스트로 변환 가능한 자료) 함수 이용도 가능\n",
    "- 인덱스: 각 요소의 위치. 0부터 시작. 맨 마지막 인덱스는 -1 \n",
    "- 슬라이싱: (  [from:stop:step] ): 부분 데이터셋 추출 \n",
    "- 인덱스와 슬라이싱을 이용해서 읽기 쓰기 지원"
   ]
  },
  {
   "cell_type": "code",
   "execution_count": 9,
   "id": "d9fdbfee",
   "metadata": {},
   "outputs": [
    {
     "data": {
      "text/plain": [
       "list"
      ]
     },
     "execution_count": 9,
     "metadata": {},
     "output_type": "execute_result"
    }
   ],
   "source": [
    "fruits = ['banana','apple','orange' ,'grape']\n",
    "type(fruits)"
   ]
  },
  {
   "cell_type": "code",
   "execution_count": 10,
   "id": "43612238",
   "metadata": {},
   "outputs": [
    {
     "name": "stdout",
     "output_type": "stream",
     "text": [
      "['banana', 'apple', 'orange', 'grape']\n",
      "banana\n"
     ]
    }
   ],
   "source": [
    "print(fruits)\n",
    "print(fruits[0])"
   ]
  },
  {
   "cell_type": "code",
   "execution_count": 11,
   "id": "c922ff2f",
   "metadata": {},
   "outputs": [
    {
     "name": "stdout",
     "output_type": "stream",
     "text": [
      "['mango', 'apple', 'orange', 'grape']\n"
     ]
    }
   ],
   "source": [
    "fruits[0] = 'mango'\n",
    "print(fruits)"
   ]
  },
  {
   "cell_type": "code",
   "execution_count": null,
   "id": "9e8cfda9",
   "metadata": {},
   "outputs": [],
   "source": [
    "fruits = ['mango', 'apple', 'orange']\n",
    "x, y ,z = fruits\n",
    "\n"
   ]
  },
  {
   "cell_type": "code",
   "execution_count": 12,
   "id": "f1fff25a",
   "metadata": {},
   "outputs": [
    {
     "data": {
      "text/plain": [
       "[0, 1, 2, 3, 4, 5, 6, 7, 8, 9]"
      ]
     },
     "execution_count": 12,
     "metadata": {},
     "output_type": "execute_result"
    }
   ],
   "source": [
    "# range(from, to, step) : from부터 to 앞까지 by 씩 증가하면서 지정된 범위의 정수 \n",
    "                          # from 생략: 0부터, by 생략: 1씩\n",
    "list(range(0,10))"
   ]
  },
  {
   "cell_type": "code",
   "execution_count": 13,
   "id": "0a877c5c",
   "metadata": {},
   "outputs": [
    {
     "data": {
      "text/plain": [
       "[101, 102, 103, 104, 105, 106, 107, 108, 109, 110]"
      ]
     },
     "execution_count": 13,
     "metadata": {},
     "output_type": "execute_result"
    }
   ],
   "source": [
    "list(range(101,111))"
   ]
  },
  {
   "cell_type": "code",
   "execution_count": 14,
   "id": "d2e92356",
   "metadata": {},
   "outputs": [
    {
     "data": {
      "text/plain": [
       "[10, 8, 6, 4, 2, 0]"
      ]
     },
     "execution_count": 14,
     "metadata": {},
     "output_type": "execute_result"
    }
   ],
   "source": [
    "list(range(10,-1,-2))"
   ]
  },
  {
   "cell_type": "code",
   "execution_count": 20,
   "id": "a65eb441",
   "metadata": {
    "scrolled": true
   },
   "outputs": [
    {
     "name": "stdout",
     "output_type": "stream",
     "text": [
      "0\n",
      "1\n",
      "2\n"
     ]
    }
   ],
   "source": [
    "# 반복문(3회) , for가 반복\n",
    "for i in range(3) :\n",
    "          print(i)"
   ]
  },
  {
   "cell_type": "code",
   "execution_count": 25,
   "id": "2985b7f2",
   "metadata": {},
   "outputs": [
    {
     "name": "stdout",
     "output_type": "stream",
     "text": [
      "mango\n",
      "apple\n",
      "orange\n",
      "grape\n"
     ]
    }
   ],
   "source": [
    "for value in fruits:\n",
    "    print(value)"
   ]
  },
  {
   "cell_type": "code",
   "execution_count": 21,
   "id": "084f18bd",
   "metadata": {},
   "outputs": [
    {
     "name": "stdout",
     "output_type": "stream",
     "text": [
      "0번째 과일은 mango입니다\n",
      "1번째 과일은 apple입니다\n",
      "2번째 과일은 orange입니다\n"
     ]
    }
   ],
   "source": [
    "fruits = ['mango', 'apple', 'orange']\n",
    "for i in range(3):\n",
    "    print(\"{}번째 과일은 {}입니다\". format(i, fruits[i]))"
   ]
  },
  {
   "cell_type": "code",
   "execution_count": 26,
   "id": "f9ca8291",
   "metadata": {},
   "outputs": [
    {
     "name": "stdout",
     "output_type": "stream",
     "text": [
      "0번째 과일은 mango입니다\n",
      "1번째 과일은 apple입니다\n",
      "2번째 과일은 orange입니다\n",
      "3번째 과일은 grape입니다\n"
     ]
    }
   ],
   "source": [
    "fruits = ['mango', 'apple', 'orange', 'grape'] #len(fruits): 리스트 데이터 수\n",
    "for i in range(len(fruits)):\n",
    "    print(\"{}번째 과일은 {}입니다\". format(i, fruits[i]))"
   ]
  },
  {
   "cell_type": "code",
   "execution_count": 23,
   "id": "209a69c5",
   "metadata": {},
   "outputs": [
    {
     "name": "stdout",
     "output_type": "stream",
     "text": [
      "0번째 과일은 mango 입니다.\n",
      "1번째 과일은 apple 입니다.\n",
      "2번째 과일은 orange 입니다.\n",
      "3번째 과일은 grape 입니다.\n"
     ]
    }
   ],
   "source": [
    "for idx, value in enumerate(fruits):\n",
    "    print(\"{}번째 과일은 {} 입니다.\". format(idx,value))"
   ]
  },
  {
   "cell_type": "code",
   "execution_count": 24,
   "id": "b2db70c7",
   "metadata": {},
   "outputs": [
    {
     "data": {
      "text/plain": [
       "[(0, 'mango'), (1, 'apple'), (2, 'orange'), (3, 'grape')]"
      ]
     },
     "execution_count": 24,
     "metadata": {},
     "output_type": "execute_result"
    }
   ],
   "source": [
    "# enunerate(나열가능한자료) : -> (index, 값) 들의 셋들\n",
    "list(enumerate(fruits))"
   ]
  },
  {
   "cell_type": "code",
   "execution_count": 29,
   "id": "186f54f4",
   "metadata": {},
   "outputs": [
    {
     "name": "stdout",
     "output_type": "stream",
     "text": [
      "[0, True, '2', 3, [4, 5, 6]]\n",
      "True 5\n"
     ]
    }
   ],
   "source": [
    "#리스트는 여러 타입의 데이터를 담을 수 있다. \n",
    "numbers = [0, True, \"2\", 3, [4,5,6]]\n",
    "print(numbers)\n",
    "print(numbers[1], numbers[4][1])"
   ]
  },
  {
   "cell_type": "code",
   "execution_count": 36,
   "id": "1fc0569c",
   "metadata": {},
   "outputs": [
    {
     "data": {
      "text/plain": [
       "(3, 4)"
      ]
     },
     "execution_count": 36,
     "metadata": {},
     "output_type": "execute_result"
    }
   ],
   "source": [
    "#2차원 리스트\n",
    "numbers_2d = [[90 ,91, 92, 93], \n",
    "              [80, 81, 82, 83] ,\n",
    "              [70,71,72, 73],]\n",
    "len(numbers_2d), len(numbers_2d[0])"
   ]
  },
  {
   "cell_type": "code",
   "execution_count": 39,
   "id": "9338c164",
   "metadata": {},
   "outputs": [
    {
     "name": "stdout",
     "output_type": "stream",
     "text": [
      "0행0열 : 90\t0행1열 : 91\t0행2열 : 92\t0행3열 : 93\t\n",
      "1행0열 : 80\t1행1열 : 81\t1행2열 : 82\t1행3열 : 83\t\n",
      "2행0열 : 70\t2행1열 : 71\t2행2열 : 72\t2행3열 : 73\t\n"
     ]
    }
   ],
   "source": [
    "for i ,row in enumerate(numbers_2d) : \n",
    "    for j , value in enumerate(row):\n",
    "        print(\"{}행{}열 : {}\".format(i, j, value), end='\\t')\n",
    "    print()"
   ]
  },
  {
   "cell_type": "code",
   "execution_count": 40,
   "id": "ee4dee49",
   "metadata": {},
   "outputs": [
    {
     "name": "stdout",
     "output_type": "stream",
     "text": [
      "90\t91\t92\t93\t80\t81\t82\t83\t70\t71\t72\t73\t"
     ]
    }
   ],
   "source": [
    "for row in numbers_2d:\n",
    "    for item in row :\n",
    "        print(item, end='\\t')\n"
   ]
  },
  {
   "cell_type": "markdown",
   "id": "998dd8a7",
   "metadata": {},
   "source": [
    "## 1.2 기본 정보 조회"
   ]
  },
  {
   "cell_type": "code",
   "execution_count": 42,
   "id": "7f5cc147",
   "metadata": {},
   "outputs": [],
   "source": [
    "numbers = [1, 12, 3, 5, 4]\n",
    "numbers_2d = [[100,0], [9,100,1,2,3], [50,54]]"
   ]
  },
  {
   "cell_type": "code",
   "execution_count": 51,
   "id": "473ae17f",
   "metadata": {},
   "outputs": [
    {
     "data": {
      "text/plain": [
       "(1, 12)"
      ]
     },
     "execution_count": 51,
     "metadata": {},
     "output_type": "execute_result"
    }
   ],
   "source": [
    "min(numbers), max(numbers)"
   ]
  },
  {
   "cell_type": "code",
   "execution_count": 43,
   "id": "fbf66b62",
   "metadata": {},
   "outputs": [
    {
     "data": {
      "text/plain": [
       "([9, 100, 1, 2, 3], [100, 0])"
      ]
     },
     "execution_count": 43,
     "metadata": {},
     "output_type": "execute_result"
    }
   ],
   "source": [
    "#2차원 list의 min(): 0번 인덱스 요소가 가장 작은 것\n",
    "#             man(): 0번 인덱스 요소가 가장 큰것\n",
    "min(numbers_2d), max(numbers_2d)"
   ]
  },
  {
   "cell_type": "code",
   "execution_count": 48,
   "id": "146ae675",
   "metadata": {},
   "outputs": [
    {
     "name": "stdout",
     "output_type": "stream",
     "text": [
      "오름차순: [1, 3, 4, 5, 12]\n",
      "내림차순: [12, 5, 4, 3, 1]\n",
      "sorted 함수 사용시 리스트 내용이 바뀌지 않음: [1, 12, 3, 5, 4]\n",
      "합: 25\n"
     ]
    }
   ],
   "source": [
    "numbers = [1, 12, 3, 5, 4]\n",
    "#정렬(오름차순, 내림차순)\n",
    "print('오름차순:',sorted(numbers))\n",
    "print('내림차순:', sorted(numbers, reverse= True) )\n",
    "print('sorted 함수 사용시 리스트 내용이 바뀌지 않음:', numbers)\n",
    "print('합:', sum(numbers))"
   ]
  },
  {
   "cell_type": "code",
   "execution_count": 54,
   "id": "2f1ed6ae",
   "metadata": {},
   "outputs": [
    {
     "data": {
      "text/plain": [
       "('APPLE', 'orange')"
      ]
     },
     "execution_count": 54,
     "metadata": {},
     "output_type": "execute_result"
    }
   ],
   "source": [
    "fruits = ['mango', 'apple', 'orange', 'APPLE']\n",
    "min(fruits), max(fruits)"
   ]
  },
  {
   "cell_type": "code",
   "execution_count": null,
   "id": "60278a1c",
   "metadata": {
    "collapsed": true
   },
   "outputs": [],
   "source": []
  },
  {
   "cell_type": "markdown",
   "id": "f62f1556",
   "metadata": {},
   "source": [
    "## 1.3 요소 추가\n",
    " ```\n",
    "+ : 두 리스트 연결\n",
    "* : 리스트를 곱한 수만 반복 \n",
    "append() : 맨 뒤에 요소 추가 \n",
    "extend() : 맨 뒤에 리스트를 요소별로 추가 \n",
    "insert(idx, 값): idx 인덱스 위치에 추가(기존 데이터는 shift 밀려나간다)\n",
    "```"
   ]
  },
  {
   "cell_type": "code",
   "execution_count": 55,
   "id": "0553f9be",
   "metadata": {},
   "outputs": [
    {
     "data": {
      "text/plain": [
       "[1, 2, 3, 1, 2, 3]"
      ]
     },
     "execution_count": 55,
     "metadata": {},
     "output_type": "execute_result"
    }
   ],
   "source": [
    "numbers = [1, 2, 3]\n",
    "numbers = numbers + numbers\n",
    "numbers"
   ]
  },
  {
   "cell_type": "code",
   "execution_count": 57,
   "id": "555f8f8e",
   "metadata": {},
   "outputs": [
    {
     "name": "stdout",
     "output_type": "stream",
     "text": [
      "[1, 2, 3, 4, 5, 6]\n"
     ]
    }
   ],
   "source": [
    "#요소별로 각기 추가\n",
    "num = [1,2,3]\n",
    "num.extend([4,5,6])\n",
    "print(num)"
   ]
  },
  {
   "cell_type": "code",
   "execution_count": 60,
   "id": "c97d6710",
   "metadata": {},
   "outputs": [
    {
     "name": "stdout",
     "output_type": "stream",
     "text": [
      "[1, 2, 'x', 'x', 'x', 3, 4, 5, 6]\n"
     ]
    }
   ],
   "source": [
    "num.insert(2,'x')\n",
    "print(num)"
   ]
  },
  {
   "cell_type": "code",
   "execution_count": 61,
   "id": "6197891e",
   "metadata": {},
   "outputs": [
    {
     "name": "stdout",
     "output_type": "stream",
     "text": [
      "[1, 2, 3, [4, 5, 6]]\n"
     ]
    }
   ],
   "source": [
    "num = [1,2,3]\n",
    "num.append([4,5,6])\n",
    "print(num)"
   ]
  },
  {
   "cell_type": "markdown",
   "id": "de69daec",
   "metadata": {},
   "source": [
    "##  1.,4인덱싱과 요소 갯수\n",
    "```\n",
    "변수[index] : 인덱스를 이용한 접근\n",
    "index(찾을데이터) : 해당 찾을 데이터가 있는 요소의 index를 반환 찾을데이터가 없을 경우 오류\n",
    "count(찾을데이터) : 리스트에서 찾을데이터의 갯수 반환 \n",
    "```"
   ]
  },
  {
   "cell_type": "code",
   "execution_count": 62,
   "id": "ae63de80",
   "metadata": {},
   "outputs": [
    {
     "data": {
      "text/plain": [
       "(2, 0)"
      ]
     },
     "execution_count": 62,
     "metadata": {},
     "output_type": "execute_result"
    }
   ],
   "source": [
    "numbers = [1,2,3, [1,2,3],1,2,3]\n",
    "numbers.count(2) , numbers.count(9)"
   ]
  },
  {
   "cell_type": "code",
   "execution_count": 63,
   "id": "5839662f",
   "metadata": {},
   "outputs": [
    {
     "data": {
      "text/plain": [
       "1"
      ]
     },
     "execution_count": 63,
     "metadata": {},
     "output_type": "execute_result"
    }
   ],
   "source": [
    "numbers.index(2)"
   ]
  },
  {
   "cell_type": "code",
   "execution_count": 64,
   "id": "4ccd473c",
   "metadata": {},
   "outputs": [
    {
     "data": {
      "text/plain": [
       "5"
      ]
     },
     "execution_count": 64,
     "metadata": {},
     "output_type": "execute_result"
    }
   ],
   "source": [
    "numbers.index(2,3)"
   ]
  },
  {
   "cell_type": "code",
   "execution_count": 78,
   "id": "bd0e614e",
   "metadata": {},
   "outputs": [
    {
     "name": "stdout",
     "output_type": "stream",
     "text": [
      "1\n"
     ]
    }
   ],
   "source": [
    "numbers = [1, 2, 3, [1, 2, 3], 1, 2, 3]\n",
    "if 2 in numbers:\n",
    "    print(numbers.index(2))\n",
    "else:\n",
    "    print('9가 없어요')"
   ]
  },
  {
   "cell_type": "code",
   "execution_count": 65,
   "id": "74497a7c",
   "metadata": {},
   "outputs": [
    {
     "data": {
      "text/plain": [
       "False"
      ]
     },
     "execution_count": 65,
     "metadata": {},
     "output_type": "execute_result"
    }
   ],
   "source": [
    "9 in numbers #numbers 리스트에 9가 존재하는지 여부"
   ]
  },
  {
   "cell_type": "code",
   "execution_count": 71,
   "id": "e74ab1b1",
   "metadata": {},
   "outputs": [],
   "source": [
    "def safe_index(lst, data):\n",
    "    if data in lst: #list 안에 data 있는지 여부\n",
    "        return lst.index(data)  \n",
    "    else:\n",
    "        return -1 "
   ]
  },
  {
   "cell_type": "code",
   "execution_count": 72,
   "id": "d2f281ed",
   "metadata": {},
   "outputs": [
    {
     "data": {
      "text/plain": [
       "-1"
      ]
     },
     "execution_count": 72,
     "metadata": {},
     "output_type": "execute_result"
    }
   ],
   "source": [
    "safe_index(numbers, 9)"
   ]
  },
  {
   "cell_type": "code",
   "execution_count": 73,
   "id": "63b488af",
   "metadata": {},
   "outputs": [
    {
     "data": {
      "text/plain": [
       "1"
      ]
     },
     "execution_count": 73,
     "metadata": {},
     "output_type": "execute_result"
    }
   ],
   "source": [
    "safe_index(numbers, 2)"
   ]
  },
  {
   "cell_type": "markdown",
   "id": "58bf1cc9",
   "metadata": {},
   "source": [
    "## 1.5 원하는 요소 추출\n",
    "1. 리스트 슬라이싱: 리스트에서 원하는 index의 데이터를 추출(인덱스 범위 벗어나도 에러 노노)\n",
    "- [from:stop:step] fromqnxj stop까지 step씩 증가하는 index의 값을 추출\n",
    "- from 생략시 처음, stop 생략시 끝, step 생략되면 1, 모두 생략가능\n",
    "- 음수 인덱스 가능\n",
    "- 리스트에서 원하는 데이터를 추출\n",
    "\n"
   ]
  },
  {
   "cell_type": "code",
   "execution_count": 79,
   "id": "f5daae17",
   "metadata": {},
   "outputs": [],
   "source": [
    "numbers = [1,3,5,9,10,12,13,20]\n",
    "#짝수 번째 인덱스 값 출력\n",
    "#거꾸로 출력"
   ]
  },
  {
   "cell_type": "code",
   "execution_count": 82,
   "id": "7a281f97",
   "metadata": {},
   "outputs": [
    {
     "name": "stdout",
     "output_type": "stream",
     "text": [
      "[1, 5, 10, 13]\n",
      "[20, 13, 12, 10, 9, 5, 3, 1]\n"
     ]
    }
   ],
   "source": [
    "print(numbers[::2])\n",
    "print(numbers[::-1])"
   ]
  },
  {
   "cell_type": "code",
   "execution_count": 86,
   "id": "fc715821",
   "metadata": {},
   "outputs": [
    {
     "name": "stdout",
     "output_type": "stream",
     "text": [
      "[1, 3, 5, 9, 10, 12, 13, 20]\n",
      "[10, 12, 20]\n"
     ]
    }
   ],
   "source": [
    "numbers = [1, 3, 5, 9, 10, 12, 13, 20]\n",
    "# 리스트에서 모든 데이터를 변수에 담아 출력하시오.\n",
    "result = []\n",
    "for data in numbers:\n",
    "    result.append(data)\n",
    "print(result)\n",
    "# 리스트에서 짝수 데이터만 변수에 담아 출력하시오.\n",
    "result = []\n",
    "for data in numbers:\n",
    "    if not data%2:\n",
    "        result.append(data)\n",
    "print(result)"
   ]
  },
  {
   "cell_type": "code",
   "execution_count": 85,
   "id": "6c1a640f",
   "metadata": {},
   "outputs": [
    {
     "name": "stdout",
     "output_type": "stream",
     "text": [
      "[1]\n",
      "[1, 3]\n",
      "[1, 3, 5]\n",
      "[1, 3, 5, 9]\n",
      "[1, 3, 5, 9, 10]\n",
      "[1, 3, 5, 9, 10, 12]\n",
      "[1, 3, 5, 9, 10, 12, 13]\n",
      "[1, 3, 5, 9, 10, 12, 13, 20]\n"
     ]
    }
   ],
   "source": [
    "result = []\n",
    "for data in numbers:\n",
    "    result. append(data)\n",
    "    print(result)"
   ]
  },
  {
   "cell_type": "code",
   "execution_count": 87,
   "id": "6d6014b3",
   "metadata": {},
   "outputs": [
    {
     "data": {
      "text/plain": [
       "[1, 3, 5, 9, 10, 12, 13, 20]"
      ]
     },
     "execution_count": 87,
     "metadata": {},
     "output_type": "execute_result"
    }
   ],
   "source": [
    "\n",
    "# numbers의 모든 데이터를 리스트컴프리헨션으로 추출\n",
    "[data for data in numbers]"
   ]
  },
  {
   "cell_type": "code",
   "execution_count": 89,
   "id": "43fa7677",
   "metadata": {},
   "outputs": [
    {
     "data": {
      "text/plain": [
       "[10, 12, 20]"
      ]
     },
     "execution_count": 89,
     "metadata": {},
     "output_type": "execute_result"
    }
   ],
   "source": [
    "# numbers의 짝수 데이터를 리스트컴프리헨션으로 추출\n",
    "[data for data in numbers if data%2==0]"
   ]
  },
  {
   "cell_type": "code",
   "execution_count": 93,
   "id": "e8e50952",
   "metadata": {},
   "outputs": [
    {
     "data": {
      "text/plain": [
       "[10, 12, 13, 20]"
      ]
     },
     "execution_count": 93,
     "metadata": {},
     "output_type": "execute_result"
    }
   ],
   "source": [
    "# ex1. numbers에서 10이상만 추출\n",
    "numbers = [1, 3, 5, 9, 10, 12, 13, 20]\n",
    "[data for data in numbers if data>=10]"
   ]
  },
  {
   "cell_type": "code",
   "execution_count": 99,
   "id": "fad49662",
   "metadata": {},
   "outputs": [
    {
     "data": {
      "text/plain": [
       "['orange']"
      ]
     },
     "execution_count": 99,
     "metadata": {},
     "output_type": "execute_result"
    }
   ],
   "source": [
    "# ex2. fruits에서 5글자가 넘는 과일만 추출\n",
    "fruits = ['orange', 'apple', 'mango', 'kiwi']\n",
    "[item for item in fruits if len(item)>5]"
   ]
  },
  {
   "cell_type": "code",
   "execution_count": 100,
   "id": "f84b07ce",
   "metadata": {},
   "outputs": [
    {
     "data": {
      "text/plain": [
       "[9, 16, 25]"
      ]
     },
     "execution_count": 100,
     "metadata": {},
     "output_type": "execute_result"
    }
   ],
   "source": [
    "# ex3. 3이상의 요소들의 제곱을 추출\n",
    "L = [1, 2, 3, 4, 5]\n",
    "[item**2 for item in L if item>=3]"
   ]
  },
  {
   "cell_type": "code",
   "execution_count": 124,
   "id": "9a53200e",
   "metadata": {},
   "outputs": [
    {
     "data": {
      "text/plain": [
       "[0, 1, 2, 222, 4, 5, 6, 7, 8, 9]"
      ]
     },
     "execution_count": 124,
     "metadata": {},
     "output_type": "execute_result"
    }
   ],
   "source": [
    "## 1.6 요소 수정하기 \n",
    "numbers = [0,1,2,3,4,5,6,7,8,9]\n",
    "numbers[3] =222\n",
    "numbers"
   ]
  },
  {
   "cell_type": "code",
   "execution_count": 102,
   "id": "bdf22858",
   "metadata": {},
   "outputs": [
    {
     "data": {
      "text/plain": [
       "[0, 'x', 4, 5, 6, 7, 8, 9]"
      ]
     },
     "execution_count": 102,
     "metadata": {},
     "output_type": "execute_result"
    }
   ],
   "source": [
    "#t슬라이싱 이용해서 요소 수정 (step 부분이 미포함: 부분 리스트가 통째로 수정)\n",
    "numbers[1:4]=['x']\n",
    "numbers "
   ]
  },
  {
   "cell_type": "code",
   "execution_count": 125,
   "id": "99b7dc6e",
   "metadata": {},
   "outputs": [
    {
     "data": {
      "text/plain": [
       "['x', 1, 5, 222, 5, 5, 5, 7, 5, 9]"
      ]
     },
     "execution_count": 125,
     "metadata": {},
     "output_type": "execute_result"
    }
   ],
   "source": [
    "#슬라이싱을 이용해서 요소 수정(step 부분 포함: 요소 갯수가 맞아야함)\n",
    "numbers[::2]=['x', 5,5,5,5]\n",
    "numbers "
   ]
  },
  {
   "cell_type": "markdown",
   "id": "a9083926",
   "metadata": {},
   "source": [
    "## 1.7 요소 삭제 \n",
    "- pop() : 가장 마지막 인덱스 요소가 반환되고 삭제 \n",
    "- pop(idx): idx번째 요소가 반환되고 삭제 \n",
    "- remove(자율data) : 리스트의 데이터가 삭제 \n",
    "- del변수[idx] : idx번째 데이터가 삭제"
   ]
  },
  {
   "cell_type": "code",
   "execution_count": 112,
   "id": "b3fc5dba",
   "metadata": {},
   "outputs": [
    {
     "name": "stdout",
     "output_type": "stream",
     "text": [
      "삭제된 데이터: 5, 리스트: [1, 2, 3, 4] .\n",
      "삭제된 데이터: 1, 리스트: [2, 3, 4] .\n"
     ]
    }
   ],
   "source": [
    "numbers = [1,2,3,4,5]\n",
    "delete_data = numbers.pop()\n",
    "print(\"삭제된 데이터: {}, 리스트: {} .\".format(delete_data, numbers))\n",
    "delete_data2 = numbers.pop(0)\n",
    "print(\"삭제된 데이터: {}, 리스트: {} .\".format(delete_data2, numbers))"
   ]
  },
  {
   "cell_type": "code",
   "execution_count": 121,
   "id": "e4080f1d",
   "metadata": {},
   "outputs": [
    {
     "name": "stdout",
     "output_type": "stream",
     "text": [
      "None\n",
      "[1, 2, 4, 5]\n"
     ]
    }
   ],
   "source": [
    "numbers = [1,2,3,4,5]\n",
    "del_num = numbers.remove(3)\n",
    "print(del_num)\n",
    "#remove는 반환값이 없고 해당데이터만 삭제, 해당데이터가 없으면 오류\n",
    "print(numbers)"
   ]
  },
  {
   "cell_type": "code",
   "execution_count": 118,
   "id": "283738e8",
   "metadata": {},
   "outputs": [
    {
     "name": "stdout",
     "output_type": "stream",
     "text": [
      "해당 번호가 없습니다.\n"
     ]
    }
   ],
   "source": [
    "if 9 in numbers: \n",
    "    numbers.remove(9)\n",
    "    \n",
    "else: \n",
    "    print(\"해당 번호가 없습니다.\")"
   ]
  },
  {
   "cell_type": "code",
   "execution_count": 122,
   "id": "5fa6a40b",
   "metadata": {},
   "outputs": [],
   "source": [
    "def safe_remove(lst, remove_data):\n",
    "    if remove_data in lst:\n",
    "        lst.remove(remove_data)\n",
    "        print(remove_data, '삭제 완료')\n",
    "    else:\n",
    "        print(f'{remove_data}는 없는 아이템입니다')"
   ]
  },
  {
   "cell_type": "code",
   "execution_count": 123,
   "id": "70808f09",
   "metadata": {},
   "outputs": [
    {
     "name": "stdout",
     "output_type": "stream",
     "text": [
      "{remove_data}는 없는 아이템입니다\n",
      "5 삭제 완료\n"
     ]
    }
   ],
   "source": [
    "safe_remove(numbers, 9)\n",
    "safe_remove(numbers, 5)"
   ]
  },
  {
   "cell_type": "markdown",
   "id": "e7aa9d50",
   "metadata": {},
   "source": [
    "## 1.8 정렬하기"
   ]
  },
  {
   "cell_type": "code",
   "execution_count": 12,
   "id": "72e43552",
   "metadata": {},
   "outputs": [
    {
     "name": "stdout",
     "output_type": "stream",
     "text": [
      "numbers는 변경하지 않고 정렬 : [9, 8, 5, 1, 0]\n",
      "numbers : [1, 9, 5, 0, 8]\n"
     ]
    }
   ],
   "source": [
    "numbers = [1, 9, 5, 0, 8] # reverse=True:내림차순\n",
    "print('numbers는 변경하지 않고 정렬 :', sorted(numbers, reverse=True))\n",
    "print('numbers :', numbers)"
   ]
  },
  {
   "cell_type": "code",
   "execution_count": 14,
   "id": "a14e12cf",
   "metadata": {},
   "outputs": [
    {
     "data": {
      "text/plain": [
       "[0, 1, 5, 8, 9]"
      ]
     },
     "execution_count": 14,
     "metadata": {},
     "output_type": "execute_result"
    }
   ],
   "source": [
    "numbers.sort() #numbers 자체가 정렬한 결과로 바뀜(기본정렬: 오름차순)\n",
    "numbers"
   ]
  },
  {
   "cell_type": "code",
   "execution_count": 15,
   "id": "9a460e20",
   "metadata": {},
   "outputs": [
    {
     "data": {
      "text/plain": [
       "[9, 8, 5, 1, 0]"
      ]
     },
     "execution_count": 15,
     "metadata": {},
     "output_type": "execute_result"
    }
   ],
   "source": [
    "numbers.reverse() #numbers 자체가 역순으로 변경 \n",
    "numbers"
   ]
  },
  {
   "cell_type": "code",
   "execution_count": 8,
   "id": "083abf3f",
   "metadata": {},
   "outputs": [
    {
     "data": {
      "text/plain": [
       "[9, 5, 2]"
      ]
     },
     "execution_count": 8,
     "metadata": {},
     "output_type": "execute_result"
    }
   ],
   "source": [
    "lst = [2,5,9]\n",
    "#lst.reverse() \n",
    "lst = lst[::-1]\n",
    "lst"
   ]
  },
  {
   "cell_type": "markdown",
   "id": "2d2d2c0e",
   "metadata": {},
   "source": [
    "## 1.9 복제하기 "
   ]
  },
  {
   "cell_type": "code",
   "execution_count": 21,
   "id": "bbea0055",
   "metadata": {},
   "outputs": [
    {
     "name": "stdout",
     "output_type": "stream",
     "text": [
      "원본=10,복사본=10 / 원본주소=2266904855056, 복사본주소=2266904855056\n",
      "원본=10,복사본=99 / 원본주소=2266904855056, 복사본주소=2266904857904\n"
     ]
    }
   ],
   "source": [
    "#스칼라 데이터의 (데이터가 하나) 복제\n",
    "i = 10 #원본\n",
    "copy_i = i #복제본\n",
    "print(f\"원본={i},복사본={copy_i} / 원본주소={id(i)}, 복사본주소={id(copy_i)}\")\n",
    "copy_i = 99\n",
    "print(f\"원본={i},복사본={copy_i} / 원본주소={id(i)}, 복사본주소={id(copy_i)}\")"
   ]
  },
  {
   "cell_type": "code",
   "execution_count": 40,
   "id": "15b1d2d8",
   "metadata": {},
   "outputs": [
    {
     "name": "stdout",
     "output_type": "stream",
     "text": [
      "원본: [9, 8, 1]\n",
      "복제본: [9, 8, 1]\n"
     ]
    }
   ],
   "source": [
    "#리스트(배열, 데이터프레임, 딕셔너리)의 복제 (절대 안됌)\n",
    "numbers = [5, 8 ,1] #원본\n",
    "new_numbers = numbers #복사본 \n",
    "new_numbers[0] = 9\n",
    "print('원본:', numbers)\n",
    "print('복제본:', numbers)"
   ]
  },
  {
   "cell_type": "code",
   "execution_count": 19,
   "id": "87879fa6",
   "metadata": {},
   "outputs": [
    {
     "name": "stdout",
     "output_type": "stream",
     "text": [
      "9 2266904855024\n",
      "8 2266904854992\n"
     ]
    }
   ],
   "source": [
    "a= 9\n",
    "print(a, id(a))\n",
    "a= 8 \n",
    "print(a, id(a))"
   ]
  },
  {
   "cell_type": "code",
   "execution_count": 41,
   "id": "9770be35",
   "metadata": {},
   "outputs": [
    {
     "name": "stdout",
     "output_type": "stream",
     "text": [
      "원본=[5, 8, 1],복제본=[5, 8, 1]\n",
      "원본주소=2267021263488,복제본=2267021263488\n",
      "복제본만 지지고 볶고\n",
      "원본=[-99, 1, 8],복제본=[-99, 1, 8]\n",
      "원본주소=2267021263488,복제본=2267021263488\n"
     ]
    }
   ],
   "source": [
    "#얕은 복사(할당) / 깊은 복사(복제)\n",
    "numbers = [5, 8 ,1] #원본\n",
    "new_numbers = numbers #얕은 복사(할당)\n",
    "print(f'원본={numbers},복제본={new_numbers}')\n",
    "print(f'원본주소={id(numbers)},복제본={id(new_numbers)}')\n",
    "new_numbers[0]= -99\n",
    "new_numbers.sort()\n",
    "print(\"복제본만 지지고 볶고\")\n",
    "print(f'원본={numbers},복제본={new_numbers}')\n",
    "print(f'원본주소={id(numbers)},복제본={id(new_numbers)}')"
   ]
  },
  {
   "cell_type": "code",
   "execution_count": 26,
   "id": "33b91fe7",
   "metadata": {},
   "outputs": [
    {
     "name": "stdout",
     "output_type": "stream",
     "text": [
      "원본=[5, 8, 1],복제본=[5, 8, 1]\n",
      "원본주소=2267012822144,복제본=2267017138752\n",
      "복제본만 지지고 볶고\n",
      "원본=[5, 8, 1],복제본=[-99, 1, 8]\n",
      "원본주소=2267012822144,복제본=2267017138752\n"
     ]
    }
   ],
   "source": [
    "#깊은 복사(복제)\n",
    "numbers = [5, 8 ,1] #원본\n",
    "new_numbers = numbers.copy() #깊은 복사(할당)\n",
    "print(f'원본={numbers},복제본={new_numbers}')\n",
    "print(f'원본주소={id(numbers)},복제본={id(new_numbers)}')\n",
    "new_numbers[0]= -99\n",
    "new_numbers.sort()\n",
    "print(\"복제본만 지지고 볶고\")\n",
    "print(f'원본={numbers},복제본={new_numbers}')\n",
    "print(f'원본주소={id(numbers)},복제본={id(new_numbers)}')"
   ]
  },
  {
   "cell_type": "code",
   "execution_count": 42,
   "id": "6746c692",
   "metadata": {},
   "outputs": [
    {
     "name": "stdout",
     "output_type": "stream",
     "text": [
      "원본=[5, 8, 1],복제본=[5, 8, 1]\n",
      "원본주소=2267020908992,복제본=2267021495296\n",
      "복제본만 지지고 볶고\n",
      "원본=[5, 8, 1],복제본=[1, 8]\n",
      "원본주소=2267020908992,복제본=2267021495296\n"
     ]
    }
   ],
   "source": [
    "#깊은 복사(복제)\n",
    "numbers = [5, 8 ,1] #원본\n",
    "new_numbers = numbers.copy() #깊은 복사(할당)\n",
    "print(f'원본={numbers},복제본={new_numbers}')\n",
    "print(f'원본주소={id(numbers)},복제본={id(new_numbers)}')\n",
    "new_numbers[0]= -99\n",
    "new_numbers.sort()\n",
    "new_numbers.remove(-99)\n",
    "print(\"복제본만 지지고 볶고\")\n",
    "print(f'원본={numbers},복제본={new_numbers}')\n",
    "print(f'원본주소={id(numbers)},복제본={id(new_numbers)}')"
   ]
  },
  {
   "cell_type": "code",
   "execution_count": 29,
   "id": "0632a337",
   "metadata": {},
   "outputs": [
    {
     "data": {
      "text/plain": [
       "[]"
      ]
     },
     "execution_count": 29,
     "metadata": {},
     "output_type": "execute_result"
    }
   ],
   "source": [
    "numbers.clear() #리스트의 복제\n",
    "numbers"
   ]
  },
  {
   "cell_type": "markdown",
   "id": "55f1ebeb",
   "metadata": {},
   "source": [
    "# 2절 튜플 \n",
    "- 리스트와 유사하지만, 읽기 전용, 수정이 필요없는 데이터에서 사용\n",
    "- 수정 불가하므로, 튜플에 데이터 수정 추가 삭제 불가(제공되는 함수도 많지 않음)\n",
    "- (), tupple() 이용해서 생성 "
   ]
  },
  {
   "cell_type": "code",
   "execution_count": 30,
   "id": "79bc703b",
   "metadata": {},
   "outputs": [
    {
     "name": "stdout",
     "output_type": "stream",
     "text": [
      "<class 'tuple'>\n",
      "('서울', '부산', '인천', '목포')\n"
     ]
    }
   ],
   "source": [
    "#city = ('서울', '부산','인천','목포') #파이썬은 여러개의 값이 전달될때 튜플 타입으로 전달 \n",
    "city = '서울', '부산','인천','목포'\n",
    "print(type(city))\n",
    "print(city)"
   ]
  },
  {
   "cell_type": "code",
   "execution_count": 31,
   "id": "bdbf4510",
   "metadata": {},
   "outputs": [
    {
     "name": "stdout",
     "output_type": "stream",
     "text": [
      "10 12\n"
     ]
    }
   ],
   "source": [
    "a,b = 10, 12\n",
    "print(a,b)"
   ]
  },
  {
   "cell_type": "code",
   "execution_count": 34,
   "id": "5d47076a",
   "metadata": {},
   "outputs": [
    {
     "data": {
      "text/plain": [
       "'서울/부산/인천/목포'"
      ]
     },
     "execution_count": 34,
     "metadata": {},
     "output_type": "execute_result"
    }
   ],
   "source": [
    "city = ('서울', '부산','인천','목포')\n",
    "'/'.join(city)"
   ]
  },
  {
   "cell_type": "code",
   "execution_count": 43,
   "id": "ee8eb2f9",
   "metadata": {},
   "outputs": [
    {
     "name": "stdout",
     "output_type": "stream",
     "text": [
      "<class 'list'> ['서울']\n"
     ]
    }
   ],
   "source": [
    "l = ['서울'] # 요소가 하나 있는 리스트\n",
    "print(type(l), l)"
   ]
  },
  {
   "cell_type": "code",
   "execution_count": 45,
   "id": "2005c538",
   "metadata": {},
   "outputs": [
    {
     "name": "stdout",
     "output_type": "stream",
     "text": [
      "<class 'list'> ['서울']\n"
     ]
    }
   ],
   "source": [
    "t = ('서울') # 요소가 하나 있는 리스트\n",
    "print(type(l), l)"
   ]
  },
  {
   "cell_type": "code",
   "execution_count": 50,
   "id": "6863eb46",
   "metadata": {},
   "outputs": [
    {
     "name": "stdout",
     "output_type": "stream",
     "text": [
      "<class 'tuple'> ('서울',)\n"
     ]
    }
   ],
   "source": [
    "t = ('서울', ) # 요소가 하나 있는 튜플(, 반드시 기입)\n",
    "print(type(t), t)"
   ]
  },
  {
   "cell_type": "code",
   "execution_count": 51,
   "id": "ec1a6dd7",
   "metadata": {},
   "outputs": [
    {
     "data": {
      "text/plain": [
       "(1, 3, 6, [3, 2, 1])"
      ]
     },
     "execution_count": 51,
     "metadata": {},
     "output_type": "execute_result"
    }
   ],
   "source": [
    "\n",
    "numbers = (1, 2, 3)\n",
    "# numbers.remove(3) 수정하기 위한 함수는 제공되지 않음\n",
    "# numbers.append(4)\n",
    "# numbers.pop()\n",
    "# numbers.sort()\n",
    "min(numbers), max(numbers), sum(numbers), sorted(numbers, reverse=True)"
   ]
  },
  {
   "cell_type": "code",
   "execution_count": 52,
   "id": "14ee2356",
   "metadata": {},
   "outputs": [
    {
     "data": {
      "text/plain": [
       "(2, 0)"
      ]
     },
     "execution_count": 52,
     "metadata": {},
     "output_type": "execute_result"
    }
   ],
   "source": [
    "numbers = (0, 1, 2, (1, 2), 0, 1, 2)\n",
    "numbers.count(2), numbers.count(9)"
   ]
  },
  {
   "cell_type": "code",
   "execution_count": 53,
   "id": "32d7f352",
   "metadata": {},
   "outputs": [
    {
     "name": "stdout",
     "output_type": "stream",
     "text": [
      "<class 'str'> 서울\n"
     ]
    }
   ],
   "source": [
    "t = '서울'\n",
    "print(type(t), t)"
   ]
  },
  {
   "cell_type": "code",
   "execution_count": 54,
   "id": "09688ac5",
   "metadata": {},
   "outputs": [
    {
     "data": {
      "text/plain": [
       "(2, 0)"
      ]
     },
     "execution_count": 54,
     "metadata": {},
     "output_type": "execute_result"
    }
   ],
   "source": [
    "numbers = (0, 1, 2, (1, 2), 0, 1, 2)\n",
    "numbers.count(2), numbers.count(9)"
   ]
  },
  {
   "cell_type": "code",
   "execution_count": 55,
   "id": "193e4ca5",
   "metadata": {},
   "outputs": [
    {
     "name": "stdout",
     "output_type": "stream",
     "text": [
      "9 요소가 없어요\n"
     ]
    }
   ],
   "source": [
    "if 9 in numbers:\n",
    "    numbers.index(9)\n",
    "else:\n",
    "    print('9 요소가 없어요')"
   ]
  },
  {
   "cell_type": "code",
   "execution_count": 57,
   "id": "4320a401",
   "metadata": {},
   "outputs": [],
   "source": [
    "def safe_index(lst, item):\n",
    "    \"\"\"\n",
    "    lst안에 item 요소가 있으면 item 요소의 index를 반환, 없으면 -1반환\n",
    "    lst : 나열가능한 데이터\n",
    "    item : 찾을 데이터\n",
    "    \"\"\"\n",
    "    if item in lst:\n",
    "        return lst.index(item)\n",
    "    else:\n",
    "        return -1\n",
    "    # return lst.index(item) if item in lst else -1"
   ]
  },
  {
   "cell_type": "code",
   "execution_count": 3,
   "id": "8d513fd1",
   "metadata": {},
   "outputs": [
    {
     "data": {
      "text/plain": [
       "(-1, 2)"
      ]
     },
     "execution_count": 3,
     "metadata": {},
     "output_type": "execute_result"
    }
   ],
   "source": [
    "numbers = (0, 1, 2, (1, 2), 0, 1, 2)\n",
    "from safe import safe_index\n",
    "safe_index(numbers, 9), safe_index(numbers, 2)"
   ]
  },
  {
   "cell_type": "code",
   "execution_count": 4,
   "id": "84c51e7d",
   "metadata": {},
   "outputs": [
    {
     "data": {
      "text/plain": [
       "(0, 1, 2, (1, 2), 0, 1, 2, 0, 1, 2, (1, 2), 0, 1, 2, 0, 1, 2, (1, 2), 0, 1, 2)"
      ]
     },
     "execution_count": 4,
     "metadata": {},
     "output_type": "execute_result"
    }
   ],
   "source": [
    "numbers*3"
   ]
  },
  {
   "cell_type": "code",
   "execution_count": 5,
   "id": "dba05a81",
   "metadata": {},
   "outputs": [
    {
     "data": {
      "text/plain": [
       "[1, 2, 3, 4, 5, 6]"
      ]
     },
     "execution_count": 5,
     "metadata": {},
     "output_type": "execute_result"
    }
   ],
   "source": [
    "# 짝수 요소들을 추출하여 제곱한 데이터를 출력 \n",
    "numbers = (1,2,3,4,5,6)\n",
    "[num for num in numbers]"
   ]
  },
  {
   "cell_type": "code",
   "execution_count": 9,
   "id": "6d2b4e52",
   "metadata": {},
   "outputs": [
    {
     "data": {
      "text/plain": [
       "(4, 16, 36)"
      ]
     },
     "execution_count": 9,
     "metadata": {},
     "output_type": "execute_result"
    }
   ],
   "source": [
    "# 짝수 요소들을 추출하여 제곱한 데이터를 출력 \n",
    "numbers = (1,2,3,4,5,6)\n",
    "tuple([num**2 for num in numbers if num%2==0])"
   ]
  },
  {
   "cell_type": "markdown",
   "id": "15e289a4",
   "metadata": {},
   "source": [
    "# 3절. 딕셔너리\n",
    "- 중괄호를 이용하여 ({}) 키(key)-값(value) 쌍으로 구성된 자료구조 \n",
    "- 키는 중복불가(유일한 값), 키에 list는 사용불가\n",
    "- 값은 중복 가능\n",
    "- 인덱스를 이용한 참조 지원안함. "
   ]
  },
  {
   "cell_type": "code",
   "execution_count": 11,
   "id": "e5d1efaf",
   "metadata": {},
   "outputs": [
    {
     "data": {
      "text/plain": [
       "{'fruit': 'durian', 'number': 12, 'sport': 'golf'}"
      ]
     },
     "execution_count": 11,
     "metadata": {},
     "output_type": "execute_result"
    }
   ],
   "source": [
    "my_favorite = {'fruit':'durian', 'number': 12, 'sport': 'golf'}\n",
    "my_favorite "
   ]
  },
  {
   "cell_type": "code",
   "execution_count": 16,
   "id": "1f089cd1",
   "metadata": {},
   "outputs": [
    {
     "name": "stdout",
     "output_type": "stream",
     "text": [
      "durian\n",
      "None\n"
     ]
    }
   ],
   "source": [
    "print(my_favorite['fruit'])     #없는 키값을 인덱스 방식으로 참조시 에러 , 없는 키를 get 함수로 참조시 NONE, 없는 키를 get 함수로 참조시 '-'\n",
    "print(my_favorite.get('people'))"
   ]
  },
  {
   "cell_type": "code",
   "execution_count": 24,
   "id": "42da731e",
   "metadata": {},
   "outputs": [
    {
     "data": {
      "text/plain": [
       "{'fruit': 'mango', 'sport': 'golf', 'people': 'daon'}"
      ]
     },
     "execution_count": 24,
     "metadata": {},
     "output_type": "execute_result"
    }
   ],
   "source": [
    "my_favorite = {'fruit':'durian', 'number': 12, 'sport': 'golf'} #딕션어리 데이터 수정하기 \n",
    "my_favorite ['fruit'] = 'mango'\n",
    "my_favorite\n",
    "my_favorite [\"people\"] = 'daon'\n",
    "my_favorite\n",
    "my_favorite.pop('number') #넘버 키의 값을 반환하고 제거\n",
    "my_favorite"
   ]
  },
  {
   "cell_type": "code",
   "execution_count": 25,
   "id": "e6b023fa",
   "metadata": {},
   "outputs": [],
   "source": [
    "# for문을 활용한 튜플(리스트) 출력\n",
    "my_tup = ('정다온' , 31, '010-9999-1025')"
   ]
  },
  {
   "cell_type": "code",
   "execution_count": 3,
   "id": "bcdc2938",
   "metadata": {},
   "outputs": [],
   "source": [
    "my_dic = {\"name\" : \"정다온\" , 'age': 30, 'tel':'010-9999-1025' }"
   ]
  },
  {
   "cell_type": "code",
   "execution_count": 40,
   "id": "e3b39a3f",
   "metadata": {},
   "outputs": [
    {
     "data": {
      "text/plain": [
       "30"
      ]
     },
     "execution_count": 40,
     "metadata": {},
     "output_type": "execute_result"
    }
   ],
   "source": [
    "my_dic['age']"
   ]
  },
  {
   "cell_type": "code",
   "execution_count": 49,
   "id": "f660b56f",
   "metadata": {},
   "outputs": [
    {
     "name": "stdout",
     "output_type": "stream",
     "text": [
      "정다온\t31\t010-9999-1025\t\n",
      "0번째 정다온\t1번째 31\t2번째 010-9999-1025\t\n",
      "0번째 정다온\t1번째 31\t2번째 010-9999-1025\t"
     ]
    }
   ],
   "source": [
    "for data in my_tup:\n",
    "    print(data, end=\"\\t\")\n",
    "print()\n",
    "for idx in range(len(my_tup)):\n",
    "    print(f\"{idx}번째 {my_tup[idx]}\", end=\"\\t\")\n",
    "print()\n",
    "for idx, value in enumerate(my_tup):\n",
    "    print(f\"{idx}번째 {value}\", end=\"\\t\")\n"
   ]
  },
  {
   "cell_type": "code",
   "execution_count": 37,
   "id": "0682510b",
   "metadata": {},
   "outputs": [
    {
     "name": "stdout",
     "output_type": "stream",
     "text": [
      "name/age/tel/"
     ]
    }
   ],
   "source": [
    "#엄청 비추 \n",
    "for data in my_dic:\n",
    "    print(data, end = '/')"
   ]
  },
  {
   "cell_type": "code",
   "execution_count": 13,
   "id": "0b58ddcd",
   "metadata": {},
   "outputs": [
    {
     "name": "stdout",
     "output_type": "stream",
     "text": [
      "정다온/30/010-9999-1025/"
     ]
    }
   ],
   "source": [
    "#엄청 비추 \n",
    "for data in my_dic:\n",
    "    print(my_dic[data], end = '/')"
   ]
  },
  {
   "cell_type": "code",
   "execution_count": 41,
   "id": "7af30d6a",
   "metadata": {},
   "outputs": [
    {
     "data": {
      "text/plain": [
       "dict_values(['정다온', 30, '010-9999-1025'])"
      ]
     },
     "execution_count": 41,
     "metadata": {},
     "output_type": "execute_result"
    }
   ],
   "source": [
    "my_dic.values()"
   ]
  },
  {
   "cell_type": "code",
   "execution_count": 42,
   "id": "4cee70d3",
   "metadata": {},
   "outputs": [
    {
     "data": {
      "text/plain": [
       "dict_keys(['name', 'age', 'tel'])"
      ]
     },
     "execution_count": 42,
     "metadata": {},
     "output_type": "execute_result"
    }
   ],
   "source": [
    "my_dic.keys()"
   ]
  },
  {
   "cell_type": "code",
   "execution_count": 43,
   "id": "07387bc7",
   "metadata": {},
   "outputs": [
    {
     "data": {
      "text/plain": [
       "dict_items([('name', '정다온'), ('age', 30), ('tel', '010-9999-1025')])"
      ]
     },
     "execution_count": 43,
     "metadata": {},
     "output_type": "execute_result"
    }
   ],
   "source": [
    "my_dic.items()"
   ]
  },
  {
   "cell_type": "code",
   "execution_count": 44,
   "id": "f5dac9cc",
   "metadata": {},
   "outputs": [
    {
     "name": "stdout",
     "output_type": "stream",
     "text": [
      "정다온/30/010-9999-1025/"
     ]
    }
   ],
   "source": [
    "for data in my_dic.values():\n",
    "    print(data, end = '/')"
   ]
  },
  {
   "cell_type": "code",
   "execution_count": 6,
   "id": "66c9cdbc",
   "metadata": {},
   "outputs": [
    {
     "name": "stdout",
     "output_type": "stream",
     "text": [
      "name:정다온\tage:30\ttel:010-9999-1025\t"
     ]
    }
   ],
   "source": [
    "for key, data in my_dic.items():\n",
    "    print(f\"{key}:{data}\", end='\\t')"
   ]
  },
  {
   "cell_type": "code",
   "execution_count": 8,
   "id": "7914060d",
   "metadata": {},
   "outputs": [
    {
     "data": {
      "text/plain": [
       "[(0, ('name', '정다온')), (1, ('age', 30)), (2, ('tel', '010-9999-1025'))]"
      ]
     },
     "execution_count": 8,
     "metadata": {},
     "output_type": "execute_result"
    }
   ],
   "source": [
    "list(enumerate(my_dic.items()))"
   ]
  },
  {
   "cell_type": "code",
   "execution_count": null,
   "id": "fe6f7291",
   "metadata": {},
   "outputs": [],
   "source": [
    "for idx, (key, value) in enumerate(my_dic.items())\n",
    "print (\"{},\")"
   ]
  },
  {
   "cell_type": "code",
   "execution_count": 54,
   "id": "192ab065",
   "metadata": {},
   "outputs": [
    {
     "name": "stdout",
     "output_type": "stream",
     "text": [
      "1.name : 정다온\n",
      "2.age  : 30\n",
      "3.tel  : 010-9999-1025\n"
     ]
    }
   ],
   "source": [
    "for idx, (key, value) in enumerate(my_dic.items()):\n",
    "    print(\"{}.{:4} : {}\".format(idx+1, key, value))"
   ]
  },
  {
   "cell_type": "code",
   "execution_count": 9,
   "id": "cc050e34",
   "metadata": {},
   "outputs": [
    {
     "data": {
      "text/plain": [
       "False"
      ]
     },
     "execution_count": 9,
     "metadata": {},
     "output_type": "execute_result"
    }
   ],
   "source": [
    "\"정다온\" in my_dic "
   ]
  },
  {
   "cell_type": "code",
   "execution_count": 11,
   "id": "7b996cbc",
   "metadata": {},
   "outputs": [
    {
     "data": {
      "text/plain": [
       "True"
      ]
     },
     "execution_count": 11,
     "metadata": {},
     "output_type": "execute_result"
    }
   ],
   "source": [
    "\"정다온\" in my_dic.values() "
   ]
  },
  {
   "cell_type": "code",
   "execution_count": 55,
   "id": "c6cf4c49",
   "metadata": {},
   "outputs": [
    {
     "name": "stdout",
     "output_type": "stream",
     "text": [
      "{'fruit': 'apple', 'number': 12, 'people': '홍길동'}\n",
      "{'fruit': 'apple', 'number': 12, 'people': '홍길동'}\n"
     ]
    }
   ],
   "source": [
    "# 얕은 복사\n",
    "my_favorite = {'fruit':'apple', 'number':12} # 원본\n",
    "new_favorite = my_favorite # 복제본(얕은 복사)\n",
    "new_favorite['people'] = '홍길동'\n",
    "print(my_favorite)\n",
    "print(new_favorite)"
   ]
  },
  {
   "cell_type": "code",
   "execution_count": 56,
   "id": "021a16d4",
   "metadata": {},
   "outputs": [
    {
     "name": "stdout",
     "output_type": "stream",
     "text": [
      "{'fruit': 'apple', 'number': 12}\n",
      "{'fruit': 'apple', 'number': 12, 'people': '홍길동'}\n"
     ]
    }
   ],
   "source": [
    "# 깊은 복사\n",
    "my_favorite = {'fruit':'apple', 'number':12} # 원본\n",
    "new_favorite = my_favorite.copy() # 복제본(깊은 복사)\n",
    "new_favorite['people'] = '홍길동'\n",
    "print(my_favorite)\n",
    "print(new_favorite)"
   ]
  },
  {
   "cell_type": "markdown",
   "id": "5e2bf87e",
   "metadata": {},
   "source": [
    "# 4 절. 셋\n",
    "- 중복을 허용하지 않는 집합(순서없음 == 인덱스없음)\n",
    "- 중활호나 set() 함수를 이용해서 셋 생성\n",
    "- 추가 \" add(), update()\n",
    "- 집합연산자 : &, |, - \n",
    "- 삭제 : remove() \n"
   ]
  },
  {
   "cell_type": "code",
   "execution_count": 16,
   "id": "a0cef78c",
   "metadata": {},
   "outputs": [
    {
     "data": {
      "text/plain": [
       "{'두리안', '바나나', '사과', '오렌지'}"
      ]
     },
     "execution_count": 16,
     "metadata": {},
     "output_type": "execute_result"
    }
   ],
   "source": [
    "fruits = {'바나나', '두리안', '오렌지' , '사과' , '사과'}\n",
    "fruits "
   ]
  },
  {
   "cell_type": "code",
   "execution_count": 17,
   "id": "2b71a702",
   "metadata": {},
   "outputs": [
    {
     "data": {
      "text/plain": [
       "{'두리안', '바나나', '사과', '오렌지'}"
      ]
     },
     "execution_count": 17,
     "metadata": {},
     "output_type": "execute_result"
    }
   ],
   "source": [
    "s1 = set(fruits)\n",
    "s1"
   ]
  },
  {
   "cell_type": "code",
   "execution_count": 19,
   "id": "71d4cf2d",
   "metadata": {},
   "outputs": [
    {
     "data": {
      "text/plain": [
       "{'fruit', 'number'}"
      ]
     },
     "execution_count": 19,
     "metadata": {},
     "output_type": "execute_result"
    }
   ],
   "source": [
    "# set 함수를 이용해서 딕셔너리를 셋으로 전환할때는 key만 적용\n",
    "my_favorite = {'fruit': 'apple', 'number': '12'}\n",
    "set(my_favorite)"
   ]
  },
  {
   "cell_type": "markdown",
   "id": "7c7b7a08",
   "metadata": {},
   "source": [
    "추가하기 \n",
    "- add() : 기본자료형, 튜플데이터 하나의 요소로 추가할경우 \n",
    "- update() :리스트, 튜플, 딕션어리의, 셋 요소 하나하나씩 추가할 경우 dict 사용시 key만 추가 "
   ]
  },
  {
   "cell_type": "code",
   "execution_count": 24,
   "id": "4eef246d",
   "metadata": {},
   "outputs": [
    {
     "data": {
      "text/plain": [
       "{1, 2, 3, 4}"
      ]
     },
     "execution_count": 24,
     "metadata": {},
     "output_type": "execute_result"
    }
   ],
   "source": [
    "s2 = {1,1,2,3}\n",
    "s2.add(4)\n",
    "s2"
   ]
  },
  {
   "cell_type": "code",
   "execution_count": 27,
   "id": "436e41a5",
   "metadata": {},
   "outputs": [
    {
     "data": {
      "text/plain": [
       "{1, 2, 3, 5, 6, 7}"
      ]
     },
     "execution_count": 27,
     "metadata": {},
     "output_type": "execute_result"
    }
   ],
   "source": [
    "s2 = {1,1,2,3}\n",
    "s2.update([5,6,7])\n",
    "s2"
   ]
  },
  {
   "cell_type": "code",
   "execution_count": 30,
   "id": "c83d9e20",
   "metadata": {},
   "outputs": [
    {
     "data": {
      "text/plain": [
       "{0, 1, 2, 3}"
      ]
     },
     "execution_count": 30,
     "metadata": {},
     "output_type": "execute_result"
    }
   ],
   "source": [
    "#논리값 false는 false, 0으로 \n",
    "#논리값 True는 True, 1로 \n",
    "\n",
    "s= {1,2,3}\n",
    "s.add(0)\n",
    "s"
   ]
  },
  {
   "cell_type": "code",
   "execution_count": 32,
   "id": "23fd4f61",
   "metadata": {},
   "outputs": [
    {
     "data": {
      "text/plain": [
       "{0, 1, 2, 3}"
      ]
     },
     "execution_count": 32,
     "metadata": {},
     "output_type": "execute_result"
    }
   ],
   "source": [
    "s.add(False)\n",
    "s"
   ]
  },
  {
   "cell_type": "code",
   "execution_count": 33,
   "id": "630e65f6",
   "metadata": {},
   "outputs": [
    {
     "data": {
      "text/plain": [
       "{0, 1, 2, 3}"
      ]
     },
     "execution_count": 33,
     "metadata": {},
     "output_type": "execute_result"
    }
   ],
   "source": [
    "s.add(True)\n",
    "s"
   ]
  },
  {
   "cell_type": "markdown",
   "id": "f5c9bdb7",
   "metadata": {},
   "source": [
    "## 4.2 연산: &(교집합), | (합집합), -(차집합)\n",
    "- &,| : 집합연산자, 비트연산자, "
   ]
  },
  {
   "cell_type": "code",
   "execution_count": 53,
   "id": "643756d3",
   "metadata": {},
   "outputs": [
    {
     "name": "stdout",
     "output_type": "stream",
     "text": [
      "s1 | s2 =  {1, 2, 3, 4, 5, 6, 7}\n",
      "s1 & s2 =  {3, 4, 5}\n",
      "s1 - s2 =  {1, 2}\n"
     ]
    }
   ],
   "source": [
    "s1 = {1, 2, 3, 4, 5}\n",
    "s2 = {3, 4, 5, 6, 7}\n",
    "print('s1 | s2 = ', s1|s2)\n",
    "print('s1 & s2 = ', s1&s2)\n",
    "print('s1 - s2 = ', s1-s2)"
   ]
  },
  {
   "cell_type": "markdown",
   "id": "583a2035",
   "metadata": {},
   "source": [
    "# 5절 enumerate\n",
    "- 반복자 또는 숫서 객체로 반복문을 처리할때 사용함수 \n",
    "- 리스트, 튜플, 셋. 딕셔너리를 for 문에 사용시"
   ]
  },
  {
   "cell_type": "code",
   "execution_count": 36,
   "id": "62664148",
   "metadata": {},
   "outputs": [
    {
     "name": "stdout",
     "output_type": "stream",
     "text": [
      "수현\t성현\t재민\t"
     ]
    }
   ],
   "source": [
    "names = {'재민' , '수현' , '성현'}\n",
    "for name in names: \n",
    "    print(name, end='\\t')"
   ]
  },
  {
   "cell_type": "code",
   "execution_count": 37,
   "id": "c46be50d",
   "metadata": {},
   "outputs": [
    {
     "name": "stdout",
     "output_type": "stream",
     "text": [
      "0.수현\n",
      "1.성현\n",
      "2.재민\n"
     ]
    }
   ],
   "source": [
    "for no, name in enumerate(names):\n",
    "    print(f\"{no}.{name}\")"
   ]
  },
  {
   "cell_type": "code",
   "execution_count": 48,
   "id": "ce950221",
   "metadata": {},
   "outputs": [
    {
     "name": "stdout",
     "output_type": "stream",
     "text": [
      "1.재민. 9는 서울살아요.\n",
      "2.수현. 8는 부산살아요.\n",
      "3.성현. 7는 목포살아요.\n"
     ]
    }
   ],
   "source": [
    "names = ['재민' , '수현' , '성현']\n",
    "tels = ['9','8','7']\n",
    "adds = ['서울' ,'부산', '목포']\n",
    "for idx in range(len(names)):\n",
    "    print(\"{}.{}. {}는 {}살아요.\".format(idx+1,names[idx],tels[idx],adds[idx]))"
   ]
  },
  {
   "cell_type": "code",
   "execution_count": 52,
   "id": "62a49499",
   "metadata": {},
   "outputs": [
    {
     "data": {
      "text/plain": [
       "[('재민', '9', '서울'), ('수현', '8', '부산'), ('성현', '7', '목포')]"
      ]
     },
     "execution_count": 52,
     "metadata": {},
     "output_type": "execute_result"
    }
   ],
   "source": [
    "list(zip(names, tels, adds))"
   ]
  },
  {
   "cell_type": "code",
   "execution_count": 51,
   "id": "37b7b06a",
   "metadata": {},
   "outputs": [
    {
     "data": {
      "text/plain": [
       "[(0, ('재민', '9', '서울')), (1, ('수현', '8', '부산')), (2, ('성현', '7', '목포'))]"
      ]
     },
     "execution_count": 51,
     "metadata": {},
     "output_type": "execute_result"
    }
   ],
   "source": [
    "list(enumerate(zip(names, tels, adds)))"
   ]
  },
  {
   "cell_type": "code",
   "execution_count": 61,
   "id": "724d1ab2",
   "metadata": {},
   "outputs": [
    {
     "name": "stdout",
     "output_type": "stream",
     "text": [
      "1. 재민 : 9 - 서울\n",
      "2. 수현 : 8 - 부산\n",
      "3. 성현 : 7 - 목포\n"
     ]
    }
   ],
   "source": [
    "for idx, (name, tel, add) in enumerate(zip(names, tels, adds)):\n",
    "    print(\"{}. {} : {} - {}\".format(idx+1,\n",
    "                                   name,\n",
    "                                   tel,\n",
    "                                   add))"
   ]
  },
  {
   "cell_type": "markdown",
   "id": "e2c55767",
   "metadata": {},
   "source": [
    "## 연습문제 "
   ]
  },
  {
   "cell_type": "markdown",
   "id": "2612d08b",
   "metadata": {},
   "source": [
    "## 서술형"
   ]
  },
  {
   "cell_type": "code",
   "execution_count": 57,
   "id": "7e11225f",
   "metadata": {},
   "outputs": [
    {
     "name": "stdout",
     "output_type": "stream",
     "text": [
      "['orange', 'banana']\n"
     ]
    }
   ],
   "source": [
    "#연습문제 서숧형\n",
    "L1 = (\"orange\", \"apple\", \"banana\",\"kiwi \")\n",
    "new_list = [i for i in L1 if len(i)>5]\n",
    "print(new_list)"
   ]
  },
  {
   "cell_type": "code",
   "execution_count": 58,
   "id": "703e6959",
   "metadata": {},
   "outputs": [],
   "source": [
    "#2. 다음 코드와 실행결과과 잘못 짝지어진것은? 2번, 4번"
   ]
  },
  {
   "cell_type": "code",
   "execution_count": 62,
   "id": "f72c82d7",
   "metadata": {},
   "outputs": [
    {
     "data": {
      "text/plain": [
       "1"
      ]
     },
     "execution_count": 62,
     "metadata": {},
     "output_type": "execute_result"
    }
   ],
   "source": [
    "numbers_2d = [[1,2,3,4,5], [10,20,30,40],[1,3,5],[2,]]\n",
    "len(numbers_2d[3])"
   ]
  },
  {
   "cell_type": "code",
   "execution_count": 63,
   "id": "e97fe08e",
   "metadata": {},
   "outputs": [],
   "source": [
    "#4 update"
   ]
  },
  {
   "cell_type": "code",
   "execution_count": 64,
   "id": "0bde6d29",
   "metadata": {},
   "outputs": [
    {
     "name": "stdout",
     "output_type": "stream",
     "text": [
      "[0, 1, 0, 3, 0, 5, 0, 7, 0, 9]\n"
     ]
    }
   ],
   "source": [
    "numbers = list(range(10))\n",
    "numbers[::2]=[0] * len(numbers[::2])\n",
    "print(numbers)"
   ]
  },
  {
   "cell_type": "code",
   "execution_count": 65,
   "id": "d7633179",
   "metadata": {},
   "outputs": [
    {
     "name": "stdout",
     "output_type": "stream",
     "text": [
      "[5, 1, 6, 3, 7, 5, 8, 7, 9, 9]\n"
     ]
    }
   ],
   "source": [
    "numbers = [0,1,2,3,4,5,6,7,8,9]\n",
    "numbers[::2]= numbers[5:]\n",
    "print(numbers)"
   ]
  },
  {
   "cell_type": "code",
   "execution_count": 66,
   "id": "8ac1a6de",
   "metadata": {},
   "outputs": [],
   "source": [
    "#8번 정답: 3번 "
   ]
  },
  {
   "cell_type": "code",
   "execution_count": 67,
   "id": "9fa5bfdd",
   "metadata": {},
   "outputs": [
    {
     "name": "stdout",
     "output_type": "stream",
     "text": [
      "apple\n",
      "banana\n",
      "orange\n"
     ]
    }
   ],
   "source": [
    "fruits = ['apple', 'banana','orange']\n",
    "x,y,z = fruits \n",
    "print(x) \n",
    "print(y)\n",
    "print(z)"
   ]
  },
  {
   "cell_type": "code",
   "execution_count": 68,
   "id": "04db1709",
   "metadata": {},
   "outputs": [
    {
     "name": "stdout",
     "output_type": "stream",
     "text": [
      "3\n"
     ]
    }
   ],
   "source": [
    "fruits = ['apple', 'banana','orange']\n",
    "print(len(fruits))\n"
   ]
  },
  {
   "cell_type": "code",
   "execution_count": 69,
   "id": "5ee6eecc",
   "metadata": {},
   "outputs": [],
   "source": [
    "# 11 번 정답 : def 함수"
   ]
  },
  {
   "cell_type": "markdown",
   "id": "b62faab9",
   "metadata": {},
   "source": [
    "## 실습형"
   ]
  },
  {
   "cell_type": "code",
   "execution_count": 78,
   "id": "72a177f9",
   "metadata": {},
   "outputs": [
    {
     "name": "stdout",
     "output_type": "stream",
     "text": [
      "[1, 2, 3, 4, 5, 6, 7, 8, 9, 10, 100]\n"
     ]
    }
   ],
   "source": [
    "numbers = [1,2,3,4,5,6,7,8,9,10]\n",
    "numbers.append(100)\n",
    "print(numbers)"
   ]
  },
  {
   "cell_type": "code",
   "execution_count": 83,
   "id": "23574562",
   "metadata": {},
   "outputs": [
    {
     "name": "stdout",
     "output_type": "stream",
     "text": [
      "[1, 2, 3, 4, 5, 6, 7, 8, 9, 10, 200, 300, 400, 500]\n"
     ]
    }
   ],
   "source": [
    "numbers = [1,2,3,4,5,6,7,8,9,10]\n",
    "data = [200,300,400,500]\n",
    "numbers.extend(data)\n",
    "print(numbers)"
   ]
  },
  {
   "cell_type": "code",
   "execution_count": 84,
   "id": "c3435bb2",
   "metadata": {},
   "outputs": [
    {
     "name": "stdout",
     "output_type": "stream",
     "text": [
      "[1, 2, 3, 4, 5]\n"
     ]
    }
   ],
   "source": [
    "print(numbers[:5:])"
   ]
  },
  {
   "cell_type": "code",
   "execution_count": 97,
   "id": "bb1d7bd4",
   "metadata": {},
   "outputs": [
    {
     "name": "stdout",
     "output_type": "stream",
     "text": [
      "[1, 3, 5, 7, 9]\n"
     ]
    }
   ],
   "source": [
    "print(numbers[0::2])"
   ]
  },
  {
   "cell_type": "code",
   "execution_count": 94,
   "id": "5fbc6ff8",
   "metadata": {},
   "outputs": [
    {
     "name": "stdout",
     "output_type": "stream",
     "text": [
      "[0, 2, 0, 4, 0, 6, 0, 8, 0, 10]\n"
     ]
    },
    {
     "data": {
      "text/plain": [
       "[0, 2, 0, 4, 0, 6, 0, 8, 0, 10]"
      ]
     },
     "execution_count": 94,
     "metadata": {},
     "output_type": "execute_result"
    }
   ],
   "source": [
    "numbers[::2] = [0,0,0,0,0]\n",
    "print(numbers)\n",
    "numbers"
   ]
  },
  {
   "cell_type": "code",
   "execution_count": 96,
   "id": "7d65215c",
   "metadata": {},
   "outputs": [],
   "source": [
    "numbers = [1,2,3,4,5,6,7,8,9,10]"
   ]
  },
  {
   "cell_type": "code",
   "execution_count": null,
   "id": "e82c7706",
   "metadata": {},
   "outputs": [],
   "source": []
  }
 ],
 "metadata": {
  "kernelspec": {
   "display_name": "Python 3 (ipykernel)",
   "language": "python",
   "name": "python3"
  },
  "language_info": {
   "codemirror_mode": {
    "name": "ipython",
    "version": 3
   },
   "file_extension": ".py",
   "mimetype": "text/x-python",
   "name": "python",
   "nbconvert_exporter": "python",
   "pygments_lexer": "ipython3",
   "version": "3.10.9"
  },
  "toc": {
   "base_numbering": 1,
   "nav_menu": {},
   "number_sections": false,
   "sideBar": true,
   "skip_h1_title": false,
   "title_cell": "Table of Contents",
   "title_sidebar": "Contents",
   "toc_cell": false,
   "toc_position": {
    "height": "calc(100% - 180px)",
    "left": "10px",
    "top": "150px",
    "width": "165px"
   },
   "toc_section_display": true,
   "toc_window_display": true
  }
 },
 "nbformat": 4,
 "nbformat_minor": 5
}
