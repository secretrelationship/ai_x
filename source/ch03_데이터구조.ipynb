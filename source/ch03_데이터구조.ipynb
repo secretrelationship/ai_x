{
 "cells": [
  {
   "cell_type": "code",
   "execution_count": 49,
   "id": "ad942477",
   "metadata": {},
   "outputs": [
    {
     "data": {
      "text/html": [
       "\n",
       "<style>\n",
       "div.container{width:86% !important;}\n",
       "div.cell.code_cell.rendered{width:100%;}\n",
       "div.CodeMirror {font-family:Consolas; font-size:15pt;}\n",
       "div.output {font-size:15pt; font-weight:bold;}\n",
       "div.input {font-family:Consolas; font-size:15pt;}\n",
       "div.prompt {min-width:70px;}\n",
       "div#toc-wrapper{padding-top:120px;}\n",
       "div.text_cell_render ul li{font-size:12pt;padding:5px;}\n",
       "table.dataframe{font-size:15px;}\n",
       "</style>\n"
      ],
      "text/plain": [
       "<IPython.core.display.HTML object>"
      ]
     },
     "metadata": {},
     "output_type": "display_data"
    }
   ],
   "source": [
    "from IPython.display import display, HTML\n",
    "display(HTML(\"\"\"\n",
    "<style>\n",
    "div.container{width:86% !important;}\n",
    "div.cell.code_cell.rendered{width:100%;}\n",
    "div.CodeMirror {font-family:Consolas; font-size:15pt;}\n",
    "div.output {font-size:15pt; font-weight:bold;}\n",
    "div.input {font-family:Consolas; font-size:15pt;}\n",
    "div.prompt {min-width:70px;}\n",
    "div#toc-wrapper{padding-top:120px;}\n",
    "div.text_cell_render ul li{font-size:12pt;padding:5px;}\n",
    "table.dataframe{font-size:15px;}\n",
    "</style>\n",
    "\"\"\"))"
   ]
  },
  {
   "cell_type": "markdown",
   "id": "a6d0a1eb",
   "metadata": {},
   "source": [
    "<font sixe=\"5\" color=\"red\">ch03_데이터구조</font>\n",
    "- 리스트 [ ] , 튜플 ( ), 딕셔너리{  } 셋\n",
    "# 1절. 리스트 \n",
    "## 1.1 리스트만들기 \n",
    "- [    ] 를 이용해서 만들며, 여러개의 값(여러 타입)을 하나의 변수에 저장/관리 할 수 있음 \n",
    "- list(리스트로 변환 가능한 자료) 함수 이용도 가능\n",
    "- 인덱스: 각 요소의 위치. 0부터 시작. 맨 마지막 인덱스는 -1 \n",
    "- 슬라이싱: (  [from:stop:step] ): 부분 데이터셋 추출 \n",
    "- 인덱스와 슬라이싱을 이용해서 읽기 쓰기 지원"
   ]
  },
  {
   "cell_type": "code",
   "execution_count": 9,
   "id": "d9fdbfee",
   "metadata": {},
   "outputs": [
    {
     "data": {
      "text/plain": [
       "list"
      ]
     },
     "execution_count": 9,
     "metadata": {},
     "output_type": "execute_result"
    }
   ],
   "source": [
    "fruits = ['banana','apple','orange' ,'grape']\n",
    "type(fruits)"
   ]
  },
  {
   "cell_type": "code",
   "execution_count": 10,
   "id": "43612238",
   "metadata": {},
   "outputs": [
    {
     "name": "stdout",
     "output_type": "stream",
     "text": [
      "['banana', 'apple', 'orange', 'grape']\n",
      "banana\n"
     ]
    }
   ],
   "source": [
    "print(fruits)\n",
    "print(fruits[0])"
   ]
  },
  {
   "cell_type": "code",
   "execution_count": 11,
   "id": "c922ff2f",
   "metadata": {},
   "outputs": [
    {
     "name": "stdout",
     "output_type": "stream",
     "text": [
      "['mango', 'apple', 'orange', 'grape']\n"
     ]
    }
   ],
   "source": [
    "fruits[0] = 'mango'\n",
    "print(fruits)"
   ]
  },
  {
   "cell_type": "code",
   "execution_count": null,
   "id": "9e8cfda9",
   "metadata": {},
   "outputs": [],
   "source": [
    "fruits = ['mango', 'apple', 'orange']\n",
    "x, y ,z = fruits\n",
    "\n"
   ]
  },
  {
   "cell_type": "code",
   "execution_count": 12,
   "id": "f1fff25a",
   "metadata": {},
   "outputs": [
    {
     "data": {
      "text/plain": [
       "[0, 1, 2, 3, 4, 5, 6, 7, 8, 9]"
      ]
     },
     "execution_count": 12,
     "metadata": {},
     "output_type": "execute_result"
    }
   ],
   "source": [
    "# range(from, to, step) : from부터 to 앞까지 by 씩 증가하면서 지정된 범위의 정수 \n",
    "                          # from 생략: 0부터, by 생략: 1씩\n",
    "list(range(0,10))"
   ]
  },
  {
   "cell_type": "code",
   "execution_count": 13,
   "id": "0a877c5c",
   "metadata": {},
   "outputs": [
    {
     "data": {
      "text/plain": [
       "[101, 102, 103, 104, 105, 106, 107, 108, 109, 110]"
      ]
     },
     "execution_count": 13,
     "metadata": {},
     "output_type": "execute_result"
    }
   ],
   "source": [
    "list(range(101,111))"
   ]
  },
  {
   "cell_type": "code",
   "execution_count": 14,
   "id": "d2e92356",
   "metadata": {},
   "outputs": [
    {
     "data": {
      "text/plain": [
       "[10, 8, 6, 4, 2, 0]"
      ]
     },
     "execution_count": 14,
     "metadata": {},
     "output_type": "execute_result"
    }
   ],
   "source": [
    "list(range(10,-1,-2))"
   ]
  },
  {
   "cell_type": "code",
   "execution_count": 20,
   "id": "a65eb441",
   "metadata": {
    "scrolled": true
   },
   "outputs": [
    {
     "name": "stdout",
     "output_type": "stream",
     "text": [
      "0\n",
      "1\n",
      "2\n"
     ]
    }
   ],
   "source": [
    "# 반복문(3회) , for가 반복\n",
    "for i in range(3) :\n",
    "          print(i)"
   ]
  },
  {
   "cell_type": "code",
   "execution_count": 25,
   "id": "2985b7f2",
   "metadata": {},
   "outputs": [
    {
     "name": "stdout",
     "output_type": "stream",
     "text": [
      "mango\n",
      "apple\n",
      "orange\n",
      "grape\n"
     ]
    }
   ],
   "source": [
    "for value in fruits:\n",
    "    print(value)"
   ]
  },
  {
   "cell_type": "code",
   "execution_count": 21,
   "id": "084f18bd",
   "metadata": {},
   "outputs": [
    {
     "name": "stdout",
     "output_type": "stream",
     "text": [
      "0번째 과일은 mango입니다\n",
      "1번째 과일은 apple입니다\n",
      "2번째 과일은 orange입니다\n"
     ]
    }
   ],
   "source": [
    "fruits = ['mango', 'apple', 'orange']\n",
    "for i in range(3):\n",
    "    print(\"{}번째 과일은 {}입니다\". format(i, fruits[i]))"
   ]
  },
  {
   "cell_type": "code",
   "execution_count": 26,
   "id": "f9ca8291",
   "metadata": {},
   "outputs": [
    {
     "name": "stdout",
     "output_type": "stream",
     "text": [
      "0번째 과일은 mango입니다\n",
      "1번째 과일은 apple입니다\n",
      "2번째 과일은 orange입니다\n",
      "3번째 과일은 grape입니다\n"
     ]
    }
   ],
   "source": [
    "fruits = ['mango', 'apple', 'orange', 'grape'] #len(fruits): 리스트 데이터 수\n",
    "for i in range(len(fruits)):\n",
    "    print(\"{}번째 과일은 {}입니다\". format(i, fruits[i]))"
   ]
  },
  {
   "cell_type": "code",
   "execution_count": 23,
   "id": "209a69c5",
   "metadata": {},
   "outputs": [
    {
     "name": "stdout",
     "output_type": "stream",
     "text": [
      "0번째 과일은 mango 입니다.\n",
      "1번째 과일은 apple 입니다.\n",
      "2번째 과일은 orange 입니다.\n",
      "3번째 과일은 grape 입니다.\n"
     ]
    }
   ],
   "source": [
    "for idx, value in enumerate(fruits):\n",
    "    print(\"{}번째 과일은 {} 입니다.\". format(idx,value))"
   ]
  },
  {
   "cell_type": "code",
   "execution_count": 24,
   "id": "b2db70c7",
   "metadata": {},
   "outputs": [
    {
     "data": {
      "text/plain": [
       "[(0, 'mango'), (1, 'apple'), (2, 'orange'), (3, 'grape')]"
      ]
     },
     "execution_count": 24,
     "metadata": {},
     "output_type": "execute_result"
    }
   ],
   "source": [
    "# enunerate(나열가능한자료) : -> (index, 값) 들의 셋들\n",
    "list(enumerate(fruits))"
   ]
  },
  {
   "cell_type": "code",
   "execution_count": 29,
   "id": "186f54f4",
   "metadata": {},
   "outputs": [
    {
     "name": "stdout",
     "output_type": "stream",
     "text": [
      "[0, True, '2', 3, [4, 5, 6]]\n",
      "True 5\n"
     ]
    }
   ],
   "source": [
    "#리스트는 여러 타입의 데이터를 담을 수 있다. \n",
    "numbers = [0, True, \"2\", 3, [4,5,6]]\n",
    "print(numbers)\n",
    "print(numbers[1], numbers[4][1])"
   ]
  },
  {
   "cell_type": "code",
   "execution_count": 36,
   "id": "1fc0569c",
   "metadata": {},
   "outputs": [
    {
     "data": {
      "text/plain": [
       "(3, 4)"
      ]
     },
     "execution_count": 36,
     "metadata": {},
     "output_type": "execute_result"
    }
   ],
   "source": [
    "#2차원 리스트\n",
    "numbers_2d = [[90 ,91, 92, 93], \n",
    "              [80, 81, 82, 83] ,\n",
    "              [70,71,72, 73],]\n",
    "len(numbers_2d), len(numbers_2d[0])"
   ]
  },
  {
   "cell_type": "code",
   "execution_count": 39,
   "id": "9338c164",
   "metadata": {},
   "outputs": [
    {
     "name": "stdout",
     "output_type": "stream",
     "text": [
      "0행0열 : 90\t0행1열 : 91\t0행2열 : 92\t0행3열 : 93\t\n",
      "1행0열 : 80\t1행1열 : 81\t1행2열 : 82\t1행3열 : 83\t\n",
      "2행0열 : 70\t2행1열 : 71\t2행2열 : 72\t2행3열 : 73\t\n"
     ]
    }
   ],
   "source": [
    "for i ,row in enumerate(numbers_2d) : \n",
    "    for j , value in enumerate(row):\n",
    "        print(\"{}행{}열 : {}\".format(i, j, value), end='\\t')\n",
    "    print()"
   ]
  },
  {
   "cell_type": "code",
   "execution_count": 40,
   "id": "ee4dee49",
   "metadata": {},
   "outputs": [
    {
     "name": "stdout",
     "output_type": "stream",
     "text": [
      "90\t91\t92\t93\t80\t81\t82\t83\t70\t71\t72\t73\t"
     ]
    }
   ],
   "source": [
    "for row in numbers_2d:\n",
    "    for item in row :\n",
    "        print(item, end='\\t')\n"
   ]
  },
  {
   "cell_type": "markdown",
   "id": "998dd8a7",
   "metadata": {},
   "source": [
    "## 1.2 기본 정보 조회"
   ]
  },
  {
   "cell_type": "code",
   "execution_count": 42,
   "id": "7f5cc147",
   "metadata": {},
   "outputs": [],
   "source": [
    "numbers = [1, 12, 3, 5, 4]\n",
    "numbers_2d = [[100,0], [9,100,1,2,3], [50,54]]"
   ]
  },
  {
   "cell_type": "code",
   "execution_count": 51,
   "id": "473ae17f",
   "metadata": {},
   "outputs": [
    {
     "data": {
      "text/plain": [
       "(1, 12)"
      ]
     },
     "execution_count": 51,
     "metadata": {},
     "output_type": "execute_result"
    }
   ],
   "source": [
    "min(numbers), max(numbers)"
   ]
  },
  {
   "cell_type": "code",
   "execution_count": 43,
   "id": "fbf66b62",
   "metadata": {},
   "outputs": [
    {
     "data": {
      "text/plain": [
       "([9, 100, 1, 2, 3], [100, 0])"
      ]
     },
     "execution_count": 43,
     "metadata": {},
     "output_type": "execute_result"
    }
   ],
   "source": [
    "#2차원 list의 min(): 0번 인덱스 요소가 가장 작은 것\n",
    "#             man(): 0번 인덱스 요소가 가장 큰것\n",
    "min(numbers_2d), max(numbers_2d)"
   ]
  },
  {
   "cell_type": "code",
   "execution_count": 48,
   "id": "146ae675",
   "metadata": {},
   "outputs": [
    {
     "name": "stdout",
     "output_type": "stream",
     "text": [
      "오름차순: [1, 3, 4, 5, 12]\n",
      "내림차순: [12, 5, 4, 3, 1]\n",
      "sorted 함수 사용시 리스트 내용이 바뀌지 않음: [1, 12, 3, 5, 4]\n",
      "합: 25\n"
     ]
    }
   ],
   "source": [
    "numbers = [1, 12, 3, 5, 4]\n",
    "#정렬(오름차순, 내림차순)\n",
    "print('오름차순:',sorted(numbers))\n",
    "print('내림차순:', sorted(numbers, reverse= True) )\n",
    "print('sorted 함수 사용시 리스트 내용이 바뀌지 않음:', numbers)\n",
    "print('합:', sum(numbers))"
   ]
  },
  {
   "cell_type": "code",
   "execution_count": 54,
   "id": "2f1ed6ae",
   "metadata": {},
   "outputs": [
    {
     "data": {
      "text/plain": [
       "('APPLE', 'orange')"
      ]
     },
     "execution_count": 54,
     "metadata": {},
     "output_type": "execute_result"
    }
   ],
   "source": [
    "fruits = ['mango', 'apple', 'orange', 'APPLE']\n",
    "min(fruits), max(fruits)"
   ]
  },
  {
   "cell_type": "code",
   "execution_count": null,
   "id": "60278a1c",
   "metadata": {
    "collapsed": true
   },
   "outputs": [],
   "source": []
  },
  {
   "cell_type": "markdown",
   "id": "f62f1556",
   "metadata": {},
   "source": [
    "## 1.3 요소 추가\n",
    " ```\n",
    "+ : 두 리스트 연결\n",
    "* : 리스트를 곱한 수만 반복 \n",
    "append() : 맨 뒤에 요소 추가 \n",
    "extend() : 맨 뒤에 리스트를 요소별로 추가 \n",
    "insert(idx, 값): idx 인덱스 위치에 추가(기존 데이터는 shift 밀려나간다)\n",
    "```"
   ]
  },
  {
   "cell_type": "code",
   "execution_count": 55,
   "id": "0553f9be",
   "metadata": {},
   "outputs": [
    {
     "data": {
      "text/plain": [
       "[1, 2, 3, 1, 2, 3]"
      ]
     },
     "execution_count": 55,
     "metadata": {},
     "output_type": "execute_result"
    }
   ],
   "source": [
    "numbers = [1, 2, 3]\n",
    "numbers = numbers + numbers\n",
    "numbers"
   ]
  },
  {
   "cell_type": "code",
   "execution_count": 57,
   "id": "555f8f8e",
   "metadata": {},
   "outputs": [
    {
     "name": "stdout",
     "output_type": "stream",
     "text": [
      "[1, 2, 3, 4, 5, 6]\n"
     ]
    }
   ],
   "source": [
    "#요소별로 각기 추가\n",
    "num = [1,2,3]\n",
    "num.extend([4,5,6])\n",
    "print(num)"
   ]
  },
  {
   "cell_type": "code",
   "execution_count": 60,
   "id": "c97d6710",
   "metadata": {},
   "outputs": [
    {
     "name": "stdout",
     "output_type": "stream",
     "text": [
      "[1, 2, 'x', 'x', 'x', 3, 4, 5, 6]\n"
     ]
    }
   ],
   "source": [
    "num.insert(2,'x')\n",
    "print(num)"
   ]
  },
  {
   "cell_type": "code",
   "execution_count": 61,
   "id": "6197891e",
   "metadata": {},
   "outputs": [
    {
     "name": "stdout",
     "output_type": "stream",
     "text": [
      "[1, 2, 3, [4, 5, 6]]\n"
     ]
    }
   ],
   "source": [
    "num = [1,2,3]\n",
    "num.append([4,5,6])\n",
    "print(num)"
   ]
  },
  {
   "cell_type": "markdown",
   "id": "de69daec",
   "metadata": {},
   "source": [
    "##  1.,4인덱싱과 요소 갯수\n",
    "```\n",
    "변수[index] : 인덱스를 이용한 접근\n",
    "index(찾을데이터) : 해당 찾을 데이터가 있는 요소의 index를 반환 찾을데이터가 없을 경우 오류\n",
    "count(찾을데이터) : 리스트에서 찾을데이터의 갯수 반환 \n",
    "```"
   ]
  },
  {
   "cell_type": "code",
   "execution_count": 62,
   "id": "ae63de80",
   "metadata": {},
   "outputs": [
    {
     "data": {
      "text/plain": [
       "(2, 0)"
      ]
     },
     "execution_count": 62,
     "metadata": {},
     "output_type": "execute_result"
    }
   ],
   "source": [
    "numbers = [1,2,3, [1,2,3],1,2,3]\n",
    "numbers.count(2) , numbers.count(9)"
   ]
  },
  {
   "cell_type": "code",
   "execution_count": 63,
   "id": "5839662f",
   "metadata": {},
   "outputs": [
    {
     "data": {
      "text/plain": [
       "1"
      ]
     },
     "execution_count": 63,
     "metadata": {},
     "output_type": "execute_result"
    }
   ],
   "source": [
    "numbers.index(2)"
   ]
  },
  {
   "cell_type": "code",
   "execution_count": 64,
   "id": "4ccd473c",
   "metadata": {},
   "outputs": [
    {
     "data": {
      "text/plain": [
       "5"
      ]
     },
     "execution_count": 64,
     "metadata": {},
     "output_type": "execute_result"
    }
   ],
   "source": [
    "numbers.index(2,3)"
   ]
  },
  {
   "cell_type": "code",
   "execution_count": 78,
   "id": "bd0e614e",
   "metadata": {},
   "outputs": [
    {
     "name": "stdout",
     "output_type": "stream",
     "text": [
      "1\n"
     ]
    }
   ],
   "source": [
    "numbers = [1, 2, 3, [1, 2, 3], 1, 2, 3]\n",
    "if 2 in numbers:\n",
    "    print(numbers.index(2))\n",
    "else:\n",
    "    print('9가 없어요')"
   ]
  },
  {
   "cell_type": "code",
   "execution_count": 65,
   "id": "74497a7c",
   "metadata": {},
   "outputs": [
    {
     "data": {
      "text/plain": [
       "False"
      ]
     },
     "execution_count": 65,
     "metadata": {},
     "output_type": "execute_result"
    }
   ],
   "source": [
    "9 in numbers #numbers 리스트에 9가 존재하는지 여부"
   ]
  },
  {
   "cell_type": "code",
   "execution_count": 71,
   "id": "e74ab1b1",
   "metadata": {},
   "outputs": [],
   "source": [
    "def safe_index(lst, data):\n",
    "    if data in lst: #list 안에 data 있는지 여부\n",
    "        return lst.index(data)  \n",
    "    else:\n",
    "        return -1 "
   ]
  },
  {
   "cell_type": "code",
   "execution_count": 72,
   "id": "d2f281ed",
   "metadata": {},
   "outputs": [
    {
     "data": {
      "text/plain": [
       "-1"
      ]
     },
     "execution_count": 72,
     "metadata": {},
     "output_type": "execute_result"
    }
   ],
   "source": [
    "safe_index(numbers, 9)"
   ]
  },
  {
   "cell_type": "code",
   "execution_count": 73,
   "id": "63b488af",
   "metadata": {},
   "outputs": [
    {
     "data": {
      "text/plain": [
       "1"
      ]
     },
     "execution_count": 73,
     "metadata": {},
     "output_type": "execute_result"
    }
   ],
   "source": [
    "safe_index(numbers, 2)"
   ]
  },
  {
   "cell_type": "markdown",
   "id": "58bf1cc9",
   "metadata": {},
   "source": [
    "## 1.5 원하는 요소 추출\n",
    "1. 리스트 슬라이싱: 리스트에서 원하는 index의 데이터를 추출(인덱스 범위 벗어나도 에러 노노)\n",
    "- [from:stop:step] fromqnxj stop까지 step씩 증가하는 index의 값을 추출\n",
    "- from 생략시 처음, stop 생략시 끝, step 생략되면 1, 모두 생략가능\n",
    "- 음수 인덱스 가능\n",
    "- 리스트에서 원하는 데이터를 추출\n",
    "\n"
   ]
  },
  {
   "cell_type": "code",
   "execution_count": 79,
   "id": "f5daae17",
   "metadata": {},
   "outputs": [],
   "source": [
    "numbers = [1,3,5,9,10,12,13,20]\n",
    "#짝수 번째 인덱스 값 출력\n",
    "#거꾸로 출력"
   ]
  },
  {
   "cell_type": "code",
   "execution_count": 82,
   "id": "7a281f97",
   "metadata": {},
   "outputs": [
    {
     "name": "stdout",
     "output_type": "stream",
     "text": [
      "[1, 5, 10, 13]\n",
      "[20, 13, 12, 10, 9, 5, 3, 1]\n"
     ]
    }
   ],
   "source": [
    "print(numbers[::2])\n",
    "print(numbers[::-1])"
   ]
  },
  {
   "cell_type": "code",
   "execution_count": 86,
   "id": "fc715821",
   "metadata": {},
   "outputs": [
    {
     "name": "stdout",
     "output_type": "stream",
     "text": [
      "[1, 3, 5, 9, 10, 12, 13, 20]\n",
      "[10, 12, 20]\n"
     ]
    }
   ],
   "source": [
    "numbers = [1, 3, 5, 9, 10, 12, 13, 20]\n",
    "# 리스트에서 모든 데이터를 변수에 담아 출력하시오.\n",
    "result = []\n",
    "for data in numbers:\n",
    "    result.append(data)\n",
    "print(result)\n",
    "# 리스트에서 짝수 데이터만 변수에 담아 출력하시오.\n",
    "result = []\n",
    "for data in numbers:\n",
    "    if not data%2:\n",
    "        result.append(data)\n",
    "print(result)"
   ]
  },
  {
   "cell_type": "code",
   "execution_count": 85,
   "id": "6c1a640f",
   "metadata": {},
   "outputs": [
    {
     "name": "stdout",
     "output_type": "stream",
     "text": [
      "[1]\n",
      "[1, 3]\n",
      "[1, 3, 5]\n",
      "[1, 3, 5, 9]\n",
      "[1, 3, 5, 9, 10]\n",
      "[1, 3, 5, 9, 10, 12]\n",
      "[1, 3, 5, 9, 10, 12, 13]\n",
      "[1, 3, 5, 9, 10, 12, 13, 20]\n"
     ]
    }
   ],
   "source": [
    "result = []\n",
    "for data in numbers:\n",
    "    result. append(data)\n",
    "    print(result)"
   ]
  },
  {
   "cell_type": "code",
   "execution_count": 87,
   "id": "6d6014b3",
   "metadata": {},
   "outputs": [
    {
     "data": {
      "text/plain": [
       "[1, 3, 5, 9, 10, 12, 13, 20]"
      ]
     },
     "execution_count": 87,
     "metadata": {},
     "output_type": "execute_result"
    }
   ],
   "source": [
    "\n",
    "# numbers의 모든 데이터를 리스트컴프리헨션으로 추출\n",
    "[data for data in numbers]"
   ]
  },
  {
   "cell_type": "code",
   "execution_count": 89,
   "id": "43fa7677",
   "metadata": {},
   "outputs": [
    {
     "data": {
      "text/plain": [
       "[10, 12, 20]"
      ]
     },
     "execution_count": 89,
     "metadata": {},
     "output_type": "execute_result"
    }
   ],
   "source": [
    "# numbers의 짝수 데이터를 리스트컴프리헨션으로 추출\n",
    "[data for data in numbers if data%2==0]"
   ]
  },
  {
   "cell_type": "code",
   "execution_count": 93,
   "id": "e8e50952",
   "metadata": {},
   "outputs": [
    {
     "data": {
      "text/plain": [
       "[10, 12, 13, 20]"
      ]
     },
     "execution_count": 93,
     "metadata": {},
     "output_type": "execute_result"
    }
   ],
   "source": [
    "# ex1. numbers에서 10이상만 추출\n",
    "numbers = [1, 3, 5, 9, 10, 12, 13, 20]\n",
    "[data for data in numbers if data>=10]"
   ]
  },
  {
   "cell_type": "code",
   "execution_count": 99,
   "id": "fad49662",
   "metadata": {},
   "outputs": [
    {
     "data": {
      "text/plain": [
       "['orange']"
      ]
     },
     "execution_count": 99,
     "metadata": {},
     "output_type": "execute_result"
    }
   ],
   "source": [
    "# ex2. fruits에서 5글자가 넘는 과일만 추출\n",
    "fruits = ['orange', 'apple', 'mango', 'kiwi']\n",
    "[item for item in fruits if len(item)>5]"
   ]
  },
  {
   "cell_type": "code",
   "execution_count": 100,
   "id": "f84b07ce",
   "metadata": {},
   "outputs": [
    {
     "data": {
      "text/plain": [
       "[9, 16, 25]"
      ]
     },
     "execution_count": 100,
     "metadata": {},
     "output_type": "execute_result"
    }
   ],
   "source": [
    "# ex3. 3이상의 요소들의 제곱을 추출\n",
    "L = [1, 2, 3, 4, 5]\n",
    "[item**2 for item in L if item>=3]"
   ]
  },
  {
   "cell_type": "code",
   "execution_count": 124,
   "id": "9a53200e",
   "metadata": {},
   "outputs": [
    {
     "data": {
      "text/plain": [
       "[0, 1, 2, 222, 4, 5, 6, 7, 8, 9]"
      ]
     },
     "execution_count": 124,
     "metadata": {},
     "output_type": "execute_result"
    }
   ],
   "source": [
    "## 1.6 요소 수정하기 \n",
    "numbers = [0,1,2,3,4,5,6,7,8,9]\n",
    "numbers[3] =222\n",
    "numbers"
   ]
  },
  {
   "cell_type": "code",
   "execution_count": 102,
   "id": "bdf22858",
   "metadata": {},
   "outputs": [
    {
     "data": {
      "text/plain": [
       "[0, 'x', 4, 5, 6, 7, 8, 9]"
      ]
     },
     "execution_count": 102,
     "metadata": {},
     "output_type": "execute_result"
    }
   ],
   "source": [
    "#t슬라이싱 이용해서 요소 수정 (step 부분이 미포함: 부분 리스트가 통째로 수정)\n",
    "numbers[1:4]=['x']\n",
    "numbers "
   ]
  },
  {
   "cell_type": "code",
   "execution_count": 125,
   "id": "99b7dc6e",
   "metadata": {},
   "outputs": [
    {
     "data": {
      "text/plain": [
       "['x', 1, 5, 222, 5, 5, 5, 7, 5, 9]"
      ]
     },
     "execution_count": 125,
     "metadata": {},
     "output_type": "execute_result"
    }
   ],
   "source": [
    "#슬라이싱을 이용해서 요소 수정(step 부분 포함: 요소 갯수가 맞아야함)\n",
    "numbers[::2]=['x', 5,5,5,5]\n",
    "numbers "
   ]
  },
  {
   "cell_type": "markdown",
   "id": "a9083926",
   "metadata": {},
   "source": [
    "## 1.7 요소 삭제 \n",
    "- pop() : 가장 마지막 인덱스 요소가 반환되고 삭제 \n",
    "- pop(idx): idx번째 요소가 반환되고 삭제 \n",
    "- remove(자율data) : 리스트의 데이터가 삭제 \n",
    "- del변수[idx] : idx번째 데이터가 삭제"
   ]
  },
  {
   "cell_type": "code",
   "execution_count": 112,
   "id": "b3fc5dba",
   "metadata": {},
   "outputs": [
    {
     "name": "stdout",
     "output_type": "stream",
     "text": [
      "삭제된 데이터: 5, 리스트: [1, 2, 3, 4] .\n",
      "삭제된 데이터: 1, 리스트: [2, 3, 4] .\n"
     ]
    }
   ],
   "source": [
    "numbers = [1,2,3,4,5]\n",
    "delete_data = numbers.pop()\n",
    "print(\"삭제된 데이터: {}, 리스트: {} .\".format(delete_data, numbers))\n",
    "delete_data2 = numbers.pop(0)\n",
    "print(\"삭제된 데이터: {}, 리스트: {} .\".format(delete_data2, numbers))"
   ]
  },
  {
   "cell_type": "code",
   "execution_count": 121,
   "id": "e4080f1d",
   "metadata": {},
   "outputs": [
    {
     "name": "stdout",
     "output_type": "stream",
     "text": [
      "None\n",
      "[1, 2, 4, 5]\n"
     ]
    }
   ],
   "source": [
    "numbers = [1,2,3,4,5]\n",
    "del_num = numbers.remove(3)\n",
    "print(del_num)\n",
    "#remove는 반환값이 없고 해당데이터만 삭제, 해당데이터가 없으면 오류\n",
    "print(numbers)"
   ]
  },
  {
   "cell_type": "code",
   "execution_count": 118,
   "id": "283738e8",
   "metadata": {},
   "outputs": [
    {
     "name": "stdout",
     "output_type": "stream",
     "text": [
      "해당 번호가 없습니다.\n"
     ]
    }
   ],
   "source": [
    "if 9 in numbers: \n",
    "    numbers.remove(9)\n",
    "    \n",
    "else: \n",
    "    print(\"해당 번호가 없습니다.\")"
   ]
  },
  {
   "cell_type": "code",
   "execution_count": 122,
   "id": "5fa6a40b",
   "metadata": {},
   "outputs": [],
   "source": [
    "def safe_remove(lst, remove_data):\n",
    "    if remove_data in lst:\n",
    "        lst.remove(remove_data)\n",
    "        print(remove_data, '삭제 완료')\n",
    "    else:\n",
    "        print(f'{remove_data}는 없는 아이템입니다')"
   ]
  },
  {
   "cell_type": "code",
   "execution_count": 123,
   "id": "70808f09",
   "metadata": {},
   "outputs": [
    {
     "name": "stdout",
     "output_type": "stream",
     "text": [
      "{remove_data}는 없는 아이템입니다\n",
      "5 삭제 완료\n"
     ]
    }
   ],
   "source": [
    "safe_remove(numbers, 9)\n",
    "safe_remove(numbers, 5)"
   ]
  },
  {
   "cell_type": "code",
   "execution_count": null,
   "id": "b964b48f",
   "metadata": {},
   "outputs": [],
   "source": []
  }
 ],
 "metadata": {
  "kernelspec": {
   "display_name": "Python 3 (ipykernel)",
   "language": "python",
   "name": "python3"
  },
  "language_info": {
   "codemirror_mode": {
    "name": "ipython",
    "version": 3
   },
   "file_extension": ".py",
   "mimetype": "text/x-python",
   "name": "python",
   "nbconvert_exporter": "python",
   "pygments_lexer": "ipython3",
   "version": "3.10.9"
  },
  "toc": {
   "base_numbering": 1,
   "nav_menu": {},
   "number_sections": false,
   "sideBar": true,
   "skip_h1_title": false,
   "title_cell": "Table of Contents",
   "title_sidebar": "Contents",
   "toc_cell": false,
   "toc_position": {
    "height": "calc(100% - 180px)",
    "left": "10px",
    "top": "150px",
    "width": "165px"
   },
   "toc_section_display": true,
   "toc_window_display": true
  }
 },
 "nbformat": 4,
 "nbformat_minor": 5
}
