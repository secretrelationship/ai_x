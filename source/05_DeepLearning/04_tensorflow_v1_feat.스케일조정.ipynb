{
 "cells": [
  {
   "cell_type": "code",
   "execution_count": 1,
   "id": "3302036c",
   "metadata": {},
   "outputs": [
    {
     "data": {
      "text/html": [
       "\n",
       "<style>\n",
       "div.container{width:86% !important;}\n",
       "div.cell.code_cell.rendered{width:100%;}\n",
       "div.CodeMirror {font-family:Consolas; font-size:15pt;}\n",
       "div.output {font-size:15pt; font-weight:bold;}\n",
       "div.input {font-family:Consolas; font-size:15pt;}\n",
       "div.prompt {min-width:70px;}\n",
       "div#toc-wrapper{padding-top:120px;}\n",
       "div.text_cell_render ul li{font-size:12pt;padding:5px;}\n",
       "table.dataframe{font-size:15px;}\n",
       "</style>\n"
      ],
      "text/plain": [
       "<IPython.core.display.HTML object>"
      ]
     },
     "metadata": {},
     "output_type": "display_data"
    }
   ],
   "source": [
    "from IPython.display import display, HTML\n",
    "display(HTML(\"\"\"\n",
    "<style>\n",
    "div.container{width:86% !important;}\n",
    "div.cell.code_cell.rendered{width:100%;}\n",
    "div.CodeMirror {font-family:Consolas; font-size:15pt;}\n",
    "div.output {font-size:15pt; font-weight:bold;}\n",
    "div.input {font-family:Consolas; font-size:15pt;}\n",
    "div.prompt {min-width:70px;}\n",
    "div#toc-wrapper{padding-top:120px;}\n",
    "div.text_cell_render ul li{font-size:12pt;padding:5px;}\n",
    "table.dataframe{font-size:15px;}\n",
    "</style>\n",
    "\"\"\"))"
   ]
  },
  {
   "cell_type": "markdown",
   "id": "216b385e",
   "metadata": {},
   "source": [
    "<b><font size=\"5\" color=\"red\">04_tensorflow_v1_feat.스케일조정</font></b>"
   ]
  },
  {
   "cell_type": "markdown",
   "id": "17202652",
   "metadata": {},
   "source": [
    "# 1. tensorflow v2.xx에서 v1사용하기"
   ]
  },
  {
   "cell_type": "code",
   "execution_count": 25,
   "id": "29deaaac",
   "metadata": {},
   "outputs": [
    {
     "name": "stdout",
     "output_type": "stream",
     "text": [
      "WARNING:tensorflow:From C:\\Users\\Admin\\anaconda3\\envs\\ml-dl-nlp\\lib\\site-packages\\tensorflow\\python\\compat\\v2_compat.py:107: disable_resource_variables (from tensorflow.python.ops.variable_scope) is deprecated and will be removed in a future version.\n",
      "Instructions for updating:\n",
      "non-resource variables are not supported in the long term\n"
     ]
    }
   ],
   "source": [
    "import tensorflow.compat.v1 as tf\n",
    "tf.disable_v2_behavior() #v2를 활성화하고 v1활성화 \n",
    "import pandas as pd\n",
    "import numpy as np"
   ]
  },
  {
   "cell_type": "markdown",
   "id": "77d64898",
   "metadata": {},
   "source": [
    "## Tensorflow\n",
    "- 데이터흐름그래프(tensor객체의 흐름)\n",
    "- 이 그래프는 node(상수,변수,연산)와 edge로 구성\n",
    "- sess = tf.Session()으로 실행\n",
    "- sess.run()을 통해 값을 확인 "
   ]
  },
  {
   "cell_type": "code",
   "execution_count": null,
   "id": "94258324",
   "metadata": {},
   "outputs": [],
   "source": [
    "#tensor "
   ]
  },
  {
   "cell_type": "code",
   "execution_count": 5,
   "id": "137c5b64",
   "metadata": {},
   "outputs": [
    {
     "name": "stdout",
     "output_type": "stream",
     "text": [
      "[10.0, 20.0, 30.0]\n"
     ]
    }
   ],
   "source": [
    "#간단한 연산 tensor 그래프\n",
    "node1 = tf.constant(10,dtype=tf.float16)\n",
    "node2 = tf.constant(20,dtype=tf.float16)\n",
    "node3 = tf.add(node1,node2)\n",
    "sess = tf.Session()\n",
    "print(sess.run([node1,node2,node3]))"
   ]
  },
  {
   "cell_type": "code",
   "execution_count": 6,
   "id": "643bda75",
   "metadata": {},
   "outputs": [
    {
     "data": {
      "text/plain": [
       "[array([1, 2, 3], dtype=int16), array([1., 2., 3.], dtype=float32)]"
      ]
     },
     "execution_count": 6,
     "metadata": {},
     "output_type": "execute_result"
    }
   ],
   "source": [
    "#타입변경\n",
    "node1 = tf.constant(np.array([1,2,3]),dtype=tf.int16)\n",
    "node2= tf.cast(node1,dtype=tf.float32)\n",
    "sess = tf.Session()\n",
    "sess.run([node1,node2])"
   ]
  },
  {
   "cell_type": "code",
   "execution_count": 7,
   "id": "4e2a6d60",
   "metadata": {},
   "outputs": [
    {
     "data": {
      "text/plain": [
       "2.0"
      ]
     },
     "execution_count": 7,
     "metadata": {},
     "output_type": "execute_result"
    }
   ],
   "source": [
    "#평균값 계산: tf.reduce_mean()\n",
    "data = np.array([1.,2.,3.])\n",
    "tensor = tf.reduce_mean(data)\n",
    "sess= tf.Session()\n",
    "sess.run(tensor )"
   ]
  },
  {
   "cell_type": "code",
   "execution_count": 8,
   "id": "be2dcd53",
   "metadata": {},
   "outputs": [
    {
     "data": {
      "text/plain": [
       "[array([ 1.0442607, -0.4225237], dtype=float32),\n",
       " array([-1.1596162], dtype=float32)]"
      ]
     },
     "execution_count": 8,
     "metadata": {},
     "output_type": "execute_result"
    }
   ],
   "source": [
    "# 랜덤값을 갖는 tensor\n",
    "a = tf.random_normal([2]) # 평균0, 표준편차가 1인 난수 실수 2개(정규분포이루는난수)\n",
    "b = tf.random_normal([1])\n",
    "sess = tf.Session()\n",
    "sess.run([a,b])"
   ]
  },
  {
   "cell_type": "code",
   "execution_count": 10,
   "id": "4e3945c6",
   "metadata": {},
   "outputs": [
    {
     "data": {
      "text/plain": [
       "array([0.11547122], dtype=float32)"
      ]
     },
     "execution_count": 10,
     "metadata": {},
     "output_type": "execute_result"
    }
   ],
   "source": [
    "w= tf.Variable(tf.random.normal([1]))\n",
    "sess = tf.Session()\n",
    "sess.run(tf.global_variables_initializer()) #w변수의 난수 초기화\n",
    "sess.run(w)"
   ]
  },
  {
   "cell_type": "markdown",
   "id": "50442ef0",
   "metadata": {},
   "source": [
    "# 2. tensorflow v1을 이용한 linear regression을 구현\n",
    " ## 2.1 입력(독립)변수 x가 1개, 타겟(종속)변수 y가 1개"
   ]
  },
  {
   "cell_type": "code",
   "execution_count": 30,
   "id": "a4e6b3a0",
   "metadata": {},
   "outputs": [
    {
     "name": "stdout",
     "output_type": "stream",
     "text": [
      "0번째 cost:10.516520500183105, W:[-0.28432935], b:[0.88216996]\n",
      "200번째 cost:0.007725967094302177, W:[0.8981579], b:[1.2315109]\n",
      "400번째 cost:0.002950165420770645, W:[0.93706757], b:[1.1430601]\n",
      "600번째 cost:0.0011265022912994027, W:[0.96111196], b:[1.0884017]\n",
      "800번째 cost:0.00043014794937334955, W:[0.97596973], b:[1.0546265]\n",
      "1000번째 cost:0.00016425451030954719, W:[0.9851506], b:[1.0337563]\n",
      "1200번째 cost:6.272047903621569e-05, W:[0.9908239], b:[1.0208592]\n",
      "1400번째 cost:2.39488927036291e-05, W:[0.9943299], b:[1.0128894]\n",
      "1600번째 cost:9.14489555725595e-06, W:[0.99649626], b:[1.0079648]\n",
      "1800번째 cost:3.49227775586769e-06, W:[0.99783486], b:[1.0049219]\n",
      "2000번째 cost:1.3333743709154078e-06, W:[0.998662], b:[1.0030415]\n",
      "2200번째 cost:5.093095296615502e-07, W:[0.99917305], b:[1.0018798]\n",
      "2400번째 cost:1.9461451472579938e-07, W:[0.9994888], b:[1.001162]\n",
      "2600번째 cost:7.448253569464214e-08, W:[0.9996837], b:[1.0007188]\n",
      "2800번째 cost:2.866478077123702e-08, W:[0.99980396], b:[1.0004458]\n",
      "3000번째 cost:1.1020413914764049e-08, W:[0.99987817], b:[1.0002763]\n",
      "3200번째 cost:4.274463893949587e-09, W:[0.9999242], b:[1.0001724]\n",
      "3400번째 cost:1.7140658892245142e-09, W:[0.9999523], b:[1.0001091]\n",
      "3600번째 cost:6.652101092186058e-10, W:[0.9999703], b:[1.0000682]\n",
      "3800번째 cost:2.820096656197535e-10, W:[0.9999806], b:[1.0000443]\n",
      "4000번째 cost:8.733517381509515e-11, W:[0.9999891], b:[1.0000248]\n",
      "4200번째 cost:8.733517381509515e-11, W:[0.9999891], b:[1.0000248]\n",
      "4400번째 cost:8.733517381509515e-11, W:[0.9999891], b:[1.0000248]\n",
      "4600번째 cost:8.733517381509515e-11, W:[0.9999891], b:[1.0000248]\n",
      "4800번째 cost:8.733517381509515e-11, W:[0.9999891], b:[1.0000248]\n",
      "5000번째 cost:8.733517381509515e-11, W:[0.9999891], b:[1.0000248]\n"
     ]
    }
   ],
   "source": [
    "x= np.array([1,2,3])\n",
    "y= np.array([2,3,4])\n",
    "# weight 오 bias(처음엔 랜덤값으로 셋팅, 학습과정에서 변경)\n",
    "W= tf.Variable(tf.random.normal([1]), name='weight')\n",
    "b= tf.Variable(tf.random.normal([1]), name='bias')\n",
    "#Hypothesis: 예측값\n",
    "H = W*x + b\n",
    "#cost funcion(손실함수=mse;최소제곱법)\n",
    "cost = tf.reduce_mean(tf.square(H-y))\n",
    "'''\n",
    "학습목적: cost가 최소가 되는 w, b를 찾아내는 것\n",
    "cost는 2차 함수이므로 곡선그래프 곡선위 미분값이 줄어드는 방향으로 학습(경사하강)\n",
    "=> GradiantDescentOptimizer\n",
    "'''\n",
    "optimizer = tf.train.GradientDescentOptimizer(learning_rate=0.01)\n",
    "train = optimizer.minimize(cost)\n",
    "#세션생성\n",
    "sess = tf.Session()\n",
    "# w,b 변수 노드에 초기화\n",
    "sess.run(tf.global_variables_initializer())\n",
    "# 5000번 학습(v2에서는 fit 함수)\n",
    "for step in range(5001):\n",
    "    _, cost_val, W_val, b_val = sess.run([train, cost, W, b])\n",
    "    if step%200 == 0:\n",
    "        print(\"{}번째 cost:{}, W:{}, b:{}\".format(step,\n",
    "                                               cost_val,\n",
    "                                               W_val,\n",
    "                                               b_val))"
   ]
  },
  {
   "cell_type": "code",
   "execution_count": 20,
   "id": "51eeb5a6",
   "metadata": {},
   "outputs": [
    {
     "data": {
      "text/plain": [
       "[array([0.07697687], dtype=float32), array([0.9999811], dtype=float32)]"
      ]
     },
     "execution_count": 20,
     "metadata": {},
     "output_type": "execute_result"
    }
   ],
   "source": [
    "# 최종적으로 나온 회귀식 : H = W*x + b\n",
    "sess.run([W, b])"
   ]
  },
  {
   "cell_type": "code",
   "execution_count": 21,
   "id": "7ad17ffa",
   "metadata": {},
   "outputs": [
    {
     "data": {
      "text/plain": [
       "(0.076976866, 0.9999811)"
      ]
     },
     "execution_count": 21,
     "metadata": {},
     "output_type": "execute_result"
    }
   ],
   "source": [
    "W_, b_ = sess.run([W, b])\n",
    "W_[0], b_[0]"
   ]
  },
  {
   "cell_type": "code",
   "execution_count": 22,
   "id": "07c6e510",
   "metadata": {},
   "outputs": [],
   "source": [
    "def predict(x):\n",
    "    return W_[0]*x + b_[0]"
   ]
  },
  {
   "cell_type": "code",
   "execution_count": 23,
   "id": "464c68c0",
   "metadata": {},
   "outputs": [
    {
     "name": "stdout",
     "output_type": "stream",
     "text": [
      "입력값은 ?5\n",
      "예측값은  1.3848654329776764\n"
     ]
    }
   ],
   "source": [
    "input_x = int(input('입력값은 ?'))\n",
    "print('예측값은 ', predict(input_x))"
   ]
  },
  {
   "cell_type": "markdown",
   "id": "78aa1d3c",
   "metadata": {},
   "source": [
    "## 2.5 입력(독립) 변수 x가 3개, 타겟(종속)변수 y가 1개(csv->array)"
   ]
  },
  {
   "cell_type": "code",
   "execution_count": 6,
   "id": "65fb31a6",
   "metadata": {},
   "outputs": [
    {
     "data": {
      "text/plain": [
       "array([[ 41. , 190. ,   7.4,  67. ,   5. ,   1. ],\n",
       "       [ 36. , 118. ,   8. ,  72. ,   5. ,   2. ],\n",
       "       [ 12. , 149. ,  12.6,  74. ,   5. ,   3. ],\n",
       "       [ 18. , 313. ,  11.5,  62. ,   5. ,   4. ],\n",
       "       [  nan,   nan,  14.3,  56. ,   5. ,   5. ]])"
      ]
     },
     "execution_count": 6,
     "metadata": {},
     "output_type": "execute_result"
    }
   ],
   "source": [
    "# 방법1 : csv -> array\n",
    "import numpy as np\n",
    "#data = np.loadtxt('data/pima-indians-diabetes.csv', delimiter=',', encoding='utf-8') # 결측치, header가 없어야 함\n",
    "data = np.genfromtxt('data/ozone.csv',\n",
    "                    delimiter=',',\n",
    "                    skip_header=1,\n",
    "                    missing_values='NA',\n",
    "                    filling_values=np.nan)\n",
    "data[:5]"
   ]
  },
  {
   "cell_type": "code",
   "execution_count": 9,
   "id": "72a01707",
   "metadata": {},
   "outputs": [
    {
     "name": "stdout",
     "output_type": "stream",
     "text": [
      "<class 'pandas.core.frame.DataFrame'>\n",
      "RangeIndex: 153 entries, 0 to 152\n",
      "Data columns (total 6 columns):\n",
      " #   Column   Non-Null Count  Dtype  \n",
      "---  ------   --------------  -----  \n",
      " 0   Ozone    116 non-null    float64\n",
      " 1   Solar.R  146 non-null    float64\n",
      " 2   Wind     153 non-null    float64\n",
      " 3   Temp     153 non-null    int64  \n",
      " 4   Month    153 non-null    int64  \n",
      " 5   Day      153 non-null    int64  \n",
      "dtypes: float64(3), int64(3)\n",
      "memory usage: 7.3 KB\n"
     ]
    },
    {
     "data": {
      "text/plain": [
       "Ozone      37\n",
       "Solar.R     7\n",
       "Wind        0\n",
       "Temp        0\n",
       "Month       0\n",
       "Day         0\n",
       "dtype: int64"
      ]
     },
     "execution_count": 9,
     "metadata": {},
     "output_type": "execute_result"
    }
   ],
   "source": [
    "#방법 2: csv 파일 -> 데이터프레임 -> 결측치처리 -> 넘파이배열 -> 머신러닝\n",
    "# 1. csv를 데이터 프레임으로 읽기 \n",
    "import pandas as pd\n",
    "import numpy as np\n",
    "data= pd.read_csv('data/ozone.csv')\n",
    "data.info()# 오존, 태양\n",
    "data.isna().sum() #열별 결측치 갯수"
   ]
  },
  {
   "cell_type": "code",
   "execution_count": 20,
   "id": "4b788624",
   "metadata": {},
   "outputs": [
    {
     "data": {
      "text/html": [
       "<div>\n",
       "<style scoped>\n",
       "    .dataframe tbody tr th:only-of-type {\n",
       "        vertical-align: middle;\n",
       "    }\n",
       "\n",
       "    .dataframe tbody tr th {\n",
       "        vertical-align: top;\n",
       "    }\n",
       "\n",
       "    .dataframe thead th {\n",
       "        text-align: right;\n",
       "    }\n",
       "</style>\n",
       "<table border=\"1\" class=\"dataframe\">\n",
       "  <thead>\n",
       "    <tr style=\"text-align: right;\">\n",
       "      <th></th>\n",
       "      <th>Ozone</th>\n",
       "      <th>Solar.R</th>\n",
       "    </tr>\n",
       "    <tr>\n",
       "      <th>Month</th>\n",
       "      <th></th>\n",
       "      <th></th>\n",
       "    </tr>\n",
       "  </thead>\n",
       "  <tbody>\n",
       "    <tr>\n",
       "      <th>5</th>\n",
       "      <td>23.615385</td>\n",
       "      <td>181.296296</td>\n",
       "    </tr>\n",
       "    <tr>\n",
       "      <th>6</th>\n",
       "      <td>29.444444</td>\n",
       "      <td>190.166667</td>\n",
       "    </tr>\n",
       "    <tr>\n",
       "      <th>7</th>\n",
       "      <td>59.115385</td>\n",
       "      <td>216.483871</td>\n",
       "    </tr>\n",
       "    <tr>\n",
       "      <th>8</th>\n",
       "      <td>59.961538</td>\n",
       "      <td>171.857143</td>\n",
       "    </tr>\n",
       "    <tr>\n",
       "      <th>9</th>\n",
       "      <td>31.448276</td>\n",
       "      <td>167.433333</td>\n",
       "    </tr>\n",
       "  </tbody>\n",
       "</table>\n",
       "</div>"
      ],
      "text/plain": [
       "           Ozone     Solar.R\n",
       "Month                       \n",
       "5      23.615385  181.296296\n",
       "6      29.444444  190.166667\n",
       "7      59.115385  216.483871\n",
       "8      59.961538  171.857143\n",
       "9      31.448276  167.433333"
      ]
     },
     "metadata": {},
     "output_type": "display_data"
    },
    {
     "name": "stdout",
     "output_type": "stream",
     "text": [
      "5월에 Ozone으로 대체할 값 : 23.615384615384617\n"
     ]
    }
   ],
   "source": [
    "# 2. 결측치처리\n",
    "# 결측치 처리 방법1 : 결측치가 있는 행을 제거\n",
    "# data.dropna(how='any', axis=0, inplace=True)\n",
    "# 결측치 처리 방법2 : 결측치 대체(열별 평균값으로 대체)\n",
    "data.mean() # 열별평균\n",
    "# data.fillna(value=data.mean(), inplace=True)\n",
    "# 결측치 처리 방법3 : 결측치 대체(월별 열별 평균값으로 대체)\n",
    "mean_data = data.groupby('Month')[['Ozone','Solar.R']].mean()\n",
    "display(mean_data)\n",
    "print('5월에 Ozone으로 대체할 값 :', mean_data.loc[5, 'Ozone'])"
   ]
  },
  {
   "cell_type": "code",
   "execution_count": 21,
   "id": "74204d83",
   "metadata": {},
   "outputs": [
    {
     "data": {
      "text/html": [
       "<div>\n",
       "<style scoped>\n",
       "    .dataframe tbody tr th:only-of-type {\n",
       "        vertical-align: middle;\n",
       "    }\n",
       "\n",
       "    .dataframe tbody tr th {\n",
       "        vertical-align: top;\n",
       "    }\n",
       "\n",
       "    .dataframe thead th {\n",
       "        text-align: right;\n",
       "    }\n",
       "</style>\n",
       "<table border=\"1\" class=\"dataframe\">\n",
       "  <thead>\n",
       "    <tr style=\"text-align: right;\">\n",
       "      <th></th>\n",
       "      <th>Ozone</th>\n",
       "      <th>Solar.R</th>\n",
       "      <th>Wind</th>\n",
       "      <th>Temp</th>\n",
       "      <th>Month</th>\n",
       "      <th>Day</th>\n",
       "    </tr>\n",
       "  </thead>\n",
       "  <tbody>\n",
       "    <tr>\n",
       "      <th>4</th>\n",
       "      <td>NaN</td>\n",
       "      <td>NaN</td>\n",
       "      <td>14.3</td>\n",
       "      <td>56</td>\n",
       "      <td>5</td>\n",
       "      <td>5</td>\n",
       "    </tr>\n",
       "  </tbody>\n",
       "</table>\n",
       "</div>"
      ],
      "text/plain": [
       "   Ozone  Solar.R  Wind  Temp  Month  Day\n",
       "4    NaN      NaN  14.3    56      5    5"
      ]
     },
     "execution_count": 21,
     "metadata": {},
     "output_type": "execute_result"
    }
   ],
   "source": [
    "# 결측치가 있는 데이터\n",
    "data[data['Ozone'].isna() | data['Solar.R'].isna()].head(1)"
   ]
  },
  {
   "cell_type": "code",
   "execution_count": 22,
   "id": "cf06ba42",
   "metadata": {},
   "outputs": [
    {
     "data": {
      "text/plain": [
       "Ozone       23.615385\n",
       "Solar.R    181.296296\n",
       "Wind        14.300000\n",
       "Temp        56.000000\n",
       "Month        5.000000\n",
       "Day          5.000000\n",
       "Name: 4, dtype: float64"
      ]
     },
     "execution_count": 22,
     "metadata": {},
     "output_type": "execute_result"
    }
   ],
   "source": [
    "def fill_nan(row):\n",
    "    #print(row)\n",
    "    #print(row.isna())\n",
    "    'row[\"Ozone\"]이나 row[\"Solar.R\"]가 결측치면 mean_data[월, 열이름]으로 대체'\n",
    "    #if np.isna(row['Ozone']):\n",
    "    pd.options.mode.copy_on_write = True \n",
    "    # row = row.copy()\n",
    "    if row.isna()['Ozone']:\n",
    "        row['Ozone'] = mean_data.loc[row.Month, 'Ozone']\n",
    "    if row.isna()['Solar.R']:\n",
    "        row['Solar.R'] = mean_data.loc[row['Month'], 'Solar.R']\n",
    "    return row\n",
    "fill_nan(data.loc[4])"
   ]
  },
  {
   "cell_type": "code",
   "execution_count": 23,
   "id": "05b9ece3",
   "metadata": {},
   "outputs": [
    {
     "data": {
      "text/plain": [
       "((153, 3), (153, 1))"
      ]
     },
     "execution_count": 23,
     "metadata": {},
     "output_type": "execute_result"
    }
   ],
   "source": [
    "data = data.apply(fill_nan, axis=1)\n",
    "X_data = data[['Solar.R', 'Wind', 'Temp']].values # 독립변수\n",
    "y_data = data[['Ozone']].values # 타겟변수\n",
    "X_data.shape, y_data.shape"
   ]
  },
  {
   "cell_type": "code",
   "execution_count": 27,
   "id": "25f01a09",
   "metadata": {},
   "outputs": [],
   "source": [
    "# tensorflow 구현\n",
    "# 1. X, y\n",
    "X = tf.placeholder(shape=[None, 3], dtype=tf.float32)\n",
    "y = tf.placeholder(shape=[None, 1], dtype=tf.float32)\n",
    "# 2. 독립변수 3개, 타겟변수1개인 모델의 weight, bias\n",
    "W = tf.Variable(tf.random.normal([3, 1]))\n",
    "b = tf.Variable(tf.random_normal([1]))\n",
    "# 3. Hypothesis\n",
    "# H = X@W + b\n",
    "H = tf.matmul(X, W) + b\n",
    "# 4. cost함수(손실함수) : mse\n",
    "cost = tf.reduce_mean(tf.square(H-y))\n",
    "# 5. train\n",
    "train = tf.train.GradientDescentOptimizer(learning_rate=0.001).minimize(cost)"
   ]
  },
  {
   "cell_type": "code",
   "execution_count": 31,
   "id": "1e3c2277",
   "metadata": {},
   "outputs": [
    {
     "data": {
      "text/plain": [
       "array([2.0000138, 3.0000029, 3.9999921], dtype=float32)"
      ]
     },
     "execution_count": 31,
     "metadata": {},
     "output_type": "execute_result"
    }
   ],
   "source": [
    "#예측학\n",
    "input_data = np.array([[118. , 8. ,72.]])\n",
    "sess.run(H, feed_dict={X:input_data})"
   ]
  },
  {
   "cell_type": "markdown",
   "id": "399d4b6a",
   "metadata": {},
   "source": [
    "# 3. 이진분류 = logistic Regression(분류분석)\n",
    "- logistic 회귀분석: 기본의 회귀분석과 다른 분석 필요"
   ]
  },
  {
   "cell_type": "code",
   "execution_count": 32,
   "id": "111f2944",
   "metadata": {},
   "outputs": [
    {
     "data": {
      "text/plain": [
       "<matplotlib.collections.PathCollection at 0x18e29dba2c0>"
      ]
     },
     "execution_count": 32,
     "metadata": {},
     "output_type": "execute_result"
    },
    {
     "data": {
      "image/png": "[encoded data removed]",
      "text/plain": [
       "<Figure size 640x480 with 1 Axes>"
      ]
     },
     "metadata": {},
     "output_type": "display_data"
    }
   ],
   "source": [
    "x = np.array([1, 2, 5, 8, 10])\n",
    "y = np.array([0, 0, 0, 1, 1]) # 실제값\n",
    "from scipy import stats\n",
    "lm = stats.linregress(x, y) # 기울기(W)와 y절편(b)\n",
    "H = lm[0]*x + lm[1]\n",
    "import matplotlib.pyplot as plt\n",
    "plt.plot(x, H, 'r')\n",
    "plt.scatter(x, y)"
   ]
  },
  {
   "cell_type": "code",
   "execution_count": 33,
   "id": "7e2c1b71",
   "metadata": {},
   "outputs": [
    {
     "data": {
      "text/plain": [
       "<matplotlib.collections.PathCollection at 0x18e29eb6350>"
      ]
     },
     "execution_count": 33,
     "metadata": {},
     "output_type": "execute_result"
    },
    {
     "data": {
      "image/png": "[encoded data removed]",
      "text/plain": [
       "<Figure size 640x480 with 1 Axes>"
      ]
     },
     "metadata": {},
     "output_type": "display_data"
    }
   ],
   "source": [
    "x = np.array([1, 2, 5, 8, 10, 40])\n",
    "y = np.array([0, 0, 0, 1, 1, 1]) # 실제값\n",
    "from scipy import stats\n",
    "lm = stats.linregress(x, y) # 기울기(W)와 y절편(b)\n",
    "H = lm[0]*x + lm[1]\n",
    "import matplotlib.pyplot as plt\n",
    "plt.plot(x, H, 'r')\n",
    "plt.scatter(x, y)"
   ]
  },
  {
   "cell_type": "markdown",
   "id": "07e43e26",
   "metadata": {},
   "source": [
    "### 스케일 조정\n",
    "- MinMaxScaler, StandardScaler\n",
    "  0~1             -2 ~2 주로 0근처"
   ]
  },
  {
   "cell_type": "code",
   "execution_count": null,
   "id": "ea87682d",
   "metadata": {},
   "outputs": [],
   "source": [
    "from sklearn.preprocessing import MinMaxScaler\n",
    "x_scaler = MinMaxScaler()\n",
    "y_scaler = MinMaxScaler()\n",
    "scaled_X_data = x_scaler.fit_transform(X_data)\n",
    "scaled_Y_data = "
   ]
  },
  {
   "cell_type": "code",
   "execution_count": 35,
   "id": "dd182942",
   "metadata": {},
   "outputs": [
    {
     "name": "stdout",
     "output_type": "stream",
     "text": [
      "800번째 cost:0.21701574325561523\n",
      "1600번째 cost:0.1685631424188614\n",
      "2400번째 cost:0.14172370731830597\n",
      "3200번째 cost:0.12260843813419342\n",
      "4000번째 cost:0.10790567100048065\n",
      "4800번째 cost:0.09618081152439117\n",
      "5600번째 cost:0.08661619573831558\n",
      "6400번째 cost:0.07867974787950516\n",
      "7200번째 cost:0.07200179994106293\n",
      "8000번째 cost:0.06631531566381454\n"
     ]
    }
   ],
   "source": [
    "# 교안 50pt\n",
    "import numpy as np\n",
    "X_data = np.array([[10,0],\n",
    "                   [8,1],\n",
    "                   [3,3],\n",
    "                   [2,3],\n",
    "                   [5,1],\n",
    "                   [2,0],\n",
    "                   [1,0]])\n",
    "y_data = np.array([[1],[1],[1],[1],[0],[0],[0],])\n",
    "# tensorflow 구현(tensor 그래프)\n",
    "X = tf.placeholder(shape=[None, 2], dtype=tf.float32)\n",
    "y = tf.placeholder(shape=[None, 1], dtype=tf.float32)\n",
    "# 독립변수가 2개, 종속변수가 1개의 weight, bias\n",
    "W = tf.Variable(tf.random.normal([2, 1]))\n",
    "b = tf.Variable(tf.random.normal([1]))\n",
    "# Hypothesis\n",
    "logits = tf.matmul(X, W) + b\n",
    "H      = tf.sigmoid(logits)\n",
    "#cost 함수\n",
    "# cost = tf.reduce_mean(tf.square(H-y))\n",
    "cost = tf.reduce_mean(tf.nn.sigmoid_cross_entropy_with_logits(logits=logits,\n",
    "                                                             labels=y))\n",
    "#train\n",
    "train = tf.train.GradientDescentOptimizer(learning_rate=0.1).minimize(cost)\n",
    "# sess객체 생성\n",
    "sess = tf.Session()\n",
    "sess.run(tf.global_variables_initializer())\n",
    "# 학습\n",
    "for step in range(1, 8001):\n",
    "    _, cost_val = sess.run([train, cost], feed_dict={X:X_data,\n",
    "                                                    y:y_data})\n",
    "    if step%800==0:\n",
    "        print(\"{}번째 cost:{}\".format(step, cost_val))"
   ]
  },
  {
   "cell_type": "code",
   "execution_count": 40,
   "id": "44a5ce97",
   "metadata": {},
   "outputs": [
    {
     "data": {
      "text/plain": [
       "array([[1.]], dtype=float32)"
      ]
     },
     "execution_count": 40,
     "metadata": {},
     "output_type": "execute_result"
    }
   ],
   "source": [
    "#모델 사용\n",
    "input_data = np.array([[5,2]])\n",
    "predict = tf.cast(H>0.5,dtype = tf.float32)\n",
    "sess.run(predict,feed_dict={X:input_data})"
   ]
  },
  {
   "cell_type": "code",
   "execution_count": 43,
   "id": "8544bde9",
   "metadata": {},
   "outputs": [
    {
     "name": "stdout",
     "output_type": "stream",
     "text": [
      "모델 정확도 : 1.0\n"
     ]
    }
   ],
   "source": [
    "# accuracy\n",
    "correct = tf.equal(predict, y)\n",
    "sess.run(correct, feed_dict={X:X_data,\n",
    "                            y:y_data})\n",
    "accuracy = tf.reduce_mean( tf.cast(correct, dtype=tf.float32))\n",
    "print('모델 정확도 :', sess.run(accuracy, feed_dict={X:X_data,\n",
    "                                               y:y_data}))"
   ]
  },
  {
   "cell_type": "markdown",
   "id": "c8fe161d",
   "metadata": {},
   "source": [
    "# 4. XOR"
   ]
  },
  {
   "cell_type": "code",
   "execution_count": 44,
   "id": "1822bb53",
   "metadata": {},
   "outputs": [
    {
     "name": "stdout",
     "output_type": "stream",
     "text": [
      "0번째 cost:0.7163499593734741\n",
      "1000번째 cost:0.693812370300293\n",
      "2000번째 cost:0.6933637261390686\n",
      "3000번째 cost:0.6932220458984375\n",
      "4000번째 cost:0.6931744813919067\n",
      "5000번째 cost:0.6931576728820801\n",
      "6000번째 cost:0.6931514143943787\n",
      "7000번째 cost:0.6931489706039429\n",
      "8000번째 cost:0.6931479573249817\n"
     ]
    }
   ],
   "source": [
    "X_data = np.array([[0, 0],\n",
    "                   [0, 1],\n",
    "                   [1, 0],\n",
    "                   [1, 1]])\n",
    "y_data = np.array([[0], [1], [1], [0]])\n",
    "# X, y\n",
    "X = tf.placeholder(shape=[None, 2], dtype=tf.float32)\n",
    "y = tf.placeholder(shape=[None, 1], dtype=tf.float32)\n",
    "# 독립변수가 2개, 종속변수가 1개 W, b\n",
    "W = tf.Variable(tf.random.normal([2, 1]))\n",
    "b = tf.Variable(tf.random.normal([1]))\n",
    "# H\n",
    "logits = tf.matmul(X, W) + b\n",
    "H      = tf.sigmoid(logits)\n",
    "# cost\n",
    "cost = tf.reduce_mean(tf.nn.sigmoid_cross_entropy_with_logits(logits=logits,\n",
    "                                                             labels=y))\n",
    "# train\n",
    "train = tf.train.GradientDescentOptimizer(learning_rate=0.01).minimize(cost)\n",
    "# sess 객체 생성\n",
    "sess = tf.Session()\n",
    "sess.run(tf.global_variables_initializer())\n",
    "# 학습\n",
    "for step in range(8001):\n",
    "    _, cost_val = sess.run([train, cost], feed_dict={X:X_data,\n",
    "                                                    y:y_data})\n",
    "    if step%1000==0:\n",
    "        print(\"{}번째 cost:{}\".format(step, cost_val))"
   ]
  },
  {
   "cell_type": "code",
   "execution_count": 45,
   "id": "eee9ffb3",
   "metadata": {},
   "outputs": [
    {
     "name": "stdout",
     "output_type": "stream",
     "text": [
      "모델 정확도 : 0.5\n"
     ]
    }
   ],
   "source": [
    "# accuracy\n",
    "predict = tf.cast(H>=0.5, dtype=tf.float32)\n",
    "correct = tf.equal(predict, y)\n",
    "sess.run(correct, feed_dict={X:X_data,\n",
    "                            y:y_data})\n",
    "accuracy = tf.reduce_mean( tf.cast(correct, dtype=tf.float32))\n",
    "print('모델 정확도 :', sess.run(accuracy, feed_dict={X:X_data,\n",
    "                                               y:y_data}))"
   ]
  },
  {
   "cell_type": "markdown",
   "id": "1fe5ce75",
   "metadata": {},
   "source": [
    "# 5. Deep Learning XOR 예제"
   ]
  },
  {
   "cell_type": "code",
   "execution_count": 46,
   "id": "c2e7704f",
   "metadata": {},
   "outputs": [
    {
     "name": "stdout",
     "output_type": "stream",
     "text": [
      "0번째 cost:1.1603670120239258\n",
      "1000번째 cost:0.496833473443985\n",
      "2000번째 cost:0.35898083448410034\n",
      "3000번째 cost:0.21803580224514008\n",
      "4000번째 cost:0.11177359521389008\n",
      "5000번째 cost:0.06945104897022247\n",
      "6000번째 cost:0.0493551529943943\n",
      "7000번째 cost:0.03884245455265045\n",
      "8000번째 cost:0.03190760314464569\n",
      "9000번째 cost:0.026991546154022217\n",
      "10000번째 cost:0.023329192772507668\n"
     ]
    }
   ],
   "source": [
    "X_data = np.array([[0, 0],\n",
    "                   [0, 1],\n",
    "                   [1, 0],\n",
    "                   [1, 1]])\n",
    "y_data = np.array([[0], [1], [1], [0]])\n",
    "# X, y\n",
    "X = tf.placeholder(shape=[None, 2], dtype=tf.float32)\n",
    "y = tf.placeholder(shape=[None, 1], dtype=tf.float32)\n",
    "# layer1 : (입력2, 출력4)\n",
    "W1 = tf.Variable(tf.random.normal([2, 4]))\n",
    "b1 = tf.Variable(tf.random.normal([4]))\n",
    "# H\n",
    "layer1= tf.nn.relu(tf.matmul(X, W1) + b1)\n",
    "\n",
    "# layer2 : (입력4, 출력1)\n",
    "W2 = tf.Variable(tf.random.normal([4, 1]))\n",
    "b2 = tf.Variable(tf.random.normal([1]))\n",
    "# H\n",
    "logits = tf.matmul(layer1, W2) + b2\n",
    "H      = tf.sigmoid(logits)\n",
    "\n",
    "# cost\n",
    "cost = tf.reduce_mean(tf.nn.sigmoid_cross_entropy_with_logits(logits=logits,\n",
    "                                                             labels=y))\n",
    "# train\n",
    "train = tf.train.GradientDescentOptimizer(learning_rate=0.01).minimize(cost)\n",
    "# sess 객체 생성\n",
    "sess = tf.Session()\n",
    "sess.run(tf.global_variables_initializer())\n",
    "# 학습\n",
    "for step in range(10001):\n",
    "    _, cost_val = sess.run([train, cost], feed_dict={X:X_data,\n",
    "                                                    y:y_data})\n",
    "    if step%1000==0:\n",
    "        print(\"{}번째 cost:{}\".format(step, cost_val))"
   ]
  },
  {
   "cell_type": "code",
   "execution_count": 47,
   "id": "910dc89e",
   "metadata": {},
   "outputs": [
    {
     "name": "stdout",
     "output_type": "stream",
     "text": [
      "모델 정확도 : 1.0\n"
     ]
    }
   ],
   "source": [
    "# accuracy\n",
    "predict = tf.cast(H>=0.5, dtype=tf.float32)\n",
    "correct = tf.equal(predict, y)\n",
    "sess.run(correct, feed_dict={X:X_data,\n",
    "                            y:y_data})\n",
    "accuracy = tf.reduce_mean( tf.cast(correct, dtype=tf.float32))\n",
    "print('모델 정확도 :', sess.run(accuracy, feed_dict={X:X_data,\n",
    "                                               y:y_data}))"
   ]
  },
  {
   "cell_type": "code",
   "execution_count": null,
   "id": "c249fd6b",
   "metadata": {},
   "outputs": [],
   "source": []
  },
  {
   "cell_type": "markdown",
   "id": "dee60508",
   "metadata": {},
   "source": [
    "## layer층 x_data 2개 ->4->1을\n",
    "## layer층 x_data 2개 ->10->20->10->1\n",
    "                           입력층 hidden layer(relu) 출력층(sigmoid)\n"
   ]
  },
  {
   "cell_type": "code",
   "execution_count": 2,
   "id": "e85a6411",
   "metadata": {},
   "outputs": [],
   "source": [
    "import numpy as np\n",
    "from tensorflow.keras.models import Sequential #모델 객체 생성\n",
    "from tensorflow.keras.layers import Input, Dense #layers층을 쌓을때 필요"
   ]
  },
  {
   "cell_type": "code",
   "execution_count": 3,
   "id": "b8ef5033",
   "metadata": {},
   "outputs": [],
   "source": [
    "X_data = np.array([[0, 0],\n",
    "                   [0, 1],\n",
    "                   [1, 0],\n",
    "                   [1, 1]])\n",
    "y_data = np.array([[0], [1], [1], [0]])"
   ]
  },
  {
   "cell_type": "code",
   "execution_count": null,
   "id": "0339d878",
   "metadata": {},
   "outputs": [],
   "source": []
  }
 ],
 "metadata": {
  "kernelspec": {
   "display_name": "ml-dl-nlp",
   "language": "python",
   "name": "ml-dl-nlp"
  },
  "language_info": {
   "codemirror_mode": {
    "name": "ipython",
    "version": 3
   },
   "file_extension": ".py",
   "mimetype": "text/x-python",
   "name": "python",
   "nbconvert_exporter": "python",
   "pygments_lexer": "ipython3",
   "version": "3.10.18"
  },
  "toc": {
   "base_numbering": 1,
   "nav_menu": {},
   "number_sections": false,
   "sideBar": true,
   "skip_h1_title": false,
   "title_cell": "Table of Contents",
   "title_sidebar": "Contents",
   "toc_cell": false,
   "toc_position": {},
   "toc_section_display": true,
   "toc_window_display": false
  }
 },
 "nbformat": 4,
 "nbformat_minor": 5
}
