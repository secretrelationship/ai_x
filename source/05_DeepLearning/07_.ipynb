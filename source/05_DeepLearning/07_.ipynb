{
 "cells": [
  {
   "cell_type": "code",
   "execution_count": 4,
   "id": "1652e69c",
   "metadata": {},
   "outputs": [
    {
     "data": {
      "text/html": [
       "\n",
       "<style>\n",
       "div.container{width:86% !important;}\n",
       "div.cell.code_cell.rendered{width:100%;}\n",
       "div.CodeMirror {font-family:Consolas; font-size:15pt;}\n",
       "div.output {font-size:15pt; font-weight:bold;}\n",
       "div.input {font-family:Consolas; font-size:15pt;}\n",
       "div.prompt {min-width:70px;}\n",
       "div#toc-wrapper{padding-top:120px;}\n",
       "div.text_cell_render ul li{font-size:12pt;padding:5px;}\n",
       "table.dataframe{font-size:15px;}\n",
       "</style>\n"
      ],
      "text/plain": [
       "<IPython.core.display.HTML object>"
      ]
     },
     "metadata": {},
     "output_type": "display_data"
    }
   ],
   "source": [
    "from IPython.display import display, HTML\n",
    "display(HTML(\"\"\"\n",
    "<style>\n",
    "div.container{width:86% !important;}\n",
    "div.cell.code_cell.rendered{width:100%;}\n",
    "div.CodeMirror {font-family:Consolas; font-size:15pt;}\n",
    "div.output {font-size:15pt; font-weight:bold;}\n",
    "div.input {font-family:Consolas; font-size:15pt;}\n",
    "div.prompt {min-width:70px;}\n",
    "div#toc-wrapper{padding-top:120px;}\n",
    "div.text_cell_render ul li{font-size:12pt;padding:5px;}\n",
    "table.dataframe{font-size:15px;}\n",
    "</style>\n",
    "\"\"\"))"
   ]
  },
  {
   "cell_type": "markdown",
   "id": "e32003d0",
   "metadata": {},
   "source": [
    "<b><font size=\"5\" color=\"red\">ch07_파마인디언_당뇨병발병예측(로지스틱회귀분석=이진분류,분류분석)</font></b>"
   ]
  },
  {
   "cell_type": "code",
   "execution_count": 30,
   "id": "e4f0f2ab",
   "metadata": {},
   "outputs": [],
   "source": [
    "import numpy as np\n",
    "import pandas as pd\n",
    "import sys\n",
    "from tensorflow.keras.utils import to_categorical  # 원핫인코딩\n",
    "from tensorflow.keras.models import Sequential, save_model, load_model\n",
    "from tensorflow.keras.layers import Dense, Input, Dropout \n",
    "from matplotlib import pyplot as plt # 학습 과정 그래프 \n",
    "from sklearn.metrics import confusion_matrix # 혼동행렬\n",
    "from sklearn.preprocessing import MinMaxScaler, StandardScaler\n",
    "from sklearn.model_selection import train_test_split # 데이터 분리"
   ]
  },
  {
   "cell_type": "markdown",
   "id": "3a3f2253",
   "metadata": {},
   "source": [
    "# 이진분류\n",
    "```\n",
    "1. 데이터 셋 생성 &전처리\n",
    "엑셀 -> 데이터프레임 -> 처리(df.replace('?',np.nan) -> 결측치 처리\n",
    "    -> X,Y 분리 -> X변수 스케일조정 -> train_test_split 학습셋과 테스트셋 분리\n",
    "2. 모델생성(입력 13, 출력1) & 학습과정 설정 & 학습\n",
    "3. 모델평가(그래프, 평가, 교차표)\n",
    "4. 모델 사용(저장 , 예측)\n",
    "```\n",
    "\n",
    "\n",
    "# 분류분석\n",
    "```\n",
    "1. 데이터 셋 생성 &전처리\n",
    "엑셀 -> 데이터프레임 -> 처리(df.replace('?',np.nan) -> 결측치 처리\n",
    "    -> X,Y 분리 -> X변수 스케일조정 -> train_test_split 학습셋과 테스트셋 분리\n",
    "    ->y 변수들의 원핫인코딩\n",
    "2. 모델 생성(입력13, 출력2) & 학습과정 설정 & 학습\n",
    "3. 모델평가(그래프, 평가, 교차표)\n",
    "4. 모델 사용(저장 , 예측)\n",
    "```"
   ]
  },
  {
   "cell_type": "markdown",
   "id": "3ee83bb2",
   "metadata": {},
   "source": [
    "# 1. 데이터 셋 생성 &전처리\n",
    "엑셀 -> 데이터프레임 -> 처리(df.replace('?',np.nan) -> 결측치 처리\n",
    "    -> X,Y 분리 -> X변수 스케일조정 -> train_test_split 학습셋과 테스트셋 분리"
   ]
  },
  {
   "cell_type": "code",
   "execution_count": 6,
   "id": "9c931685",
   "metadata": {},
   "outputs": [
    {
     "data": {
      "text/plain": [
       "age             False\n",
       "sex             False\n",
       "cp              False\n",
       "treshtbps       False\n",
       "chol             True\n",
       "fbs             False\n",
       "restecg         False\n",
       "thalach         False\n",
       "exang           False\n",
       "oldpeak         False\n",
       "slope           False\n",
       "ca               True\n",
       "hsl              True\n",
       "heartDisease    False\n",
       "dtype: bool"
      ]
     },
     "execution_count": 6,
     "metadata": {},
     "output_type": "execute_result"
    }
   ],
   "source": [
    "dataset = pd.read_excel('data/heart-disease.xlsx')\n",
    "dataset.isin(['?']).any() #물음표가 있는 열 여부"
   ]
  },
  {
   "cell_type": "code",
   "execution_count": 17,
   "id": "cf7091b2",
   "metadata": {},
   "outputs": [
    {
     "data": {
      "text/html": [
       "<div>\n",
       "<style scoped>\n",
       "    .dataframe tbody tr th:only-of-type {\n",
       "        vertical-align: middle;\n",
       "    }\n",
       "\n",
       "    .dataframe tbody tr th {\n",
       "        vertical-align: top;\n",
       "    }\n",
       "\n",
       "    .dataframe thead th {\n",
       "        text-align: right;\n",
       "    }\n",
       "</style>\n",
       "<table border=\"1\" class=\"dataframe\">\n",
       "  <thead>\n",
       "    <tr style=\"text-align: right;\">\n",
       "      <th></th>\n",
       "      <th>age</th>\n",
       "      <th>sex</th>\n",
       "      <th>cp</th>\n",
       "      <th>treshtbps</th>\n",
       "      <th>chol</th>\n",
       "      <th>fbs</th>\n",
       "      <th>restecg</th>\n",
       "      <th>thalach</th>\n",
       "      <th>exang</th>\n",
       "      <th>oldpeak</th>\n",
       "      <th>slope</th>\n",
       "      <th>ca</th>\n",
       "      <th>hsl</th>\n",
       "      <th>heartDisease</th>\n",
       "    </tr>\n",
       "  </thead>\n",
       "  <tbody>\n",
       "    <tr>\n",
       "      <th>2</th>\n",
       "      <td>67</td>\n",
       "      <td>1</td>\n",
       "      <td>4</td>\n",
       "      <td>120</td>\n",
       "      <td>?</td>\n",
       "      <td>0</td>\n",
       "      <td>2</td>\n",
       "      <td>129</td>\n",
       "      <td>1</td>\n",
       "      <td>2.6</td>\n",
       "      <td>2</td>\n",
       "      <td>2</td>\n",
       "      <td>7</td>\n",
       "      <td>1</td>\n",
       "    </tr>\n",
       "    <tr>\n",
       "      <th>87</th>\n",
       "      <td>53</td>\n",
       "      <td>0</td>\n",
       "      <td>3</td>\n",
       "      <td>128</td>\n",
       "      <td>216</td>\n",
       "      <td>0</td>\n",
       "      <td>2</td>\n",
       "      <td>115</td>\n",
       "      <td>0</td>\n",
       "      <td>0.0</td>\n",
       "      <td>1</td>\n",
       "      <td>0</td>\n",
       "      <td>?</td>\n",
       "      <td>0</td>\n",
       "    </tr>\n",
       "    <tr>\n",
       "      <th>166</th>\n",
       "      <td>52</td>\n",
       "      <td>1</td>\n",
       "      <td>3</td>\n",
       "      <td>138</td>\n",
       "      <td>223</td>\n",
       "      <td>0</td>\n",
       "      <td>0</td>\n",
       "      <td>169</td>\n",
       "      <td>0</td>\n",
       "      <td>0.0</td>\n",
       "      <td>1</td>\n",
       "      <td>?</td>\n",
       "      <td>3</td>\n",
       "      <td>0</td>\n",
       "    </tr>\n",
       "    <tr>\n",
       "      <th>192</th>\n",
       "      <td>43</td>\n",
       "      <td>1</td>\n",
       "      <td>4</td>\n",
       "      <td>132</td>\n",
       "      <td>247</td>\n",
       "      <td>1</td>\n",
       "      <td>2</td>\n",
       "      <td>143</td>\n",
       "      <td>1</td>\n",
       "      <td>0.1</td>\n",
       "      <td>2</td>\n",
       "      <td>?</td>\n",
       "      <td>7</td>\n",
       "      <td>1</td>\n",
       "    </tr>\n",
       "    <tr>\n",
       "      <th>266</th>\n",
       "      <td>52</td>\n",
       "      <td>1</td>\n",
       "      <td>4</td>\n",
       "      <td>128</td>\n",
       "      <td>204</td>\n",
       "      <td>1</td>\n",
       "      <td>0</td>\n",
       "      <td>156</td>\n",
       "      <td>1</td>\n",
       "      <td>1.0</td>\n",
       "      <td>2</td>\n",
       "      <td>0</td>\n",
       "      <td>?</td>\n",
       "      <td>1</td>\n",
       "    </tr>\n",
       "    <tr>\n",
       "      <th>287</th>\n",
       "      <td>58</td>\n",
       "      <td>1</td>\n",
       "      <td>2</td>\n",
       "      <td>125</td>\n",
       "      <td>220</td>\n",
       "      <td>0</td>\n",
       "      <td>0</td>\n",
       "      <td>144</td>\n",
       "      <td>0</td>\n",
       "      <td>0.4</td>\n",
       "      <td>2</td>\n",
       "      <td>?</td>\n",
       "      <td>7</td>\n",
       "      <td>0</td>\n",
       "    </tr>\n",
       "    <tr>\n",
       "      <th>302</th>\n",
       "      <td>38</td>\n",
       "      <td>1</td>\n",
       "      <td>3</td>\n",
       "      <td>138</td>\n",
       "      <td>175</td>\n",
       "      <td>0</td>\n",
       "      <td>0</td>\n",
       "      <td>173</td>\n",
       "      <td>0</td>\n",
       "      <td>0.0</td>\n",
       "      <td>1</td>\n",
       "      <td>?</td>\n",
       "      <td>3</td>\n",
       "      <td>0</td>\n",
       "    </tr>\n",
       "  </tbody>\n",
       "</table>\n",
       "</div>"
      ],
      "text/plain": [
       "     age  sex  cp  treshtbps chol  fbs  restecg  thalach  exang  oldpeak  \\\n",
       "2     67    1   4        120    ?    0        2      129      1      2.6   \n",
       "87    53    0   3        128  216    0        2      115      0      0.0   \n",
       "166   52    1   3        138  223    0        0      169      0      0.0   \n",
       "192   43    1   4        132  247    1        2      143      1      0.1   \n",
       "266   52    1   4        128  204    1        0      156      1      1.0   \n",
       "287   58    1   2        125  220    0        0      144      0      0.4   \n",
       "302   38    1   3        138  175    0        0      173      0      0.0   \n",
       "\n",
       "     slope ca hsl  heartDisease  \n",
       "2        2  2   7             1  \n",
       "87       1  0   ?             0  \n",
       "166      1  ?   3             0  \n",
       "192      2  ?   7             1  \n",
       "266      2  0   ?             1  \n",
       "287      2  ?   7             0  \n",
       "302      1  ?   3             0  "
      ]
     },
     "execution_count": 17,
     "metadata": {},
     "output_type": "execute_result"
    }
   ],
   "source": [
    "# '?'가 포함된 데이터 추출\n",
    "dataset[(dataset['chol']=='?') | (dataset['ca']=='?') | (dataset['hsl']=='?')]\n"
   ]
  },
  {
   "cell_type": "code",
   "execution_count": 19,
   "id": "452b7a6d",
   "metadata": {},
   "outputs": [
    {
     "name": "stdout",
     "output_type": "stream",
     "text": [
      "<class 'pandas.core.frame.DataFrame'>\n",
      "RangeIndex: 303 entries, 0 to 302\n",
      "Data columns (total 14 columns):\n",
      " #   Column        Non-Null Count  Dtype  \n",
      "---  ------        --------------  -----  \n",
      " 0   age           303 non-null    int64  \n",
      " 1   sex           303 non-null    int64  \n",
      " 2   cp            303 non-null    int64  \n",
      " 3   treshtbps     303 non-null    int64  \n",
      " 4   chol          302 non-null    float64\n",
      " 5   fbs           303 non-null    int64  \n",
      " 6   restecg       303 non-null    int64  \n",
      " 7   thalach       303 non-null    int64  \n",
      " 8   exang         303 non-null    int64  \n",
      " 9   oldpeak       303 non-null    float64\n",
      " 10  slope         303 non-null    int64  \n",
      " 11  ca            299 non-null    float64\n",
      " 12  hsl           301 non-null    float64\n",
      " 13  heartDisease  303 non-null    int64  \n",
      "dtypes: float64(4), int64(10)\n",
      "memory usage: 33.3 KB\n"
     ]
    }
   ],
   "source": [
    "# '?'를 결측치(np.nan)로 대체\n",
    "df = dataset.replace('?', np.nan)\n",
    "df.info()"
   ]
  },
  {
   "cell_type": "code",
   "execution_count": 9,
   "id": "ef94c104",
   "metadata": {},
   "outputs": [
    {
     "data": {
      "text/html": [
       "<div>\n",
       "<style scoped>\n",
       "    .dataframe tbody tr th:only-of-type {\n",
       "        vertical-align: middle;\n",
       "    }\n",
       "\n",
       "    .dataframe tbody tr th {\n",
       "        vertical-align: top;\n",
       "    }\n",
       "\n",
       "    .dataframe thead th {\n",
       "        text-align: right;\n",
       "    }\n",
       "</style>\n",
       "<table border=\"1\" class=\"dataframe\">\n",
       "  <thead>\n",
       "    <tr style=\"text-align: right;\">\n",
       "      <th></th>\n",
       "      <th>age</th>\n",
       "      <th>sex</th>\n",
       "      <th>cp</th>\n",
       "      <th>treshtbps</th>\n",
       "      <th>chol</th>\n",
       "      <th>fbs</th>\n",
       "      <th>restecg</th>\n",
       "      <th>thalach</th>\n",
       "      <th>exang</th>\n",
       "      <th>oldpeak</th>\n",
       "      <th>slope</th>\n",
       "      <th>ca</th>\n",
       "      <th>hsl</th>\n",
       "      <th>heartDisease</th>\n",
       "    </tr>\n",
       "  </thead>\n",
       "  <tbody>\n",
       "    <tr>\n",
       "      <th>2</th>\n",
       "      <td>67</td>\n",
       "      <td>1</td>\n",
       "      <td>4</td>\n",
       "      <td>120</td>\n",
       "      <td>NaN</td>\n",
       "      <td>0</td>\n",
       "      <td>2</td>\n",
       "      <td>129</td>\n",
       "      <td>1</td>\n",
       "      <td>2.6</td>\n",
       "      <td>2</td>\n",
       "      <td>2.0</td>\n",
       "      <td>7.0</td>\n",
       "      <td>1</td>\n",
       "    </tr>\n",
       "    <tr>\n",
       "      <th>87</th>\n",
       "      <td>53</td>\n",
       "      <td>0</td>\n",
       "      <td>3</td>\n",
       "      <td>128</td>\n",
       "      <td>216.0</td>\n",
       "      <td>0</td>\n",
       "      <td>2</td>\n",
       "      <td>115</td>\n",
       "      <td>0</td>\n",
       "      <td>0.0</td>\n",
       "      <td>1</td>\n",
       "      <td>0.0</td>\n",
       "      <td>NaN</td>\n",
       "      <td>0</td>\n",
       "    </tr>\n",
       "    <tr>\n",
       "      <th>166</th>\n",
       "      <td>52</td>\n",
       "      <td>1</td>\n",
       "      <td>3</td>\n",
       "      <td>138</td>\n",
       "      <td>223.0</td>\n",
       "      <td>0</td>\n",
       "      <td>0</td>\n",
       "      <td>169</td>\n",
       "      <td>0</td>\n",
       "      <td>0.0</td>\n",
       "      <td>1</td>\n",
       "      <td>NaN</td>\n",
       "      <td>3.0</td>\n",
       "      <td>0</td>\n",
       "    </tr>\n",
       "    <tr>\n",
       "      <th>192</th>\n",
       "      <td>43</td>\n",
       "      <td>1</td>\n",
       "      <td>4</td>\n",
       "      <td>132</td>\n",
       "      <td>247.0</td>\n",
       "      <td>1</td>\n",
       "      <td>2</td>\n",
       "      <td>143</td>\n",
       "      <td>1</td>\n",
       "      <td>0.1</td>\n",
       "      <td>2</td>\n",
       "      <td>NaN</td>\n",
       "      <td>7.0</td>\n",
       "      <td>1</td>\n",
       "    </tr>\n",
       "    <tr>\n",
       "      <th>266</th>\n",
       "      <td>52</td>\n",
       "      <td>1</td>\n",
       "      <td>4</td>\n",
       "      <td>128</td>\n",
       "      <td>204.0</td>\n",
       "      <td>1</td>\n",
       "      <td>0</td>\n",
       "      <td>156</td>\n",
       "      <td>1</td>\n",
       "      <td>1.0</td>\n",
       "      <td>2</td>\n",
       "      <td>0.0</td>\n",
       "      <td>NaN</td>\n",
       "      <td>1</td>\n",
       "    </tr>\n",
       "    <tr>\n",
       "      <th>287</th>\n",
       "      <td>58</td>\n",
       "      <td>1</td>\n",
       "      <td>2</td>\n",
       "      <td>125</td>\n",
       "      <td>220.0</td>\n",
       "      <td>0</td>\n",
       "      <td>0</td>\n",
       "      <td>144</td>\n",
       "      <td>0</td>\n",
       "      <td>0.4</td>\n",
       "      <td>2</td>\n",
       "      <td>NaN</td>\n",
       "      <td>7.0</td>\n",
       "      <td>0</td>\n",
       "    </tr>\n",
       "    <tr>\n",
       "      <th>302</th>\n",
       "      <td>38</td>\n",
       "      <td>1</td>\n",
       "      <td>3</td>\n",
       "      <td>138</td>\n",
       "      <td>175.0</td>\n",
       "      <td>0</td>\n",
       "      <td>0</td>\n",
       "      <td>173</td>\n",
       "      <td>0</td>\n",
       "      <td>0.0</td>\n",
       "      <td>1</td>\n",
       "      <td>NaN</td>\n",
       "      <td>3.0</td>\n",
       "      <td>0</td>\n",
       "    </tr>\n",
       "  </tbody>\n",
       "</table>\n",
       "</div>"
      ],
      "text/plain": [
       "     age  sex  cp  treshtbps   chol  fbs  restecg  thalach  exang  oldpeak  \\\n",
       "2     67    1   4        120    NaN    0        2      129      1      2.6   \n",
       "87    53    0   3        128  216.0    0        2      115      0      0.0   \n",
       "166   52    1   3        138  223.0    0        0      169      0      0.0   \n",
       "192   43    1   4        132  247.0    1        2      143      1      0.1   \n",
       "266   52    1   4        128  204.0    1        0      156      1      1.0   \n",
       "287   58    1   2        125  220.0    0        0      144      0      0.4   \n",
       "302   38    1   3        138  175.0    0        0      173      0      0.0   \n",
       "\n",
       "     slope   ca  hsl  heartDisease  \n",
       "2        2  2.0  7.0             1  \n",
       "87       1  0.0  NaN             0  \n",
       "166      1  NaN  3.0             0  \n",
       "192      2  NaN  7.0             1  \n",
       "266      2  0.0  NaN             1  \n",
       "287      2  NaN  7.0             0  \n",
       "302      1  NaN  3.0             0  "
      ]
     },
     "execution_count": 9,
     "metadata": {},
     "output_type": "execute_result"
    }
   ],
   "source": [
    "# 결측치가 포함된 데이터 추출\n",
    "df[df.isna().any(axis=1)]"
   ]
  },
  {
   "cell_type": "code",
   "execution_count": 20,
   "id": "54712375",
   "metadata": {},
   "outputs": [
    {
     "data": {
      "text/plain": [
       "age             0\n",
       "sex             0\n",
       "cp              0\n",
       "treshtbps       0\n",
       "chol            0\n",
       "fbs             0\n",
       "restecg         0\n",
       "thalach         0\n",
       "exang           0\n",
       "oldpeak         0\n",
       "slope           0\n",
       "ca              0\n",
       "hsl             0\n",
       "heartDisease    0\n",
       "dtype: int64"
      ]
     },
     "execution_count": 20,
     "metadata": {},
     "output_type": "execute_result"
    }
   ],
   "source": [
    "# 결측치 처리 : 대체 or 제거\n",
    "df.fillna(value=df.median(), inplace=True) # 결측치를 중위수로 대체\n",
    "# df = df.dropna(how='any')  #결측치 제거\n",
    "df.isna().sum() # 결측치가 없는지 확인"
   ]
  },
  {
   "cell_type": "code",
   "execution_count": 21,
   "id": "5e5cb29e",
   "metadata": {},
   "outputs": [
    {
     "name": "stdout",
     "output_type": "stream",
     "text": [
      "0    164\n",
      "1    139\n",
      "Name: heartDisease, dtype: int64\n",
      "0    0.541254\n",
      "1    0.458746\n",
      "Name: heartDisease, dtype: float64\n"
     ]
    }
   ],
   "source": [
    "# Target변수의 분포(0:음성, 1:양성)\n",
    "print(df['heartDisease'].value_counts()) \n",
    "# negative, positive = df['heartDisease'].value_counts()\n",
    "# total = df.shape[0]\n",
    "# print('음성 결과 :', negative/total)\n",
    "# print('양성 결과 :', positive/total)\n",
    "print(df['heartDisease'].value_counts(normalize=True))"
   ]
  },
  {
   "cell_type": "code",
   "execution_count": 22,
   "id": "c5fbce27",
   "metadata": {},
   "outputs": [
    {
     "data": {
      "text/plain": [
       "((303, 13), (303, 1))"
      ]
     },
     "execution_count": 22,
     "metadata": {},
     "output_type": "execute_result"
    }
   ],
   "source": [
    "# 입력변수와 타겟변수 분리\n",
    "X = df.iloc[:, :-1].values\n",
    "y = df.iloc[:, -1:].values\n",
    "X.shape, y.shape"
   ]
  },
  {
   "cell_type": "code",
   "execution_count": 23,
   "id": "244be349",
   "metadata": {},
   "outputs": [
    {
     "data": {
      "text/plain": [
       "array([[0.70833333, 1.        , 0.        , 0.48113208, 0.24429224,\n",
       "        1.        , 1.        , 0.60305344, 0.        , 0.37096774,\n",
       "        1.        , 0.        , 0.75      ],\n",
       "       [0.79166667, 1.        , 1.        , 0.62264151, 0.3652968 ,\n",
       "        0.        , 0.        , 0.28244275, 1.        , 0.24193548,\n",
       "        0.5       , 1.        , 0.        ]])"
      ]
     },
     "execution_count": 23,
     "metadata": {},
     "output_type": "execute_result"
    }
   ],
   "source": [
    "# 입력변수 X의 스케일 조정\n",
    "scaler = MinMaxScaler()\n",
    "scaled_X = scaler.fit_transform(X)\n",
    "scaled_X[:2]"
   ]
  },
  {
   "cell_type": "code",
   "execution_count": 31,
   "id": "b4e8e360",
   "metadata": {},
   "outputs": [
    {
     "data": {
      "text/plain": [
       "((212, 13), (91, 13), (212, 1), (91, 1))"
      ]
     },
     "execution_count": 31,
     "metadata": {},
     "output_type": "execute_result"
    }
   ],
   "source": [
    "#scaled_X, y를 학습셋:테스트셋=7:3으로 분할\n",
    "X_train, X_test, y_train, y_test = train_test_split(scaled_X,\n",
    "                                                   y,\n",
    "                                                   test_size=0.3, # 테스트셋비율\n",
    "                                                   random_state=7,\n",
    "                                                   stratify=y # 층화추출\n",
    "                                                   )\n",
    "X_train.shape, X_test.shape, y_train.shape, y_test.shape"
   ]
  },
  {
   "cell_type": "code",
   "execution_count": null,
   "id": "47fb0014",
   "metadata": {},
   "outputs": [],
   "source": []
  },
  {
   "cell_type": "code",
   "execution_count": null,
   "id": "c14df22f",
   "metadata": {},
   "outputs": [],
   "source": []
  },
  {
   "cell_type": "markdown",
   "id": "cb26fcf7",
   "metadata": {},
   "source": [
    "# 2. 모델 생성(입력13, 출력1) & 학습과정 설정 & 학습\n",
    "- 그래프를 보고 과적합 줄이기 추가 할 수 있다\n"
   ]
  },
  {
   "cell_type": "code",
   "execution_count": 27,
   "id": "8d699b9e",
   "metadata": {},
   "outputs": [
    {
     "name": "stdout",
     "output_type": "stream",
     "text": [
      "Model: \"sequential\"\n",
      "_________________________________________________________________\n",
      " Layer (type)                Output Shape              Param #   \n",
      "=================================================================\n",
      " dense (Dense)               (None, 32)                448       \n",
      "                                                                 \n",
      " dropout (Dropout)           (None, 32)                0         \n",
      "                                                                 \n",
      " dense_1 (Dense)             (None, 16)                528       \n",
      "                                                                 \n",
      " dropout_1 (Dropout)         (None, 16)                0         \n",
      "                                                                 \n",
      " dense_2 (Dense)             (None, 8)                 136       \n",
      "                                                                 \n",
      " dropout_2 (Dropout)         (None, 8)                 0         \n",
      "                                                                 \n",
      " dense_3 (Dense)             (None, 1)                 9         \n",
      "                                                                 \n",
      "=================================================================\n",
      "Total params: 1,121\n",
      "Trainable params: 1,121\n",
      "Non-trainable params: 0\n",
      "_________________________________________________________________\n"
     ]
    }
   ],
   "source": [
    "model = Sequential()\n",
    "# model.add(Input(shape=(13,)))\n",
    "model.add(Dense(units=32, \n",
    "                input_dim=13,\n",
    "                activation='tanh'))\n",
    "model.add(Dropout(0.3))\n",
    "model.add(Dense(units=16, activation='relu'))\n",
    "model.add(Dropout(0.3))\n",
    "model.add(Dense(units=8, activation='relu'))\n",
    "model.add(Dropout(0.3))\n",
    "model.add(Dense(units=1,  activation='sigmoid'))\n",
    "model.summary()"
   ]
  },
  {
   "cell_type": "code",
   "execution_count": 28,
   "id": "eefa8cbf",
   "metadata": {},
   "outputs": [],
   "source": [
    "from tensorflow.keras import metrics\n",
    "from tensorflow.keras.optimizers import Adam\n",
    "model.compile(loss='binary_crossentropy',\n",
    "             # optimizer=Adam(learning_rate=0.01),\n",
    "             optimizer='adam',\n",
    "             metrics=['accuracy', # 정확도\n",
    "                      metrics.Recall(), # 재현율(실제값 중심)\n",
    "                      metrics.Precision()]) # 정밀도(예측값 중심)"
   ]
  },
  {
   "cell_type": "code",
   "execution_count": 29,
   "id": "c608158f",
   "metadata": {},
   "outputs": [
    {
     "ename": "NameError",
     "evalue": "name 'X_train' is not defined",
     "output_type": "error",
     "traceback": [
      "\u001b[1;31m---------------------------------------------------------------------------\u001b[0m",
      "\u001b[1;31mNameError\u001b[0m                                 Traceback (most recent call last)",
      "File \u001b[1;32m<timed exec>:1\u001b[0m\n",
      "\u001b[1;31mNameError\u001b[0m: name 'X_train' is not defined"
     ]
    }
   ],
   "source": [
    "%%time\n",
    "hist = model.fit(X_train, y_train, # 훈련데이터\n",
    "                epochs=200,\n",
    "                validation_split=0.2, # 검증데이터를 훈련데이터의 20%로 사용\n",
    "                verbose=0)"
   ]
  },
  {
   "cell_type": "code",
   "execution_count": null,
   "id": "6aa33531",
   "metadata": {},
   "outputs": [],
   "source": []
  }
 ],
 "metadata": {
  "kernelspec": {
   "display_name": "ml-dl-nlp",
   "language": "python",
   "name": "ml-dl-nlp"
  },
  "language_info": {
   "codemirror_mode": {
    "name": "ipython",
    "version": 3
   },
   "file_extension": ".py",
   "mimetype": "text/x-python",
   "name": "python",
   "nbconvert_exporter": "python",
   "pygments_lexer": "ipython3",
   "version": "3.10.18"
  },
  "toc": {
   "base_numbering": 1,
   "nav_menu": {},
   "number_sections": false,
   "sideBar": true,
   "skip_h1_title": false,
   "title_cell": "Table of Contents",
   "title_sidebar": "Contents",
   "toc_cell": false,
   "toc_position": {},
   "toc_section_display": true,
   "toc_window_display": false
  }
 },
 "nbformat": 4,
 "nbformat_minor": 5
}
