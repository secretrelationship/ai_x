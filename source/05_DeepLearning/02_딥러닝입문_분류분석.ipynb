{
 "cells": [
  {
   "cell_type": "code",
   "execution_count": 3,
   "id": "28a71aba",
   "metadata": {},
   "outputs": [
    {
     "data": {
      "text/html": [
       "\n",
       "<style>\n",
       "div.container{width:86% !important;}\n",
       "div.cell.code_cell.rendered{width:100%;}\n",
       "div.CodeMirror {font-family:Consolas; font-size:15pt;}\n",
       "div.output {font-size:15pt; font-weight:bold;}\n",
       "div.input {font-family:Consolas; font-size:15pt;}\n",
       "div.prompt {min-width:70px;}\n",
       "div#toc-wrapper{padding-top:120px;}\n",
       "div.text_cell_render ul li{font-size:12pt;padding:5px;}\n",
       "table.dataframe{font-size:15px;}\n",
       "</style>\n"
      ],
      "text/plain": [
       "<IPython.core.display.HTML object>"
      ]
     },
     "metadata": {},
     "output_type": "display_data"
    }
   ],
   "source": [
    "from IPython.display import display, HTML\n",
    "display(HTML(\"\"\"\n",
    "<style>\n",
    "div.container{width:86% !important;}\n",
    "div.cell.code_cell.rendered{width:100%;}\n",
    "div.CodeMirror {font-family:Consolas; font-size:15pt;}\n",
    "div.output {font-size:15pt; font-weight:bold;}\n",
    "div.input {font-family:Consolas; font-size:15pt;}\n",
    "div.prompt {min-width:70px;}\n",
    "div#toc-wrapper{padding-top:120px;}\n",
    "div.text_cell_render ul li{font-size:12pt;padding:5px;}\n",
    "table.dataframe{font-size:15px;}\n",
    "</style>\n",
    "\"\"\"))"
   ]
  },
  {
   "cell_type": "code",
   "execution_count": 2,
   "id": "245cc0ed",
   "metadata": {},
   "outputs": [],
   "source": [
    "from tensorflow.keras.utils import to_categorical # 분류분석시 원핫인코딩\n",
    "from tensorflow.keras.models import Sequential # 모델생성\n",
    "from tensorflow.keras.layers import Dense, Input\n",
    "import numpy as np"
   ]
  },
  {
   "cell_type": "markdown",
   "id": "b368c9a2",
   "metadata": {},
   "source": [
    "# 머신러닝/딥러닝 : 데이터의 법칙성을 추출\n",
    "- 다양한 분야에서 응용 : 글씨인식, 문장분류, 질병진단,... ※ ML/DL의 종류\n",
    "- 지도학습(독립=입력변수와 종속=타겟=출력변수가 모두 주어졌을 경우) 회귀분석(타겟변수가 연속형) vs 분류분석(multi, binary)\n",
    "- 비지도학습(입력변수만) 군집화\n",
    "- 강화학습\n",
    "※ 지도학습에서의 ML, DL 프로그래밍 방식\n",
    "\n",
    "1. 데이터 셋 확보(input=입력변수, target=종속변수) 원본 데이터 및 시뮬레이션을 통해 데이터 생성\n",
    "2. 전처리 스케일 조정 훈련셋(학습셋), 검증셋, 시험셋(테스트셋) 학습 및 평가 가능한 포맷으로 변환\n",
    "3. 모델 구성\n",
    "    Sequential 객체 생성 뒤 필요한 층을 add() 함수로 추가\n",
    "4. 모델 학습과정 설정\n",
    "    compile() 함수 이용, 손실함수, optimizer, metrics(평가지표)\n",
    "5. 모델학습시키기 (ft. 학습과정 지켜보기)\n",
    "    fit() 함수 이용 - 훈련셋입력=독립변수, 훈련셋타겟= 종속변수, 학습횟수, 검증셋\n",
    "6. "
   ]
  },
  {
   "cell_type": "markdown",
   "id": "6a6701bb",
   "metadata": {},
   "source": [
    "# 1절 데이터 셋 생성\n",
    "# 2절 데이터 전처리"
   ]
  },
  {
   "cell_type": "code",
   "execution_count": 10,
   "id": "00b0da2f",
   "metadata": {},
   "outputs": [
    {
     "data": {
      "text/plain": [
       "((90,), (9,), (9,), (90,), (9,), (9,))"
      ]
     },
     "execution_count": 10,
     "metadata": {},
     "output_type": "execute_result"
    }
   ],
   "source": [
    "# 학습데이터 = 훈련데이터\n",
    "x_train = np.array([1,2,3,4,5,6,7,8,9]*10)\n",
    "y_train = np.array([2,4,6,8,10,12,14,16,18]*10)\n",
    "# 검증데이터\n",
    "x_val = np.array([1,2,3,4,5,6,7,8,9])\n",
    "y_val = np.array([2,4,6,8,10,12,14,16,18])\n",
    "# 테스트셋 = 시험데이터\n",
    "x_test = np.array([1,2,3,4,5,6,7,8,9])\n",
    "y_test = np.array([2,4,6,8,10,12,14,16,18])\n",
    "x_train.shape, x_val.shape, x_test.shape, y_train.shape, y_val.shape, y_test.shape"
   ]
  },
  {
   "cell_type": "code",
   "execution_count": 11,
   "id": "093ad5d2",
   "metadata": {},
   "outputs": [
    {
     "name": "stdout",
     "output_type": "stream",
     "text": [
      "원 데이터 : ['a' 'b' 'c' 'd']\n",
      "라벨인코딩된 데이터 : [0 1 2 3]\n",
      "원핫인코딩된 데이터 : [[1. 0. 0. 0.]\n",
      " [0. 1. 0. 0.]\n",
      " [0. 0. 1. 0.]\n",
      " [0. 0. 0. 1.]]\n"
     ]
    }
   ],
   "source": [
    "# 인코딩 종류\n",
    "data = np.array(['a','b','c','d'])\n",
    "print('원 데이터 :', data)\n",
    "from sklearn.preprocessing import LabelEncoder\n",
    "le = LabelEncoder()\n",
    "# le.fit(data)\n",
    "# labeled_data = le.transform(data)\n",
    "labeled_data = le.fit_transform(data)\n",
    "print('라벨인코딩된 데이터 :', labeled_data)\n",
    "one_hot_encoded_data = to_categorical(labeled_data)\n",
    "print('원핫인코딩된 데이터 :', one_hot_encoded_data)"
   ]
  },
  {
   "cell_type": "code",
   "execution_count": 12,
   "id": "c59c4a42",
   "metadata": {},
   "outputs": [
    {
     "name": "stdout",
     "output_type": "stream",
     "text": [
      "[1 2 2 4 2]\n",
      "to_categorical을 이용한 원핫인코딩 :\n",
      " [[0. 1. 0. 0. 0.]\n",
      " [0. 0. 1. 0. 0.]\n",
      " [0. 0. 1. 0. 0.]\n",
      " [0. 0. 0. 0. 1.]\n",
      " [0. 0. 1. 0. 0.]]\n"
     ]
    },
    {
     "data": {
      "text/plain": [
       "'get_dumies를 이용한 원핫인코딩 :'"
      ]
     },
     "metadata": {},
     "output_type": "display_data"
    },
    {
     "data": {
      "text/html": [
       "<div>\n",
       "<style scoped>\n",
       "    .dataframe tbody tr th:only-of-type {\n",
       "        vertical-align: middle;\n",
       "    }\n",
       "\n",
       "    .dataframe tbody tr th {\n",
       "        vertical-align: top;\n",
       "    }\n",
       "\n",
       "    .dataframe thead th {\n",
       "        text-align: right;\n",
       "    }\n",
       "</style>\n",
       "<table border=\"1\" class=\"dataframe\">\n",
       "  <thead>\n",
       "    <tr style=\"text-align: right;\">\n",
       "      <th></th>\n",
       "      <th>1</th>\n",
       "      <th>2</th>\n",
       "      <th>4</th>\n",
       "    </tr>\n",
       "  </thead>\n",
       "  <tbody>\n",
       "    <tr>\n",
       "      <th>0</th>\n",
       "      <td>1</td>\n",
       "      <td>0</td>\n",
       "      <td>0</td>\n",
       "    </tr>\n",
       "    <tr>\n",
       "      <th>1</th>\n",
       "      <td>0</td>\n",
       "      <td>1</td>\n",
       "      <td>0</td>\n",
       "    </tr>\n",
       "    <tr>\n",
       "      <th>2</th>\n",
       "      <td>0</td>\n",
       "      <td>1</td>\n",
       "      <td>0</td>\n",
       "    </tr>\n",
       "    <tr>\n",
       "      <th>3</th>\n",
       "      <td>0</td>\n",
       "      <td>0</td>\n",
       "      <td>1</td>\n",
       "    </tr>\n",
       "    <tr>\n",
       "      <th>4</th>\n",
       "      <td>0</td>\n",
       "      <td>1</td>\n",
       "      <td>0</td>\n",
       "    </tr>\n",
       "  </tbody>\n",
       "</table>\n",
       "</div>"
      ],
      "text/plain": [
       "   1  2  4\n",
       "0  1  0  0\n",
       "1  0  1  0\n",
       "2  0  1  0\n",
       "3  0  0  1\n",
       "4  0  1  0"
      ]
     },
     "metadata": {},
     "output_type": "display_data"
    },
    {
     "name": "stdout",
     "output_type": "stream",
     "text": [
      "<class 'numpy.ndarray'>\n",
      "<class 'pandas.core.frame.DataFrame'>\n"
     ]
    }
   ],
   "source": [
    "# 분류분석을 하기 위해, target을 원핫인코딩(라벨링 전환)\n",
    "data = np.array([1,2,2,4,2])\n",
    "print(data)\n",
    "categorical_one_hot = to_categorical(data)\n",
    "print('to_categorical을 이용한 원핫인코딩 :\\n', categorical_one_hot)\n",
    "import pandas as pd\n",
    "get_dumies_one_hot = pd.get_dummies(data)\n",
    "display('get_dumies를 이용한 원핫인코딩 :', get_dumies_one_hot)\n",
    "print(type(categorical_one_hot))\n",
    "print(type(get_dumies_one_hot))\n"
   ]
  },
  {
   "cell_type": "code",
   "execution_count": 15,
   "id": "15d157b3",
   "metadata": {},
   "outputs": [],
   "source": [
    "# 분류분석을 위한 target변수 라벨링 전환(=원핫인코딩)\n",
    "Y_train = to_categorical(y_train, 19)\n",
    "Y_val   = to_categorical(y_val)\n",
    "Y_test = to_categorical(y_test)"
   ]
  },
  {
   "cell_type": "code",
   "execution_count": 16,
   "id": "16da557f",
   "metadata": {},
   "outputs": [
    {
     "name": "stdout",
     "output_type": "stream",
     "text": [
      "훈련셋 구조: (90,) (90, 19)\n",
      "검증셋 구조: (9,) (9, 19)\n",
      "테스트셋 구조: (9,) (9, 19)\n"
     ]
    }
   ],
   "source": [
    "\n",
    "print('훈련셋 구조:', x_train.shape, Y_train.shape) # 독립변수1개, 타겟변수 19\n",
    "print('검증셋 구조:', x_val.shape, Y_val.shape)\n",
    "print('테스트셋 구조:', x_test.shape, Y_test.shape)"
   ]
  },
  {
   "cell_type": "markdown",
   "id": "1d200f6c",
   "metadata": {},
   "source": [
    "# 3.모델구성하기"
   ]
  },
  {
   "cell_type": "code",
   "execution_count": 17,
   "id": "667a112b",
   "metadata": {},
   "outputs": [
    {
     "name": "stdout",
     "output_type": "stream",
     "text": [
      "Model: \"sequential\"\n",
      "_________________________________________________________________\n",
      " Layer (type)                Output Shape              Param #   \n",
      "=================================================================\n",
      " dense (Dense)               (None, 38)                76        \n",
      "                                                                 \n",
      " dense_1 (Dense)             (None, 64)                2496      \n",
      "                                                                 \n",
      " dense_2 (Dense)             (None, 32)                2080      \n",
      "                                                                 \n",
      " dense_3 (Dense)             (None, 19)                627       \n",
      "                                                                 \n",
      "=================================================================\n",
      "Total params: 5,279\n",
      "Trainable params: 5,279\n",
      "Non-trainable params: 0\n",
      "_________________________________________________________________\n"
     ]
    }
   ],
   "source": [
    "model = Sequential()\n",
    "model.add(Input(shape=(1,))) # 입력층\n",
    "model.add(Dense(units=38, activation='sigmoid')) # units출력수, 활성화함수:relu, tanh\n",
    "model.add(Dense(units=64, activation='elu'))\n",
    "model.add(Dense(units=32, activation='elu'))\n",
    "model.add(Dense(units=19, activation='softmax'))\n",
    "# softmax : 모든 출력결과의 합이 1. 분류분석 마지막 layer(출력층)에서 activation으로\n",
    "model.summary()"
   ]
  },
  {
   "cell_type": "markdown",
   "id": "9d2d9142",
   "metadata": {},
   "source": [
    "# 4. 모델 학습과정 설정"
   ]
  },
  {
   "cell_type": "code",
   "execution_count": 18,
   "id": "ea8b859b",
   "metadata": {},
   "outputs": [],
   "source": [
    "model.compile(loss=\"categorical_crossentropy\", # 분류분석에서의 손실함수(원핫인코딩有)\n",
    "             optimizer='sgd',\n",
    "             metrics=['accuracy']) # 평가지표 : accuracy "
   ]
  },
  {
   "cell_type": "markdown",
   "id": "41f1b7a2",
   "metadata": {},
   "source": [
    "# 5. 모델 학습시키기"
   ]
  },
  {
   "cell_type": "code",
   "execution_count": 19,
   "id": "1c464190",
   "metadata": {},
   "outputs": [
    {
     "name": "stdout",
     "output_type": "stream",
     "text": [
      "Epoch 1/100\n",
      "9/9 - 1s - loss: 2.9071 - accuracy: 0.0000e+00 - val_loss: 2.8264 - val_accuracy: 0.0000e+00 - 876ms/epoch - 97ms/step\n",
      "Epoch 2/100\n",
      "9/9 - 0s - loss: 2.7938 - accuracy: 0.0000e+00 - val_loss: 2.7296 - val_accuracy: 0.1111 - 47ms/epoch - 5ms/step\n",
      "Epoch 3/100\n",
      "9/9 - 0s - loss: 2.7059 - accuracy: 0.1111 - val_loss: 2.6501 - val_accuracy: 0.1111 - 46ms/epoch - 5ms/step\n",
      "Epoch 4/100\n",
      "9/9 - 0s - loss: 2.6285 - accuracy: 0.1111 - val_loss: 2.5819 - val_accuracy: 0.1111 - 47ms/epoch - 5ms/step\n",
      "Epoch 5/100\n",
      "9/9 - 0s - loss: 2.5669 - accuracy: 0.1111 - val_loss: 2.5230 - val_accuracy: 0.1111 - 46ms/epoch - 5ms/step\n",
      "Epoch 6/100\n",
      "9/9 - 0s - loss: 2.5128 - accuracy: 0.1111 - val_loss: 2.4716 - val_accuracy: 0.1111 - 46ms/epoch - 5ms/step\n",
      "Epoch 7/100\n",
      "9/9 - 0s - loss: 2.4660 - accuracy: 0.1111 - val_loss: 2.4269 - val_accuracy: 0.1111 - 49ms/epoch - 5ms/step\n",
      "Epoch 8/100\n",
      "9/9 - 0s - loss: 2.4205 - accuracy: 0.1111 - val_loss: 2.3886 - val_accuracy: 0.1111 - 46ms/epoch - 5ms/step\n",
      "Epoch 9/100\n",
      "9/9 - 0s - loss: 2.3883 - accuracy: 0.1000 - val_loss: 2.3557 - val_accuracy: 0.1111 - 46ms/epoch - 5ms/step\n",
      "Epoch 10/100\n",
      "9/9 - 0s - loss: 2.3554 - accuracy: 0.0667 - val_loss: 2.3271 - val_accuracy: 0.1111 - 42ms/epoch - 5ms/step\n",
      "Epoch 11/100\n",
      "9/9 - 0s - loss: 2.3358 - accuracy: 0.1111 - val_loss: 2.3028 - val_accuracy: 0.1111 - 41ms/epoch - 5ms/step\n",
      "Epoch 12/100\n",
      "9/9 - 0s - loss: 2.3082 - accuracy: 0.1111 - val_loss: 2.2818 - val_accuracy: 0.1111 - 47ms/epoch - 5ms/step\n",
      "Epoch 13/100\n",
      "9/9 - 0s - loss: 2.2900 - accuracy: 0.1444 - val_loss: 2.2629 - val_accuracy: 0.2222 - 47ms/epoch - 5ms/step\n",
      "Epoch 14/100\n",
      "9/9 - 0s - loss: 2.2714 - accuracy: 0.1333 - val_loss: 2.2463 - val_accuracy: 0.2222 - 46ms/epoch - 5ms/step\n",
      "Epoch 15/100\n",
      "9/9 - 0s - loss: 2.2579 - accuracy: 0.1889 - val_loss: 2.2315 - val_accuracy: 0.2222 - 49ms/epoch - 5ms/step\n",
      "Epoch 16/100\n",
      "9/9 - 0s - loss: 2.2475 - accuracy: 0.0667 - val_loss: 2.2177 - val_accuracy: 0.1111 - 46ms/epoch - 5ms/step\n",
      "Epoch 17/100\n",
      "9/9 - 0s - loss: 2.2277 - accuracy: 0.1778 - val_loss: 2.2049 - val_accuracy: 0.1111 - 54ms/epoch - 6ms/step\n",
      "Epoch 18/100\n",
      "9/9 - 0s - loss: 2.2216 - accuracy: 0.1556 - val_loss: 2.1924 - val_accuracy: 0.2222 - 45ms/epoch - 5ms/step\n",
      "Epoch 19/100\n",
      "9/9 - 0s - loss: 2.2020 - accuracy: 0.2222 - val_loss: 2.1809 - val_accuracy: 0.4444 - 47ms/epoch - 5ms/step\n",
      "Epoch 20/100\n",
      "9/9 - 0s - loss: 2.1937 - accuracy: 0.2222 - val_loss: 2.1695 - val_accuracy: 0.2222 - 46ms/epoch - 5ms/step\n",
      "Epoch 21/100\n",
      "9/9 - 0s - loss: 2.1798 - accuracy: 0.1889 - val_loss: 2.1583 - val_accuracy: 0.3333 - 45ms/epoch - 5ms/step\n",
      "Epoch 22/100\n",
      "9/9 - 0s - loss: 2.1708 - accuracy: 0.2444 - val_loss: 2.1474 - val_accuracy: 0.3333 - 48ms/epoch - 5ms/step\n",
      "Epoch 23/100\n",
      "9/9 - 0s - loss: 2.1622 - accuracy: 0.1778 - val_loss: 2.1366 - val_accuracy: 0.3333 - 42ms/epoch - 5ms/step\n",
      "Epoch 24/100\n",
      "9/9 - 0s - loss: 2.1515 - accuracy: 0.2333 - val_loss: 2.1262 - val_accuracy: 0.3333 - 42ms/epoch - 5ms/step\n",
      "Epoch 25/100\n",
      "9/9 - 0s - loss: 2.1423 - accuracy: 0.2667 - val_loss: 2.1155 - val_accuracy: 0.3333 - 45ms/epoch - 5ms/step\n",
      "Epoch 26/100\n",
      "9/9 - 0s - loss: 2.1360 - accuracy: 0.1889 - val_loss: 2.1053 - val_accuracy: 0.2222 - 45ms/epoch - 5ms/step\n",
      "Epoch 27/100\n",
      "9/9 - 0s - loss: 2.1200 - accuracy: 0.2111 - val_loss: 2.0943 - val_accuracy: 0.4444 - 44ms/epoch - 5ms/step\n",
      "Epoch 28/100\n",
      "9/9 - 0s - loss: 2.1091 - accuracy: 0.1333 - val_loss: 2.0836 - val_accuracy: 0.3333 - 45ms/epoch - 5ms/step\n",
      "Epoch 29/100\n",
      "9/9 - 0s - loss: 2.1131 - accuracy: 0.1889 - val_loss: 2.0724 - val_accuracy: 0.3333 - 43ms/epoch - 5ms/step\n",
      "Epoch 30/100\n",
      "9/9 - 0s - loss: 2.0921 - accuracy: 0.2222 - val_loss: 2.0618 - val_accuracy: 0.3333 - 42ms/epoch - 5ms/step\n",
      "Epoch 31/100\n",
      "9/9 - 0s - loss: 2.0736 - accuracy: 0.3000 - val_loss: 2.0508 - val_accuracy: 0.2222 - 46ms/epoch - 5ms/step\n",
      "Epoch 32/100\n",
      "9/9 - 0s - loss: 2.0647 - accuracy: 0.2667 - val_loss: 2.0396 - val_accuracy: 0.3333 - 45ms/epoch - 5ms/step\n",
      "Epoch 33/100\n",
      "9/9 - 0s - loss: 2.0572 - accuracy: 0.2111 - val_loss: 2.0284 - val_accuracy: 0.2222 - 47ms/epoch - 5ms/step\n",
      "Epoch 34/100\n",
      "9/9 - 0s - loss: 2.0434 - accuracy: 0.2333 - val_loss: 2.0185 - val_accuracy: 0.2222 - 45ms/epoch - 5ms/step\n",
      "Epoch 35/100\n",
      "9/9 - 0s - loss: 2.0414 - accuracy: 0.1889 - val_loss: 2.0060 - val_accuracy: 0.2222 - 42ms/epoch - 5ms/step\n",
      "Epoch 36/100\n",
      "9/9 - 0s - loss: 2.0208 - accuracy: 0.2667 - val_loss: 1.9939 - val_accuracy: 0.3333 - 46ms/epoch - 5ms/step\n",
      "Epoch 37/100\n",
      "9/9 - 0s - loss: 2.0126 - accuracy: 0.2222 - val_loss: 1.9825 - val_accuracy: 0.3333 - 44ms/epoch - 5ms/step\n",
      "Epoch 38/100\n",
      "9/9 - 0s - loss: 1.9975 - accuracy: 0.2333 - val_loss: 1.9703 - val_accuracy: 0.2222 - 43ms/epoch - 5ms/step\n",
      "Epoch 39/100\n",
      "9/9 - 0s - loss: 1.9876 - accuracy: 0.2333 - val_loss: 1.9583 - val_accuracy: 0.3333 - 40ms/epoch - 4ms/step\n",
      "Epoch 40/100\n",
      "9/9 - 0s - loss: 1.9812 - accuracy: 0.3333 - val_loss: 1.9460 - val_accuracy: 0.2222 - 42ms/epoch - 5ms/step\n",
      "Epoch 41/100\n",
      "9/9 - 0s - loss: 1.9657 - accuracy: 0.2889 - val_loss: 1.9326 - val_accuracy: 0.2222 - 45ms/epoch - 5ms/step\n",
      "Epoch 42/100\n",
      "9/9 - 0s - loss: 1.9475 - accuracy: 0.2222 - val_loss: 1.9195 - val_accuracy: 0.2222 - 47ms/epoch - 5ms/step\n",
      "Epoch 43/100\n",
      "9/9 - 0s - loss: 1.9374 - accuracy: 0.3444 - val_loss: 1.9069 - val_accuracy: 0.2222 - 41ms/epoch - 5ms/step\n",
      "Epoch 44/100\n",
      "9/9 - 0s - loss: 1.9238 - accuracy: 0.2111 - val_loss: 1.8942 - val_accuracy: 0.2222 - 40ms/epoch - 4ms/step\n",
      "Epoch 45/100\n",
      "9/9 - 0s - loss: 1.9070 - accuracy: 0.2667 - val_loss: 1.8801 - val_accuracy: 0.2222 - 43ms/epoch - 5ms/step\n",
      "Epoch 46/100\n",
      "9/9 - 0s - loss: 1.8931 - accuracy: 0.2333 - val_loss: 1.8667 - val_accuracy: 0.2222 - 44ms/epoch - 5ms/step\n",
      "Epoch 47/100\n",
      "9/9 - 0s - loss: 1.8830 - accuracy: 0.2556 - val_loss: 1.8541 - val_accuracy: 0.2222 - 41ms/epoch - 5ms/step\n",
      "Epoch 48/100\n",
      "9/9 - 0s - loss: 1.8733 - accuracy: 0.2444 - val_loss: 1.8411 - val_accuracy: 0.2222 - 46ms/epoch - 5ms/step\n",
      "Epoch 49/100\n",
      "9/9 - 0s - loss: 1.8604 - accuracy: 0.2444 - val_loss: 1.8261 - val_accuracy: 0.2222 - 46ms/epoch - 5ms/step\n",
      "Epoch 50/100\n",
      "9/9 - 0s - loss: 1.8347 - accuracy: 0.2778 - val_loss: 1.8123 - val_accuracy: 0.3333 - 45ms/epoch - 5ms/step\n",
      "Epoch 51/100\n",
      "9/9 - 0s - loss: 1.8284 - accuracy: 0.2778 - val_loss: 1.7990 - val_accuracy: 0.2222 - 43ms/epoch - 5ms/step\n",
      "Epoch 52/100\n",
      "9/9 - 0s - loss: 1.8170 - accuracy: 0.2556 - val_loss: 1.7850 - val_accuracy: 0.3333 - 41ms/epoch - 5ms/step\n",
      "Epoch 53/100\n",
      "9/9 - 0s - loss: 1.8037 - accuracy: 0.2556 - val_loss: 1.7712 - val_accuracy: 0.3333 - 44ms/epoch - 5ms/step\n",
      "Epoch 54/100\n",
      "9/9 - 0s - loss: 1.7851 - accuracy: 0.3000 - val_loss: 1.7586 - val_accuracy: 0.4444 - 45ms/epoch - 5ms/step\n",
      "Epoch 55/100\n",
      "9/9 - 0s - loss: 1.7753 - accuracy: 0.2667 - val_loss: 1.7444 - val_accuracy: 0.4444 - 41ms/epoch - 5ms/step\n",
      "Epoch 56/100\n",
      "9/9 - 0s - loss: 1.7577 - accuracy: 0.2778 - val_loss: 1.7307 - val_accuracy: 0.3333 - 41ms/epoch - 5ms/step\n",
      "Epoch 57/100\n",
      "9/9 - 0s - loss: 1.7397 - accuracy: 0.3222 - val_loss: 1.7172 - val_accuracy: 0.4444 - 43ms/epoch - 5ms/step\n",
      "Epoch 58/100\n",
      "9/9 - 0s - loss: 1.7375 - accuracy: 0.2889 - val_loss: 1.7040 - val_accuracy: 0.3333 - 46ms/epoch - 5ms/step\n",
      "Epoch 59/100\n",
      "9/9 - 0s - loss: 1.7314 - accuracy: 0.3000 - val_loss: 1.6924 - val_accuracy: 0.3333 - 46ms/epoch - 5ms/step\n",
      "Epoch 60/100\n",
      "9/9 - 0s - loss: 1.7113 - accuracy: 0.3556 - val_loss: 1.6792 - val_accuracy: 0.3333 - 47ms/epoch - 5ms/step\n",
      "Epoch 61/100\n",
      "9/9 - 0s - loss: 1.6936 - accuracy: 0.2778 - val_loss: 1.6653 - val_accuracy: 0.3333 - 45ms/epoch - 5ms/step\n",
      "Epoch 62/100\n",
      "9/9 - 0s - loss: 1.6905 - accuracy: 0.3778 - val_loss: 1.6524 - val_accuracy: 0.3333 - 46ms/epoch - 5ms/step\n",
      "Epoch 63/100\n",
      "9/9 - 0s - loss: 1.6641 - accuracy: 0.3889 - val_loss: 1.6400 - val_accuracy: 0.4444 - 42ms/epoch - 5ms/step\n",
      "Epoch 64/100\n",
      "9/9 - 0s - loss: 1.6586 - accuracy: 0.3667 - val_loss: 1.6276 - val_accuracy: 0.2222 - 44ms/epoch - 5ms/step\n",
      "Epoch 65/100\n",
      "9/9 - 0s - loss: 1.6417 - accuracy: 0.2778 - val_loss: 1.6151 - val_accuracy: 0.3333 - 44ms/epoch - 5ms/step\n",
      "Epoch 66/100\n",
      "9/9 - 0s - loss: 1.6326 - accuracy: 0.3556 - val_loss: 1.6042 - val_accuracy: 0.4444 - 40ms/epoch - 4ms/step\n",
      "Epoch 67/100\n",
      "9/9 - 0s - loss: 1.6208 - accuracy: 0.4000 - val_loss: 1.5915 - val_accuracy: 0.4444 - 52ms/epoch - 6ms/step\n",
      "Epoch 68/100\n",
      "9/9 - 0s - loss: 1.6080 - accuracy: 0.3556 - val_loss: 1.5792 - val_accuracy: 0.4444 - 41ms/epoch - 5ms/step\n"
     ]
    },
    {
     "name": "stdout",
     "output_type": "stream",
     "text": [
      "Epoch 69/100\n",
      "9/9 - 0s - loss: 1.5977 - accuracy: 0.4667 - val_loss: 1.5688 - val_accuracy: 0.3333 - 43ms/epoch - 5ms/step\n",
      "Epoch 70/100\n",
      "9/9 - 0s - loss: 1.5770 - accuracy: 0.4111 - val_loss: 1.5568 - val_accuracy: 0.3333 - 42ms/epoch - 5ms/step\n",
      "Epoch 71/100\n",
      "9/9 - 0s - loss: 1.5748 - accuracy: 0.4222 - val_loss: 1.5451 - val_accuracy: 0.5556 - 40ms/epoch - 4ms/step\n",
      "Epoch 72/100\n",
      "9/9 - 0s - loss: 1.5557 - accuracy: 0.3778 - val_loss: 1.5342 - val_accuracy: 0.5556 - 59ms/epoch - 7ms/step\n",
      "Epoch 73/100\n",
      "9/9 - 0s - loss: 1.5493 - accuracy: 0.5000 - val_loss: 1.5232 - val_accuracy: 0.5556 - 52ms/epoch - 6ms/step\n",
      "Epoch 74/100\n",
      "9/9 - 0s - loss: 1.5418 - accuracy: 0.4444 - val_loss: 1.5124 - val_accuracy: 0.5556 - 43ms/epoch - 5ms/step\n",
      "Epoch 75/100\n",
      "9/9 - 0s - loss: 1.5298 - accuracy: 0.4556 - val_loss: 1.5017 - val_accuracy: 0.6667 - 43ms/epoch - 5ms/step\n",
      "Epoch 76/100\n",
      "9/9 - 0s - loss: 1.5278 - accuracy: 0.4444 - val_loss: 1.4913 - val_accuracy: 0.5556 - 39ms/epoch - 4ms/step\n",
      "Epoch 77/100\n",
      "9/9 - 0s - loss: 1.5023 - accuracy: 0.4667 - val_loss: 1.4805 - val_accuracy: 0.5556 - 45ms/epoch - 5ms/step\n",
      "Epoch 78/100\n",
      "9/9 - 0s - loss: 1.4987 - accuracy: 0.4778 - val_loss: 1.4705 - val_accuracy: 0.4444 - 45ms/epoch - 5ms/step\n",
      "Epoch 79/100\n",
      "9/9 - 0s - loss: 1.4852 - accuracy: 0.5222 - val_loss: 1.4608 - val_accuracy: 0.5556 - 46ms/epoch - 5ms/step\n",
      "Epoch 80/100\n",
      "9/9 - 0s - loss: 1.4793 - accuracy: 0.4667 - val_loss: 1.4499 - val_accuracy: 0.6667 - 43ms/epoch - 5ms/step\n",
      "Epoch 81/100\n",
      "9/9 - 0s - loss: 1.4692 - accuracy: 0.4667 - val_loss: 1.4403 - val_accuracy: 0.5556 - 43ms/epoch - 5ms/step\n",
      "Epoch 82/100\n",
      "9/9 - 0s - loss: 1.4553 - accuracy: 0.5333 - val_loss: 1.4305 - val_accuracy: 0.6667 - 43ms/epoch - 5ms/step\n",
      "Epoch 83/100\n",
      "9/9 - 0s - loss: 1.4539 - accuracy: 0.5333 - val_loss: 1.4205 - val_accuracy: 0.6667 - 45ms/epoch - 5ms/step\n",
      "Epoch 84/100\n",
      "9/9 - 0s - loss: 1.4374 - accuracy: 0.5222 - val_loss: 1.4119 - val_accuracy: 0.6667 - 44ms/epoch - 5ms/step\n",
      "Epoch 85/100\n",
      "9/9 - 0s - loss: 1.4310 - accuracy: 0.5667 - val_loss: 1.4021 - val_accuracy: 0.6667 - 41ms/epoch - 5ms/step\n",
      "Epoch 86/100\n",
      "9/9 - 0s - loss: 1.4233 - accuracy: 0.5333 - val_loss: 1.3930 - val_accuracy: 0.6667 - 45ms/epoch - 5ms/step\n",
      "Epoch 87/100\n",
      "9/9 - 0s - loss: 1.4088 - accuracy: 0.5333 - val_loss: 1.3849 - val_accuracy: 0.7778 - 42ms/epoch - 5ms/step\n",
      "Epoch 88/100\n",
      "9/9 - 0s - loss: 1.4083 - accuracy: 0.6889 - val_loss: 1.3752 - val_accuracy: 0.6667 - 43ms/epoch - 5ms/step\n",
      "Epoch 89/100\n",
      "9/9 - 0s - loss: 1.3949 - accuracy: 0.5778 - val_loss: 1.3660 - val_accuracy: 0.7778 - 41ms/epoch - 5ms/step\n",
      "Epoch 90/100\n",
      "9/9 - 0s - loss: 1.3870 - accuracy: 0.5333 - val_loss: 1.3572 - val_accuracy: 0.7778 - 44ms/epoch - 5ms/step\n",
      "Epoch 91/100\n",
      "9/9 - 0s - loss: 1.3782 - accuracy: 0.5556 - val_loss: 1.3489 - val_accuracy: 0.7778 - 44ms/epoch - 5ms/step\n",
      "Epoch 92/100\n",
      "9/9 - 0s - loss: 1.3796 - accuracy: 0.6444 - val_loss: 1.3404 - val_accuracy: 0.6667 - 43ms/epoch - 5ms/step\n",
      "Epoch 93/100\n",
      "9/9 - 0s - loss: 1.3636 - accuracy: 0.6222 - val_loss: 1.3315 - val_accuracy: 0.7778 - 40ms/epoch - 4ms/step\n",
      "Epoch 94/100\n",
      "9/9 - 0s - loss: 1.3504 - accuracy: 0.5444 - val_loss: 1.3232 - val_accuracy: 0.8889 - 44ms/epoch - 5ms/step\n",
      "Epoch 95/100\n",
      "9/9 - 0s - loss: 1.3430 - accuracy: 0.6889 - val_loss: 1.3143 - val_accuracy: 0.7778 - 46ms/epoch - 5ms/step\n",
      "Epoch 96/100\n",
      "9/9 - 0s - loss: 1.3355 - accuracy: 0.5556 - val_loss: 1.3075 - val_accuracy: 0.7778 - 43ms/epoch - 5ms/step\n",
      "Epoch 97/100\n",
      "9/9 - 0s - loss: 1.3230 - accuracy: 0.7000 - val_loss: 1.2981 - val_accuracy: 0.7778 - 42ms/epoch - 5ms/step\n",
      "Epoch 98/100\n",
      "9/9 - 0s - loss: 1.3196 - accuracy: 0.6444 - val_loss: 1.2911 - val_accuracy: 0.6667 - 44ms/epoch - 5ms/step\n",
      "Epoch 99/100\n",
      "9/9 - 0s - loss: 1.3044 - accuracy: 0.6333 - val_loss: 1.2821 - val_accuracy: 0.8889 - 45ms/epoch - 5ms/step\n",
      "Epoch 100/100\n",
      "9/9 - 0s - loss: 1.2990 - accuracy: 0.6778 - val_loss: 1.2743 - val_accuracy: 0.7778 - 43ms/epoch - 5ms/step\n"
     ]
    }
   ],
   "source": [
    "hist = model.fit(x_train, Y_train, \n",
    "            epochs=100, \n",
    "            batch_size=10,\n",
    "            verbose=2, # 학습결과 출력 옵션 0:출력없음. 1:기본값, 2:에포크별로그상세출력\n",
    "            validation_data=(x_val, Y_val)\n",
    "            )"
   ]
  },
  {
   "cell_type": "markdown",
   "id": "cbe8a45f",
   "metadata": {},
   "source": [
    "# 6. 모델 평가하기(모델학습과정 살펴보고, evalute)"
   ]
  },
  {
   "cell_type": "code",
   "execution_count": 20,
   "id": "e9e0bc75",
   "metadata": {},
   "outputs": [
    {
     "data": {
      "text/plain": [
       "dict_keys(['loss', 'accuracy', 'val_loss', 'val_accuracy'])"
      ]
     },
     "execution_count": 20,
     "metadata": {},
     "output_type": "execute_result"
    }
   ],
   "source": [
    "hist.history.keys()"
   ]
  },
  {
   "cell_type": "code",
   "execution_count": 21,
   "id": "1dc6c782",
   "metadata": {},
   "outputs": [
    {
     "data": {
      "image/png": "[encoded data removed]",
      "text/plain": [
       "<Figure size 1000x500 with 2 Axes>"
      ]
     },
     "metadata": {},
     "output_type": "display_data"
    }
   ],
   "source": [
    "# 모델 학습과정 시각화\n",
    "import matplotlib.pyplot as plt\n",
    "fig, loss_ax = plt.subplots(figsize=(10,5))\n",
    "loss_ax.plot(hist.history['loss'], 'y', label='train loss')\n",
    "loss_ax.plot(hist.history['val_loss'], 'r', label='val loss')\n",
    "loss_ax.set_xlabel('epoch')\n",
    "loss_ax.set_ylabel('loss')\n",
    "\n",
    "acc_ax = loss_ax.twinx() # loss_ax와 x축을 공유하는 acc_ax생성\n",
    "acc_ax.plot(hist.history['accuracy'], 'g', label='train accuracy')\n",
    "acc_ax.plot(hist.history['val_accuracy'], 'b', label='val accuracy')\n",
    "acc_ax.set_ylabel('accuracy')\n",
    "loss_ax.legend(loc='upper left')\n",
    "acc_ax.legend(loc='center right')\n",
    "plt.show()"
   ]
  },
  {
   "cell_type": "code",
   "execution_count": 28,
   "id": "d19a693f",
   "metadata": {},
   "outputs": [
    {
     "name": "stdout",
     "output_type": "stream",
     "text": [
      "9/9 [==============================] - 0s 5ms/step - loss: 1.2743 - accuracy: 0.7778\n"
     ]
    }
   ],
   "source": [
    "# 모델 평가\n",
    "score = model.evaluate(x_test, Y_test, batch_size=1)"
   ]
  },
  {
   "cell_type": "code",
   "execution_count": 29,
   "id": "1dd41d36",
   "metadata": {},
   "outputs": [
    {
     "data": {
      "text/plain": [
       "[1.274346947669983, 0.7777777910232544]"
      ]
     },
     "execution_count": 29,
     "metadata": {},
     "output_type": "execute_result"
    }
   ],
   "source": [
    "score # loss, accuracy"
   ]
  },
  {
   "cell_type": "code",
   "execution_count": 30,
   "id": "c27ac0c8",
   "metadata": {},
   "outputs": [
    {
     "name": "stdout",
     "output_type": "stream",
     "text": [
      "평가된 loss : 1.274346947669983\n",
      "평가된 accuracy : 77.77777910232544 %\n"
     ]
    }
   ],
   "source": [
    "print('평가된 loss :', score[0])\n",
    "print('평가된 accuracy :', score[1]*100, '%')"
   ]
  },
  {
   "cell_type": "markdown",
   "id": "a6d3a868",
   "metadata": {},
   "source": [
    "# 7. 모델 저장하기"
   ]
  },
  {
   "cell_type": "code",
   "execution_count": 1,
   "id": "22f93db8",
   "metadata": {},
   "outputs": [
    {
     "ename": "NameError",
     "evalue": "name 'model' is not defined",
     "output_type": "error",
     "traceback": [
      "\u001b[1;31m---------------------------------------------------------------------------\u001b[0m",
      "\u001b[1;31mNameError\u001b[0m                                 Traceback (most recent call last)",
      "Cell \u001b[1;32mIn[1], line 3\u001b[0m\n\u001b[0;32m      1\u001b[0m \u001b[38;5;66;03m# model.save('model/02_deep.h5')\u001b[39;00m\n\u001b[0;32m      2\u001b[0m \u001b[38;5;28;01mfrom\u001b[39;00m\u001b[38;5;250m \u001b[39m\u001b[38;5;21;01mtensorflow\u001b[39;00m\u001b[38;5;21;01m.\u001b[39;00m\u001b[38;5;21;01mkeras\u001b[39;00m\u001b[38;5;21;01m.\u001b[39;00m\u001b[38;5;21;01mmodels\u001b[39;00m\u001b[38;5;250m \u001b[39m\u001b[38;5;28;01mimport\u001b[39;00m save_model\n\u001b[1;32m----> 3\u001b[0m save_model(\u001b[43mmodel\u001b[49m, \u001b[38;5;124m'\u001b[39m\u001b[38;5;124mmodel/02_deep.h5\u001b[39m\u001b[38;5;124m'\u001b[39m)\n",
      "\u001b[1;31mNameError\u001b[0m: name 'model' is not defined"
     ]
    }
   ],
   "source": [
    "# model.save('model/02_deep.h5')\n",
    "from tensorflow.keras.models import save_model\n",
    "save_model(model, 'model/02_deep.h5')"
   ]
  },
  {
   "cell_type": "markdown",
   "id": "510b87e6",
   "metadata": {},
   "source": [
    "# 저장된 모델 사용하기"
   ]
  },
  {
   "cell_type": "code",
   "execution_count": 2,
   "id": "13d9ffba",
   "metadata": {},
   "outputs": [],
   "source": [
    "from tensorflow.keras.models import load_model\n",
    "model2 = load_model('model/02_deep.h5')"
   ]
  },
  {
   "cell_type": "code",
   "execution_count": 36,
   "id": "17912b4c",
   "metadata": {},
   "outputs": [
    {
     "name": "stdout",
     "output_type": "stream",
     "text": [
      "1/1 [==============================] - 0s 184ms/step\n"
     ]
    },
    {
     "data": {
      "text/plain": [
       "8"
      ]
     },
     "execution_count": 36,
     "metadata": {},
     "output_type": "execute_result"
    }
   ],
   "source": [
    "model2.predict(np.array([[4]])).argmax()"
   ]
  },
  {
   "cell_type": "code",
   "execution_count": 3,
   "id": "aba5d2f8",
   "metadata": {},
   "outputs": [
    {
     "name": "stdout",
     "output_type": "stream",
     "text": [
      "Model: \"sequential\"\n",
      "_________________________________________________________________\n",
      " Layer (type)                Output Shape              Param #   \n",
      "=================================================================\n",
      " dense (Dense)               (None, 38)                76        \n",
      "                                                                 \n",
      " dense_1 (Dense)             (None, 64)                2496      \n",
      "                                                                 \n",
      " dense_2 (Dense)             (None, 32)                2080      \n",
      "                                                                 \n",
      " dense_3 (Dense)             (None, 19)                627       \n",
      "                                                                 \n",
      "=================================================================\n",
      "Total params: 5,279\n",
      "Trainable params: 5,279\n",
      "Non-trainable params: 0\n",
      "_________________________________________________________________\n"
     ]
    }
   ],
   "source": [
    "model2.summary()"
   ]
  },
  {
   "cell_type": "code",
   "execution_count": 6,
   "id": "84b50b5d",
   "metadata": {},
   "outputs": [
    {
     "name": "stdout",
     "output_type": "stream",
     "text": [
      "1/1 [==============================] - 0s 186ms/step\n"
     ]
    },
    {
     "data": {
      "text/plain": [
       "array([4, 6], dtype=int64)"
      ]
     },
     "execution_count": 6,
     "metadata": {},
     "output_type": "execute_result"
    }
   ],
   "source": [
    "data = np.array([[2], \n",
    "                 [3]])\n",
    "predictions = model2.predict(data)\n",
    "predictions.argmax(axis=-1)"
   ]
  },
  {
   "cell_type": "code",
   "execution_count": 9,
   "id": "14bf774d",
   "metadata": {},
   "outputs": [],
   "source": [
    "def predict_classes(model,data):\n",
    "    prediction=model.predcit(data)\n",
    "    return prediction.argmax(axis=1)"
   ]
  },
  {
   "cell_type": "code",
   "execution_count": 10,
   "id": "c8d4d1af",
   "metadata": {},
   "outputs": [],
   "source": [
    "import tensorflow as tf\n",
    "@tf.function(reduce_retracing=True)\n",
    "def predict_classes(model, data):\n",
    "    predictions = model(data, training=False)\n",
    "    return tf.argmax(predictions, axis=-1)"
   ]
  },
  {
   "cell_type": "code",
   "execution_count": 11,
   "id": "430b8616",
   "metadata": {},
   "outputs": [
    {
     "name": "stdout",
     "output_type": "stream",
     "text": [
      "어떤 데이터를 예측할까요?5\n",
      "예측된 분류는 tf.Tensor([10], shape=(1,), dtype=int64)\n"
     ]
    }
   ],
   "source": [
    "import numpy as np\n",
    "input_data = int(input('어떤 데이터를 예측할까요?'))\n",
    "data = np.array([[input_data]])\n",
    "print('예측된 분류는', predict_classes(model2, data))"
   ]
  },
  {
   "cell_type": "code",
   "execution_count": null,
   "id": "d4786371",
   "metadata": {},
   "outputs": [],
   "source": []
  }
 ],
 "metadata": {
  "kernelspec": {
   "display_name": "ml-dl-nlp",
   "language": "python",
   "name": "ml-dl-nlp"
  },
  "language_info": {
   "codemirror_mode": {
    "name": "ipython",
    "version": 3
   },
   "file_extension": ".py",
   "mimetype": "text/x-python",
   "name": "python",
   "nbconvert_exporter": "python",
   "pygments_lexer": "ipython3",
   "version": "3.10.18"
  },
  "toc": {
   "base_numbering": 1,
   "nav_menu": {},
   "number_sections": false,
   "sideBar": true,
   "skip_h1_title": false,
   "title_cell": "Table of Contents",
   "title_sidebar": "Contents",
   "toc_cell": false,
   "toc_position": {},
   "toc_section_display": true,
   "toc_window_display": false
  }
 },
 "nbformat": 4,
 "nbformat_minor": 5
}
