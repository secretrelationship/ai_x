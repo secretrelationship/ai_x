{
 "cells": [
  {
   "cell_type": "code",
   "execution_count": 1,
   "id": "fa9c8016",
   "metadata": {},
   "outputs": [
    {
     "data": {
      "text/html": [
       "\n",
       "<style>\n",
       "div.container{width:86% !important;}\n",
       "div.cell.code_cell.rendered{width:100%;}\n",
       "div.CodeMirror {font-family:Consolas; font-size:15pt;}\n",
       "div.output {font-size:15pt; font-weight:bold;}\n",
       "div.input {font-family:Consolas; font-size:15pt;}\n",
       "div.prompt {min-width:70px;}\n",
       "div#toc-wrapper{padding-top:120px;}\n",
       "div.text_cell_render ul li{font-size:12pt;padding:5px;}\n",
       "table.dataframe{font-size:15px;}\n",
       "</style>\n"
      ],
      "text/plain": [
       "<IPython.core.display.HTML object>"
      ]
     },
     "metadata": {},
     "output_type": "display_data"
    }
   ],
   "source": [
    "from IPython.display import display, HTML\n",
    "display(HTML(\"\"\"\n",
    "<style>\n",
    "div.container{width:86% !important;}\n",
    "div.cell.code_cell.rendered{width:100%;}\n",
    "div.CodeMirror {font-family:Consolas; font-size:15pt;}\n",
    "div.output {font-size:15pt; font-weight:bold;}\n",
    "div.input {font-family:Consolas; font-size:15pt;}\n",
    "div.prompt {min-width:70px;}\n",
    "div#toc-wrapper{padding-top:120px;}\n",
    "div.text_cell_render ul li{font-size:12pt;padding:5px;}\n",
    "table.dataframe{font-size:15px;}\n",
    "</style>\n",
    "\"\"\"))"
   ]
  },
  {
   "cell_type": "markdown",
   "id": "d339d9cd",
   "metadata": {},
   "source": [
    "<b><font size=\"5\" color=\"red\">ch03 군집합</font></b>"
   ]
  },
  {
   "cell_type": "markdown",
   "id": "ec52cc4a",
   "metadata": {},
   "source": [
    "# 1. 데이터 생성\n",
    "- 남자, 여자의 키와 몸무게 데이터를 군집화"
   ]
  },
  {
   "cell_type": "code",
   "execution_count": 3,
   "id": "e80ea96a",
   "metadata": {},
   "outputs": [],
   "source": [
    "import random\n",
    "import numpy as np\n",
    "import matplotlib.pyplot as plt"
   ]
  },
  {
   "cell_type": "code",
   "execution_count": 5,
   "id": "65c3ec3a",
   "metadata": {},
   "outputs": [
    {
     "data": {
      "text/plain": [
       "51"
      ]
     },
     "execution_count": 5,
     "metadata": {},
     "output_type": "execute_result"
    }
   ],
   "source": [
    "random.randint(40,95) #40부터 95까지의 정수 중 하나를 무작위 선택 반환 "
   ]
  },
  {
   "cell_type": "code",
   "execution_count": 7,
   "id": "c986cb6f",
   "metadata": {},
   "outputs": [
    {
     "data": {
      "text/plain": [
       "[[64, 142],\n",
       " [81, 163],\n",
       " [65, 156],\n",
       " [68, 181],\n",
       " [69, 166],\n",
       " [92, 167],\n",
       " [66, 141],\n",
       " [83, 167],\n",
       " [50, 153],\n",
       " [78, 194],\n",
       " [67, 140],\n",
       " [64, 194],\n",
       " [59, 141],\n",
       " [69, 170],\n",
       " [61, 140],\n",
       " [74, 179],\n",
       " [40, 158],\n",
       " [93, 186],\n",
       " [45, 165],\n",
       " [66, 179],\n",
       " [54, 169],\n",
       " [70, 183],\n",
       " [63, 162],\n",
       " [91, 170],\n",
       " [54, 169],\n",
       " [78, 174],\n",
       " [60, 140],\n",
       " [69, 179],\n",
       " [64, 170],\n",
       " [78, 170],\n",
       " [56, 148],\n",
       " [83, 176],\n",
       " [66, 163],\n",
       " [92, 192],\n",
       " [43, 169],\n",
       " [87, 182],\n",
       " [64, 149],\n",
       " [89, 160],\n",
       " [64, 157],\n",
       " [90, 167],\n",
       " [67, 160],\n",
       " [67, 180],\n",
       " [45, 149],\n",
       " [82, 187],\n",
       " [56, 141],\n",
       " [75, 175],\n",
       " [68, 140],\n",
       " [75, 181],\n",
       " [44, 170],\n",
       " [88, 170],\n",
       " [48, 150],\n",
       " [60, 163],\n",
       " [61, 161],\n",
       " [62, 194],\n",
       " [47, 149],\n",
       " [95, 176],\n",
       " [50, 152],\n",
       " [71, 190],\n",
       " [67, 156],\n",
       " [94, 168],\n",
       " [65, 169],\n",
       " [92, 173],\n",
       " [61, 153],\n",
       " [82, 183],\n",
       " [47, 140],\n",
       " [61, 160],\n",
       " [47, 166],\n",
       " [94, 195],\n",
       " [47, 154],\n",
       " [90, 182],\n",
       " [59, 146],\n",
       " [93, 177],\n",
       " [54, 147],\n",
       " [86, 187],\n",
       " [57, 162],\n",
       " [64, 187],\n",
       " [68, 154],\n",
       " [78, 181],\n",
       " [50, 145],\n",
       " [70, 195],\n",
       " [49, 146],\n",
       " [83, 167],\n",
       " [50, 150],\n",
       " [94, 173],\n",
       " [67, 162],\n",
       " [63, 192],\n",
       " [52, 148],\n",
       " [94, 184],\n",
       " [40, 148],\n",
       " [79, 166],\n",
       " [48, 146],\n",
       " [64, 163],\n",
       " [64, 158],\n",
       " [66, 162],\n",
       " [52, 144],\n",
       " [61, 162],\n",
       " [58, 149],\n",
       " [67, 163],\n",
       " [47, 165],\n",
       " [65, 193]]"
      ]
     },
     "execution_count": 7,
     "metadata": {},
     "output_type": "execute_result"
    }
   ],
   "source": [
    "data= []\n",
    "for i in range(50):\n",
    "    #여자데이터\n",
    "    data.append([random.randint(40,70),random.randint(140,170)])\n",
    "    #남자데이터\n",
    "    data.append([random.randint(60,95),random.randint(160,195)])\n",
    "#data\n",
    "\n",
    "    "
   ]
  },
  {
   "cell_type": "code",
   "execution_count": 10,
   "id": "d808cad7",
   "metadata": {},
   "outputs": [
    {
     "name": "stdout",
     "output_type": "stream",
     "text": [
      "[64, 142] [65, 156] [69, 166] [66, 141] [50, 153] [67, 140] [59, 141] [61, 140] [40, 158] [45, 165] [54, 169] [63, 162] [54, 169] [60, 140] [64, 170] [56, 148] [66, 163] [43, 169] [64, 149] [64, 157] [67, 160] [45, 149] [56, 141] [68, 140] [44, 170] [48, 150] [61, 161] [47, 149] [50, 152] [67, 156] [65, 169] [61, 153] [47, 140] [47, 166] [47, 154] [59, 146] [54, 147] [57, 162] [68, 154] [50, 145] [49, 146] [50, 150] [67, 162] [52, 148] [40, 148] [48, 146] [64, 158] [52, 144] [58, 149] [47, 165] \n",
      "-------------------------------\n",
      "[81, 163] [68, 181] [92, 167] [83, 167] [78, 194] [64, 194] [69, 170] [74, 179] [93, 186] [66, 179] [70, 183] [91, 170] [78, 174] [69, 179] [78, 170] [83, 176] [92, 192] [87, 182] [89, 160] [90, 167] [67, 180] [82, 187] [75, 175] [75, 181] [88, 170] [60, 163] [62, 194] [95, 176] [71, 190] [94, 168] [92, 173] [82, 183] [61, 160] [94, 195] [90, 182] [93, 177] [86, 187] [64, 187] [78, 181] [70, 195] [83, 167] [94, 173] [63, 192] [94, 184] [79, 166] [64, 163] [66, 162] [61, 162] [67, 163] [65, 193] "
     ]
    }
   ],
   "source": [
    "# 여자\n",
    "for female in data[:100:2]:\n",
    "    print(female, end=' ')\n",
    "# 남자\n",
    "print('\\n-------------------------------')\n",
    "for male in data[1:100:2]:\n",
    "    print(male, end=' ')"
   ]
  },
  {
   "cell_type": "code",
   "execution_count": 11,
   "id": "4bbb904d",
   "metadata": {},
   "outputs": [
    {
     "name": "stdout",
     "output_type": "stream",
     "text": [
      "여자 몸무게 : [64, 65, 69, 66, 50, 67, 59, 61, 40, 45, 54, 63, 54, 60, 64, 56, 66, 43, 64, 64, 67, 45, 56, 68, 44, 48, 61, 47, 50, 67, 65, 61, 47, 47, 47, 59, 54, 57, 68, 50, 49, 50, 67, 52, 40, 48, 64, 52, 58, 47]\n",
      "여자 키 : [142, 156, 166, 141, 153, 140, 141, 140, 158, 165, 169, 162, 169, 140, 170, 148, 163, 169, 149, 157, 160, 149, 141, 140, 170, 150, 161, 149, 152, 156, 169, 153, 140, 166, 154, 146, 147, 162, 154, 145, 146, 150, 162, 148, 148, 146, 158, 144, 149, 165]\n",
      "남자 몸무게 : [81, 68, 92, 83, 78, 64, 69, 74, 93, 66, 70, 91, 78, 69, 78, 83, 92, 87, 89, 90, 67, 82, 75, 75, 88, 60, 62, 95, 71, 94, 92, 82, 61, 94, 90, 93, 86, 64, 78, 70, 83, 94, 63, 94, 79, 64, 66, 61, 67, 65]\n",
      "남자 키 : [163, 181, 167, 167, 194, 194, 170, 179, 186, 179, 183, 170, 174, 179, 170, 176, 192, 182, 160, 167, 180, 187, 175, 181, 170, 163, 194, 176, 190, 168, 173, 183, 160, 195, 182, 177, 187, 187, 181, 195, 167, 173, 192, 184, 166, 163, 162, 162, 163, 193]\n"
     ]
    }
   ],
   "source": [
    "print('여자 몸무게 :',[d[0] for d in data[::2]] )\n",
    "print('여자 키 :',    [d[1] for d in data[::2]] )\n",
    "print('남자 몸무게 :',[d[0] for d in data[1::2]] )\n",
    "print('남자 키 :',    [d[1] for d in data[1::2]] )"
   ]
  },
  {
   "cell_type": "code",
   "execution_count": 32,
   "id": "b08dfbe6",
   "metadata": {},
   "outputs": [
    {
     "data": {
      "text/plain": [
       "[<matplotlib.lines.Line2D at 0x2c3cea74190>]"
      ]
     },
     "execution_count": 32,
     "metadata": {},
     "output_type": "execute_result"
    },
    {
     "data": {
      "image/png": "[encoded data removed]",
      "text/plain": [
       "<Figure size 640x480 with 1 Axes>"
      ]
     },
     "metadata": {},
     "output_type": "display_data"
    }
   ],
   "source": [
    "# print('여자 몸무게 :',[d[0] for d in data[::2]] )\n",
    "# print('여자 키 :',    [d[1] for d in data[::2]] )\n",
    "# print('남자 몸무게 :',[d[0] for d in data[1::2]] )\n",
    "# print('남자 키 :',    [d[1] for d in data[1::2]] )\n",
    "# for d in data[::2]:\n",
    "#     plt.plot(d[0], d[1], 'o', color='r')\n",
    "plt.plot([d[0] for d in data[::2]],\n",
    "        [d[1] for d in data[::2]], 'o', color='r')\n",
    "plt.plot([d[0] for d in data[1::2]],\n",
    "        [d[1] for d in data[1::2]], '^', color='b')"
   ]
  },
  {
   "cell_type": "markdown",
   "id": "6917c06a",
   "metadata": {},
   "source": [
    "# 2.군집화 로직"
   ]
  },
  {
   "cell_type": "code",
   "execution_count": 13,
   "id": "c4178c71",
   "metadata": {},
   "outputs": [
    {
     "data": {
      "text/plain": [
       "[[64, 190], [69, 191]]"
      ]
     },
     "execution_count": 13,
     "metadata": {},
     "output_type": "execute_result"
    }
   ],
   "source": [
    "# 초기 랜덤지점 2개\n",
    "random_points = [[random.randint(40, 95), random.randint(140, 195)],\n",
    "                 [random.randint(40, 95), random.randint(140, 195)]]\n",
    "random_points"
   ]
  },
  {
   "cell_type": "code",
   "execution_count": 31,
   "id": "56f917f7",
   "metadata": {},
   "outputs": [
    {
     "data": {
      "text/plain": [
       "[<matplotlib.lines.Line2D at 0x2c3cda1f1f0>]"
      ]
     },
     "execution_count": 31,
     "metadata": {},
     "output_type": "execute_result"
    },
    {
     "data": {
      "image/png": "[encoded data removed]",
      "text/plain": [
       "<Figure size 640x480 with 1 Axes>"
      ]
     },
     "metadata": {},
     "output_type": "display_data"
    }
   ],
   "source": [
    "plt.plot([d[0] for d in data],\n",
    "        [d[1] for d in data], 'o', color='k')\n",
    "plt.plot(random_points[0][0], \n",
    "         random_points[0][1], 'x', color='r', markersize=20) # 기준점1\n",
    "plt.plot(random_points[1][0], \n",
    "         random_points[1][1], 'x', color='b', markersize=20) # 기준점2"
   ]
  },
  {
   "cell_type": "code",
   "execution_count": 15,
   "id": "c60ad850",
   "metadata": {},
   "outputs": [],
   "source": [
    "# 두 점의 거리를 return a:(0,0) ~ b:(4,3)\n",
    "def dist(a, b):\n",
    "    return np.sqrt( (a[0]-b[0])**2  + (a[1]-b[1])**2 )"
   ]
  },
  {
   "cell_type": "code",
   "execution_count": 16,
   "id": "858b8542",
   "metadata": {},
   "outputs": [
    {
     "data": {
      "text/plain": [
       "4.242640687119285"
      ]
     },
     "execution_count": 16,
     "metadata": {},
     "output_type": "execute_result"
    }
   ],
   "source": [
    "a = [1, 0]; b= [4, 3]\n",
    "dist(a, b)"
   ]
  },
  {
   "cell_type": "code",
   "execution_count": 17,
   "id": "1b986fdc",
   "metadata": {},
   "outputs": [
    {
     "data": {
      "text/plain": [
       "(65, 35)"
      ]
     },
     "execution_count": 17,
     "metadata": {},
     "output_type": "execute_result"
    }
   ],
   "source": [
    "# random_points[0]과 random_points[1]을 기준으로 나눈 두 영역\n",
    "group1 = [] # random_points[0]이 가까운 그룹\n",
    "group2 = [] # random_points[1]이 가까운 그룹\n",
    "for d in data:\n",
    "    if dist(random_points[0], d) < dist(random_points[1], d):\n",
    "        group1.append(d) # 빨간X랑 더 가까운 그룹\n",
    "    else:\n",
    "        group2.append(d) # 파란 X랑 더 가까운 그룹\n",
    "len(group1), len(group2)"
   ]
  },
  {
   "cell_type": "code",
   "execution_count": 18,
   "id": "5fc1e0a2",
   "metadata": {},
   "outputs": [
    {
     "data": {
      "image/png": "[encoded data removed]",
      "text/plain": [
       "<Figure size 640x480 with 1 Axes>"
      ]
     },
     "metadata": {},
     "output_type": "display_data"
    }
   ],
   "source": [
    "# 새로운 그룹 group1과 group2, 초기 램던 지점\n",
    "plt.plot([d[0] for d in group1],\n",
    "        [d[1] for d in group1], 'o', color='r')\n",
    "plt.plot([d[0] for d in group2],\n",
    "        [d[1] for d in group2], 'o', color='b')\n",
    "plt.plot(random_points[0][0],\n",
    "        random_points[0][1], 'x', color='r', markersize=20) # 기준점1\n",
    "plt.plot(random_points[1][0],\n",
    "        random_points[1][1], 'x', color='b', markersize=20) # 기준점2\n",
    "plt.show()"
   ]
  },
  {
   "cell_type": "code",
   "execution_count": 19,
   "id": "9cbd4f62",
   "metadata": {},
   "outputs": [
    {
     "data": {
      "text/plain": [
       "[[58.09230769230769, 158.7846153846154],\n",
       " [84.08571428571429, 177.68571428571428]]"
      ]
     },
     "execution_count": 19,
     "metadata": {},
     "output_type": "execute_result"
    }
   ],
   "source": [
    "# 기준점 이동 group1의 중심점, group2중심점\n",
    "sumX=0 ; sumY=0\n",
    "for g in group1:\n",
    "    sumX += g[0]\n",
    "    sumY += g[1]\n",
    "# 새로운 기준점으로 할당\n",
    "random_points[0] = [sumX/len(group1), sumY/len(group1)]\n",
    "sumX=0 ; sumY=0\n",
    "for g in group2:\n",
    "    sumX += g[0]\n",
    "    sumY += g[1]\n",
    "# 새로운 기준점으로 할당\n",
    "random_points[1] = [sumX/len(group2), sumY/len(group2)]\n",
    "random_points"
   ]
  },
  {
   "cell_type": "markdown",
   "id": "fc05315a",
   "metadata": {},
   "source": [
    "# 3. 전체코드(for문이용)\n",
    "- data todtjd\n",
    "- 랜덤포인트2지점\n",
    "- for 문\n",
    "    - 랜덤포인트 2지점기준으로 group1과 group2\n",
    "    - 랜덤포인트 이용(group1중간점, group2 중간점)"
   ]
  },
  {
   "cell_type": "code",
   "execution_count": 30,
   "id": "c1d23c6c",
   "metadata": {
    "scrolled": true
   },
   "outputs": [
    {
     "name": "stdout",
     "output_type": "stream",
     "text": [
      "초기 points :  [[55, 182], [54, 174]]\n",
      "1 번째 points :  [[80.03703703703704, 185.5185185185185], [61.054794520547944, 159.21917808219177]]\n",
      "2 번째 points :  [[81.05405405405405, 180.64864864864865], [57.44444444444444, 157.9047619047619]]\n",
      "3 번째 points :  [[80.1, 180.0], [56.9, 157.2]]\n",
      "4 번째 points :  [[79.82926829268293, 179.73170731707316], [56.69491525423729, 157.0]]\n",
      "5 번째 points :  [[79.20930232558139, 179.30232558139534], [56.35087719298246, 156.52631578947367]]\n",
      "6 번째 points :  [[79.20930232558139, 179.30232558139534], [56.35087719298246, 156.52631578947367]]\n",
      "7 번째 points :  [[79.20930232558139, 179.30232558139534], [56.35087719298246, 156.52631578947367]]\n",
      "8 번째 points :  [[79.20930232558139, 179.30232558139534], [56.35087719298246, 156.52631578947367]]\n",
      "9 번째 points :  [[79.20930232558139, 179.30232558139534], [56.35087719298246, 156.52631578947367]]\n",
      "10 번째 points :  [[79.20930232558139, 179.30232558139534], [56.35087719298246, 156.52631578947367]]\n"
     ]
    },
    {
     "data": {
      "image/png": "[encoded data removed]",
      "text/plain": [
       "<Figure size 640x480 with 1 Axes>"
      ]
     },
     "metadata": {},
     "output_type": "display_data"
    }
   ],
   "source": [
    "# 데이터 생성\n",
    "data = []\n",
    "for i in range(50):\n",
    "    # 여자 데이터\n",
    "    data.append([random.randint(40,70), random.randint(140,170)])\n",
    "    # 남자 데이터\n",
    "    data.append([random.randint(60,95), random.randint(160,195)])\n",
    "# point 지정\n",
    "points = [[random.randint(40,95), random.randint(140,195)],\n",
    "          [random.randint(40,95), random.randint(140,195)]]\n",
    "print(\"초기 points : \", points)\n",
    "plt.plot(points[0][0], points[0][1], 'o', c='r', markersize=20)\n",
    "plt.plot(points[1][0], points[1][1], 'o', c='b', markersize=20)\n",
    "# 포인트 2지점기준으로 group1과 group2\n",
    "for i in range(1, 11):\n",
    "    group1 = [] # points[0]과 가까운 그룹\n",
    "    group2 = [] # points[1]과 가까운 그룹\n",
    "    for d in data:\n",
    "        if dist(d, points[0]) < dist(d, points[1]):\n",
    "            group1.append(d)\n",
    "        else:\n",
    "            group2.append(d)\n",
    "    # 새로운 포인트로 할당\n",
    "    sumX = 0; sumY=0\n",
    "    for g in group1:\n",
    "        sumX += g[0]\n",
    "        sumY += g[1]\n",
    "    points[0] = [sumX/len(group1), sumY/len(group1)]\n",
    "    sumX = 0; sumY=0\n",
    "    for g in group2:\n",
    "        sumX += g[0]\n",
    "        sumY += g[1]\n",
    "    points[1] = [sumX/len(group2), sumY/len(group2)]\n",
    "    print(i, \"번째 points : \", points)\n",
    "    plt.plot(points[0][0], points[0][1], '^', c='r')\n",
    "    plt.plot(points[1][0], points[1][1], '^', c='b')"
   ]
  },
  {
   "cell_type": "markdown",
   "id": "57adb4f5",
   "metadata": {},
   "source": [
    "# 4.api(sklearn)를 이용한 군집화\n",
    "- sklearn 머신러닝\n",
    "    * 예측모델\n",
    "        ; 분류, 회귀, 군집분석\n",
    "    * 변환함수\n",
    "        ;전처리 ex) 스케일조정 \n",
    "        fit(학습), transform(변환함수)"
   ]
  },
  {
   "cell_type": "code",
   "execution_count": 21,
   "id": "c1c9e2fa",
   "metadata": {},
   "outputs": [],
   "source": [
    "# 군집분석 라이브러리가 joblib충돌 경고 메세지 출력\n",
    "import os\n",
    "os.environ[\"OMP_NUM_THREADS\"] = \"1\""
   ]
  },
  {
   "cell_type": "code",
   "execution_count": 33,
   "id": "05adcdf7",
   "metadata": {},
   "outputs": [
    {
     "data": {
      "text/html": [
       "<style>#sk-container-id-2 {color: black;background-color: white;}#sk-container-id-2 pre{padding: 0;}#sk-container-id-2 div.sk-toggleable {background-color: white;}#sk-container-id-2 label.sk-toggleable__label {cursor: pointer;display: block;width: 100%;margin-bottom: 0;padding: 0.3em;box-sizing: border-box;text-align: center;}#sk-container-id-2 label.sk-toggleable__label-arrow:before {content: \"▸\";float: left;margin-right: 0.25em;color: #696969;}#sk-container-id-2 label.sk-toggleable__label-arrow:hover:before {color: black;}#sk-container-id-2 div.sk-estimator:hover label.sk-toggleable__label-arrow:before {color: black;}#sk-container-id-2 div.sk-toggleable__content {max-height: 0;max-width: 0;overflow: hidden;text-align: left;background-color: #f0f8ff;}#sk-container-id-2 div.sk-toggleable__content pre {margin: 0.2em;color: black;border-radius: 0.25em;background-color: #f0f8ff;}#sk-container-id-2 input.sk-toggleable__control:checked~div.sk-toggleable__content {max-height: 200px;max-width: 100%;overflow: auto;}#sk-container-id-2 input.sk-toggleable__control:checked~label.sk-toggleable__label-arrow:before {content: \"▾\";}#sk-container-id-2 div.sk-estimator input.sk-toggleable__control:checked~label.sk-toggleable__label {background-color: #d4ebff;}#sk-container-id-2 div.sk-label input.sk-toggleable__control:checked~label.sk-toggleable__label {background-color: #d4ebff;}#sk-container-id-2 input.sk-hidden--visually {border: 0;clip: rect(1px 1px 1px 1px);clip: rect(1px, 1px, 1px, 1px);height: 1px;margin: -1px;overflow: hidden;padding: 0;position: absolute;width: 1px;}#sk-container-id-2 div.sk-estimator {font-family: monospace;background-color: #f0f8ff;border: 1px dotted black;border-radius: 0.25em;box-sizing: border-box;margin-bottom: 0.5em;}#sk-container-id-2 div.sk-estimator:hover {background-color: #d4ebff;}#sk-container-id-2 div.sk-parallel-item::after {content: \"\";width: 100%;border-bottom: 1px solid gray;flex-grow: 1;}#sk-container-id-2 div.sk-label:hover label.sk-toggleable__label {background-color: #d4ebff;}#sk-container-id-2 div.sk-serial::before {content: \"\";position: absolute;border-left: 1px solid gray;box-sizing: border-box;top: 0;bottom: 0;left: 50%;z-index: 0;}#sk-container-id-2 div.sk-serial {display: flex;flex-direction: column;align-items: center;background-color: white;padding-right: 0.2em;padding-left: 0.2em;position: relative;}#sk-container-id-2 div.sk-item {position: relative;z-index: 1;}#sk-container-id-2 div.sk-parallel {display: flex;align-items: stretch;justify-content: center;background-color: white;position: relative;}#sk-container-id-2 div.sk-item::before, #sk-container-id-2 div.sk-parallel-item::before {content: \"\";position: absolute;border-left: 1px solid gray;box-sizing: border-box;top: 0;bottom: 0;left: 50%;z-index: -1;}#sk-container-id-2 div.sk-parallel-item {display: flex;flex-direction: column;z-index: 1;position: relative;background-color: white;}#sk-container-id-2 div.sk-parallel-item:first-child::after {align-self: flex-end;width: 50%;}#sk-container-id-2 div.sk-parallel-item:last-child::after {align-self: flex-start;width: 50%;}#sk-container-id-2 div.sk-parallel-item:only-child::after {width: 0;}#sk-container-id-2 div.sk-dashed-wrapped {border: 1px dashed gray;margin: 0 0.4em 0.5em 0.4em;box-sizing: border-box;padding-bottom: 0.4em;background-color: white;}#sk-container-id-2 div.sk-label label {font-family: monospace;font-weight: bold;display: inline-block;line-height: 1.2em;}#sk-container-id-2 div.sk-label-container {text-align: center;}#sk-container-id-2 div.sk-container {/* jupyter's `normalize.less` sets `[hidden] { display: none; }` but bootstrap.min.css set `[hidden] { display: none !important; }` so we also need the `!important` here to be able to override the default hidden behavior on the sphinx rendered scikit-learn.org. See: https://github.com/scikit-learn/scikit-learn/issues/21755 */display: inline-block !important;position: relative;}#sk-container-id-2 div.sk-text-repr-fallback {display: none;}</style><div id=\"sk-container-id-2\" class=\"sk-top-container\"><div class=\"sk-text-repr-fallback\"><pre>KMeans(init=&#x27;random&#x27;, n_clusters=2, n_init=10)</pre><b>In a Jupyter environment, please rerun this cell to show the HTML representation or trust the notebook. <br />On GitHub, the HTML representation is unable to render, please try loading this page with nbviewer.org.</b></div><div class=\"sk-container\" hidden><div class=\"sk-item\"><div class=\"sk-estimator sk-toggleable\"><input class=\"sk-toggleable__control sk-hidden--visually\" id=\"sk-estimator-id-2\" type=\"checkbox\" checked><label for=\"sk-estimator-id-2\" class=\"sk-toggleable__label sk-toggleable__label-arrow\">KMeans</label><div class=\"sk-toggleable__content\"><pre>KMeans(init=&#x27;random&#x27;, n_clusters=2, n_init=10)</pre></div></div></div></div></div>"
      ],
      "text/plain": [
       "KMeans(init='random', n_clusters=2, n_init=10)"
      ]
     },
     "execution_count": 33,
     "metadata": {},
     "output_type": "execute_result"
    }
   ],
   "source": [
    "data = np.array(data)\n",
    "from sklearn.cluster import KMeans\n",
    "data = np.array(data)\n",
    "model = KMeans(n_clusters=2, #2개그룹으로 나눠\n",
    "              init='random', #초기중심점 랜덤하게\n",
    "              n_init=10 #10번실행\n",
    "              )\n",
    "               \n",
    "               \n",
    "model.fit(data)"
   ]
  },
  {
   "cell_type": "code",
   "execution_count": 34,
   "id": "832f3e77",
   "metadata": {},
   "outputs": [
    {
     "data": {
      "text/plain": [
       "array([[ 79.20930233, 179.30232558],\n",
       "       [ 56.35087719, 156.52631579]])"
      ]
     },
     "execution_count": 34,
     "metadata": {},
     "output_type": "execute_result"
    }
   ],
   "source": [
    "#중심점\n",
    "model.cluster_centers_"
   ]
  },
  {
   "cell_type": "code",
   "execution_count": 35,
   "id": "9a882544",
   "metadata": {},
   "outputs": [
    {
     "data": {
      "text/plain": [
       "array([1, 0, 1, 0, 1, 0, 1, 0, 1, 0, 1, 1, 1, 0, 1, 0, 1, 0, 1, 0, 1, 0,\n",
       "       1, 0, 1, 1, 1, 0, 1, 1, 1, 0, 1, 0, 1, 0, 1, 1, 1, 0, 1, 0, 1, 0,\n",
       "       1, 0, 1, 0, 1, 0, 1, 0, 1, 0, 1, 0, 1, 1, 1, 0, 1, 0, 1, 1, 1, 0,\n",
       "       1, 0, 1, 0, 1, 0, 1, 0, 1, 0, 1, 1, 1, 0, 0, 0, 1, 0, 1, 1, 1, 0,\n",
       "       1, 0, 1, 0, 1, 0, 1, 0, 1, 0, 1, 0])"
      ]
     },
     "execution_count": 35,
     "metadata": {},
     "output_type": "execute_result"
    }
   ],
   "source": [
    "#나눠진 그룹들의 인덱스\n",
    "model.labels_"
   ]
  },
  {
   "cell_type": "code",
   "execution_count": 36,
   "id": "db6d9826",
   "metadata": {},
   "outputs": [],
   "source": [
    "group1 = data[model.labels_ ==1]\n",
    "group2 = data[model.labels_ ==0]\n",
    "c1,c2 = model.cluster_centers_\n"
   ]
  },
  {
   "cell_type": "code",
   "execution_count": 42,
   "id": "5069ef96",
   "metadata": {
    "scrolled": true
   },
   "outputs": [
    {
     "data": {
      "text/plain": [
       "[<matplotlib.lines.Line2D at 0x2c3ced5d7e0>]"
      ]
     },
     "execution_count": 42,
     "metadata": {},
     "output_type": "execute_result"
    },
    {
     "data": {
      "image/png": "[encoded data removed]",
      "text/plain": [
       "<Figure size 640x480 with 1 Axes>"
      ]
     },
     "metadata": {},
     "output_type": "display_data"
    }
   ],
   "source": [
    "plt.plot([d[0] for d in group1],\n",
    "         [d[1] for d in group1],'o',color='r')\n",
    "plt.plot([d[0] for d in group2],\n",
    "         [d[1] for d in group2],'o',color='b')\n",
    "plt.plot(c1[0], c1[1], 'x', color='b', markersize=20) #컬러\n",
    "plt.plot(c2[0], c2[1], 'x', color='r') "
   ]
  },
  {
   "cell_type": "code",
   "execution_count": null,
   "id": "c1fc9dd5",
   "metadata": {},
   "outputs": [],
   "source": []
  }
 ],
 "metadata": {
  "kernelspec": {
   "display_name": "ml-dl-nlp",
   "language": "python",
   "name": "ml-dl-nlp"
  },
  "language_info": {
   "codemirror_mode": {
    "name": "ipython",
    "version": 3
   },
   "file_extension": ".py",
   "mimetype": "text/x-python",
   "name": "python",
   "nbconvert_exporter": "python",
   "pygments_lexer": "ipython3",
   "version": "3.10.18"
  },
  "toc": {
   "base_numbering": 1,
   "nav_menu": {},
   "number_sections": false,
   "sideBar": true,
   "skip_h1_title": false,
   "title_cell": "Table of Contents",
   "title_sidebar": "Contents",
   "toc_cell": false,
   "toc_position": {},
   "toc_section_display": true,
   "toc_window_display": false
  }
 },
 "nbformat": 4,
 "nbformat_minor": 5
}
