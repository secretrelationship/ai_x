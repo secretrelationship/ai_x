{
 "cells": [
  {
   "cell_type": "code",
   "execution_count": 1,
   "id": "fe191aa0",
   "metadata": {},
   "outputs": [
    {
     "data": {
      "text/html": [
       "\n",
       "<style>\n",
       "div.container{width:86% !important;}\n",
       "div.cell.code_cell.rendered{width:100%;}\n",
       "div.CodeMirror {font-family:Consolas; font-size:15pt;}\n",
       "div.output {font-size:15pt; font-weight:bold;}\n",
       "div.input {font-family:Consolas; font-size:15pt;}\n",
       "div.prompt {min-width:70px;}\n",
       "div#toc-wrapper{padding-top:120px;}\n",
       "div.text_cell_render ul li{font-size:12pt;padding:5px;}\n",
       "table.dataframe{font-size:15px;}\n",
       "</style>\n"
      ],
      "text/plain": [
       "<IPython.core.display.HTML object>"
      ]
     },
     "metadata": {},
     "output_type": "display_data"
    }
   ],
   "source": [
    "from IPython.display import display, HTML\n",
    "display(HTML(\"\"\"\n",
    "<style>\n",
    "div.container{width:86% !important;}\n",
    "div.cell.code_cell.rendered{width:100%;}\n",
    "div.CodeMirror {font-family:Consolas; font-size:15pt;}\n",
    "div.output {font-size:15pt; font-weight:bold;}\n",
    "div.input {font-family:Consolas; font-size:15pt;}\n",
    "div.prompt {min-width:70px;}\n",
    "div#toc-wrapper{padding-top:120px;}\n",
    "div.text_cell_render ul li{font-size:12pt;padding:5px;}\n",
    "table.dataframe{font-size:15px;}\n",
    "</style>\n",
    "\"\"\"))"
   ]
  },
  {
   "cell_type": "markdown",
   "id": "83b381c2",
   "metadata": {},
   "source": [
    "<b><font size=\"5\" color=\"red\">ch03 군집합</font></b>"
   ]
  },
  {
   "cell_type": "markdown",
   "id": "154fb56d",
   "metadata": {},
   "source": [
    "# 1. 데이터 생성\n",
    "- 남자, 여자의 키와 몸무게 데이터를 군집화"
   ]
  },
  {
   "cell_type": "code",
   "execution_count": 3,
   "id": "58ed7a4e",
   "metadata": {},
   "outputs": [],
   "source": [
    "import random\n",
    "import numpy as np\n",
    "import matplotlib.pyplot as plt"
   ]
  },
  {
   "cell_type": "code",
   "execution_count": 5,
   "id": "87a9345d",
   "metadata": {},
   "outputs": [
    {
     "data": {
      "text/plain": [
       "51"
      ]
     },
     "execution_count": 5,
     "metadata": {},
     "output_type": "execute_result"
    }
   ],
   "source": [
    "random.randint(40,95) #40부터 95까지의 정수 중 하나를 무작위 선택 반환 "
   ]
  },
  {
   "cell_type": "code",
   "execution_count": 7,
   "id": "4a5a7d43",
   "metadata": {},
   "outputs": [
    {
     "data": {
      "text/plain": [
       "[[64, 142],\n",
       " [81, 163],\n",
       " [65, 156],\n",
       " [68, 181],\n",
       " [69, 166],\n",
       " [92, 167],\n",
       " [66, 141],\n",
       " [83, 167],\n",
       " [50, 153],\n",
       " [78, 194],\n",
       " [67, 140],\n",
       " [64, 194],\n",
       " [59, 141],\n",
       " [69, 170],\n",
       " [61, 140],\n",
       " [74, 179],\n",
       " [40, 158],\n",
       " [93, 186],\n",
       " [45, 165],\n",
       " [66, 179],\n",
       " [54, 169],\n",
       " [70, 183],\n",
       " [63, 162],\n",
       " [91, 170],\n",
       " [54, 169],\n",
       " [78, 174],\n",
       " [60, 140],\n",
       " [69, 179],\n",
       " [64, 170],\n",
       " [78, 170],\n",
       " [56, 148],\n",
       " [83, 176],\n",
       " [66, 163],\n",
       " [92, 192],\n",
       " [43, 169],\n",
       " [87, 182],\n",
       " [64, 149],\n",
       " [89, 160],\n",
       " [64, 157],\n",
       " [90, 167],\n",
       " [67, 160],\n",
       " [67, 180],\n",
       " [45, 149],\n",
       " [82, 187],\n",
       " [56, 141],\n",
       " [75, 175],\n",
       " [68, 140],\n",
       " [75, 181],\n",
       " [44, 170],\n",
       " [88, 170],\n",
       " [48, 150],\n",
       " [60, 163],\n",
       " [61, 161],\n",
       " [62, 194],\n",
       " [47, 149],\n",
       " [95, 176],\n",
       " [50, 152],\n",
       " [71, 190],\n",
       " [67, 156],\n",
       " [94, 168],\n",
       " [65, 169],\n",
       " [92, 173],\n",
       " [61, 153],\n",
       " [82, 183],\n",
       " [47, 140],\n",
       " [61, 160],\n",
       " [47, 166],\n",
       " [94, 195],\n",
       " [47, 154],\n",
       " [90, 182],\n",
       " [59, 146],\n",
       " [93, 177],\n",
       " [54, 147],\n",
       " [86, 187],\n",
       " [57, 162],\n",
       " [64, 187],\n",
       " [68, 154],\n",
       " [78, 181],\n",
       " [50, 145],\n",
       " [70, 195],\n",
       " [49, 146],\n",
       " [83, 167],\n",
       " [50, 150],\n",
       " [94, 173],\n",
       " [67, 162],\n",
       " [63, 192],\n",
       " [52, 148],\n",
       " [94, 184],\n",
       " [40, 148],\n",
       " [79, 166],\n",
       " [48, 146],\n",
       " [64, 163],\n",
       " [64, 158],\n",
       " [66, 162],\n",
       " [52, 144],\n",
       " [61, 162],\n",
       " [58, 149],\n",
       " [67, 163],\n",
       " [47, 165],\n",
       " [65, 193]]"
      ]
     },
     "execution_count": 7,
     "metadata": {},
     "output_type": "execute_result"
    }
   ],
   "source": [
    "data= []\n",
    "for i in range(50):\n",
    "    #여자데이터\n",
    "    data.append([random.randint(40,70),random.randint(140,170)])\n",
    "    #남자데이터\n",
    "    data.append([random.randint(60,95),random.randint(160,195)])\n",
    "#data\n",
    "\n",
    "    "
   ]
  },
  {
   "cell_type": "code",
   "execution_count": 9,
   "id": "fe7feccf",
   "metadata": {},
   "outputs": [
    {
     "ename": "SyntaxError",
     "evalue": "invalid syntax (935801770.py, line 3)",
     "output_type": "error",
     "traceback": [
      "\u001b[1;36m  Cell \u001b[1;32mIn[9], line 3\u001b[1;36m\u001b[0m\n\u001b[1;33m    print(female= ,end = ' ')\u001b[0m\n\u001b[1;37m                  ^\u001b[0m\n\u001b[1;31mSyntaxError\u001b[0m\u001b[1;31m:\u001b[0m invalid syntax\n"
     ]
    }
   ],
   "source": [
    "#여자\n",
    "for female in data[:100:2]:\n",
    "    print(female= ,end = ' ')\n",
    "#남자\n",
    "print('\\n--------------------------')\n",
    "for male in data [1:100:2]:\n",
    "    print(male= ,end = ' ')"
   ]
  },
  {
   "cell_type": "code",
   "execution_count": null,
   "id": "af5ffdd5",
   "metadata": {},
   "outputs": [],
   "source": []
  }
 ],
 "metadata": {
  "kernelspec": {
   "display_name": "ml-dl-nlp",
   "language": "python",
   "name": "ml-dl-nlp"
  },
  "language_info": {
   "codemirror_mode": {
    "name": "ipython",
    "version": 3
   },
   "file_extension": ".py",
   "mimetype": "text/x-python",
   "name": "python",
   "nbconvert_exporter": "python",
   "pygments_lexer": "ipython3",
   "version": "3.10.18"
  },
  "toc": {
   "base_numbering": 1,
   "nav_menu": {},
   "number_sections": false,
   "sideBar": true,
   "skip_h1_title": false,
   "title_cell": "Table of Contents",
   "title_sidebar": "Contents",
   "toc_cell": false,
   "toc_position": {},
   "toc_section_display": true,
   "toc_window_display": false
  }
 },
 "nbformat": 4,
 "nbformat_minor": 5
}
