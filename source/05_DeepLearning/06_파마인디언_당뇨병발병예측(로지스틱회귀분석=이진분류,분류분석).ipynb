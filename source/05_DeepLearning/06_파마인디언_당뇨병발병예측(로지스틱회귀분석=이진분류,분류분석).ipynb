{
 "cells": [
  {
   "cell_type": "code",
   "execution_count": 2,
   "id": "103bc953",
   "metadata": {},
   "outputs": [
    {
     "data": {
      "text/html": [
       "\n",
       "<style>\n",
       "div.container{width:86% !important;}\n",
       "div.cell.code_cell.rendered{width:100%;}\n",
       "div.CodeMirror {font-family:Consolas; font-size:15pt;}\n",
       "div.output {font-size:15pt; font-weight:bold;}\n",
       "div.input {font-family:Consolas; font-size:15pt;}\n",
       "div.prompt {min-width:70px;}\n",
       "div#toc-wrapper{padding-top:120px;}\n",
       "div.text_cell_render ul li{font-size:12pt;padding:5px;}\n",
       "table.dataframe{font-size:15px;}\n",
       "</style>\n"
      ],
      "text/plain": [
       "<IPython.core.display.HTML object>"
      ]
     },
     "metadata": {},
     "output_type": "display_data"
    }
   ],
   "source": [
    "from IPython.display import display, HTML\n",
    "display(HTML(\"\"\"\n",
    "<style>\n",
    "div.container{width:86% !important;}\n",
    "div.cell.code_cell.rendered{width:100%;}\n",
    "div.CodeMirror {font-family:Consolas; font-size:15pt;}\n",
    "div.output {font-size:15pt; font-weight:bold;}\n",
    "div.input {font-family:Consolas; font-size:15pt;}\n",
    "div.prompt {min-width:70px;}\n",
    "div#toc-wrapper{padding-top:120px;}\n",
    "div.text_cell_render ul li{font-size:12pt;padding:5px;}\n",
    "table.dataframe{font-size:15px;}\n",
    "</style>\n",
    "\"\"\"))"
   ]
  },
  {
   "cell_type": "code",
   "execution_count": 31,
   "id": "08465d4f",
   "metadata": {},
   "outputs": [],
   "source": [
    "import numpy as np\n",
    "import pandas as pd\n",
    "import sys\n",
    "from tensorflow.keras import utils # utils.to_categorical 원핫인코딩\n",
    "from tensorflow.keras.models import Sequential\n",
    "from tensorflow.keras.layers import Dense, Input\n",
    "from matplotlib import pyplot as plt"
   ]
  },
  {
   "cell_type": "markdown",
   "id": "63a850c9",
   "metadata": {},
   "source": [
    "<b><font size=\"5\" color=\"red\">ch06_파마인디언_당뇨병발병예측(로지스틱회귀분석=이진분류,분류분석)</font></b>"
   ]
  },
  {
   "cell_type": "markdown",
   "id": "a7d58201",
   "metadata": {},
   "source": [
    "# 로지스틱회귀분석(이진분류)\n",
    "## 1. 데이터셋 생성 & 전처리"
   ]
  },
  {
   "cell_type": "code",
   "execution_count": 4,
   "id": "4a72bb85",
   "metadata": {},
   "outputs": [
    {
     "name": "stdout",
     "output_type": "stream",
     "text": [
      "<class 'pandas.core.frame.DataFrame'>\n",
      "RangeIndex: 768 entries, 0 to 767\n",
      "Data columns (total 9 columns):\n",
      " #   Column  Non-Null Count  Dtype  \n",
      "---  ------  --------------  -----  \n",
      " 0   0       768 non-null    int64  \n",
      " 1   1       768 non-null    int64  \n",
      " 2   2       768 non-null    int64  \n",
      " 3   3       768 non-null    int64  \n",
      " 4   4       768 non-null    int64  \n",
      " 5   5       768 non-null    float64\n",
      " 6   6       768 non-null    float64\n",
      " 7   7       768 non-null    int64  \n",
      " 8   8       768 non-null    int64  \n",
      "dtypes: float64(2), int64(7)\n",
      "memory usage: 54.1 KB\n"
     ]
    }
   ],
   "source": [
    "df = pd.read_csv('data/pima-indians-diabetes.csv', \n",
    "                 comment='#',\n",
    "                 header=None)\n",
    "df.info() # 결측치 없음"
   ]
  },
  {
   "cell_type": "code",
   "execution_count": 4,
   "id": "5c4263f7",
   "metadata": {},
   "outputs": [
    {
     "data": {
      "text/plain": [
       "0      1\n",
       "1      0\n",
       "2      1\n",
       "3      0\n",
       "4      1\n",
       "      ..\n",
       "763    0\n",
       "764    0\n",
       "765    0\n",
       "766    1\n",
       "767    0\n",
       "Name: 8, Length: 768, dtype: int64"
      ]
     },
     "execution_count": 4,
     "metadata": {},
     "output_type": "execute_result"
    }
   ],
   "source": [
    "\n",
    "df.iloc[:,-1]"
   ]
  },
  {
   "cell_type": "code",
   "execution_count": 5,
   "id": "ff984adc",
   "metadata": {},
   "outputs": [
    {
     "data": {
      "text/plain": [
       "0    500\n",
       "1    268\n",
       "Name: 8, dtype: int64"
      ]
     },
     "execution_count": 5,
     "metadata": {},
     "output_type": "execute_result"
    }
   ],
   "source": [
    "#타겟 변수의 균형\n",
    "df.iloc[:,-1].value_counts()"
   ]
  },
  {
   "cell_type": "code",
   "execution_count": 6,
   "id": "f6cb5356",
   "metadata": {},
   "outputs": [
    {
     "data": {
      "text/html": [
       "<div>\n",
       "<style scoped>\n",
       "    .dataframe tbody tr th:only-of-type {\n",
       "        vertical-align: middle;\n",
       "    }\n",
       "\n",
       "    .dataframe tbody tr th {\n",
       "        vertical-align: top;\n",
       "    }\n",
       "\n",
       "    .dataframe thead th {\n",
       "        text-align: right;\n",
       "    }\n",
       "</style>\n",
       "<table border=\"1\" class=\"dataframe\">\n",
       "  <thead>\n",
       "    <tr style=\"text-align: right;\">\n",
       "      <th></th>\n",
       "      <th>0</th>\n",
       "      <th>1</th>\n",
       "      <th>2</th>\n",
       "      <th>3</th>\n",
       "      <th>4</th>\n",
       "      <th>5</th>\n",
       "      <th>6</th>\n",
       "      <th>7</th>\n",
       "      <th>8</th>\n",
       "    </tr>\n",
       "  </thead>\n",
       "  <tbody>\n",
       "    <tr>\n",
       "      <th>0</th>\n",
       "      <td>6</td>\n",
       "      <td>148</td>\n",
       "      <td>72</td>\n",
       "      <td>35</td>\n",
       "      <td>0</td>\n",
       "      <td>33.6</td>\n",
       "      <td>0.627</td>\n",
       "      <td>50</td>\n",
       "      <td>1</td>\n",
       "    </tr>\n",
       "    <tr>\n",
       "      <th>1</th>\n",
       "      <td>1</td>\n",
       "      <td>85</td>\n",
       "      <td>66</td>\n",
       "      <td>29</td>\n",
       "      <td>0</td>\n",
       "      <td>26.6</td>\n",
       "      <td>0.351</td>\n",
       "      <td>31</td>\n",
       "      <td>0</td>\n",
       "    </tr>\n",
       "    <tr>\n",
       "      <th>2</th>\n",
       "      <td>8</td>\n",
       "      <td>183</td>\n",
       "      <td>64</td>\n",
       "      <td>0</td>\n",
       "      <td>0</td>\n",
       "      <td>23.3</td>\n",
       "      <td>0.672</td>\n",
       "      <td>32</td>\n",
       "      <td>1</td>\n",
       "    </tr>\n",
       "    <tr>\n",
       "      <th>3</th>\n",
       "      <td>1</td>\n",
       "      <td>89</td>\n",
       "      <td>66</td>\n",
       "      <td>23</td>\n",
       "      <td>94</td>\n",
       "      <td>28.1</td>\n",
       "      <td>0.167</td>\n",
       "      <td>21</td>\n",
       "      <td>0</td>\n",
       "    </tr>\n",
       "    <tr>\n",
       "      <th>4</th>\n",
       "      <td>0</td>\n",
       "      <td>137</td>\n",
       "      <td>40</td>\n",
       "      <td>35</td>\n",
       "      <td>168</td>\n",
       "      <td>43.1</td>\n",
       "      <td>2.288</td>\n",
       "      <td>33</td>\n",
       "      <td>1</td>\n",
       "    </tr>\n",
       "  </tbody>\n",
       "</table>\n",
       "</div>"
      ],
      "text/plain": [
       "   0    1   2   3    4     5      6   7  8\n",
       "0  6  148  72  35    0  33.6  0.627  50  1\n",
       "1  1   85  66  29    0  26.6  0.351  31  0\n",
       "2  8  183  64   0    0  23.3  0.672  32  1\n",
       "3  1   89  66  23   94  28.1  0.167  21  0\n",
       "4  0  137  40  35  168  43.1  2.288  33  1"
      ]
     },
     "execution_count": 6,
     "metadata": {},
     "output_type": "execute_result"
    }
   ],
   "source": [
    "df.head()"
   ]
  },
  {
   "cell_type": "code",
   "execution_count": 5,
   "id": "79d34d1a",
   "metadata": {},
   "outputs": [
    {
     "data": {
      "text/plain": [
       "(768, 9)"
      ]
     },
     "execution_count": 5,
     "metadata": {},
     "output_type": "execute_result"
    }
   ],
   "source": [
    "# csv 파일을 numpy 로 읽어오기 : np.loadtxt(결측치가없는경우), np.genfromtxt(결측치있을 경우)\n",
    "dataset = np.loadtxt('data/pima-indians-diabetes.csv', \n",
    "                    encoding='utf-8',\n",
    "                    delimiter=',')\n",
    "dataset.shape"
   ]
  },
  {
   "cell_type": "code",
   "execution_count": 6,
   "id": "9f73fdcf",
   "metadata": {},
   "outputs": [
    {
     "data": {
      "text/plain": [
       "((650, 8), (650,), (118, 8), (118,))"
      ]
     },
     "execution_count": 6,
     "metadata": {},
     "output_type": "execute_result"
    }
   ],
   "source": [
    "# 데이터 분할 : 학습데이터셋(모델학습용)+시험데이터셋(모델평가용)\n",
    "X_train = dataset[:650, :-1]\n",
    "y_train = dataset[:650, -1]\n",
    "X_test  = dataset[650:, :-1]\n",
    "y_test  = dataset[650:, -1]\n",
    "X_train.shape, y_train.shape, X_test.shape, y_test.shape"
   ]
  },
  {
   "cell_type": "markdown",
   "id": "7a1ce21b",
   "metadata": {},
   "source": [
    "# 2. 모델구성"
   ]
  },
  {
   "cell_type": "code",
   "execution_count": 7,
   "id": "0a1b644e",
   "metadata": {},
   "outputs": [
    {
     "name": "stdout",
     "output_type": "stream",
     "text": [
      "Model: \"sequential\"\n",
      "_________________________________________________________________\n",
      " Layer (type)                Output Shape              Param #   \n",
      "=================================================================\n",
      " dense (Dense)               (None, 32)                288       \n",
      "                                                                 \n",
      " dense_1 (Dense)             (None, 16)                528       \n",
      "                                                                 \n",
      " dense_2 (Dense)             (None, 1)                 17        \n",
      "                                                                 \n",
      "=================================================================\n",
      "Total params: 833\n",
      "Trainable params: 833\n",
      "Non-trainable params: 0\n",
      "_________________________________________________________________\n"
     ]
    }
   ],
   "source": [
    "model = Sequential()\n",
    "model.add(Input(shape=(8,)))\n",
    "model.add(Dense(units=32, activation='relu'))\n",
    "model.add(Dense(units=16, activation='relu'))\n",
    "model.add(Dense(units=1,  activation='sigmoid'))\n",
    "model.summary()"
   ]
  },
  {
   "cell_type": "markdown",
   "id": "f04b1080",
   "metadata": {},
   "source": [
    "# 3. 학습과정 설정"
   ]
  },
  {
   "cell_type": "code",
   "execution_count": 8,
   "id": "3943bca0",
   "metadata": {},
   "outputs": [],
   "source": [
    "model.compile(loss='binary_crossentropy',\n",
    "             optimizer='adam',\n",
    "             metrics=['binary_accuracy'])"
   ]
  },
  {
   "cell_type": "markdown",
   "id": "05fc3100",
   "metadata": {},
   "source": [
    "# 4. 학습\n"
   ]
  },
  {
   "cell_type": "code",
   "execution_count": 9,
   "id": "b07931f9",
   "metadata": {},
   "outputs": [
    {
     "name": "stdout",
     "output_type": "stream",
     "text": [
      "CPU times: total: 4.14 s\n",
      "Wall time: 3.58 s\n"
     ]
    }
   ],
   "source": [
    "%%time\n",
    "hist = model.fit(X_train, y_train, # 훈련데이터\n",
    "                epochs=200, # 학습횟수\n",
    "                batch_size=350, # 한번에 읽어들이는 데이터 양\n",
    "                # validation_data=(X_test, y_test), # 검증데이터\n",
    "                # validation_split=0.1, \n",
    "                verbose=0 # 학습 로그 출력 여부(0:출력X, 1:출력O, 2:출력자세히O)\n",
    "                )"
   ]
  },
  {
   "cell_type": "markdown",
   "id": "6eca314a",
   "metadata": {},
   "source": [
    "# 5. 모델 평가하기(학습과정 보기, 평가)"
   ]
  },
  {
   "cell_type": "code",
   "execution_count": 11,
   "id": "3a73125f",
   "metadata": {},
   "outputs": [
    {
     "data": {
      "text/plain": [
       "dict_keys(['loss', 'binary_accuracy'])"
      ]
     },
     "execution_count": 11,
     "metadata": {},
     "output_type": "execute_result"
    }
   ],
   "source": [
    "hist.history.keys()"
   ]
  },
  {
   "cell_type": "code",
   "execution_count": 10,
   "id": "62d089e5",
   "metadata": {},
   "outputs": [
    {
     "data": {
      "text/plain": [
       "[<matplotlib.lines.Line2D at 0x20b4c13e9b0>]"
      ]
     },
     "execution_count": 10,
     "metadata": {},
     "output_type": "execute_result"
    },
    {
     "data": {
      "image/png": "[encoded data removed]",
      "text/plain": [
       "<Figure size 1000x500 with 2 Axes>"
      ]
     },
     "metadata": {},
     "output_type": "display_data"
    }
   ],
   "source": [
    "# 학습과정 표시(학습데이터에 대한 loss와 accuracy)\n",
    "fig, loss_ax = plt.subplots(figsize=(10,5))\n",
    "loss_ax.plot(hist.history['loss'], 'r')\n",
    "acc_ax = loss_ax.twinx() # loss_ax와 x축을 공유하는 acc_ax\n",
    "acc_ax.plot(hist.history.get('binary_accuracy'), 'b')"
   ]
  },
  {
   "cell_type": "code",
   "execution_count": 11,
   "id": "38b8c3e2",
   "metadata": {},
   "outputs": [
    {
     "name": "stdout",
     "output_type": "stream",
     "text": [
      "21/21 [==============================] - 0s 2ms/step - loss: 0.5434 - binary_accuracy: 0.7246\n"
     ]
    },
    {
     "data": {
      "text/plain": [
       "[0.5433643460273743, 0.7246153950691223]"
      ]
     },
     "execution_count": 11,
     "metadata": {},
     "output_type": "execute_result"
    }
   ],
   "source": [
    "# 모델 평가(X)\n",
    "model.evaluate(X_train, y_train)"
   ]
  },
  {
   "cell_type": "code",
   "execution_count": 12,
   "id": "33f1e8a8",
   "metadata": {},
   "outputs": [
    {
     "name": "stdout",
     "output_type": "stream",
     "text": [
      "4/4 [==============================] - 0s 2ms/step - loss: 0.6503 - binary_accuracy: 0.6271\n"
     ]
    },
    {
     "data": {
      "text/plain": [
       "[0.6502751708030701, 0.6271186470985413]"
      ]
     },
     "execution_count": 12,
     "metadata": {},
     "output_type": "execute_result"
    }
   ],
   "source": [
    "# 모델 평가(O)\n",
    "model.evaluate(X_test, y_test)"
   ]
  },
  {
   "cell_type": "markdown",
   "id": "1a72033d",
   "metadata": {},
   "source": [
    "# 혼동행렬\n",
    "- 테스트 데이터 셋의 실제값과 예측값으로 작성된 교차표"
   ]
  },
  {
   "cell_type": "code",
   "execution_count": 15,
   "id": "8b90c653",
   "metadata": {},
   "outputs": [
    {
     "data": {
      "text/plain": [
       "array([0., 0., 0., 0., 0.])"
      ]
     },
     "execution_count": 15,
     "metadata": {},
     "output_type": "execute_result"
    }
   ],
   "source": [
    "y_test[:5]"
   ]
  },
  {
   "cell_type": "code",
   "execution_count": 13,
   "id": "d5bef2cf",
   "metadata": {},
   "outputs": [
    {
     "name": "stdout",
     "output_type": "stream",
     "text": [
      "4/4 [==============================] - 0s 2ms/step\n"
     ]
    }
   ],
   "source": [
    "# 실제값 : y_test (68개)\n",
    "# 예측값\n",
    "y_hat = (model.predict(X_test)>=0.5).astype(float)"
   ]
  },
  {
   "cell_type": "code",
   "execution_count": 14,
   "id": "ecb98c96",
   "metadata": {},
   "outputs": [
    {
     "name": "stdout",
     "output_type": "stream",
     "text": [
      "(118,) (118, 1)\n",
      "58 15\n",
      "29 16\n"
     ]
    }
   ],
   "source": [
    "TN = 0  # 0을 0으로 예측한 경우의 수(T)\n",
    "FP = 0  # 0을 1로 예측한 경우의 수(F)\n",
    "FN = 0  # 1을 0으로 예측한 경우의 수(F)\n",
    "TP = 0  # 1을 1로 예측한 경우의 수(T)\n",
    "print(y_test.shape, y_hat.shape)\n",
    "for y, h in zip(y_test, y_hat.reshape(-1)):\n",
    "    if y==0 and h==0:\n",
    "        TN += 1\n",
    "    elif y==0 and h==1:\n",
    "        FP += 1\n",
    "    elif y==1 and h==0:\n",
    "        FN += 1\n",
    "    else:\n",
    "        TP += 1\n",
    "print(TN, FP)\n",
    "print(FN, TP)"
   ]
  },
  {
   "cell_type": "code",
   "execution_count": 15,
   "id": "05ef02a3",
   "metadata": {},
   "outputs": [
    {
     "data": {
      "text/html": [
       "<div>\n",
       "<style scoped>\n",
       "    .dataframe tbody tr th:only-of-type {\n",
       "        vertical-align: middle;\n",
       "    }\n",
       "\n",
       "    .dataframe tbody tr th {\n",
       "        vertical-align: top;\n",
       "    }\n",
       "\n",
       "    .dataframe thead th {\n",
       "        text-align: right;\n",
       "    }\n",
       "</style>\n",
       "<table border=\"1\" class=\"dataframe\">\n",
       "  <thead>\n",
       "    <tr style=\"text-align: right;\">\n",
       "      <th>예측값</th>\n",
       "      <th>0.0</th>\n",
       "      <th>1.0</th>\n",
       "    </tr>\n",
       "    <tr>\n",
       "      <th>실제값</th>\n",
       "      <th></th>\n",
       "      <th></th>\n",
       "    </tr>\n",
       "  </thead>\n",
       "  <tbody>\n",
       "    <tr>\n",
       "      <th>0.0</th>\n",
       "      <td>58</td>\n",
       "      <td>15</td>\n",
       "    </tr>\n",
       "    <tr>\n",
       "      <th>1.0</th>\n",
       "      <td>29</td>\n",
       "      <td>16</td>\n",
       "    </tr>\n",
       "  </tbody>\n",
       "</table>\n",
       "</div>"
      ],
      "text/plain": [
       "예측값  0.0  1.0\n",
       "실제값          \n",
       "0.0   58   15\n",
       "1.0   29   16"
      ]
     },
     "execution_count": 15,
     "metadata": {},
     "output_type": "execute_result"
    }
   ],
   "source": [
    "# 교차표\n",
    "ctab = pd.crosstab(y_test,   # 실제값\n",
    "                  y_hat.reshape(-1)) # 예측값\n",
    "ctab.index.name = '실제값'\n",
    "ctab.columns.name = '예측값'\n",
    "ctab\n",
    "pd.crosstab(y_test,   # 실제값\n",
    "            y_hat.reshape(-1), # 예측값\n",
    "            rownames=['실제값'],\n",
    "            colnames=['예측값']) "
   ]
  },
  {
   "cell_type": "code",
   "execution_count": 16,
   "id": "634c9ea4",
   "metadata": {},
   "outputs": [
    {
     "data": {
      "text/plain": [
       "array([[58, 15],\n",
       "       [29, 16]], dtype=int64)"
      ]
     },
     "execution_count": 16,
     "metadata": {},
     "output_type": "execute_result"
    }
   ],
   "source": [
    "# 혼동행렬\n",
    "from sklearn.metrics import confusion_matrix\n",
    "confusion_matrix(y_test,\n",
    "                y_hat.reshape(-1))"
   ]
  },
  {
   "cell_type": "code",
   "execution_count": 17,
   "id": "4844e23f",
   "metadata": {},
   "outputs": [
    {
     "name": "stdout",
     "output_type": "stream",
     "text": [
      "accuracy : 0.6271186440677966\n",
      "recall : 0.35555555555555557\n",
      "precision : 0.5161290322580645\n"
     ]
    }
   ],
   "source": [
    "# accuracy\n",
    "print('accuracy :', (TN+TP)/(TN+FP+FN+TP))\n",
    "print('recall :', (TP)/(FN+TP))\n",
    "print('precision :', (TP)/(FP+TP))"
   ]
  },
  {
   "cell_type": "markdown",
   "id": "bce78483",
   "metadata": {},
   "source": [
    "# 6.모델사용"
   ]
  },
  {
   "cell_type": "code",
   "execution_count": 18,
   "id": "4d822a37",
   "metadata": {},
   "outputs": [
    {
     "data": {
      "text/plain": [
       "array([  1.   ,  91.   ,  54.   ,  25.   , 100.   ,  25.2  ,   0.234,\n",
       "        23.   ])"
      ]
     },
     "execution_count": 18,
     "metadata": {},
     "output_type": "execute_result"
    }
   ],
   "source": [
    "X_test[0]"
   ]
  },
  {
   "cell_type": "code",
   "execution_count": 19,
   "id": "315b0474",
   "metadata": {},
   "outputs": [
    {
     "name": "stdout",
     "output_type": "stream",
     "text": [
      "1/1 [==============================] - 0s 21ms/step\n"
     ]
    },
    {
     "data": {
      "text/plain": [
       "0"
      ]
     },
     "execution_count": 19,
     "metadata": {},
     "output_type": "execute_result"
    }
   ],
   "source": [
    "int(model.predict(np.array([[2, 122,76,27,200,35.9,0.483,26]]))>=0.5)"
   ]
  },
  {
   "cell_type": "code",
   "execution_count": 20,
   "id": "6a784ae7",
   "metadata": {},
   "outputs": [
    {
     "name": "stdout",
     "output_type": "stream",
     "text": [
      "1/1 [==============================] - 0s 40ms/step\n"
     ]
    },
    {
     "data": {
      "text/plain": [
       "array([[0],\n",
       "       [0]])"
      ]
     },
     "execution_count": 20,
     "metadata": {},
     "output_type": "execute_result"
    }
   ],
   "source": [
    "(model.predict([[2, 122,76,27,200,35.9,0.483,26],\n",
    "               [0, 122,76,27,200,35.9,0.483,26]])).astype(int)"
   ]
  },
  {
   "cell_type": "markdown",
   "id": "ef4c2076",
   "metadata": {},
   "source": [
    "# 분류분석\n",
    "- 1. 데이터셋 생성 및 전처리 : 훈련셋(600), 검증셋(100), 테스트셋(68)\n",
    "- 2. 모델 생성(input8, output 2) : 출력층 softmax(출력합을 1)\n",
    "- 3. model.summary() 파라미터 수와 메모리 확인\n",
    "- 4. 모델 학습과정 설정 : loss=\"categorical_crossentropy, metrics=['accuracy']\n",
    "- 5. 모델 학습 : 훈련셋과 검증셋\n",
    "- 6. 모델 평가 : 그래프(hist.history), 평가(테스트셋), 교차표(테스트셋)\n",
    "- 7. 모델 저장 및 사용 : predict결과에 argmax() [99.2, 0.8]"
   ]
  },
  {
   "cell_type": "markdown",
   "id": "aa25760e",
   "metadata": {},
   "source": [
    "# 1. 데이터셋 생성 및 전처리"
   ]
  },
  {
   "cell_type": "code",
   "execution_count": 21,
   "id": "c0fd0842",
   "metadata": {},
   "outputs": [
    {
     "data": {
      "text/plain": [
       "(768, 9)"
      ]
     },
     "execution_count": 21,
     "metadata": {},
     "output_type": "execute_result"
    }
   ],
   "source": [
    "dataset = np.loadtxt('data/pima-indians-diabetes.csv',\n",
    "                    encoding='utf-8',\n",
    "                    delimiter=',')\n",
    "dataset.shape"
   ]
  },
  {
   "cell_type": "code",
   "execution_count": 22,
   "id": "66c7af8c",
   "metadata": {},
   "outputs": [
    {
     "data": {
      "text/plain": [
       "((600, 8), (600,), (100, 8), (100,), (68, 8), (68,))"
      ]
     },
     "execution_count": 22,
     "metadata": {},
     "output_type": "execute_result"
    }
   ],
   "source": [
    "# 훈련셋(600), 검증셋(100), 테스트셋(68)\n",
    "X_train = dataset[:600, :-1]\n",
    "y_train = dataset[:600, -1]\n",
    "X_val = dataset[600:700, :-1]\n",
    "y_val = dataset[600:700, -1]\n",
    "X_test = dataset[700:, :-1]\n",
    "y_test = dataset[700:, -1]\n",
    "X_train.shape, y_train.shape, X_val.shape, y_val.shape, X_test.shape, y_test.shape"
   ]
  },
  {
   "cell_type": "code",
   "execution_count": 26,
   "id": "7500c8ff",
   "metadata": {},
   "outputs": [
    {
     "name": "stdout",
     "output_type": "stream",
     "text": [
      "[1. 0. 1. 0. 1.]\n",
      "[[0. 1.]\n",
      " [1. 0.]\n",
      " [0. 1.]\n",
      " [1. 0.]\n",
      " [0. 1.]]\n"
     ]
    },
    {
     "data": {
      "text/plain": [
       "((600,), (600, 2), (100, 2), (68, 2))"
      ]
     },
     "execution_count": 26,
     "metadata": {},
     "output_type": "execute_result"
    }
   ],
   "source": [
    "# 타겟변수의 원핫인코딩(분류분석)\n",
    "print(y_train[:5])\n",
    "print(utils.to_categorical(y_train[:5]))\n",
    "Y_train = utils.to_categorical(y_train)\n",
    "Y_val   = utils.to_categorical(y_val)\n",
    "Y_test  = utils.to_categorical(y_test)\n",
    "y_train.shape, Y_train.shape, Y_val.shape, Y_test.shape"
   ]
  },
  {
   "cell_type": "markdown",
   "id": "85205e5b",
   "metadata": {},
   "source": [
    "# 2. 모델 생성(input8,target2)"
   ]
  },
  {
   "cell_type": "code",
   "execution_count": 27,
   "id": "1871fbae",
   "metadata": {},
   "outputs": [
    {
     "name": "stdout",
     "output_type": "stream",
     "text": [
      "Model: \"sequential_2\"\n",
      "_________________________________________________________________\n",
      " Layer (type)                Output Shape              Param #   \n",
      "=================================================================\n",
      " dense_8 (Dense)             (None, 32)                288       \n",
      "                                                                 \n",
      " dense_9 (Dense)             (None, 64)                2112      \n",
      "                                                                 \n",
      " dense_10 (Dense)            (None, 16)                1040      \n",
      "                                                                 \n",
      " dense_11 (Dense)            (None, 8)                 136       \n",
      "                                                                 \n",
      " dense_12 (Dense)            (None, 2)                 18        \n",
      "                                                                 \n",
      "=================================================================\n",
      "Total params: 3,594\n",
      "Trainable params: 3,594\n",
      "Non-trainable params: 0\n",
      "_________________________________________________________________\n"
     ]
    }
   ],
   "source": [
    "model = Sequential()\n",
    "model.add(Input(shape=(8,)))\n",
    "model.add(Dense(units=32, activation='relu'))\n",
    "model.add(Dense(units=64, activation='relu'))\n",
    "model.add(Dense(units=16, activation='relu'))\n",
    "model.add(Dense(units=8, activation='relu'))\n",
    "model.add(Dense(units=2, activation='softmax'))\n",
    "model.summary()"
   ]
  },
  {
   "cell_type": "markdown",
   "id": "e21bef33",
   "metadata": {},
   "source": [
    "# 3. 학습과정 설정"
   ]
  },
  {
   "cell_type": "code",
   "execution_count": 28,
   "id": "6b3c41c8",
   "metadata": {},
   "outputs": [],
   "source": [
    "model.compile(loss='categorical_crossentropy',\n",
    "             optimizer='nadam',\n",
    "             metrics=['accuracy'])"
   ]
  },
  {
   "cell_type": "markdown",
   "id": "cd94f3f5",
   "metadata": {},
   "source": [
    "# 4. 모델 학습"
   ]
  },
  {
   "cell_type": "code",
   "execution_count": 29,
   "id": "1ae95ddf",
   "metadata": {},
   "outputs": [
    {
     "name": "stdout",
     "output_type": "stream",
     "text": [
      "Epoch 1/300\n",
      "19/19 [==============================] - 1s 14ms/step - loss: 0.9373 - accuracy: 0.5617 - val_loss: 0.6820 - val_accuracy: 0.6400\n",
      "Epoch 2/300\n",
      "19/19 [==============================] - 0s 4ms/step - loss: 0.6415 - accuracy: 0.6400 - val_loss: 0.6585 - val_accuracy: 0.6600\n",
      "Epoch 3/300\n",
      "19/19 [==============================] - 0s 3ms/step - loss: 0.6066 - accuracy: 0.6750 - val_loss: 0.6372 - val_accuracy: 0.6900\n",
      "Epoch 4/300\n",
      "19/19 [==============================] - 0s 3ms/step - loss: 0.6093 - accuracy: 0.6817 - val_loss: 0.6075 - val_accuracy: 0.6700\n",
      "Epoch 5/300\n",
      "19/19 [==============================] - 0s 3ms/step - loss: 0.5735 - accuracy: 0.7083 - val_loss: 0.6604 - val_accuracy: 0.5700\n",
      "Epoch 6/300\n",
      "19/19 [==============================] - 0s 3ms/step - loss: 0.5853 - accuracy: 0.7267 - val_loss: 0.6036 - val_accuracy: 0.6800\n",
      "Epoch 7/300\n",
      "19/19 [==============================] - 0s 3ms/step - loss: 0.5592 - accuracy: 0.7100 - val_loss: 0.5893 - val_accuracy: 0.7100\n",
      "Epoch 8/300\n",
      "19/19 [==============================] - 0s 3ms/step - loss: 0.5957 - accuracy: 0.7050 - val_loss: 0.6061 - val_accuracy: 0.6600\n",
      "Epoch 9/300\n",
      "19/19 [==============================] - 0s 3ms/step - loss: 0.5671 - accuracy: 0.7100 - val_loss: 0.6121 - val_accuracy: 0.6500\n",
      "Epoch 10/300\n",
      "19/19 [==============================] - 0s 3ms/step - loss: 0.5498 - accuracy: 0.7317 - val_loss: 0.6412 - val_accuracy: 0.6400\n",
      "Epoch 11/300\n",
      "19/19 [==============================] - 0s 4ms/step - loss: 0.5640 - accuracy: 0.7000 - val_loss: 0.5837 - val_accuracy: 0.6900\n",
      "Epoch 12/300\n",
      "19/19 [==============================] - 0s 4ms/step - loss: 0.5420 - accuracy: 0.7417 - val_loss: 0.5909 - val_accuracy: 0.7100\n",
      "Epoch 13/300\n",
      "19/19 [==============================] - 0s 3ms/step - loss: 0.5625 - accuracy: 0.7000 - val_loss: 0.5811 - val_accuracy: 0.7100\n",
      "Epoch 14/300\n",
      "19/19 [==============================] - 0s 3ms/step - loss: 0.5456 - accuracy: 0.7283 - val_loss: 0.5987 - val_accuracy: 0.6900\n",
      "Epoch 15/300\n",
      "19/19 [==============================] - 0s 3ms/step - loss: 0.5477 - accuracy: 0.7117 - val_loss: 0.5714 - val_accuracy: 0.7200\n",
      "Epoch 16/300\n",
      "19/19 [==============================] - 0s 3ms/step - loss: 0.5503 - accuracy: 0.6933 - val_loss: 0.5763 - val_accuracy: 0.7000\n",
      "Epoch 17/300\n",
      "19/19 [==============================] - 0s 3ms/step - loss: 0.5508 - accuracy: 0.7200 - val_loss: 0.5776 - val_accuracy: 0.6900\n",
      "Epoch 18/300\n",
      "19/19 [==============================] - 0s 3ms/step - loss: 0.5389 - accuracy: 0.7117 - val_loss: 0.5671 - val_accuracy: 0.7000\n",
      "Epoch 19/300\n",
      "19/19 [==============================] - 0s 4ms/step - loss: 0.5334 - accuracy: 0.7383 - val_loss: 0.5593 - val_accuracy: 0.7000\n",
      "Epoch 20/300\n",
      "19/19 [==============================] - 0s 4ms/step - loss: 0.5384 - accuracy: 0.7333 - val_loss: 0.5814 - val_accuracy: 0.7300\n",
      "Epoch 21/300\n",
      "19/19 [==============================] - 0s 4ms/step - loss: 0.5401 - accuracy: 0.7267 - val_loss: 0.5978 - val_accuracy: 0.6900\n",
      "Epoch 22/300\n",
      "19/19 [==============================] - 0s 3ms/step - loss: 0.5371 - accuracy: 0.7350 - val_loss: 0.6330 - val_accuracy: 0.7100\n",
      "Epoch 23/300\n",
      "19/19 [==============================] - 0s 3ms/step - loss: 0.5420 - accuracy: 0.7233 - val_loss: 0.5674 - val_accuracy: 0.7000\n",
      "Epoch 24/300\n",
      "19/19 [==============================] - 0s 3ms/step - loss: 0.5317 - accuracy: 0.7200 - val_loss: 0.5793 - val_accuracy: 0.6800\n",
      "Epoch 25/300\n",
      "19/19 [==============================] - 0s 4ms/step - loss: 0.5340 - accuracy: 0.7433 - val_loss: 0.5502 - val_accuracy: 0.7200\n",
      "Epoch 26/300\n",
      "19/19 [==============================] - 0s 4ms/step - loss: 0.5289 - accuracy: 0.7267 - val_loss: 0.5788 - val_accuracy: 0.7100\n",
      "Epoch 27/300\n",
      "19/19 [==============================] - 0s 4ms/step - loss: 0.5155 - accuracy: 0.7367 - val_loss: 0.6330 - val_accuracy: 0.7200\n",
      "Epoch 28/300\n",
      "19/19 [==============================] - 0s 3ms/step - loss: 0.5327 - accuracy: 0.7300 - val_loss: 0.6021 - val_accuracy: 0.6800\n",
      "Epoch 29/300\n",
      "19/19 [==============================] - 0s 3ms/step - loss: 0.5318 - accuracy: 0.7350 - val_loss: 0.5531 - val_accuracy: 0.7400\n",
      "Epoch 30/300\n",
      "19/19 [==============================] - 0s 3ms/step - loss: 0.5411 - accuracy: 0.7267 - val_loss: 0.5735 - val_accuracy: 0.6800\n",
      "Epoch 31/300\n",
      "19/19 [==============================] - 0s 3ms/step - loss: 0.5305 - accuracy: 0.7450 - val_loss: 0.5489 - val_accuracy: 0.7300\n",
      "Epoch 32/300\n",
      "19/19 [==============================] - 0s 3ms/step - loss: 0.5184 - accuracy: 0.7483 - val_loss: 0.6028 - val_accuracy: 0.6500\n",
      "Epoch 33/300\n",
      "19/19 [==============================] - 0s 3ms/step - loss: 0.5288 - accuracy: 0.7333 - val_loss: 0.5565 - val_accuracy: 0.7300\n",
      "Epoch 34/300\n",
      "19/19 [==============================] - 0s 4ms/step - loss: 0.5125 - accuracy: 0.7567 - val_loss: 0.6107 - val_accuracy: 0.7000\n",
      "Epoch 35/300\n",
      "19/19 [==============================] - 0s 3ms/step - loss: 0.5265 - accuracy: 0.7233 - val_loss: 0.5456 - val_accuracy: 0.7600\n",
      "Epoch 36/300\n",
      "19/19 [==============================] - 0s 4ms/step - loss: 0.5064 - accuracy: 0.7467 - val_loss: 0.6552 - val_accuracy: 0.6500\n",
      "Epoch 37/300\n",
      "19/19 [==============================] - 0s 3ms/step - loss: 0.5241 - accuracy: 0.7583 - val_loss: 0.5714 - val_accuracy: 0.7300\n",
      "Epoch 38/300\n",
      "19/19 [==============================] - 0s 4ms/step - loss: 0.5247 - accuracy: 0.7250 - val_loss: 0.5556 - val_accuracy: 0.7100\n",
      "Epoch 39/300\n",
      "19/19 [==============================] - 0s 3ms/step - loss: 0.5356 - accuracy: 0.7267 - val_loss: 0.5854 - val_accuracy: 0.7000\n",
      "Epoch 40/300\n",
      "19/19 [==============================] - 0s 4ms/step - loss: 0.5181 - accuracy: 0.7333 - val_loss: 0.5722 - val_accuracy: 0.7300\n",
      "Epoch 41/300\n",
      "19/19 [==============================] - 0s 4ms/step - loss: 0.5121 - accuracy: 0.7400 - val_loss: 0.5869 - val_accuracy: 0.7100\n",
      "Epoch 42/300\n",
      "19/19 [==============================] - 0s 3ms/step - loss: 0.5210 - accuracy: 0.7383 - val_loss: 0.6109 - val_accuracy: 0.7000\n",
      "Epoch 43/300\n",
      "19/19 [==============================] - 0s 3ms/step - loss: 0.5264 - accuracy: 0.7233 - val_loss: 0.6818 - val_accuracy: 0.6300\n",
      "Epoch 44/300\n",
      "19/19 [==============================] - 0s 3ms/step - loss: 0.5168 - accuracy: 0.7533 - val_loss: 0.5649 - val_accuracy: 0.6900\n",
      "Epoch 45/300\n",
      "19/19 [==============================] - 0s 3ms/step - loss: 0.5025 - accuracy: 0.7483 - val_loss: 0.6172 - val_accuracy: 0.6900\n",
      "Epoch 46/300\n",
      "19/19 [==============================] - 0s 4ms/step - loss: 0.5063 - accuracy: 0.7533 - val_loss: 0.6041 - val_accuracy: 0.7200\n",
      "Epoch 47/300\n",
      "19/19 [==============================] - 0s 4ms/step - loss: 0.5005 - accuracy: 0.7467 - val_loss: 0.5685 - val_accuracy: 0.7300\n",
      "Epoch 48/300\n",
      "19/19 [==============================] - 0s 4ms/step - loss: 0.5037 - accuracy: 0.7533 - val_loss: 0.5536 - val_accuracy: 0.7200\n",
      "Epoch 49/300\n",
      "19/19 [==============================] - 0s 4ms/step - loss: 0.4951 - accuracy: 0.7517 - val_loss: 0.5639 - val_accuracy: 0.6900\n",
      "Epoch 50/300\n",
      "19/19 [==============================] - 0s 3ms/step - loss: 0.4954 - accuracy: 0.7650 - val_loss: 0.5634 - val_accuracy: 0.7500\n",
      "Epoch 51/300\n",
      "19/19 [==============================] - 0s 4ms/step - loss: 0.4952 - accuracy: 0.7450 - val_loss: 0.5476 - val_accuracy: 0.7400\n",
      "Epoch 52/300\n",
      "19/19 [==============================] - 0s 3ms/step - loss: 0.5023 - accuracy: 0.7483 - val_loss: 0.5540 - val_accuracy: 0.7000\n",
      "Epoch 53/300\n",
      "19/19 [==============================] - 0s 3ms/step - loss: 0.4911 - accuracy: 0.7600 - val_loss: 0.5829 - val_accuracy: 0.7000\n",
      "Epoch 54/300\n",
      "19/19 [==============================] - 0s 3ms/step - loss: 0.4964 - accuracy: 0.7667 - val_loss: 0.5480 - val_accuracy: 0.7300\n",
      "Epoch 55/300\n",
      "19/19 [==============================] - 0s 4ms/step - loss: 0.5023 - accuracy: 0.7517 - val_loss: 0.5799 - val_accuracy: 0.7400\n",
      "Epoch 56/300\n",
      "19/19 [==============================] - 0s 3ms/step - loss: 0.4869 - accuracy: 0.7550 - val_loss: 0.6290 - val_accuracy: 0.7000\n",
      "Epoch 57/300\n",
      "19/19 [==============================] - 0s 3ms/step - loss: 0.5066 - accuracy: 0.7583 - val_loss: 0.5676 - val_accuracy: 0.6900\n",
      "Epoch 58/300\n",
      "19/19 [==============================] - 0s 3ms/step - loss: 0.4857 - accuracy: 0.7783 - val_loss: 0.5994 - val_accuracy: 0.7100\n"
     ]
    },
    {
     "name": "stdout",
     "output_type": "stream",
     "text": [
      "Epoch 59/300\n",
      "19/19 [==============================] - 0s 3ms/step - loss: 0.4948 - accuracy: 0.7550 - val_loss: 0.5635 - val_accuracy: 0.7500\n",
      "Epoch 60/300\n",
      "19/19 [==============================] - 0s 3ms/step - loss: 0.4895 - accuracy: 0.7600 - val_loss: 0.5757 - val_accuracy: 0.7100\n",
      "Epoch 61/300\n",
      "19/19 [==============================] - 0s 3ms/step - loss: 0.4900 - accuracy: 0.7617 - val_loss: 0.5709 - val_accuracy: 0.7000\n",
      "Epoch 62/300\n",
      "19/19 [==============================] - 0s 3ms/step - loss: 0.4812 - accuracy: 0.7717 - val_loss: 0.5692 - val_accuracy: 0.7100\n",
      "Epoch 63/300\n",
      "19/19 [==============================] - 0s 3ms/step - loss: 0.4821 - accuracy: 0.7583 - val_loss: 0.5822 - val_accuracy: 0.6900\n",
      "Epoch 64/300\n",
      "19/19 [==============================] - 0s 4ms/step - loss: 0.4803 - accuracy: 0.7600 - val_loss: 0.5623 - val_accuracy: 0.7100\n",
      "Epoch 65/300\n",
      "19/19 [==============================] - 0s 4ms/step - loss: 0.4844 - accuracy: 0.7683 - val_loss: 0.5512 - val_accuracy: 0.7400\n",
      "Epoch 66/300\n",
      "19/19 [==============================] - 0s 4ms/step - loss: 0.4789 - accuracy: 0.7667 - val_loss: 0.5464 - val_accuracy: 0.7100\n",
      "Epoch 67/300\n",
      "19/19 [==============================] - 0s 3ms/step - loss: 0.4730 - accuracy: 0.7667 - val_loss: 0.6296 - val_accuracy: 0.6800\n",
      "Epoch 68/300\n",
      "19/19 [==============================] - 0s 3ms/step - loss: 0.4716 - accuracy: 0.7817 - val_loss: 0.5722 - val_accuracy: 0.6800\n",
      "Epoch 69/300\n",
      "19/19 [==============================] - 0s 3ms/step - loss: 0.4901 - accuracy: 0.7733 - val_loss: 0.5613 - val_accuracy: 0.6800\n",
      "Epoch 70/300\n",
      "19/19 [==============================] - 0s 3ms/step - loss: 0.4799 - accuracy: 0.7517 - val_loss: 0.5654 - val_accuracy: 0.7400\n",
      "Epoch 71/300\n",
      "19/19 [==============================] - 0s 4ms/step - loss: 0.4733 - accuracy: 0.7633 - val_loss: 0.5396 - val_accuracy: 0.7700\n",
      "Epoch 72/300\n",
      "19/19 [==============================] - 0s 4ms/step - loss: 0.4876 - accuracy: 0.7600 - val_loss: 0.5354 - val_accuracy: 0.7300\n",
      "Epoch 73/300\n",
      "19/19 [==============================] - 0s 4ms/step - loss: 0.4805 - accuracy: 0.7717 - val_loss: 0.5843 - val_accuracy: 0.6900\n",
      "Epoch 74/300\n",
      "19/19 [==============================] - 0s 4ms/step - loss: 0.4760 - accuracy: 0.7617 - val_loss: 0.5926 - val_accuracy: 0.7000\n",
      "Epoch 75/300\n",
      "19/19 [==============================] - 0s 4ms/step - loss: 0.4744 - accuracy: 0.7683 - val_loss: 0.5912 - val_accuracy: 0.7300\n",
      "Epoch 76/300\n",
      "19/19 [==============================] - 0s 3ms/step - loss: 0.4746 - accuracy: 0.7733 - val_loss: 0.5940 - val_accuracy: 0.7100\n",
      "Epoch 77/300\n",
      "19/19 [==============================] - 0s 3ms/step - loss: 0.4878 - accuracy: 0.7617 - val_loss: 0.5820 - val_accuracy: 0.7000\n",
      "Epoch 78/300\n",
      "19/19 [==============================] - 0s 4ms/step - loss: 0.4685 - accuracy: 0.7650 - val_loss: 0.5393 - val_accuracy: 0.7500\n",
      "Epoch 79/300\n",
      "19/19 [==============================] - 0s 4ms/step - loss: 0.4669 - accuracy: 0.7717 - val_loss: 0.6839 - val_accuracy: 0.6800\n",
      "Epoch 80/300\n",
      "19/19 [==============================] - 0s 4ms/step - loss: 0.4656 - accuracy: 0.7667 - val_loss: 0.6229 - val_accuracy: 0.7200\n",
      "Epoch 81/300\n",
      "19/19 [==============================] - 0s 4ms/step - loss: 0.4748 - accuracy: 0.7733 - val_loss: 0.5559 - val_accuracy: 0.7400\n",
      "Epoch 82/300\n",
      "19/19 [==============================] - 0s 3ms/step - loss: 0.4829 - accuracy: 0.7533 - val_loss: 0.5693 - val_accuracy: 0.7000\n",
      "Epoch 83/300\n",
      "19/19 [==============================] - 0s 3ms/step - loss: 0.4627 - accuracy: 0.7833 - val_loss: 0.5556 - val_accuracy: 0.7200\n",
      "Epoch 84/300\n",
      "19/19 [==============================] - 0s 4ms/step - loss: 0.4586 - accuracy: 0.7733 - val_loss: 0.5856 - val_accuracy: 0.7100\n",
      "Epoch 85/300\n",
      "19/19 [==============================] - 0s 4ms/step - loss: 0.4808 - accuracy: 0.7700 - val_loss: 0.7175 - val_accuracy: 0.6100\n",
      "Epoch 86/300\n",
      "19/19 [==============================] - 0s 4ms/step - loss: 0.4594 - accuracy: 0.7817 - val_loss: 0.5740 - val_accuracy: 0.7400\n",
      "Epoch 87/300\n",
      "19/19 [==============================] - 0s 4ms/step - loss: 0.4738 - accuracy: 0.7767 - val_loss: 0.5360 - val_accuracy: 0.7400\n",
      "Epoch 88/300\n",
      "19/19 [==============================] - 0s 3ms/step - loss: 0.4567 - accuracy: 0.7750 - val_loss: 0.6151 - val_accuracy: 0.7000\n",
      "Epoch 89/300\n",
      "19/19 [==============================] - 0s 3ms/step - loss: 0.4589 - accuracy: 0.7783 - val_loss: 0.5518 - val_accuracy: 0.7500\n",
      "Epoch 90/300\n",
      "19/19 [==============================] - 0s 4ms/step - loss: 0.4536 - accuracy: 0.7700 - val_loss: 0.5908 - val_accuracy: 0.7000\n",
      "Epoch 91/300\n",
      "19/19 [==============================] - 0s 4ms/step - loss: 0.4505 - accuracy: 0.7667 - val_loss: 0.5425 - val_accuracy: 0.7500\n",
      "Epoch 92/300\n",
      "19/19 [==============================] - 0s 4ms/step - loss: 0.4597 - accuracy: 0.7650 - val_loss: 0.5273 - val_accuracy: 0.7500\n",
      "Epoch 93/300\n",
      "19/19 [==============================] - 0s 4ms/step - loss: 0.4527 - accuracy: 0.7667 - val_loss: 0.6202 - val_accuracy: 0.7200\n",
      "Epoch 94/300\n",
      "19/19 [==============================] - 0s 5ms/step - loss: 0.4582 - accuracy: 0.7833 - val_loss: 0.5895 - val_accuracy: 0.7100\n",
      "Epoch 95/300\n",
      "19/19 [==============================] - 0s 4ms/step - loss: 0.4530 - accuracy: 0.7750 - val_loss: 0.5546 - val_accuracy: 0.7500\n",
      "Epoch 96/300\n",
      "19/19 [==============================] - 0s 3ms/step - loss: 0.4475 - accuracy: 0.7833 - val_loss: 0.6055 - val_accuracy: 0.7200\n",
      "Epoch 97/300\n",
      "19/19 [==============================] - 0s 3ms/step - loss: 0.4457 - accuracy: 0.7817 - val_loss: 0.5457 - val_accuracy: 0.7400\n",
      "Epoch 98/300\n",
      "19/19 [==============================] - 0s 3ms/step - loss: 0.4488 - accuracy: 0.7800 - val_loss: 0.5576 - val_accuracy: 0.7200\n",
      "Epoch 99/300\n",
      "19/19 [==============================] - 0s 3ms/step - loss: 0.4494 - accuracy: 0.7700 - val_loss: 0.5442 - val_accuracy: 0.7300\n",
      "Epoch 100/300\n",
      "19/19 [==============================] - 0s 3ms/step - loss: 0.4518 - accuracy: 0.7667 - val_loss: 0.5473 - val_accuracy: 0.7300\n",
      "Epoch 101/300\n",
      "19/19 [==============================] - 0s 4ms/step - loss: 0.4463 - accuracy: 0.7817 - val_loss: 0.5370 - val_accuracy: 0.7400\n",
      "Epoch 102/300\n",
      "19/19 [==============================] - 0s 3ms/step - loss: 0.4389 - accuracy: 0.7967 - val_loss: 0.5562 - val_accuracy: 0.7400\n",
      "Epoch 103/300\n",
      "19/19 [==============================] - 0s 3ms/step - loss: 0.4371 - accuracy: 0.7883 - val_loss: 0.6006 - val_accuracy: 0.7400\n",
      "Epoch 104/300\n",
      "19/19 [==============================] - 0s 3ms/step - loss: 0.4415 - accuracy: 0.7833 - val_loss: 0.5449 - val_accuracy: 0.7600\n",
      "Epoch 105/300\n",
      "19/19 [==============================] - 0s 3ms/step - loss: 0.4372 - accuracy: 0.7833 - val_loss: 0.5511 - val_accuracy: 0.7500\n",
      "Epoch 106/300\n",
      "19/19 [==============================] - 0s 3ms/step - loss: 0.4457 - accuracy: 0.7900 - val_loss: 0.6060 - val_accuracy: 0.6800\n",
      "Epoch 107/300\n",
      "19/19 [==============================] - 0s 3ms/step - loss: 0.4459 - accuracy: 0.7850 - val_loss: 0.6492 - val_accuracy: 0.7100\n",
      "Epoch 108/300\n",
      "19/19 [==============================] - 0s 3ms/step - loss: 0.4397 - accuracy: 0.7817 - val_loss: 0.5500 - val_accuracy: 0.7200\n",
      "Epoch 109/300\n",
      "19/19 [==============================] - 0s 3ms/step - loss: 0.4374 - accuracy: 0.7983 - val_loss: 0.5980 - val_accuracy: 0.6800\n",
      "Epoch 110/300\n",
      "19/19 [==============================] - 0s 4ms/step - loss: 0.4376 - accuracy: 0.7833 - val_loss: 0.5890 - val_accuracy: 0.7500\n",
      "Epoch 111/300\n",
      "19/19 [==============================] - 0s 4ms/step - loss: 0.4449 - accuracy: 0.8067 - val_loss: 0.5926 - val_accuracy: 0.7100\n",
      "Epoch 112/300\n",
      "19/19 [==============================] - 0s 3ms/step - loss: 0.4389 - accuracy: 0.7833 - val_loss: 0.5952 - val_accuracy: 0.7300\n",
      "Epoch 113/300\n",
      "19/19 [==============================] - 0s 3ms/step - loss: 0.4662 - accuracy: 0.7667 - val_loss: 0.6177 - val_accuracy: 0.7300\n",
      "Epoch 114/300\n",
      "19/19 [==============================] - 0s 4ms/step - loss: 0.4254 - accuracy: 0.8000 - val_loss: 0.6416 - val_accuracy: 0.6500\n",
      "Epoch 115/300\n",
      "19/19 [==============================] - 0s 3ms/step - loss: 0.4302 - accuracy: 0.7833 - val_loss: 0.6451 - val_accuracy: 0.6600\n",
      "Epoch 116/300\n"
     ]
    },
    {
     "name": "stdout",
     "output_type": "stream",
     "text": [
      "19/19 [==============================] - 0s 3ms/step - loss: 0.4347 - accuracy: 0.7867 - val_loss: 0.5674 - val_accuracy: 0.7700\n",
      "Epoch 117/300\n",
      "19/19 [==============================] - 0s 3ms/step - loss: 0.4251 - accuracy: 0.7983 - val_loss: 0.5466 - val_accuracy: 0.7300\n",
      "Epoch 118/300\n",
      "19/19 [==============================] - 0s 3ms/step - loss: 0.4186 - accuracy: 0.7883 - val_loss: 0.5993 - val_accuracy: 0.7400\n",
      "Epoch 119/300\n",
      "19/19 [==============================] - 0s 3ms/step - loss: 0.4391 - accuracy: 0.8017 - val_loss: 0.5927 - val_accuracy: 0.7200\n",
      "Epoch 120/300\n",
      "19/19 [==============================] - 0s 3ms/step - loss: 0.4578 - accuracy: 0.7767 - val_loss: 0.5838 - val_accuracy: 0.7600\n",
      "Epoch 121/300\n",
      "19/19 [==============================] - 0s 4ms/step - loss: 0.4355 - accuracy: 0.7833 - val_loss: 0.6137 - val_accuracy: 0.7300\n",
      "Epoch 122/300\n",
      "19/19 [==============================] - 0s 4ms/step - loss: 0.4308 - accuracy: 0.7850 - val_loss: 0.6613 - val_accuracy: 0.6500\n",
      "Epoch 123/300\n",
      "19/19 [==============================] - 0s 3ms/step - loss: 0.4155 - accuracy: 0.8067 - val_loss: 0.6552 - val_accuracy: 0.7100\n",
      "Epoch 124/300\n",
      "19/19 [==============================] - 0s 3ms/step - loss: 0.4236 - accuracy: 0.7950 - val_loss: 0.5761 - val_accuracy: 0.7300\n",
      "Epoch 125/300\n",
      "19/19 [==============================] - 0s 3ms/step - loss: 0.4147 - accuracy: 0.7883 - val_loss: 0.5684 - val_accuracy: 0.7700\n",
      "Epoch 126/300\n",
      "19/19 [==============================] - 0s 4ms/step - loss: 0.4054 - accuracy: 0.8017 - val_loss: 0.5763 - val_accuracy: 0.7500\n",
      "Epoch 127/300\n",
      "19/19 [==============================] - 0s 3ms/step - loss: 0.4169 - accuracy: 0.7950 - val_loss: 0.5791 - val_accuracy: 0.7500\n",
      "Epoch 128/300\n",
      "19/19 [==============================] - 0s 3ms/step - loss: 0.4159 - accuracy: 0.8050 - val_loss: 0.5911 - val_accuracy: 0.7400\n",
      "Epoch 129/300\n",
      "19/19 [==============================] - 0s 3ms/step - loss: 0.4080 - accuracy: 0.8000 - val_loss: 0.6404 - val_accuracy: 0.6800\n",
      "Epoch 130/300\n",
      "19/19 [==============================] - 0s 3ms/step - loss: 0.4082 - accuracy: 0.7917 - val_loss: 0.5395 - val_accuracy: 0.7500\n",
      "Epoch 131/300\n",
      "19/19 [==============================] - 0s 3ms/step - loss: 0.4106 - accuracy: 0.7883 - val_loss: 0.5820 - val_accuracy: 0.7400\n",
      "Epoch 132/300\n",
      "19/19 [==============================] - 0s 3ms/step - loss: 0.4085 - accuracy: 0.8033 - val_loss: 0.5674 - val_accuracy: 0.7600\n",
      "Epoch 133/300\n",
      "19/19 [==============================] - 0s 3ms/step - loss: 0.4092 - accuracy: 0.7967 - val_loss: 0.5822 - val_accuracy: 0.7400\n",
      "Epoch 134/300\n",
      "19/19 [==============================] - 0s 3ms/step - loss: 0.4071 - accuracy: 0.8083 - val_loss: 0.5806 - val_accuracy: 0.7500\n",
      "Epoch 135/300\n",
      "19/19 [==============================] - 0s 3ms/step - loss: 0.4065 - accuracy: 0.7983 - val_loss: 0.5836 - val_accuracy: 0.7400\n",
      "Epoch 136/300\n",
      "19/19 [==============================] - 0s 3ms/step - loss: 0.4200 - accuracy: 0.8033 - val_loss: 0.6464 - val_accuracy: 0.7100\n",
      "Epoch 137/300\n",
      "19/19 [==============================] - 0s 3ms/step - loss: 0.4064 - accuracy: 0.7983 - val_loss: 0.5914 - val_accuracy: 0.7100\n",
      "Epoch 138/300\n",
      "19/19 [==============================] - 0s 4ms/step - loss: 0.4014 - accuracy: 0.7950 - val_loss: 0.6243 - val_accuracy: 0.7700\n",
      "Epoch 139/300\n",
      "19/19 [==============================] - 0s 4ms/step - loss: 0.3948 - accuracy: 0.8150 - val_loss: 0.7404 - val_accuracy: 0.6500\n",
      "Epoch 140/300\n",
      "19/19 [==============================] - 0s 4ms/step - loss: 0.4294 - accuracy: 0.7950 - val_loss: 0.5988 - val_accuracy: 0.7300\n",
      "Epoch 141/300\n",
      "19/19 [==============================] - 0s 4ms/step - loss: 0.3896 - accuracy: 0.8117 - val_loss: 0.6079 - val_accuracy: 0.7300\n",
      "Epoch 142/300\n",
      "19/19 [==============================] - 0s 3ms/step - loss: 0.3942 - accuracy: 0.8050 - val_loss: 0.5860 - val_accuracy: 0.7600\n",
      "Epoch 143/300\n",
      "19/19 [==============================] - 0s 3ms/step - loss: 0.3966 - accuracy: 0.8117 - val_loss: 0.6331 - val_accuracy: 0.7200\n",
      "Epoch 144/300\n",
      "19/19 [==============================] - 0s 3ms/step - loss: 0.4140 - accuracy: 0.7933 - val_loss: 0.5737 - val_accuracy: 0.7400\n",
      "Epoch 145/300\n",
      "19/19 [==============================] - 0s 3ms/step - loss: 0.4040 - accuracy: 0.8000 - val_loss: 0.6338 - val_accuracy: 0.7400\n",
      "Epoch 146/300\n",
      "19/19 [==============================] - 0s 3ms/step - loss: 0.4001 - accuracy: 0.7900 - val_loss: 0.6332 - val_accuracy: 0.7300\n",
      "Epoch 147/300\n",
      "19/19 [==============================] - 0s 3ms/step - loss: 0.3877 - accuracy: 0.8300 - val_loss: 0.6231 - val_accuracy: 0.7200\n",
      "Epoch 148/300\n",
      "19/19 [==============================] - 0s 3ms/step - loss: 0.3976 - accuracy: 0.8083 - val_loss: 0.6462 - val_accuracy: 0.7500\n",
      "Epoch 149/300\n",
      "19/19 [==============================] - 0s 4ms/step - loss: 0.3923 - accuracy: 0.8100 - val_loss: 0.6076 - val_accuracy: 0.7200\n",
      "Epoch 150/300\n",
      "19/19 [==============================] - 0s 3ms/step - loss: 0.4002 - accuracy: 0.8050 - val_loss: 0.6590 - val_accuracy: 0.7100\n",
      "Epoch 151/300\n",
      "19/19 [==============================] - 0s 3ms/step - loss: 0.3910 - accuracy: 0.8083 - val_loss: 0.5892 - val_accuracy: 0.7500\n",
      "Epoch 152/300\n",
      "19/19 [==============================] - 0s 3ms/step - loss: 0.3840 - accuracy: 0.8117 - val_loss: 0.6714 - val_accuracy: 0.7500\n",
      "Epoch 153/300\n",
      "19/19 [==============================] - 0s 3ms/step - loss: 0.4050 - accuracy: 0.8017 - val_loss: 0.6264 - val_accuracy: 0.7500\n",
      "Epoch 154/300\n",
      "19/19 [==============================] - 0s 3ms/step - loss: 0.3853 - accuracy: 0.8100 - val_loss: 0.6177 - val_accuracy: 0.7300\n",
      "Epoch 155/300\n",
      "19/19 [==============================] - 0s 3ms/step - loss: 0.3681 - accuracy: 0.8217 - val_loss: 0.6279 - val_accuracy: 0.7100\n",
      "Epoch 156/300\n",
      "19/19 [==============================] - 0s 3ms/step - loss: 0.3832 - accuracy: 0.8200 - val_loss: 0.6108 - val_accuracy: 0.7400\n",
      "Epoch 157/300\n",
      "19/19 [==============================] - 0s 3ms/step - loss: 0.3939 - accuracy: 0.8117 - val_loss: 0.6400 - val_accuracy: 0.7400\n",
      "Epoch 158/300\n",
      "19/19 [==============================] - 0s 4ms/step - loss: 0.3896 - accuracy: 0.8233 - val_loss: 0.6363 - val_accuracy: 0.7400\n",
      "Epoch 159/300\n",
      "19/19 [==============================] - 0s 4ms/step - loss: 0.3897 - accuracy: 0.8050 - val_loss: 0.6227 - val_accuracy: 0.7700\n",
      "Epoch 160/300\n",
      "19/19 [==============================] - 0s 4ms/step - loss: 0.3786 - accuracy: 0.8167 - val_loss: 0.6413 - val_accuracy: 0.7100\n",
      "Epoch 161/300\n",
      "19/19 [==============================] - 0s 3ms/step - loss: 0.3676 - accuracy: 0.8217 - val_loss: 0.6206 - val_accuracy: 0.7700\n",
      "Epoch 162/300\n",
      "19/19 [==============================] - 0s 3ms/step - loss: 0.3663 - accuracy: 0.8267 - val_loss: 0.6499 - val_accuracy: 0.7400\n",
      "Epoch 163/300\n",
      "19/19 [==============================] - 0s 3ms/step - loss: 0.3809 - accuracy: 0.8100 - val_loss: 0.6366 - val_accuracy: 0.7200\n",
      "Epoch 164/300\n",
      "19/19 [==============================] - 0s 3ms/step - loss: 0.3819 - accuracy: 0.8117 - val_loss: 0.6640 - val_accuracy: 0.7500\n",
      "Epoch 165/300\n",
      "19/19 [==============================] - 0s 3ms/step - loss: 0.3855 - accuracy: 0.8017 - val_loss: 0.6678 - val_accuracy: 0.7100\n",
      "Epoch 166/300\n",
      "19/19 [==============================] - 0s 3ms/step - loss: 0.3605 - accuracy: 0.8350 - val_loss: 0.6305 - val_accuracy: 0.7700\n",
      "Epoch 167/300\n",
      "19/19 [==============================] - 0s 3ms/step - loss: 0.3670 - accuracy: 0.8300 - val_loss: 0.6329 - val_accuracy: 0.7300\n",
      "Epoch 168/300\n",
      "19/19 [==============================] - 0s 3ms/step - loss: 0.3751 - accuracy: 0.8250 - val_loss: 0.6621 - val_accuracy: 0.7100\n",
      "Epoch 169/300\n",
      "19/19 [==============================] - 0s 3ms/step - loss: 0.3662 - accuracy: 0.8300 - val_loss: 0.6450 - val_accuracy: 0.7200\n",
      "Epoch 170/300\n",
      "19/19 [==============================] - 0s 4ms/step - loss: 0.3698 - accuracy: 0.8217 - val_loss: 0.6202 - val_accuracy: 0.7600\n",
      "Epoch 171/300\n",
      "19/19 [==============================] - 0s 3ms/step - loss: 0.3560 - accuracy: 0.8300 - val_loss: 0.6360 - val_accuracy: 0.7500\n",
      "Epoch 172/300\n",
      "19/19 [==============================] - 0s 3ms/step - loss: 0.3626 - accuracy: 0.8300 - val_loss: 0.6585 - val_accuracy: 0.6900\n",
      "Epoch 173/300\n"
     ]
    },
    {
     "name": "stdout",
     "output_type": "stream",
     "text": [
      "19/19 [==============================] - 0s 3ms/step - loss: 0.3678 - accuracy: 0.8200 - val_loss: 0.6239 - val_accuracy: 0.7500\n",
      "Epoch 174/300\n",
      "19/19 [==============================] - 0s 3ms/step - loss: 0.3619 - accuracy: 0.8267 - val_loss: 0.6919 - val_accuracy: 0.7100\n",
      "Epoch 175/300\n",
      "19/19 [==============================] - 0s 3ms/step - loss: 0.3621 - accuracy: 0.8267 - val_loss: 0.6934 - val_accuracy: 0.7300\n",
      "Epoch 176/300\n",
      "19/19 [==============================] - 0s 3ms/step - loss: 0.3640 - accuracy: 0.8333 - val_loss: 0.5913 - val_accuracy: 0.7600\n",
      "Epoch 177/300\n",
      "19/19 [==============================] - 0s 3ms/step - loss: 0.3596 - accuracy: 0.8233 - val_loss: 0.6726 - val_accuracy: 0.7400\n",
      "Epoch 178/300\n",
      "19/19 [==============================] - 0s 3ms/step - loss: 0.3579 - accuracy: 0.8217 - val_loss: 0.6518 - val_accuracy: 0.7500\n",
      "Epoch 179/300\n",
      "19/19 [==============================] - 0s 4ms/step - loss: 0.3558 - accuracy: 0.8250 - val_loss: 0.6386 - val_accuracy: 0.7200\n",
      "Epoch 180/300\n",
      "19/19 [==============================] - 0s 3ms/step - loss: 0.3717 - accuracy: 0.8083 - val_loss: 0.6122 - val_accuracy: 0.7600\n",
      "Epoch 181/300\n",
      "19/19 [==============================] - 0s 3ms/step - loss: 0.3501 - accuracy: 0.8333 - val_loss: 0.6595 - val_accuracy: 0.7700\n",
      "Epoch 182/300\n",
      "19/19 [==============================] - 0s 3ms/step - loss: 0.3553 - accuracy: 0.8250 - val_loss: 0.7549 - val_accuracy: 0.7400\n",
      "Epoch 183/300\n",
      "19/19 [==============================] - 0s 3ms/step - loss: 0.3542 - accuracy: 0.8350 - val_loss: 0.6687 - val_accuracy: 0.7100\n",
      "Epoch 184/300\n",
      "19/19 [==============================] - 0s 3ms/step - loss: 0.3544 - accuracy: 0.8250 - val_loss: 0.6741 - val_accuracy: 0.7400\n",
      "Epoch 185/300\n",
      "19/19 [==============================] - 0s 4ms/step - loss: 0.3413 - accuracy: 0.8383 - val_loss: 0.6524 - val_accuracy: 0.7500\n",
      "Epoch 186/300\n",
      "19/19 [==============================] - 0s 4ms/step - loss: 0.3589 - accuracy: 0.8217 - val_loss: 0.6603 - val_accuracy: 0.7100\n",
      "Epoch 187/300\n",
      "19/19 [==============================] - 0s 4ms/step - loss: 0.3442 - accuracy: 0.8250 - val_loss: 0.7569 - val_accuracy: 0.7500\n",
      "Epoch 188/300\n",
      "19/19 [==============================] - 0s 4ms/step - loss: 0.3504 - accuracy: 0.8383 - val_loss: 0.7872 - val_accuracy: 0.6700\n",
      "Epoch 189/300\n",
      "19/19 [==============================] - 0s 3ms/step - loss: 0.3629 - accuracy: 0.8183 - val_loss: 0.6756 - val_accuracy: 0.7100\n",
      "Epoch 190/300\n",
      "19/19 [==============================] - 0s 3ms/step - loss: 0.3452 - accuracy: 0.8383 - val_loss: 0.6439 - val_accuracy: 0.7400\n",
      "Epoch 191/300\n",
      "19/19 [==============================] - 0s 3ms/step - loss: 0.3492 - accuracy: 0.8333 - val_loss: 0.6691 - val_accuracy: 0.7800\n",
      "Epoch 192/300\n",
      "19/19 [==============================] - 0s 3ms/step - loss: 0.3366 - accuracy: 0.8417 - val_loss: 0.6947 - val_accuracy: 0.6700\n",
      "Epoch 193/300\n",
      "19/19 [==============================] - 0s 3ms/step - loss: 0.3500 - accuracy: 0.8367 - val_loss: 0.6756 - val_accuracy: 0.7700\n",
      "Epoch 194/300\n",
      "19/19 [==============================] - 0s 3ms/step - loss: 0.3405 - accuracy: 0.8517 - val_loss: 0.7313 - val_accuracy: 0.7100\n",
      "Epoch 195/300\n",
      "19/19 [==============================] - 0s 3ms/step - loss: 0.3619 - accuracy: 0.8200 - val_loss: 0.6932 - val_accuracy: 0.7500\n",
      "Epoch 196/300\n",
      "19/19 [==============================] - 0s 3ms/step - loss: 0.3483 - accuracy: 0.8467 - val_loss: 0.6547 - val_accuracy: 0.7300\n",
      "Epoch 197/300\n",
      "19/19 [==============================] - 0s 3ms/step - loss: 0.3381 - accuracy: 0.8300 - val_loss: 0.6424 - val_accuracy: 0.7200\n",
      "Epoch 198/300\n",
      "19/19 [==============================] - 0s 3ms/step - loss: 0.3364 - accuracy: 0.8467 - val_loss: 0.6416 - val_accuracy: 0.7700\n",
      "Epoch 199/300\n",
      "19/19 [==============================] - 0s 3ms/step - loss: 0.3387 - accuracy: 0.8400 - val_loss: 0.6146 - val_accuracy: 0.7400\n",
      "Epoch 200/300\n",
      "19/19 [==============================] - 0s 3ms/step - loss: 0.3379 - accuracy: 0.8367 - val_loss: 0.6620 - val_accuracy: 0.7800\n",
      "Epoch 201/300\n",
      "19/19 [==============================] - 0s 3ms/step - loss: 0.3406 - accuracy: 0.8383 - val_loss: 0.6574 - val_accuracy: 0.7300\n",
      "Epoch 202/300\n",
      "19/19 [==============================] - 0s 3ms/step - loss: 0.3553 - accuracy: 0.8300 - val_loss: 0.6266 - val_accuracy: 0.7800\n",
      "Epoch 203/300\n",
      "19/19 [==============================] - 0s 3ms/step - loss: 0.3292 - accuracy: 0.8233 - val_loss: 0.6595 - val_accuracy: 0.7600\n",
      "Epoch 204/300\n",
      "19/19 [==============================] - 0s 3ms/step - loss: 0.3386 - accuracy: 0.8433 - val_loss: 0.6777 - val_accuracy: 0.7400\n",
      "Epoch 205/300\n",
      "19/19 [==============================] - 0s 3ms/step - loss: 0.3258 - accuracy: 0.8483 - val_loss: 0.7261 - val_accuracy: 0.7600\n",
      "Epoch 206/300\n",
      "19/19 [==============================] - 0s 4ms/step - loss: 0.3360 - accuracy: 0.8517 - val_loss: 0.7214 - val_accuracy: 0.7500\n",
      "Epoch 207/300\n",
      "19/19 [==============================] - 0s 3ms/step - loss: 0.3437 - accuracy: 0.8317 - val_loss: 0.6601 - val_accuracy: 0.7900\n",
      "Epoch 208/300\n",
      "19/19 [==============================] - 0s 3ms/step - loss: 0.3295 - accuracy: 0.8567 - val_loss: 0.7302 - val_accuracy: 0.7400\n",
      "Epoch 209/300\n",
      "19/19 [==============================] - 0s 3ms/step - loss: 0.3142 - accuracy: 0.8517 - val_loss: 0.7113 - val_accuracy: 0.7200\n",
      "Epoch 210/300\n",
      "19/19 [==============================] - 0s 3ms/step - loss: 0.3246 - accuracy: 0.8500 - val_loss: 0.6935 - val_accuracy: 0.7600\n",
      "Epoch 211/300\n",
      "19/19 [==============================] - 0s 3ms/step - loss: 0.3269 - accuracy: 0.8517 - val_loss: 0.7729 - val_accuracy: 0.7200\n",
      "Epoch 212/300\n",
      "19/19 [==============================] - 0s 3ms/step - loss: 0.3217 - accuracy: 0.8517 - val_loss: 0.8310 - val_accuracy: 0.6400\n",
      "Epoch 213/300\n",
      "19/19 [==============================] - 0s 3ms/step - loss: 0.3298 - accuracy: 0.8350 - val_loss: 0.6604 - val_accuracy: 0.7500\n",
      "Epoch 214/300\n",
      "19/19 [==============================] - 0s 3ms/step - loss: 0.3107 - accuracy: 0.8567 - val_loss: 0.7624 - val_accuracy: 0.7300\n",
      "Epoch 215/300\n",
      "19/19 [==============================] - 0s 4ms/step - loss: 0.3126 - accuracy: 0.8617 - val_loss: 0.6501 - val_accuracy: 0.7300\n",
      "Epoch 216/300\n",
      "19/19 [==============================] - 0s 4ms/step - loss: 0.3123 - accuracy: 0.8400 - val_loss: 0.8307 - val_accuracy: 0.6700\n",
      "Epoch 217/300\n",
      "19/19 [==============================] - 0s 4ms/step - loss: 0.3334 - accuracy: 0.8483 - val_loss: 0.7381 - val_accuracy: 0.7400\n",
      "Epoch 218/300\n",
      "19/19 [==============================] - 0s 3ms/step - loss: 0.3262 - accuracy: 0.8550 - val_loss: 0.7307 - val_accuracy: 0.7300\n",
      "Epoch 219/300\n",
      "19/19 [==============================] - 0s 3ms/step - loss: 0.3151 - accuracy: 0.8533 - val_loss: 0.8063 - val_accuracy: 0.7400\n",
      "Epoch 220/300\n",
      "19/19 [==============================] - 0s 3ms/step - loss: 0.3367 - accuracy: 0.8300 - val_loss: 0.7003 - val_accuracy: 0.7500\n",
      "Epoch 221/300\n",
      "19/19 [==============================] - 0s 3ms/step - loss: 0.3279 - accuracy: 0.8517 - val_loss: 0.8016 - val_accuracy: 0.7300\n",
      "Epoch 222/300\n",
      "19/19 [==============================] - 0s 3ms/step - loss: 0.3268 - accuracy: 0.8533 - val_loss: 0.6752 - val_accuracy: 0.7400\n",
      "Epoch 223/300\n",
      "19/19 [==============================] - 0s 3ms/step - loss: 0.3251 - accuracy: 0.8383 - val_loss: 0.6669 - val_accuracy: 0.7800\n",
      "Epoch 224/300\n",
      "19/19 [==============================] - 0s 3ms/step - loss: 0.3194 - accuracy: 0.8450 - val_loss: 0.7059 - val_accuracy: 0.7500\n",
      "Epoch 225/300\n",
      "19/19 [==============================] - 0s 3ms/step - loss: 0.3214 - accuracy: 0.8600 - val_loss: 0.6945 - val_accuracy: 0.7500\n",
      "Epoch 226/300\n",
      "19/19 [==============================] - 0s 3ms/step - loss: 0.3191 - accuracy: 0.8467 - val_loss: 0.7202 - val_accuracy: 0.7400\n",
      "Epoch 227/300\n",
      "19/19 [==============================] - 0s 4ms/step - loss: 0.3079 - accuracy: 0.8633 - val_loss: 0.7059 - val_accuracy: 0.7500\n",
      "Epoch 228/300\n",
      "19/19 [==============================] - 0s 3ms/step - loss: 0.3119 - accuracy: 0.8567 - val_loss: 0.6776 - val_accuracy: 0.7500\n",
      "Epoch 229/300\n",
      "19/19 [==============================] - 0s 3ms/step - loss: 0.2970 - accuracy: 0.8600 - val_loss: 0.7360 - val_accuracy: 0.7500\n",
      "Epoch 230/300\n"
     ]
    },
    {
     "name": "stdout",
     "output_type": "stream",
     "text": [
      "19/19 [==============================] - 0s 3ms/step - loss: 0.2968 - accuracy: 0.8617 - val_loss: 0.6807 - val_accuracy: 0.7800\n",
      "Epoch 231/300\n",
      "19/19 [==============================] - 0s 3ms/step - loss: 0.3038 - accuracy: 0.8600 - val_loss: 0.7650 - val_accuracy: 0.7000\n",
      "Epoch 232/300\n",
      "19/19 [==============================] - 0s 3ms/step - loss: 0.3124 - accuracy: 0.8567 - val_loss: 0.7080 - val_accuracy: 0.7400\n",
      "Epoch 233/300\n",
      "19/19 [==============================] - 0s 3ms/step - loss: 0.2967 - accuracy: 0.8617 - val_loss: 0.7656 - val_accuracy: 0.7100\n",
      "Epoch 234/300\n",
      "19/19 [==============================] - 0s 3ms/step - loss: 0.2924 - accuracy: 0.8717 - val_loss: 0.7439 - val_accuracy: 0.7300\n",
      "Epoch 235/300\n",
      "19/19 [==============================] - 0s 3ms/step - loss: 0.3236 - accuracy: 0.8500 - val_loss: 0.6920 - val_accuracy: 0.7600\n",
      "Epoch 236/300\n",
      "19/19 [==============================] - 0s 3ms/step - loss: 0.2975 - accuracy: 0.8683 - val_loss: 0.7458 - val_accuracy: 0.7400\n",
      "Epoch 237/300\n",
      "19/19 [==============================] - 0s 3ms/step - loss: 0.3031 - accuracy: 0.8600 - val_loss: 0.7356 - val_accuracy: 0.7400\n",
      "Epoch 238/300\n",
      "19/19 [==============================] - 0s 3ms/step - loss: 0.2989 - accuracy: 0.8600 - val_loss: 0.7701 - val_accuracy: 0.7300\n",
      "Epoch 239/300\n",
      "19/19 [==============================] - 0s 3ms/step - loss: 0.2833 - accuracy: 0.8833 - val_loss: 0.7658 - val_accuracy: 0.7500\n",
      "Epoch 240/300\n",
      "19/19 [==============================] - 0s 3ms/step - loss: 0.3090 - accuracy: 0.8517 - val_loss: 0.8298 - val_accuracy: 0.6900\n",
      "Epoch 241/300\n",
      "19/19 [==============================] - 0s 3ms/step - loss: 0.3152 - accuracy: 0.8600 - val_loss: 0.7291 - val_accuracy: 0.7300\n",
      "Epoch 242/300\n",
      "19/19 [==============================] - 0s 3ms/step - loss: 0.2967 - accuracy: 0.8633 - val_loss: 0.8784 - val_accuracy: 0.7100\n",
      "Epoch 243/300\n",
      "19/19 [==============================] - 0s 3ms/step - loss: 0.2793 - accuracy: 0.8883 - val_loss: 0.7047 - val_accuracy: 0.7500\n",
      "Epoch 244/300\n",
      "19/19 [==============================] - 0s 3ms/step - loss: 0.2983 - accuracy: 0.8583 - val_loss: 0.9155 - val_accuracy: 0.7100\n",
      "Epoch 245/300\n",
      "19/19 [==============================] - 0s 3ms/step - loss: 0.2899 - accuracy: 0.8733 - val_loss: 0.7129 - val_accuracy: 0.7000\n",
      "Epoch 246/300\n",
      "19/19 [==============================] - 0s 3ms/step - loss: 0.3155 - accuracy: 0.8567 - val_loss: 0.7242 - val_accuracy: 0.7800\n",
      "Epoch 247/300\n",
      "19/19 [==============================] - 0s 3ms/step - loss: 0.2859 - accuracy: 0.8650 - val_loss: 0.7259 - val_accuracy: 0.7400\n",
      "Epoch 248/300\n",
      "19/19 [==============================] - 0s 3ms/step - loss: 0.3121 - accuracy: 0.8533 - val_loss: 0.7628 - val_accuracy: 0.7300\n",
      "Epoch 249/300\n",
      "19/19 [==============================] - 0s 3ms/step - loss: 0.2877 - accuracy: 0.8800 - val_loss: 0.7812 - val_accuracy: 0.7200\n",
      "Epoch 250/300\n",
      "19/19 [==============================] - 0s 3ms/step - loss: 0.2850 - accuracy: 0.8783 - val_loss: 0.7190 - val_accuracy: 0.7400\n",
      "Epoch 251/300\n",
      "19/19 [==============================] - 0s 3ms/step - loss: 0.2770 - accuracy: 0.8767 - val_loss: 0.8608 - val_accuracy: 0.7000\n",
      "Epoch 252/300\n",
      "19/19 [==============================] - 0s 3ms/step - loss: 0.2734 - accuracy: 0.8717 - val_loss: 0.7716 - val_accuracy: 0.7200\n",
      "Epoch 253/300\n",
      "19/19 [==============================] - 0s 3ms/step - loss: 0.2834 - accuracy: 0.8817 - val_loss: 0.7410 - val_accuracy: 0.7700\n",
      "Epoch 254/300\n",
      "19/19 [==============================] - 0s 3ms/step - loss: 0.2769 - accuracy: 0.8717 - val_loss: 0.8087 - val_accuracy: 0.7800\n",
      "Epoch 255/300\n",
      "19/19 [==============================] - 0s 3ms/step - loss: 0.2796 - accuracy: 0.8667 - val_loss: 0.8844 - val_accuracy: 0.7200\n",
      "Epoch 256/300\n",
      "19/19 [==============================] - 0s 3ms/step - loss: 0.2885 - accuracy: 0.8717 - val_loss: 0.8507 - val_accuracy: 0.7000\n",
      "Epoch 257/300\n",
      "19/19 [==============================] - 0s 3ms/step - loss: 0.2723 - accuracy: 0.8717 - val_loss: 0.7678 - val_accuracy: 0.7500\n",
      "Epoch 258/300\n",
      "19/19 [==============================] - 0s 3ms/step - loss: 0.2791 - accuracy: 0.8717 - val_loss: 0.7914 - val_accuracy: 0.7400\n",
      "Epoch 259/300\n",
      "19/19 [==============================] - 0s 3ms/step - loss: 0.2889 - accuracy: 0.8667 - val_loss: 0.7646 - val_accuracy: 0.7500\n",
      "Epoch 260/300\n",
      "19/19 [==============================] - 0s 3ms/step - loss: 0.2738 - accuracy: 0.8733 - val_loss: 0.8649 - val_accuracy: 0.7500\n",
      "Epoch 261/300\n",
      "19/19 [==============================] - 0s 4ms/step - loss: 0.3025 - accuracy: 0.8600 - val_loss: 0.7624 - val_accuracy: 0.7600\n",
      "Epoch 262/300\n",
      "19/19 [==============================] - 0s 4ms/step - loss: 0.2895 - accuracy: 0.8633 - val_loss: 0.7269 - val_accuracy: 0.7800\n",
      "Epoch 263/300\n",
      "19/19 [==============================] - 0s 4ms/step - loss: 0.2843 - accuracy: 0.8650 - val_loss: 0.8433 - val_accuracy: 0.7100\n",
      "Epoch 264/300\n",
      "19/19 [==============================] - 0s 3ms/step - loss: 0.2777 - accuracy: 0.8700 - val_loss: 0.7746 - val_accuracy: 0.7300\n",
      "Epoch 265/300\n",
      "19/19 [==============================] - 0s 4ms/step - loss: 0.3162 - accuracy: 0.8550 - val_loss: 0.8652 - val_accuracy: 0.7200\n",
      "Epoch 266/300\n",
      "19/19 [==============================] - 0s 3ms/step - loss: 0.2731 - accuracy: 0.8867 - val_loss: 0.8528 - val_accuracy: 0.7100\n",
      "Epoch 267/300\n",
      "19/19 [==============================] - 0s 3ms/step - loss: 0.2630 - accuracy: 0.8767 - val_loss: 0.8411 - val_accuracy: 0.7100\n",
      "Epoch 268/300\n",
      "19/19 [==============================] - 0s 3ms/step - loss: 0.2657 - accuracy: 0.8817 - val_loss: 0.7605 - val_accuracy: 0.7500\n",
      "Epoch 269/300\n",
      "19/19 [==============================] - 0s 3ms/step - loss: 0.2559 - accuracy: 0.8817 - val_loss: 0.8069 - val_accuracy: 0.7600\n",
      "Epoch 270/300\n",
      "19/19 [==============================] - 0s 3ms/step - loss: 0.2622 - accuracy: 0.8917 - val_loss: 0.8129 - val_accuracy: 0.7400\n",
      "Epoch 271/300\n",
      "19/19 [==============================] - 0s 3ms/step - loss: 0.2607 - accuracy: 0.8733 - val_loss: 0.9803 - val_accuracy: 0.6900\n",
      "Epoch 272/300\n",
      "19/19 [==============================] - 0s 3ms/step - loss: 0.2567 - accuracy: 0.8867 - val_loss: 0.8691 - val_accuracy: 0.7000\n",
      "Epoch 273/300\n",
      "19/19 [==============================] - 0s 3ms/step - loss: 0.2927 - accuracy: 0.8867 - val_loss: 0.8695 - val_accuracy: 0.7400\n",
      "Epoch 274/300\n",
      "19/19 [==============================] - 0s 3ms/step - loss: 0.2501 - accuracy: 0.8833 - val_loss: 0.8360 - val_accuracy: 0.7400\n",
      "Epoch 275/300\n",
      "19/19 [==============================] - 0s 3ms/step - loss: 0.2771 - accuracy: 0.8800 - val_loss: 0.8681 - val_accuracy: 0.7500\n",
      "Epoch 276/300\n",
      "19/19 [==============================] - 0s 3ms/step - loss: 0.2732 - accuracy: 0.8800 - val_loss: 0.8758 - val_accuracy: 0.6900\n",
      "Epoch 277/300\n",
      "19/19 [==============================] - 0s 3ms/step - loss: 0.2588 - accuracy: 0.8867 - val_loss: 0.9171 - val_accuracy: 0.7100\n",
      "Epoch 278/300\n",
      "19/19 [==============================] - 0s 3ms/step - loss: 0.2672 - accuracy: 0.8767 - val_loss: 0.8109 - val_accuracy: 0.7500\n",
      "Epoch 279/300\n",
      "19/19 [==============================] - 0s 4ms/step - loss: 0.2533 - accuracy: 0.8917 - val_loss: 1.0903 - val_accuracy: 0.7100\n",
      "Epoch 280/300\n",
      "19/19 [==============================] - 0s 4ms/step - loss: 0.2640 - accuracy: 0.8933 - val_loss: 1.0742 - val_accuracy: 0.7500\n",
      "Epoch 281/300\n",
      "19/19 [==============================] - 0s 4ms/step - loss: 0.2684 - accuracy: 0.8867 - val_loss: 0.8494 - val_accuracy: 0.7600\n",
      "Epoch 282/300\n",
      "19/19 [==============================] - 0s 3ms/step - loss: 0.2312 - accuracy: 0.9000 - val_loss: 0.8288 - val_accuracy: 0.7400\n",
      "Epoch 283/300\n",
      "19/19 [==============================] - 0s 3ms/step - loss: 0.2581 - accuracy: 0.8917 - val_loss: 0.9286 - val_accuracy: 0.7000\n",
      "Epoch 284/300\n",
      "19/19 [==============================] - 0s 3ms/step - loss: 0.2706 - accuracy: 0.8850 - val_loss: 1.1011 - val_accuracy: 0.7100\n",
      "Epoch 285/300\n",
      "19/19 [==============================] - 0s 3ms/step - loss: 0.2994 - accuracy: 0.8700 - val_loss: 0.8302 - val_accuracy: 0.7500\n",
      "Epoch 286/300\n",
      "19/19 [==============================] - 0s 3ms/step - loss: 0.2592 - accuracy: 0.8933 - val_loss: 0.9208 - val_accuracy: 0.7300\n",
      "Epoch 287/300\n"
     ]
    },
    {
     "name": "stdout",
     "output_type": "stream",
     "text": [
      "19/19 [==============================] - 0s 4ms/step - loss: 0.2604 - accuracy: 0.8967 - val_loss: 0.8505 - val_accuracy: 0.7600\n",
      "Epoch 288/300\n",
      "19/19 [==============================] - 0s 3ms/step - loss: 0.2483 - accuracy: 0.8900 - val_loss: 0.8134 - val_accuracy: 0.7600\n",
      "Epoch 289/300\n",
      "19/19 [==============================] - 0s 3ms/step - loss: 0.2597 - accuracy: 0.8883 - val_loss: 0.8397 - val_accuracy: 0.7500\n",
      "Epoch 290/300\n",
      "19/19 [==============================] - 0s 3ms/step - loss: 0.2526 - accuracy: 0.8983 - val_loss: 0.8872 - val_accuracy: 0.7300\n",
      "Epoch 291/300\n",
      "19/19 [==============================] - 0s 3ms/step - loss: 0.2553 - accuracy: 0.8933 - val_loss: 0.8339 - val_accuracy: 0.7300\n",
      "Epoch 292/300\n",
      "19/19 [==============================] - 0s 3ms/step - loss: 0.2420 - accuracy: 0.8917 - val_loss: 0.8091 - val_accuracy: 0.7700\n",
      "Epoch 293/300\n",
      "19/19 [==============================] - 0s 3ms/step - loss: 0.2479 - accuracy: 0.8883 - val_loss: 0.8739 - val_accuracy: 0.7500\n",
      "Epoch 294/300\n",
      "19/19 [==============================] - 0s 3ms/step - loss: 0.2457 - accuracy: 0.8967 - val_loss: 0.9060 - val_accuracy: 0.6900\n",
      "Epoch 295/300\n",
      "19/19 [==============================] - 0s 3ms/step - loss: 0.2420 - accuracy: 0.9050 - val_loss: 0.8863 - val_accuracy: 0.7500\n",
      "Epoch 296/300\n",
      "19/19 [==============================] - 0s 3ms/step - loss: 0.2315 - accuracy: 0.9067 - val_loss: 1.0149 - val_accuracy: 0.7100\n",
      "Epoch 297/300\n",
      "19/19 [==============================] - 0s 3ms/step - loss: 0.2475 - accuracy: 0.8933 - val_loss: 0.9437 - val_accuracy: 0.7100\n",
      "Epoch 298/300\n",
      "19/19 [==============================] - 0s 3ms/step - loss: 0.2466 - accuracy: 0.8950 - val_loss: 1.0199 - val_accuracy: 0.7000\n",
      "Epoch 299/300\n",
      "19/19 [==============================] - 0s 3ms/step - loss: 0.2409 - accuracy: 0.8967 - val_loss: 0.9041 - val_accuracy: 0.7300\n",
      "Epoch 300/300\n",
      "19/19 [==============================] - 0s 3ms/step - loss: 0.2599 - accuracy: 0.8900 - val_loss: 0.9109 - val_accuracy: 0.7800\n"
     ]
    }
   ],
   "source": [
    "hist = model.fit(X_train, Y_train,\n",
    "                epochs=300,\n",
    "                validation_data=(X_val, Y_val),\n",
    "                verbose=1)"
   ]
  },
  {
   "cell_type": "markdown",
   "id": "63308b6b",
   "metadata": {},
   "source": [
    "# 5. 학습과정 살펴보기"
   ]
  },
  {
   "cell_type": "code",
   "execution_count": 30,
   "id": "d9201619",
   "metadata": {},
   "outputs": [
    {
     "data": {
      "text/plain": [
       "dict_keys(['loss', 'accuracy', 'val_loss', 'val_accuracy'])"
      ]
     },
     "execution_count": 30,
     "metadata": {},
     "output_type": "execute_result"
    }
   ],
   "source": [
    "hist.history.keys()"
   ]
  },
  {
   "cell_type": "code",
   "execution_count": 32,
   "id": "f73ce1c8",
   "metadata": {},
   "outputs": [
    {
     "data": {
      "image/png": "[encoded data removed]",
      "text/plain": [
       "<Figure size 1200x600 with 2 Axes>"
      ]
     },
     "metadata": {},
     "output_type": "display_data"
    }
   ],
   "source": [
    "fig, loss_ax = plt.subplots(figsize=(12,6))\n",
    "loss_ax.plot(hist.history['loss'], 'y', label='train loss')\n",
    "loss_ax.plot(hist.history['val_loss'], 'r', label='val loss')\n",
    "acc_ax = loss_ax.twinx()\n",
    "acc_ax.plot(hist.history['accuracy'], 'g', label='train accuracy')\n",
    "acc_ax.plot(hist.history['val_accuracy'], 'b', label='val accuracy')\n",
    "loss_ax.set_xlabel('epochs')\n",
    "loss_ax.set_ylabel('loss')\n",
    "acc_ax.set_ylabel('accuracy')\n",
    "loss_ax.legend(loc='center right')\n",
    "acc_ax.legend()\n",
    "plt.show()"
   ]
  },
  {
   "cell_type": "markdown",
   "id": "fc07db2d",
   "metadata": {},
   "source": [
    "# 6. 모델평가 & 교차표"
   ]
  },
  {
   "cell_type": "code",
   "execution_count": 33,
   "id": "94982360",
   "metadata": {},
   "outputs": [
    {
     "name": "stdout",
     "output_type": "stream",
     "text": [
      "loss : 0.9574766755104065, 정확도 : 0.75\n"
     ]
    }
   ],
   "source": [
    "\n",
    "loss, accuracy = model.evaluate(X_test, Y_test, verbose=0)\n",
    "print(f\"loss : {loss}, 정확도 : {accuracy}\")"
   ]
  },
  {
   "cell_type": "code",
   "execution_count": 34,
   "id": "61eb5f51",
   "metadata": {},
   "outputs": [
    {
     "data": {
      "text/plain": [
       "array([0, 1, 1, 0, 0, 0, 1, 0, 1, 1, 0, 0, 1, 0, 0, 1, 1, 0, 0, 1, 0, 0,\n",
       "       1, 0, 0, 0, 0, 0, 0, 0, 1, 1, 1, 0, 0, 0, 0, 0, 0, 1, 1, 0, 0, 1,\n",
       "       0, 0, 1, 0, 1, 1, 1, 0, 0, 1, 1, 1, 0, 1, 0, 1, 0, 1, 0, 0, 0, 0,\n",
       "       1, 0], dtype=int64)"
      ]
     },
     "execution_count": 34,
     "metadata": {},
     "output_type": "execute_result"
    }
   ],
   "source": [
    "# 교차표\n",
    "Y_test.argmax(axis=1) # 실제값 y_test"
   ]
  },
  {
   "cell_type": "code",
   "execution_count": 35,
   "id": "33f619a6",
   "metadata": {},
   "outputs": [
    {
     "name": "stdout",
     "output_type": "stream",
     "text": [
      "3/3 [==============================] - 0s 3ms/step\n"
     ]
    },
    {
     "data": {
      "text/plain": [
       "array([0, 0, 1, 0, 0, 0, 0, 1, 1, 1, 1, 1, 0, 0, 0, 1, 1, 0, 1, 0, 0, 0,\n",
       "       0, 0, 0, 0, 0, 0, 0, 0, 0, 0, 1, 0, 1, 0, 0, 0, 0, 0, 1, 0, 0, 1,\n",
       "       0, 0, 0, 0, 1, 0, 1, 1, 0, 1, 1, 1, 1, 1, 0, 1, 0, 1, 0, 0, 0, 0,\n",
       "       1, 0], dtype=int64)"
      ]
     },
     "execution_count": 35,
     "metadata": {},
     "output_type": "execute_result"
    }
   ],
   "source": [
    "y_hat = model.predict(X_test).argmax(axis=1)\n",
    "y_hat"
   ]
  },
  {
   "cell_type": "code",
   "execution_count": 36,
   "id": "35dceade",
   "metadata": {},
   "outputs": [
    {
     "data": {
      "text/html": [
       "<div>\n",
       "<style scoped>\n",
       "    .dataframe tbody tr th:only-of-type {\n",
       "        vertical-align: middle;\n",
       "    }\n",
       "\n",
       "    .dataframe tbody tr th {\n",
       "        vertical-align: top;\n",
       "    }\n",
       "\n",
       "    .dataframe thead th {\n",
       "        text-align: right;\n",
       "    }\n",
       "</style>\n",
       "<table border=\"1\" class=\"dataframe\">\n",
       "  <thead>\n",
       "    <tr style=\"text-align: right;\">\n",
       "      <th>예측값</th>\n",
       "      <th>0</th>\n",
       "      <th>1</th>\n",
       "    </tr>\n",
       "    <tr>\n",
       "      <th>실제값</th>\n",
       "      <th></th>\n",
       "      <th></th>\n",
       "    </tr>\n",
       "  </thead>\n",
       "  <tbody>\n",
       "    <tr>\n",
       "      <th>0.0</th>\n",
       "      <td>34</td>\n",
       "      <td>7</td>\n",
       "    </tr>\n",
       "    <tr>\n",
       "      <th>1.0</th>\n",
       "      <td>10</td>\n",
       "      <td>17</td>\n",
       "    </tr>\n",
       "  </tbody>\n",
       "</table>\n",
       "</div>"
      ],
      "text/plain": [
       "예측값   0   1\n",
       "실제값        \n",
       "0.0  34   7\n",
       "1.0  10  17"
      ]
     },
     "execution_count": 36,
     "metadata": {},
     "output_type": "execute_result"
    }
   ],
   "source": [
    "pd.crosstab(y_test, y_hat, rownames=['실제값'], colnames=['예측값'])"
   ]
  },
  {
   "cell_type": "code",
   "execution_count": 37,
   "id": "3f1a2944",
   "metadata": {},
   "outputs": [
    {
     "data": {
      "text/plain": [
       "array([[34,  7],\n",
       "       [10, 17]], dtype=int64)"
      ]
     },
     "execution_count": 37,
     "metadata": {},
     "output_type": "execute_result"
    }
   ],
   "source": [
    "confusion_matrix(y_test, y_hat)"
   ]
  },
  {
   "cell_type": "markdown",
   "id": "3f86df0c",
   "metadata": {},
   "source": [
    "# 7. 모델 저장 및 사용"
   ]
  },
  {
   "cell_type": "code",
   "execution_count": 38,
   "id": "ca7df519",
   "metadata": {},
   "outputs": [],
   "source": [
    "from tensorflow.keras.models import save_model, load_model\n",
    "# model.save('model/06_pima.h5')\n",
    "save_model(model, 'model/06_pima.h5')"
   ]
  },
  {
   "cell_type": "code",
   "execution_count": 39,
   "id": "91931a63",
   "metadata": {},
   "outputs": [],
   "source": [
    "model2 = load_model('model/06_pima.h5')"
   ]
  },
  {
   "cell_type": "code",
   "execution_count": 40,
   "id": "949303bb",
   "metadata": {},
   "outputs": [
    {
     "name": "stdout",
     "output_type": "stream",
     "text": [
      "1/1 [==============================] - 0s 85ms/step\n"
     ]
    },
    {
     "data": {
      "text/plain": [
       "array([0, 0], dtype=int64)"
      ]
     },
     "execution_count": 40,
     "metadata": {},
     "output_type": "execute_result"
    }
   ],
   "source": [
    "pred = model2.predict([[2, 122,  76,  27, 200,  35.9,   0.483, 26 ],\n",
    "               [6, 125,  78,  31,   0,  27.6, 0.565,   49]])\n",
    "pred.argmax(axis=1)"
   ]
  },
  {
   "cell_type": "code",
   "execution_count": 41,
   "id": "64ed74b8",
   "metadata": {},
   "outputs": [
    {
     "data": {
      "text/plain": [
       "array([0, 0], dtype=int64)"
      ]
     },
     "execution_count": 41,
     "metadata": {},
     "output_type": "execute_result"
    }
   ],
   "source": [
    "\n",
    "np.argmax(pred, axis=1)"
   ]
  },
  {
   "cell_type": "code",
   "execution_count": null,
   "id": "c0ba7e3e",
   "metadata": {},
   "outputs": [],
   "source": []
  }
 ],
 "metadata": {
  "kernelspec": {
   "display_name": "ml-dl-nlp",
   "language": "python",
   "name": "ml-dl-nlp"
  },
  "language_info": {
   "codemirror_mode": {
    "name": "ipython",
    "version": 3
   },
   "file_extension": ".py",
   "mimetype": "text/x-python",
   "name": "python",
   "nbconvert_exporter": "python",
   "pygments_lexer": "ipython3",
   "version": "3.10.18"
  },
  "toc": {
   "base_numbering": 1,
   "nav_menu": {},
   "number_sections": false,
   "sideBar": true,
   "skip_h1_title": false,
   "title_cell": "Table of Contents",
   "title_sidebar": "Contents",
   "toc_cell": false,
   "toc_position": {},
   "toc_section_display": true,
   "toc_window_display": false
  }
 },
 "nbformat": 4,
 "nbformat_minor": 5
}
