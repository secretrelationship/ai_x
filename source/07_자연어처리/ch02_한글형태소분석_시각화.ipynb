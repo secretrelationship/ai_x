{
 "cells": [
  {
   "cell_type": "code",
   "execution_count": 1,
   "id": "b08d504c",
   "metadata": {},
   "outputs": [
    {
     "data": {
      "text/html": [
       "\n",
       "<style>\n",
       "div.container{width:100% !important;}\n",
       "div.cell.code_cell.rendered{width:100%;}\n",
       "div.input_prompt{padding:0px;}\n",
       "div.CodeMirror {font-family:Consolas; font-size:20pt;}\n",
       "div.text_cell_render.rendered_html{font-size:18pt;}\n",
       "div.text_cell_render.rendered_html{font-size:15pt;}\n",
       "div.output {font-size:18pt; font-weight:bold;}\n",
       "div.input {font-family:Consolas; font-size:18pt;}\n",
       "div.prompt {min-width:70px;}\n",
       "div#toc-wrapper{padding-top:120px;}\n",
       "div.text_cell_render ul li{font-size:18pt;padding:5px;}\n",
       "table.dataframe{font-size:18px;}\n",
       "</style>\n"
      ],
      "text/plain": [
       "<IPython.core.display.HTML object>"
      ]
     },
     "metadata": {},
     "output_type": "display_data"
    }
   ],
   "source": [
    "from IPython.display import display, HTML\n",
    "display(HTML(\"\"\"\n",
    "<style>\n",
    "div.container{width:100% !important;}\n",
    "div.cell.code_cell.rendered{width:100%;}\n",
    "div.input_prompt{padding:0px;}\n",
    "div.CodeMirror {font-family:Consolas; font-size:20pt;}\n",
    "div.text_cell_render.rendered_html{font-size:18pt;}\n",
    "div.text_cell_render.rendered_html{font-size:15pt;}\n",
    "div.output {font-size:18pt; font-weight:bold;}\n",
    "div.input {font-family:Consolas; font-size:18pt;}\n",
    "div.prompt {min-width:70px;}\n",
    "div#toc-wrapper{padding-top:120px;}\n",
    "div.text_cell_render ul li{font-size:18pt;padding:5px;}\n",
    "table.dataframe{font-size:18px;}\n",
    "</style>\n",
    "\"\"\"))"
   ]
  },
  {
   "cell_type": "markdown",
   "id": "8c1606ea",
   "metadata": {},
   "source": [
    "**<font size=\"6\", color=\"red\">ch2. 한글형태소분석</font>**\n",
    "# 1. 자연어처리\n",
    "- 자연어: 일상적인 언어\n",
    "- 자연어 처리분야:\n",
    "    * 자연어 이해:\n",
    "    * 자연어 생성:\n",
    "    * 활용분야: 트랜드분석, 탐색적 분석, 맞춤법검사, 번역기, 챗봇\n",
    "# 2. 자연어 이해 처리절차\n",
    "- 전처리: 단어, 어절 추출\n",
    "- 분석 후보 생성: 형태소 분리, 품사태깅(pos tagging)\n",
    "- 제약조건(불용어 처리) : 규칙 확인 \n",
    "- 분석: 시각화(워드클라우드). 연관분석, RNN, LSTM, GRU\n",
    "# 3. 한글형태소 분석 엔진(Konply,...)\n",
    "- 공통기능: morphs(형태소 나누기), nouns(명사추출), pos(형태소로 나누어 품사 태그)\n",
    "- konply(pip install konlpy)\n",
    "    * HanNanum: 자바로 만든 형태소 분석기(JAVA_HOME 시스템환경변수, path설정)\n",
    "    * Kkma : 자바로 만든 형태소 분석기(JAVA_HOME 시스템환경변수, path설정) \n",
    "    * Komoran: 자바로 만든 형태소 분석기(JAVA_HOME 시스템환경변수, path설정) \n",
    "    * Okt\n",
    "- Mecab(pip install python-mecab-ko)\n",
    "    * Mecab: C++로 만든 형태소 분석기, 저사양환경에서 사용가능 다국어 바인딩 지원 "
   ]
  },
  {
   "cell_type": "code",
   "execution_count": 3,
   "id": "48cdfae3",
   "metadata": {},
   "outputs": [
    {
     "data": {
      "text/plain": [
       "'C:\\\\Program Files\\\\Java\\\\jdk-17'"
      ]
     },
     "execution_count": 3,
     "metadata": {},
     "output_type": "execute_result"
    }
   ],
   "source": [
    "import os\n",
    "os.environ.get('JAVA_HOME')"
   ]
  },
  {
   "cell_type": "code",
   "execution_count": 4,
   "id": "84c0906a",
   "metadata": {},
   "outputs": [],
   "source": [
    "text = '''아름답지만 다소 복잡하기도 한 한국어는 전세계에서 13번째로 많이 사용되는 언어입니다. \n",
    "'''"
   ]
  },
  {
   "cell_type": "markdown",
   "id": "ed7775f4",
   "metadata": {},
   "source": [
    "## 3.1 HanNanum"
   ]
  },
  {
   "cell_type": "code",
   "execution_count": 5,
   "id": "cf9a51e8",
   "metadata": {},
   "outputs": [
    {
     "data": {
      "text/plain": [
       "[[[('아름답', 'paa'), ('지만', 'ecs')],\n",
       "  [('아름답', 'paa'), ('지', 'ecs'), ('만', 'jxc')],\n",
       "  [('아름답', 'paa'), ('지', 'ecx'), ('말', 'px'), ('ㄴ', 'etm')]],\n",
       " [[('다소', 'mag')], [('다소', 'ncn')]],\n",
       " [[('복잡', 'ncn'), ('하기', 'ncn'), ('도', 'jxc')],\n",
       "  [('복잡', 'ncn'), ('하기', 'ncn'), ('도', 'ncn')],\n",
       "  [('복잡', 'ncps'), ('하기', 'ncn'), ('도', 'jxc')],\n",
       "  [('복잡', 'ncps'), ('하기', 'ncn'), ('도', 'ncn')],\n",
       "  [('복잡', 'ncps'), ('하', 'xsms'), ('기', 'etn'), ('도', 'jxc')]],\n",
       " [[('하', 'pvg'), ('ㄴ', 'etm')],\n",
       "  [('한', 'nnc')],\n",
       "  [('한', 'ncn')],\n",
       "  [('한', 'nbn')],\n",
       "  [('하', 'px'), ('ㄴ', 'etm')]],\n",
       " [[('한국어', 'ncn'), ('는', 'jxc')]],\n",
       " [[('전세계', 'ncn'), ('에서', 'jca')],\n",
       "  [('전세', 'ncn'), ('계', 'ncn'), ('에서', 'jca')],\n",
       "  [('전', 'xp'), ('세계', 'ncn'), ('에서', 'jca')]],\n",
       " [[('13', 'nnc'), ('번', 'nbu'), ('째', 'xsnu'), ('로', 'jca')]],\n",
       " [[('많', 'paa'), ('이', 'xsa')], [('많이', 'mag')]],\n",
       " [[('사용', 'ncpa'), ('되', 'xsvn'), ('는', 'etm')]],\n",
       " [[('언어', 'ncn'), ('이', 'jp'), ('ㅂ니다', 'ef')]],\n",
       " [[('.', 'sf')], [('.', 'sy')]]]"
      ]
     },
     "execution_count": 5,
     "metadata": {},
     "output_type": "execute_result"
    }
   ],
   "source": [
    "from konlpy.tag import Hannanum\n",
    "hannanum = Hannanum(jvmpath=None,\n",
    "                   max_heap_size=1024) #기본값:1024\n",
    "hannanum.analyze(text)"
   ]
  },
  {
   "cell_type": "code",
   "execution_count": 7,
   "id": "b00192b1",
   "metadata": {},
   "outputs": [
    {
     "name": "stdout",
     "output_type": "stream",
     "text": [
      "['아름답', '지만', '다소', '복잡', '하', '기', '도', '하', 'ㄴ', '한국어', '는', '전세계', '에서', '13번', '째', '로', '많', '이', '사용', '되', '는', '언어', '이', 'ㅂ니다', '.']\n"
     ]
    }
   ],
   "source": [
    "# 형태소 분석:morphs\n",
    "print(hannanum.morphs(text))"
   ]
  },
  {
   "cell_type": "code",
   "execution_count": 8,
   "id": "0069377e",
   "metadata": {},
   "outputs": [
    {
     "name": "stdout",
     "output_type": "stream",
     "text": [
      "['복잡', '한국어', '전세계', '13번', '사용', '언어']\n"
     ]
    }
   ],
   "source": [
    "#명사 추출\n",
    "print(hannanum.nouns(text))"
   ]
  },
  {
   "cell_type": "code",
   "execution_count": 9,
   "id": "27c2535e",
   "metadata": {},
   "outputs": [
    {
     "name": "stdout",
     "output_type": "stream",
     "text": [
      "[('아름답', 'P'), ('지만', 'E'), ('다소', 'M'), ('복잡', 'N'), ('하', 'X'), ('기', 'E'), ('도', 'J'), ('하', 'P'), ('ㄴ', 'E'), ('한국어', 'N'), ('는', 'J'), ('전세계', 'N'), ('에서', 'J'), ('13번', 'N'), ('째', 'X'), ('로', 'J'), ('많', 'P'), ('이', 'X'), ('사용', 'N'), ('되', 'X'), ('는', 'E'), ('언어', 'N'), ('이', 'J'), ('ㅂ니다', 'E'), ('.', 'S')]\n"
     ]
    }
   ],
   "source": [
    "#품사 추출\n",
    "print(hannanum.pos(text))"
   ]
  },
  {
   "cell_type": "code",
   "execution_count": null,
   "id": "e82a5d24",
   "metadata": {},
   "outputs": [],
   "source": []
  }
 ],
 "metadata": {
  "kernelspec": {
   "display_name": "ml-dl-nlp",
   "language": "python",
   "name": "ml-dl-nlp"
  },
  "language_info": {
   "codemirror_mode": {
    "name": "ipython",
    "version": 3
   },
   "file_extension": ".py",
   "mimetype": "text/x-python",
   "name": "python",
   "nbconvert_exporter": "python",
   "pygments_lexer": "ipython3",
   "version": "3.10.18"
  },
  "toc": {
   "base_numbering": 1,
   "nav_menu": {},
   "number_sections": false,
   "sideBar": true,
   "skip_h1_title": false,
   "title_cell": "Table of Contents",
   "title_sidebar": "Contents",
   "toc_cell": false,
   "toc_position": {},
   "toc_section_display": true,
   "toc_window_display": false
  }
 },
 "nbformat": 4,
 "nbformat_minor": 5
}
