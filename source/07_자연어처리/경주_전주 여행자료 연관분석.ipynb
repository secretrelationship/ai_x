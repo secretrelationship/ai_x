{
 "cells": [
  {
   "cell_type": "code",
   "execution_count": 1,
   "id": "f96203fd",
   "metadata": {},
   "outputs": [
    {
     "data": {
      "text/html": [
       "\n",
       "<style>\n",
       "div.container{width:100% !important;}\n",
       "div.cell.code_cell.rendered{width:100%;}\n",
       "div.input_prompt{padding:0px;}\n",
       "div.CodeMirror {font-family:Consolas; font-size:20pt;}\n",
       "div.text_cell_render.rendered_html{font-size:18pt;}\n",
       "div.text_cell_render.rendered_html{font-size:15pt;}\n",
       "div.output {font-size:18pt; font-weight:bold;}\n",
       "div.input {font-family:Consolas; font-size:18pt;}\n",
       "div.prompt {min-width:70px;}\n",
       "div#toc-wrapper{padding-top:120px;}\n",
       "div.text_cell_render ul li{font-size:18pt;padding:5px;}\n",
       "table.dataframe{font-size:18px;}\n",
       "</style>\n"
      ],
      "text/plain": [
       "<IPython.core.display.HTML object>"
      ]
     },
     "metadata": {},
     "output_type": "display_data"
    }
   ],
   "source": [
    "from IPython.display import display, HTML\n",
    "display(HTML(\"\"\"\n",
    "<style>\n",
    "div.container{width:100% !important;}\n",
    "div.cell.code_cell.rendered{width:100%;}\n",
    "div.input_prompt{padding:0px;}\n",
    "div.CodeMirror {font-family:Consolas; font-size:20pt;}\n",
    "div.text_cell_render.rendered_html{font-size:18pt;}\n",
    "div.text_cell_render.rendered_html{font-size:15pt;}\n",
    "div.output {font-size:18pt; font-weight:bold;}\n",
    "div.input {font-family:Consolas; font-size:18pt;}\n",
    "div.prompt {min-width:70px;}\n",
    "div#toc-wrapper{padding-top:120px;}\n",
    "div.text_cell_render ul li{font-size:18pt;padding:5px;}\n",
    "table.dataframe{font-size:18px;}\n",
    "</style>\n",
    "\"\"\"))"
   ]
  },
  {
   "cell_type": "markdown",
   "id": "934349c2",
   "metadata": {},
   "source": [
    "**<font size=\"6\" color=\"red\">ch3. 연관분석</font>**\n",
    "- pip install apyori\n",
    "# 1. 연관분석 개요\n",
    "- 데이터들 사이에 자주 발생하는 속성을 찾고 그 속성들 사이에 연관성이 어느 정도 잇는지 분석\n",
    "- 활용분야: 이벤트미리감지(사기적발...), 신상품카테고리 구성\n",
    "\n",
    "[조건: left-hand-side:오렌지주스] -> [결과 right-hand-side:와인]\n",
    "- 연관분석과 관련된 지표\n",
    "- 연과분석과 관련된 지표\n",
    "1. 지지도(support) : 얼마나 자주 함께 나타나는지\n",
    "    (lhs, rhs)의 항목수/전체항목수 = 0.2\n",
    "    \n",
    "2. 신뢰도(confidence) : 조건이 오면 결과가 얼마나 자주 나타나는지\n",
    "    (lhs->rhs)의 항목수/lhs의 항목수 = 1/2 = 0.5\n",
    "    \n",
    "3. 향상도(lift) : 우연히 발생한 규칙은 아닌지 확인\n",
    "    lhs->rhs의 지지도 / (lhs의 지지도 * rhs의 지지도)\n",
    "    => 0.2 / (0.4*0.6) = 0.2/0.24 = 0.833\n",
    "    향상도<1 : 기대가 낮다\n",
    "    향상도>1 : 기대가 높다"
   ]
  },
  {
   "cell_type": "markdown",
   "id": "993ba1a0",
   "metadata": {},
   "source": [
    "# 2. 연관분석 구현"
   ]
  },
  {
   "cell_type": "code",
   "execution_count": 2,
   "id": "67fa20b0",
   "metadata": {},
   "outputs": [
    {
     "data": {
      "text/plain": [
       "[['소주', '콜라', '와인'],\n",
       " ['소주', '오렌지주스', '콜라'],\n",
       " ['맥주', '콜라', '와인'],\n",
       " ['소주', '콜라', '맥주'],\n",
       " ['오렌지주스', '와인']]"
      ]
     },
     "execution_count": 2,
     "metadata": {},
     "output_type": "execute_result"
    }
   ],
   "source": [
    "import csv\n",
    "with open('data/cf_basket.csv', 'r', encoding='utf-8') as f:\n",
    "    csvdata = csv.reader(f)\n",
    "    # print(list(csvdata))\n",
    "    transaction = list(csvdata)\n",
    "transaction"
   ]
  },
  {
   "cell_type": "code",
   "execution_count": 3,
   "id": "46928922",
   "metadata": {},
   "outputs": [
    {
     "data": {
      "text/plain": [
       "18"
      ]
     },
     "execution_count": 3,
     "metadata": {},
     "output_type": "execute_result"
    }
   ],
   "source": [
    "from apyori import apriori\n",
    "rules = apriori(transaction, # 2차원 데이터\n",
    "               min_support=0.15,\n",
    "               min_confidence=0.1)\n",
    "rules = list(rules)\n",
    "len(rules)"
   ]
  },
  {
   "cell_type": "code",
   "execution_count": 4,
   "id": "43e37943",
   "metadata": {},
   "outputs": [
    {
     "data": {
      "text/plain": [
       "RelationRecord(items=frozenset({'콜라', '소주'}), support=0.6, ordered_statistics=[OrderedStatistic(items_base=frozenset(), items_add=frozenset({'콜라', '소주'}), confidence=0.6, lift=1.0), OrderedStatistic(items_base=frozenset({'소주'}), items_add=frozenset({'콜라'}), confidence=1.0, lift=1.25), OrderedStatistic(items_base=frozenset({'콜라'}), items_add=frozenset({'소주'}), confidence=0.7499999999999999, lift=1.2499999999999998)])"
      ]
     },
     "execution_count": 4,
     "metadata": {},
     "output_type": "execute_result"
    }
   ],
   "source": [
    "rules[10]"
   ]
  },
  {
   "cell_type": "code",
   "execution_count": 5,
   "id": "07b156a4",
   "metadata": {},
   "outputs": [
    {
     "name": "stdout",
     "output_type": "stream",
     "text": [
      "frozenset({'소주'})=>frozenset({'콜라'})\t 0.6\t 1.0\t 1.25\n",
      "frozenset({'콜라'})=>frozenset({'소주'})\t 0.6\t 0.75\t 1.25\n"
     ]
    }
   ],
   "source": [
    "rule = rules[10]\n",
    "support = rule[1]\n",
    "order_st = rule[2]\n",
    "for item in order_st:\n",
    "    lhs = item[0]\n",
    "    rhs = item[1]\n",
    "    confidence = item[2]\n",
    "    lift = item[3]\n",
    "    if lift > 1:\n",
    "        print(\"{}=>{}\\t {}\\t {}\\t {}\".format(lhs, rhs, support, \n",
    "                                             round(confidence,2), \n",
    "                                             round(lift,2)))"
   ]
  },
  {
   "cell_type": "code",
   "execution_count": 6,
   "id": "08c6fd08",
   "metadata": {},
   "outputs": [
    {
     "name": "stdout",
     "output_type": "stream",
     "text": [
      "frozenset({'맥주'})=>frozenset({'콜라'})\t 0.4\t 1.0\t 1.25\n",
      "frozenset({'콜라'})=>frozenset({'맥주'})\t 0.4\t 0.5\t 1.25\n",
      "frozenset({'소주'})=>frozenset({'콜라'})\t 0.6\t 1.0\t 1.25\n",
      "frozenset({'콜라'})=>frozenset({'소주'})\t 0.6\t 0.75\t 1.25\n",
      "frozenset({'콜라'})=>frozenset({'소주', '맥주'})\t 0.2\t 0.25\t 1.25\n",
      "frozenset({'소주', '맥주'})=>frozenset({'콜라'})\t 0.2\t 1.0\t 1.25\n",
      "frozenset({'맥주'})=>frozenset({'콜라', '와인'})\t 0.2\t 0.5\t 1.25\n",
      "frozenset({'콜라'})=>frozenset({'와인', '맥주'})\t 0.2\t 0.25\t 1.25\n",
      "frozenset({'와인', '맥주'})=>frozenset({'콜라'})\t 0.2\t 1.0\t 1.25\n",
      "frozenset({'콜라', '와인'})=>frozenset({'맥주'})\t 0.2\t 0.5\t 1.25\n",
      "frozenset({'소주'})=>frozenset({'콜라', '오렌지주스'})\t 0.2\t 0.33\t 1.67\n",
      "frozenset({'콜라'})=>frozenset({'소주', '오렌지주스'})\t 0.2\t 0.25\t 1.25\n",
      "frozenset({'소주', '오렌지주스'})=>frozenset({'콜라'})\t 0.2\t 1.0\t 1.25\n",
      "frozenset({'콜라', '오렌지주스'})=>frozenset({'소주'})\t 0.2\t 1.0\t 1.67\n",
      "frozenset({'콜라'})=>frozenset({'소주', '와인'})\t 0.2\t 0.25\t 1.25\n",
      "frozenset({'소주', '와인'})=>frozenset({'콜라'})\t 0.2\t 1.0\t 1.25\n"
     ]
    }
   ],
   "source": [
    "for rule in rules:\n",
    "    support = rule[1]\n",
    "    order_st = rule[2]\n",
    "    for item in order_st:\n",
    "        lhs = item[0]\n",
    "        rhs = item[1]\n",
    "        confidence = item[2]\n",
    "        lift = item[3]\n",
    "        if lift > 1:\n",
    "            print(\"{}=>{}\\t {}\\t {}\\t {}\".format(lhs, rhs, support, \n",
    "                                                 round(confidence,2), \n",
    "                                                 round(lift,2)))"
   ]
  },
  {
   "cell_type": "code",
   "execution_count": 7,
   "id": "3748d4d4",
   "metadata": {},
   "outputs": [
    {
     "data": {
      "text/html": [
       "<div>\n",
       "<style scoped>\n",
       "    .dataframe tbody tr th:only-of-type {\n",
       "        vertical-align: middle;\n",
       "    }\n",
       "\n",
       "    .dataframe tbody tr th {\n",
       "        vertical-align: top;\n",
       "    }\n",
       "\n",
       "    .dataframe thead th {\n",
       "        text-align: right;\n",
       "    }\n",
       "</style>\n",
       "<table border=\"1\" class=\"dataframe\">\n",
       "  <thead>\n",
       "    <tr style=\"text-align: right;\">\n",
       "      <th></th>\n",
       "      <th>lhs</th>\n",
       "      <th>rhs</th>\n",
       "      <th>지지도</th>\n",
       "      <th>신뢰도</th>\n",
       "      <th>향상도</th>\n",
       "    </tr>\n",
       "  </thead>\n",
       "  <tbody>\n",
       "    <tr>\n",
       "      <th>13</th>\n",
       "      <td>콜라, 오렌지주스</td>\n",
       "      <td>소주</td>\n",
       "      <td>0.2</td>\n",
       "      <td>1.00</td>\n",
       "      <td>1.67</td>\n",
       "    </tr>\n",
       "    <tr>\n",
       "      <th>10</th>\n",
       "      <td>소주</td>\n",
       "      <td>콜라, 오렌지주스</td>\n",
       "      <td>0.2</td>\n",
       "      <td>0.33</td>\n",
       "      <td>1.67</td>\n",
       "    </tr>\n",
       "    <tr>\n",
       "      <th>0</th>\n",
       "      <td>맥주</td>\n",
       "      <td>콜라</td>\n",
       "      <td>0.4</td>\n",
       "      <td>1.00</td>\n",
       "      <td>1.25</td>\n",
       "    </tr>\n",
       "    <tr>\n",
       "      <th>2</th>\n",
       "      <td>소주</td>\n",
       "      <td>콜라</td>\n",
       "      <td>0.6</td>\n",
       "      <td>1.00</td>\n",
       "      <td>1.25</td>\n",
       "    </tr>\n",
       "    <tr>\n",
       "      <th>5</th>\n",
       "      <td>소주, 맥주</td>\n",
       "      <td>콜라</td>\n",
       "      <td>0.2</td>\n",
       "      <td>1.00</td>\n",
       "      <td>1.25</td>\n",
       "    </tr>\n",
       "    <tr>\n",
       "      <th>8</th>\n",
       "      <td>와인, 맥주</td>\n",
       "      <td>콜라</td>\n",
       "      <td>0.2</td>\n",
       "      <td>1.00</td>\n",
       "      <td>1.25</td>\n",
       "    </tr>\n",
       "    <tr>\n",
       "      <th>12</th>\n",
       "      <td>소주, 오렌지주스</td>\n",
       "      <td>콜라</td>\n",
       "      <td>0.2</td>\n",
       "      <td>1.00</td>\n",
       "      <td>1.25</td>\n",
       "    </tr>\n",
       "    <tr>\n",
       "      <th>15</th>\n",
       "      <td>소주, 와인</td>\n",
       "      <td>콜라</td>\n",
       "      <td>0.2</td>\n",
       "      <td>1.00</td>\n",
       "      <td>1.25</td>\n",
       "    </tr>\n",
       "    <tr>\n",
       "      <th>3</th>\n",
       "      <td>콜라</td>\n",
       "      <td>소주</td>\n",
       "      <td>0.6</td>\n",
       "      <td>0.75</td>\n",
       "      <td>1.25</td>\n",
       "    </tr>\n",
       "    <tr>\n",
       "      <th>1</th>\n",
       "      <td>콜라</td>\n",
       "      <td>맥주</td>\n",
       "      <td>0.4</td>\n",
       "      <td>0.50</td>\n",
       "      <td>1.25</td>\n",
       "    </tr>\n",
       "    <tr>\n",
       "      <th>6</th>\n",
       "      <td>맥주</td>\n",
       "      <td>콜라, 와인</td>\n",
       "      <td>0.2</td>\n",
       "      <td>0.50</td>\n",
       "      <td>1.25</td>\n",
       "    </tr>\n",
       "    <tr>\n",
       "      <th>9</th>\n",
       "      <td>콜라, 와인</td>\n",
       "      <td>맥주</td>\n",
       "      <td>0.2</td>\n",
       "      <td>0.50</td>\n",
       "      <td>1.25</td>\n",
       "    </tr>\n",
       "    <tr>\n",
       "      <th>4</th>\n",
       "      <td>콜라</td>\n",
       "      <td>소주, 맥주</td>\n",
       "      <td>0.2</td>\n",
       "      <td>0.25</td>\n",
       "      <td>1.25</td>\n",
       "    </tr>\n",
       "    <tr>\n",
       "      <th>7</th>\n",
       "      <td>콜라</td>\n",
       "      <td>와인, 맥주</td>\n",
       "      <td>0.2</td>\n",
       "      <td>0.25</td>\n",
       "      <td>1.25</td>\n",
       "    </tr>\n",
       "    <tr>\n",
       "      <th>11</th>\n",
       "      <td>콜라</td>\n",
       "      <td>소주, 오렌지주스</td>\n",
       "      <td>0.2</td>\n",
       "      <td>0.25</td>\n",
       "      <td>1.25</td>\n",
       "    </tr>\n",
       "    <tr>\n",
       "      <th>14</th>\n",
       "      <td>콜라</td>\n",
       "      <td>소주, 와인</td>\n",
       "      <td>0.2</td>\n",
       "      <td>0.25</td>\n",
       "      <td>1.25</td>\n",
       "    </tr>\n",
       "  </tbody>\n",
       "</table>\n",
       "</div>"
      ],
      "text/plain": [
       "          lhs        rhs  지지도   신뢰도   향상도\n",
       "13  콜라, 오렌지주스         소주  0.2  1.00  1.67\n",
       "10         소주  콜라, 오렌지주스  0.2  0.33  1.67\n",
       "0          맥주         콜라  0.4  1.00  1.25\n",
       "2          소주         콜라  0.6  1.00  1.25\n",
       "5      소주, 맥주         콜라  0.2  1.00  1.25\n",
       "8      와인, 맥주         콜라  0.2  1.00  1.25\n",
       "12  소주, 오렌지주스         콜라  0.2  1.00  1.25\n",
       "15     소주, 와인         콜라  0.2  1.00  1.25\n",
       "3          콜라         소주  0.6  0.75  1.25\n",
       "1          콜라         맥주  0.4  0.50  1.25\n",
       "6          맥주     콜라, 와인  0.2  0.50  1.25\n",
       "9      콜라, 와인         맥주  0.2  0.50  1.25\n",
       "4          콜라     소주, 맥주  0.2  0.25  1.25\n",
       "7          콜라     와인, 맥주  0.2  0.25  1.25\n",
       "11         콜라  소주, 오렌지주스  0.2  0.25  1.25\n",
       "14         콜라     소주, 와인  0.2  0.25  1.25"
      ]
     },
     "execution_count": 7,
     "metadata": {},
     "output_type": "execute_result"
    }
   ],
   "source": [
    "import pandas as pd\n",
    "rules_df = pd.DataFrame(None, col인','오렌지', 0.15, 0.5, 1.1] 식으로 for문내에서 데이터추가\n",
    "idx = 0umns=['lhs','rhs','지지도','신뢰도','향상도'])\n",
    "#rules_df.loc[0] = ['와\n",
    "for rule in rules:\n",
    "    support = rule[1]\n",
    "    order_st = rule[2]\n",
    "    for item in order_st:\n",
    "        lhs = ', '.join([data for data in item[0]])\n",
    "        rhs = ', '.join([data for data in item[1]])\n",
    "        confidence = item[2]\n",
    "        lift = item[3]\n",
    "        if lift > 1:\n",
    "            rules_df.loc[idx] = [lhs, rhs, support, round(confidence, 2), round(lift,2)]\n",
    "            idx += 1\n",
    "rules_df.sort_values(by=['향상도','신뢰도'], ascending=False)"
   ]
  },
  {
   "cell_type": "markdown",
   "id": "c8c284dd",
   "metadata": {},
   "source": [
    "# 3. 경주/전주 여행자료 연관분석"
   ]
  },
  {
   "cell_type": "code",
   "execution_count": 8,
   "id": "dd79d4a5",
   "metadata": {},
   "outputs": [
    {
     "name": "stdout",
     "output_type": "stream",
     "text": [
      "[['전주', '한곳', '추천', '추억', '체험', '감성', '추억', '테마', '박물관', '시간', '전북', '전북', '투어', '패스', '통합', '이용', '여행지', '체험', '카페', '이용', '추가', '전주', '필수', '편안', '감사'], ['전주', '전주', '사람과', '호텔', '가격', '얼마', '정도', '맛집', '카페', '추천', '안녕하세요', '전주', '계획', '한옥마을', '근처']]\n"
     ]
    }
   ],
   "source": [
    "import pandas as pd\n",
    "from konlpy.tag import Hannanum, Kkma, Komoran\n",
    "df = pd.read_csv('data/naver_kin.csv', sep='\\t')\n",
    "total_text_list = df['total_text'].to_list()\n",
    "# total_text_list[:2]\n",
    "analyzer = Komoran()\n",
    "total_noun_list = []\n",
    "select_pos = ['NC','NQ'] # Hannanum 보통명사, 고유명사\n",
    "select_pos = ['NNP', 'NNG']# Kkma, Komoran 보통명사, 고유명사\n",
    "불용어 = {'여행'}\n",
    "for total_text in total_text_list:\n",
    "    #total_noun = analyzer.nouns(total_text)\n",
    "    total_noun = [token for token, tag in analyzer.pos(total_text)\n",
    "                     if tag in select_pos and\n",
    "                         token not in 불용어 and\n",
    "                         len(token)>1]\n",
    "    total_noun_list.append(total_noun)\n",
    "print(total_noun_list[:2])"
   ]
  },
  {
   "cell_type": "code",
   "execution_count": 9,
   "id": "d8f12387",
   "metadata": {},
   "outputs": [
    {
     "name": "stdout",
     "output_type": "stream",
     "text": [
      "CPU times: total: 78.1 ms\n",
      "Wall time: 89.7 ms\n"
     ]
    },
    {
     "data": {
      "text/plain": [
       "193"
      ]
     },
     "execution_count": 9,
     "metadata": {},
     "output_type": "execute_result"
    }
   ],
   "source": [
    "%%time\n",
    "rules = apriori(total_noun_list, min_support=0.15, min_confidence=0.3)\n",
    "rules = list(rules)\n",
    "len(rules)"
   ]
  },
  {
   "cell_type": "code",
   "execution_count": 10,
   "id": "4e51ce31",
   "metadata": {},
   "outputs": [],
   "source": [
    "rules_df = pd.DataFrame(None, columns=['lhs','rhs','지지도','신뢰도','향상도'])\n",
    "#rules_df.loc[0] = ['와인','오렌지', 0.15, 0.5, 1.1] 식으로 for문내에서 데이터추가\n",
    "idx = 0\n",
    "for rule in rules:\n",
    "    support = rule[1]\n",
    "    order_st = rule[2]\n",
    "    for item in order_st:\n",
    "        lhs = ', '.join([data for data in item[0]])\n",
    "        rhs = ', '.join([data for data in item[1]])\n",
    "        confidence = item[2]\n",
    "        lift = item[3]\n",
    "        if lift > 1:\n",
    "            rules_df.loc[idx] = [lhs, rhs, support, round(confidence, 2), round(lift,2)]\n",
    "            idx += 1\n",
    "rules_df.sort_values(by=['향상도','신뢰도'], ascending=False, inplace=True)\n",
    "rules_df = rules_df.reset_index(drop=True)"
   ]
  },
  {
   "cell_type": "code",
   "execution_count": 11,
   "id": "21c87e44",
   "metadata": {},
   "outputs": [
    {
     "data": {
      "text/plain": [
       "60"
      ]
     },
     "execution_count": 11,
     "metadata": {},
     "output_type": "execute_result"
    }
   ],
   "source": [
    "pd.options.display.max_rows"
   ]
  },
  {
   "cell_type": "code",
   "execution_count": 13,
   "id": "9097cbfb",
   "metadata": {},
   "outputs": [
    {
     "data": {
      "text/html": [
       "<div>\n",
       "<style scoped>\n",
       "    .dataframe tbody tr th:only-of-type {\n",
       "        vertical-align: middle;\n",
       "    }\n",
       "\n",
       "    .dataframe tbody tr th {\n",
       "        vertical-align: top;\n",
       "    }\n",
       "\n",
       "    .dataframe thead th {\n",
       "        text-align: right;\n",
       "    }\n",
       "</style>\n",
       "<table border=\"1\" class=\"dataframe\">\n",
       "  <thead>\n",
       "    <tr style=\"text-align: right;\">\n",
       "      <th></th>\n",
       "      <th>lhs</th>\n",
       "      <th>rhs</th>\n",
       "      <th>지지도</th>\n",
       "      <th>신뢰도</th>\n",
       "      <th>향상도</th>\n",
       "    </tr>\n",
       "  </thead>\n",
       "  <tbody>\n",
       "    <tr>\n",
       "      <th>3226</th>\n",
       "      <td>전주, 맛집</td>\n",
       "      <td>코스</td>\n",
       "      <td>0.197</td>\n",
       "      <td>0.78</td>\n",
       "      <td>1.53</td>\n",
       "    </tr>\n",
       "    <tr>\n",
       "      <th>3227</th>\n",
       "      <td>코스</td>\n",
       "      <td>전주, 맛집</td>\n",
       "      <td>0.197</td>\n",
       "      <td>0.39</td>\n",
       "      <td>1.53</td>\n",
       "    </tr>\n",
       "    <tr>\n",
       "      <th>3228</th>\n",
       "      <td>맛집</td>\n",
       "      <td>코스</td>\n",
       "      <td>0.217</td>\n",
       "      <td>0.71</td>\n",
       "      <td>1.38</td>\n",
       "    </tr>\n",
       "    <tr>\n",
       "      <th>3229</th>\n",
       "      <td>코스</td>\n",
       "      <td>맛집</td>\n",
       "      <td>0.217</td>\n",
       "      <td>0.42</td>\n",
       "      <td>1.38</td>\n",
       "    </tr>\n",
       "    <tr>\n",
       "      <th>3230</th>\n",
       "      <td>전주</td>\n",
       "      <td>코스</td>\n",
       "      <td>0.296</td>\n",
       "      <td>0.59</td>\n",
       "      <td>1.16</td>\n",
       "    </tr>\n",
       "    <tr>\n",
       "      <th>3231</th>\n",
       "      <td>코스</td>\n",
       "      <td>전주</td>\n",
       "      <td>0.296</td>\n",
       "      <td>0.58</td>\n",
       "      <td>1.16</td>\n",
       "    </tr>\n",
       "    <tr>\n",
       "      <th>3232</th>\n",
       "      <td>추천</td>\n",
       "      <td>코스</td>\n",
       "      <td>0.226</td>\n",
       "      <td>0.52</td>\n",
       "      <td>1.02</td>\n",
       "    </tr>\n",
       "    <tr>\n",
       "      <th>3233</th>\n",
       "      <td>추천</td>\n",
       "      <td>경주</td>\n",
       "      <td>0.221</td>\n",
       "      <td>0.51</td>\n",
       "      <td>1.02</td>\n",
       "    </tr>\n",
       "    <tr>\n",
       "      <th>3234</th>\n",
       "      <td>경주</td>\n",
       "      <td>추천</td>\n",
       "      <td>0.221</td>\n",
       "      <td>0.44</td>\n",
       "      <td>1.02</td>\n",
       "    </tr>\n",
       "    <tr>\n",
       "      <th>3235</th>\n",
       "      <td>코스</td>\n",
       "      <td>추천</td>\n",
       "      <td>0.226</td>\n",
       "      <td>0.44</td>\n",
       "      <td>1.02</td>\n",
       "    </tr>\n",
       "  </tbody>\n",
       "</table>\n",
       "</div>"
      ],
      "text/plain": [
       "         lhs     rhs    지지도   신뢰도   향상도\n",
       "3226  전주, 맛집      코스  0.197  0.78  1.53\n",
       "3227      코스  전주, 맛집  0.197  0.39  1.53\n",
       "3228      맛집      코스  0.217  0.71  1.38\n",
       "3229      코스      맛집  0.217  0.42  1.38\n",
       "3230      전주      코스  0.296  0.59  1.16\n",
       "3231      코스      전주  0.296  0.58  1.16\n",
       "3232      추천      코스  0.226  0.52  1.02\n",
       "3233      추천      경주  0.221  0.51  1.02\n",
       "3234      경주      추천  0.221  0.44  1.02\n",
       "3235      코스      추천  0.226  0.44  1.02"
      ]
     },
     "execution_count": 13,
     "metadata": {},
     "output_type": "execute_result"
    }
   ],
   "source": [
    "rules_df.iloc[-10:,]"
   ]
  },
  {
   "cell_type": "code",
   "execution_count": null,
   "id": "cd48e2b1",
   "metadata": {},
   "outputs": [],
   "source": []
  }
 ],
 "metadata": {
  "kernelspec": {
   "display_name": "ml-dl-nlp",
   "language": "python",
   "name": "ml-dl-nlp"
  },
  "language_info": {
   "codemirror_mode": {
    "name": "ipython",
    "version": 3
   },
   "file_extension": ".py",
   "mimetype": "text/x-python",
   "name": "python",
   "nbconvert_exporter": "python",
   "pygments_lexer": "ipython3",
   "version": "3.10.18"
  },
  "toc": {
   "base_numbering": 1,
   "nav_menu": {},
   "number_sections": false,
   "sideBar": true,
   "skip_h1_title": false,
   "title_cell": "Table of Contents",
   "title_sidebar": "Contents",
   "toc_cell": false,
   "toc_position": {},
   "toc_section_display": true,
   "toc_window_display": false
  }
 },
 "nbformat": 4,
 "nbformat_minor": 5
}
